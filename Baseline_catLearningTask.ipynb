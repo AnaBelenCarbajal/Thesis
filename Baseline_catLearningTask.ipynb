{
  "cells": [
    {
      "cell_type": "markdown",
      "metadata": {
        "id": "view-in-github",
        "colab_type": "text"
      },
      "source": [
        "<a href=\"https://colab.research.google.com/github/AnaBelenCarbajal/Thesis/blob/main/Baseline_catLearningTask.ipynb\" target=\"_parent\"><img src=\"https://colab.research.google.com/assets/colab-badge.svg\" alt=\"Open In Colab\"/></a>"
      ]
    },
    {
      "cell_type": "markdown",
      "metadata": {
        "id": "jOvSRnBv_J8o"
      },
      "source": [
        "**Dataset novel shapes - Baseline**"
      ]
    },
    {
      "cell_type": "markdown",
      "metadata": {
        "id": "F4pGeBM5_QOW"
      },
      "source": [
        "1) Installing packages"
      ]
    },
    {
      "cell_type": "code",
      "source": [
        "from google.colab import drive\n",
        "drive.mount('/content/drive')"
      ],
      "metadata": {
        "colab": {
          "base_uri": "https://localhost:8080/"
        },
        "id": "Ei_MLFCMhEr6",
        "outputId": "c2dcbfc1-3122-490c-b6a0-5c97c8e823e7"
      },
      "execution_count": 2,
      "outputs": [
        {
          "output_type": "stream",
          "name": "stdout",
          "text": [
            "Mounted at /content/drive\n"
          ]
        }
      ]
    },
    {
      "cell_type": "code",
      "execution_count": 2,
      "metadata": {
        "colab": {
          "base_uri": "https://localhost:8080/"
        },
        "collapsed": true,
        "id": "0Ta1fs7vt70J",
        "outputId": "7c3124b7-f5f3-4d87-b850-6d1ad005d273"
      },
      "outputs": [
        {
          "output_type": "stream",
          "name": "stdout",
          "text": [
            "Collecting osculari\n",
            "  Downloading osculari-0.0.4-py3-none-any.whl (34 kB)\n",
            "Requirement already satisfied: numpy in /usr/local/lib/python3.10/dist-packages (from osculari) (1.25.2)\n",
            "Requirement already satisfied: torch in /usr/local/lib/python3.10/dist-packages (from osculari) (2.3.0+cu121)\n",
            "Requirement already satisfied: torchvision in /usr/local/lib/python3.10/dist-packages (from osculari) (0.18.0+cu121)\n",
            "Collecting clip-openai (from osculari)\n",
            "  Downloading clip_openai-1.0.post20230121-py3-none-any.whl (1.4 MB)\n",
            "\u001b[2K     \u001b[90m━━━━━━━━━━━━━━━━━━━━━━━━━━━━━━━━━━━━━━━━\u001b[0m \u001b[32m1.4/1.4 MB\u001b[0m \u001b[31m1.4 MB/s\u001b[0m eta \u001b[36m0:00:00\u001b[0m\n",
            "\u001b[?25hCollecting visualpriors (from osculari)\n",
            "  Downloading visualpriors-0.3.5.tar.gz (10 kB)\n",
            "  Preparing metadata (setup.py) ... \u001b[?25l\u001b[?25hdone\n",
            "Requirement already satisfied: opencv-python in /usr/local/lib/python3.10/dist-packages (from osculari) (4.8.0.76)\n",
            "Collecting ftfy (from clip-openai->osculari)\n",
            "  Downloading ftfy-6.2.0-py3-none-any.whl (54 kB)\n",
            "\u001b[2K     \u001b[90m━━━━━━━━━━━━━━━━━━━━━━━━━━━━━━━━━━━━━━━━\u001b[0m \u001b[32m54.4/54.4 kB\u001b[0m \u001b[31m8.1 MB/s\u001b[0m eta \u001b[36m0:00:00\u001b[0m\n",
            "\u001b[?25hRequirement already satisfied: regex in /usr/local/lib/python3.10/dist-packages (from clip-openai->osculari) (2024.5.15)\n",
            "Requirement already satisfied: tqdm in /usr/local/lib/python3.10/dist-packages (from clip-openai->osculari) (4.66.4)\n",
            "Requirement already satisfied: filelock in /usr/local/lib/python3.10/dist-packages (from torch->osculari) (3.14.0)\n",
            "Requirement already satisfied: typing-extensions>=4.8.0 in /usr/local/lib/python3.10/dist-packages (from torch->osculari) (4.12.1)\n",
            "Requirement already satisfied: sympy in /usr/local/lib/python3.10/dist-packages (from torch->osculari) (1.12.1)\n",
            "Requirement already satisfied: networkx in /usr/local/lib/python3.10/dist-packages (from torch->osculari) (3.3)\n",
            "Requirement already satisfied: jinja2 in /usr/local/lib/python3.10/dist-packages (from torch->osculari) (3.1.4)\n",
            "Requirement already satisfied: fsspec in /usr/local/lib/python3.10/dist-packages (from torch->osculari) (2023.6.0)\n",
            "Collecting nvidia-cuda-nvrtc-cu12==12.1.105 (from torch->osculari)\n",
            "  Using cached nvidia_cuda_nvrtc_cu12-12.1.105-py3-none-manylinux1_x86_64.whl (23.7 MB)\n",
            "Collecting nvidia-cuda-runtime-cu12==12.1.105 (from torch->osculari)\n",
            "  Using cached nvidia_cuda_runtime_cu12-12.1.105-py3-none-manylinux1_x86_64.whl (823 kB)\n",
            "Collecting nvidia-cuda-cupti-cu12==12.1.105 (from torch->osculari)\n",
            "  Using cached nvidia_cuda_cupti_cu12-12.1.105-py3-none-manylinux1_x86_64.whl (14.1 MB)\n",
            "Collecting nvidia-cudnn-cu12==8.9.2.26 (from torch->osculari)\n",
            "  Using cached nvidia_cudnn_cu12-8.9.2.26-py3-none-manylinux1_x86_64.whl (731.7 MB)\n",
            "Collecting nvidia-cublas-cu12==12.1.3.1 (from torch->osculari)\n",
            "  Using cached nvidia_cublas_cu12-12.1.3.1-py3-none-manylinux1_x86_64.whl (410.6 MB)\n",
            "Collecting nvidia-cufft-cu12==11.0.2.54 (from torch->osculari)\n",
            "  Using cached nvidia_cufft_cu12-11.0.2.54-py3-none-manylinux1_x86_64.whl (121.6 MB)\n",
            "Collecting nvidia-curand-cu12==10.3.2.106 (from torch->osculari)\n",
            "  Using cached nvidia_curand_cu12-10.3.2.106-py3-none-manylinux1_x86_64.whl (56.5 MB)\n",
            "Collecting nvidia-cusolver-cu12==11.4.5.107 (from torch->osculari)\n",
            "  Using cached nvidia_cusolver_cu12-11.4.5.107-py3-none-manylinux1_x86_64.whl (124.2 MB)\n",
            "Collecting nvidia-cusparse-cu12==12.1.0.106 (from torch->osculari)\n",
            "  Using cached nvidia_cusparse_cu12-12.1.0.106-py3-none-manylinux1_x86_64.whl (196.0 MB)\n",
            "Collecting nvidia-nccl-cu12==2.20.5 (from torch->osculari)\n",
            "  Using cached nvidia_nccl_cu12-2.20.5-py3-none-manylinux2014_x86_64.whl (176.2 MB)\n",
            "Collecting nvidia-nvtx-cu12==12.1.105 (from torch->osculari)\n",
            "  Using cached nvidia_nvtx_cu12-12.1.105-py3-none-manylinux1_x86_64.whl (99 kB)\n",
            "Requirement already satisfied: triton==2.3.0 in /usr/local/lib/python3.10/dist-packages (from torch->osculari) (2.3.0)\n",
            "Collecting nvidia-nvjitlink-cu12 (from nvidia-cusolver-cu12==11.4.5.107->torch->osculari)\n",
            "  Downloading nvidia_nvjitlink_cu12-12.5.40-py3-none-manylinux2014_x86_64.whl (21.3 MB)\n",
            "\u001b[2K     \u001b[90m━━━━━━━━━━━━━━━━━━━━━━━━━━━━━━━━━━━━━━━━\u001b[0m \u001b[32m21.3/21.3 MB\u001b[0m \u001b[31m8.5 MB/s\u001b[0m eta \u001b[36m0:00:00\u001b[0m\n",
            "\u001b[?25hRequirement already satisfied: pillow!=8.3.*,>=5.3.0 in /usr/local/lib/python3.10/dist-packages (from torchvision->osculari) (9.4.0)\n",
            "Requirement already satisfied: wcwidth<0.3.0,>=0.2.12 in /usr/local/lib/python3.10/dist-packages (from ftfy->clip-openai->osculari) (0.2.13)\n",
            "Requirement already satisfied: MarkupSafe>=2.0 in /usr/local/lib/python3.10/dist-packages (from jinja2->torch->osculari) (2.1.5)\n",
            "Requirement already satisfied: mpmath<1.4.0,>=1.1.0 in /usr/local/lib/python3.10/dist-packages (from sympy->torch->osculari) (1.3.0)\n",
            "Building wheels for collected packages: visualpriors\n",
            "  Building wheel for visualpriors (setup.py) ... \u001b[?25l\u001b[?25hdone\n",
            "  Created wheel for visualpriors: filename=visualpriors-0.3.5-py3-none-any.whl size=11368 sha256=0e21248a48700c1ba350cd077e744b4c69440cc9a4498372d95fa784a496cb5c\n",
            "  Stored in directory: /root/.cache/pip/wheels/ce/18/2b/ac0e173977d8a72ea7155168fbaa891e5e8e4cafa01957cba3\n",
            "Successfully built visualpriors\n",
            "Installing collected packages: nvidia-nvtx-cu12, nvidia-nvjitlink-cu12, nvidia-nccl-cu12, nvidia-curand-cu12, nvidia-cufft-cu12, nvidia-cuda-runtime-cu12, nvidia-cuda-nvrtc-cu12, nvidia-cuda-cupti-cu12, nvidia-cublas-cu12, ftfy, nvidia-cusparse-cu12, nvidia-cudnn-cu12, nvidia-cusolver-cu12, visualpriors, clip-openai, osculari\n",
            "Successfully installed clip-openai-1.0.post20230121 ftfy-6.2.0 nvidia-cublas-cu12-12.1.3.1 nvidia-cuda-cupti-cu12-12.1.105 nvidia-cuda-nvrtc-cu12-12.1.105 nvidia-cuda-runtime-cu12-12.1.105 nvidia-cudnn-cu12-8.9.2.26 nvidia-cufft-cu12-11.0.2.54 nvidia-curand-cu12-10.3.2.106 nvidia-cusolver-cu12-11.4.5.107 nvidia-cusparse-cu12-12.1.0.106 nvidia-nccl-cu12-2.20.5 nvidia-nvjitlink-cu12-12.5.40 nvidia-nvtx-cu12-12.1.105 osculari-0.0.4 visualpriors-0.3.5\n"
          ]
        }
      ],
      "source": [
        "!pip install osculari"
      ]
    },
    {
      "cell_type": "code",
      "execution_count": 3,
      "metadata": {
        "id": "nUzPiwVbMK49"
      },
      "outputs": [],
      "source": [
        "#packages\n",
        "#import osculari\n",
        "#from osculari.paradigms.forced_choice import paradigm_utils\n",
        "import torch.nn as nn\n",
        "\n",
        "import os\n",
        "import pandas as pd\n",
        "import torch\n",
        "import numpy as np\n",
        "from matplotlib import pyplot as plt\n",
        "\n",
        "from random import choice, randint\n",
        "import torchvision.transforms.functional as transform\n",
        "from torch.utils.data import Dataset\n",
        "from torchvision.io import read_image, ImageReadMode\n",
        "from torchvision.transforms import v2\n",
        "from torchvision.transforms import Pad\n",
        "from torch.utils.data import DataLoader\n",
        "\n",
        "from PIL import Image"
      ]
    },
    {
      "cell_type": "code",
      "execution_count": 4,
      "metadata": {
        "colab": {
          "base_uri": "https://localhost:8080/"
        },
        "collapsed": true,
        "id": "q-RyspuOLGlX",
        "outputId": "9ccbfaa9-8b37-438e-b0d5-c95549abd5f3"
      },
      "outputs": [
        {
          "output_type": "stream",
          "name": "stdout",
          "text": [
            "Archive:  /content/drive/MyDrive/Thesis/Neural_network/Human category learning task/documents/CategoryLearningStimuli.zip\n",
            "   creating: my_data/Stimuli_Set1/\n",
            "  inflating: my_data/__MACOSX/._Stimuli_Set1  \n",
            "  inflating: my_data/Stimuli_Set1/63.jpg  \n",
            "  inflating: my_data/__MACOSX/Stimuli_Set1/._63.jpg  \n",
            "  inflating: my_data/Stimuli_Set1/189.jpg  \n",
            "  inflating: my_data/__MACOSX/Stimuli_Set1/._189.jpg  \n",
            "  inflating: my_data/Stimuli_Set1/77.jpg  \n",
            "  inflating: my_data/__MACOSX/Stimuli_Set1/._77.jpg  \n",
            "  inflating: my_data/Stimuli_Set1/162.jpg  \n",
            "  inflating: my_data/__MACOSX/Stimuli_Set1/._162.jpg  \n",
            "  inflating: my_data/Stimuli_Set1/176.jpg  \n",
            "  inflating: my_data/__MACOSX/Stimuli_Set1/._176.jpg  \n",
            "  inflating: my_data/Stimuli_Set1/88.jpg  \n",
            "  inflating: my_data/__MACOSX/Stimuli_Set1/._88.jpg  \n",
            "  inflating: my_data/Stimuli_Set1/348.jpg  \n",
            "  inflating: my_data/__MACOSX/Stimuli_Set1/._348.jpg  \n",
            "  inflating: my_data/Stimuli_Set1/360.jpg  \n",
            "  inflating: my_data/__MACOSX/Stimuli_Set1/._360.jpg  \n",
            "  inflating: my_data/Stimuli_Set1/228.jpg  \n",
            "  inflating: my_data/__MACOSX/Stimuli_Set1/._228.jpg  \n",
            "  inflating: my_data/Stimuli_Set1/214.jpg  \n",
            "  inflating: my_data/__MACOSX/Stimuli_Set1/._214.jpg  \n",
            "  inflating: my_data/Stimuli_Set1/200.jpg  \n",
            "  inflating: my_data/__MACOSX/Stimuli_Set1/._200.jpg  \n",
            "  inflating: my_data/Stimuli_Set1/201.jpg  \n",
            "  inflating: my_data/__MACOSX/Stimuli_Set1/._201.jpg  \n",
            "  inflating: my_data/Stimuli_Set1/215.jpg  \n",
            "  inflating: my_data/__MACOSX/Stimuli_Set1/._215.jpg  \n",
            "  inflating: my_data/Stimuli_Set1/229.jpg  \n",
            "  inflating: my_data/__MACOSX/Stimuli_Set1/._229.jpg  \n",
            "  inflating: my_data/Stimuli_Set1/349.jpg  \n",
            "  inflating: my_data/__MACOSX/Stimuli_Set1/._349.jpg  \n",
            "  inflating: my_data/Stimuli_Set1/177.jpg  \n",
            "  inflating: my_data/__MACOSX/Stimuli_Set1/._177.jpg  \n",
            "  inflating: my_data/Stimuli_Set1/89.jpg  \n",
            "  inflating: my_data/__MACOSX/Stimuli_Set1/._89.jpg  \n",
            "  inflating: my_data/Stimuli_Set1/163.jpg  \n",
            "  inflating: my_data/__MACOSX/Stimuli_Set1/._163.jpg  \n",
            "  inflating: my_data/Stimuli_Set1/188.jpg  \n",
            "  inflating: my_data/__MACOSX/Stimuli_Set1/._188.jpg  \n",
            "  inflating: my_data/Stimuli_Set1/76.jpg  \n",
            "  inflating: my_data/__MACOSX/Stimuli_Set1/._76.jpg  \n",
            "  inflating: my_data/Stimuli_Set1/62.jpg  \n",
            "  inflating: my_data/__MACOSX/Stimuli_Set1/._62.jpg  \n",
            "  inflating: my_data/Stimuli_Set1/74.jpg  \n",
            "  inflating: my_data/__MACOSX/Stimuli_Set1/._74.jpg  \n",
            "  inflating: my_data/Stimuli_Set1/60.jpg  \n",
            "  inflating: my_data/__MACOSX/Stimuli_Set1/._60.jpg  \n",
            "  inflating: my_data/Stimuli_Set1/48.jpg  \n",
            "  inflating: my_data/__MACOSX/Stimuli_Set1/._48.jpg  \n",
            "  inflating: my_data/Stimuli_Set1/149.jpg  \n",
            "  inflating: my_data/__MACOSX/Stimuli_Set1/._149.jpg  \n",
            "  inflating: my_data/Stimuli_Set1/175.jpg  \n",
            "  inflating: my_data/__MACOSX/Stimuli_Set1/._175.jpg  \n",
            "  inflating: my_data/Stimuli_Set1/161.jpg  \n",
            "  inflating: my_data/__MACOSX/Stimuli_Set1/._161.jpg  \n",
            "  inflating: my_data/Stimuli_Set1/203.jpg  \n",
            "  inflating: my_data/__MACOSX/Stimuli_Set1/._203.jpg  \n",
            "  inflating: my_data/Stimuli_Set1/217.jpg  \n",
            "  inflating: my_data/__MACOSX/Stimuli_Set1/._217.jpg  \n",
            "  inflating: my_data/Stimuli_Set1/216.jpg  \n",
            "  inflating: my_data/__MACOSX/Stimuli_Set1/._216.jpg  \n",
            "  inflating: my_data/Stimuli_Set1/202.jpg  \n",
            "  inflating: my_data/__MACOSX/Stimuli_Set1/._202.jpg  \n",
            "  inflating: my_data/Stimuli_Set1/160.jpg  \n",
            "  inflating: my_data/__MACOSX/Stimuli_Set1/._160.jpg  \n",
            "  inflating: my_data/Stimuli_Set1/174.jpg  \n",
            "  inflating: my_data/__MACOSX/Stimuli_Set1/._174.jpg  \n",
            "  inflating: my_data/Stimuli_Set1/148.jpg  \n",
            "  inflating: my_data/__MACOSX/Stimuli_Set1/._148.jpg  \n",
            "  inflating: my_data/Stimuli_Set1/49.jpg  \n",
            "  inflating: my_data/__MACOSX/Stimuli_Set1/._49.jpg  \n",
            "  inflating: my_data/Stimuli_Set1/61.jpg  \n",
            "  inflating: my_data/__MACOSX/Stimuli_Set1/._61.jpg  \n",
            "  inflating: my_data/Stimuli_Set1/75.jpg  \n",
            "  inflating: my_data/__MACOSX/Stimuli_Set1/._75.jpg  \n",
            "  inflating: my_data/Stimuli_Set1/59.jpg  \n",
            "  inflating: my_data/__MACOSX/Stimuli_Set1/._59.jpg  \n",
            "  inflating: my_data/Stimuli_Set1/71.jpg  \n",
            "  inflating: my_data/__MACOSX/Stimuli_Set1/._71.jpg  \n",
            "  inflating: my_data/Stimuli_Set1/65.jpg  \n",
            "  inflating: my_data/__MACOSX/Stimuli_Set1/._65.jpg  \n",
            "  inflating: my_data/Stimuli_Set1/170.jpg  \n",
            "  inflating: my_data/__MACOSX/Stimuli_Set1/._170.jpg  \n",
            "  inflating: my_data/Stimuli_Set1/164.jpg  \n",
            "  inflating: my_data/__MACOSX/Stimuli_Set1/._164.jpg  \n",
            "  inflating: my_data/Stimuli_Set1/158.jpg  \n",
            "  inflating: my_data/__MACOSX/Stimuli_Set1/._158.jpg  \n",
            "  inflating: my_data/Stimuli_Set1/206.jpg  \n",
            "  inflating: my_data/__MACOSX/Stimuli_Set1/._206.jpg  \n",
            "  inflating: my_data/Stimuli_Set1/212.jpg  \n",
            "  inflating: my_data/__MACOSX/Stimuli_Set1/._212.jpg  \n",
            "  inflating: my_data/Stimuli_Set1/.DS_Store  \n",
            "  inflating: my_data/__MACOSX/Stimuli_Set1/._.DS_Store  \n",
            "  inflating: my_data/Stimuli_Set1/213.jpg  \n",
            "  inflating: my_data/__MACOSX/Stimuli_Set1/._213.jpg  \n",
            "  inflating: my_data/Stimuli_Set1/207.jpg  \n",
            "  inflating: my_data/__MACOSX/Stimuli_Set1/._207.jpg  \n",
            "  inflating: my_data/Stimuli_Set1/159.jpg  \n",
            "  inflating: my_data/__MACOSX/Stimuli_Set1/._159.jpg  \n",
            "  inflating: my_data/Stimuli_Set1/165.jpg  \n",
            "  inflating: my_data/__MACOSX/Stimuli_Set1/._165.jpg  \n",
            "  inflating: my_data/Stimuli_Set1/171.jpg  \n",
            "  inflating: my_data/__MACOSX/Stimuli_Set1/._171.jpg  \n",
            "  inflating: my_data/Stimuli_Set1/64.jpg  \n",
            "  inflating: my_data/__MACOSX/Stimuli_Set1/._64.jpg  \n",
            "  inflating: my_data/Stimuli_Set1/70.jpg  \n",
            "  inflating: my_data/__MACOSX/Stimuli_Set1/._70.jpg  \n",
            "  inflating: my_data/Stimuli_Set1/58.jpg  \n",
            "  inflating: my_data/__MACOSX/Stimuli_Set1/._58.jpg  \n",
            "  inflating: my_data/Stimuli_Set1/8.jpg  \n",
            "  inflating: my_data/__MACOSX/Stimuli_Set1/._8.jpg  \n",
            "  inflating: my_data/Stimuli_Set1/198.jpg  \n",
            "  inflating: my_data/__MACOSX/Stimuli_Set1/._198.jpg  \n",
            "  inflating: my_data/Stimuli_Set1/66.jpg  \n",
            "  inflating: my_data/__MACOSX/Stimuli_Set1/._66.jpg  \n",
            "  inflating: my_data/Stimuli_Set1/72.jpg  \n",
            "  inflating: my_data/__MACOSX/Stimuli_Set1/._72.jpg  \n",
            "  inflating: my_data/Stimuli_Set1/167.jpg  \n",
            "  inflating: my_data/__MACOSX/Stimuli_Set1/._167.jpg  \n",
            "  inflating: my_data/Stimuli_Set1/99.jpg  \n",
            "  inflating: my_data/__MACOSX/Stimuli_Set1/._99.jpg  \n",
            "  inflating: my_data/Stimuli_Set1/173.jpg  \n",
            "  inflating: my_data/__MACOSX/Stimuli_Set1/._173.jpg  \n",
            "  inflating: my_data/Stimuli_Set1/359.jpg  \n",
            "  inflating: my_data/__MACOSX/Stimuli_Set1/._359.jpg  \n",
            "  inflating: my_data/Stimuli_Set1/211.jpg  \n",
            "  inflating: my_data/__MACOSX/Stimuli_Set1/._211.jpg  \n",
            "  inflating: my_data/Stimuli_Set1/205.jpg  \n",
            "  inflating: my_data/__MACOSX/Stimuli_Set1/._205.jpg  \n",
            "  inflating: my_data/Stimuli_Set1/239.jpg  \n",
            "  inflating: my_data/__MACOSX/Stimuli_Set1/._239.jpg  \n",
            "  inflating: my_data/Stimuli_Set1/238.jpg  \n",
            "  inflating: my_data/__MACOSX/Stimuli_Set1/._238.jpg  \n",
            "  inflating: my_data/Stimuli_Set1/204.jpg  \n",
            "  inflating: my_data/__MACOSX/Stimuli_Set1/._204.jpg  \n",
            "  inflating: my_data/Stimuli_Set1/210.jpg  \n",
            "  inflating: my_data/__MACOSX/Stimuli_Set1/._210.jpg  \n",
            "  inflating: my_data/Stimuli_Set1/358.jpg  \n",
            "  inflating: my_data/__MACOSX/Stimuli_Set1/._358.jpg  \n",
            "  inflating: my_data/Stimuli_Set1/172.jpg  \n",
            "  inflating: my_data/__MACOSX/Stimuli_Set1/._172.jpg  \n",
            "  inflating: my_data/Stimuli_Set1/166.jpg  \n",
            "  inflating: my_data/__MACOSX/Stimuli_Set1/._166.jpg  \n",
            "  inflating: my_data/Stimuli_Set1/98.jpg  \n",
            "  inflating: my_data/__MACOSX/Stimuli_Set1/._98.jpg  \n",
            "  inflating: my_data/Stimuli_Set1/73.jpg  \n",
            "  inflating: my_data/__MACOSX/Stimuli_Set1/._73.jpg  \n",
            "  inflating: my_data/Stimuli_Set1/199.jpg  \n",
            "  inflating: my_data/__MACOSX/Stimuli_Set1/._199.jpg  \n",
            "  inflating: my_data/Stimuli_Set1/67.jpg  \n",
            "  inflating: my_data/__MACOSX/Stimuli_Set1/._67.jpg  \n",
            "  inflating: my_data/Stimuli_Set1/9.jpg  \n",
            "  inflating: my_data/__MACOSX/Stimuli_Set1/._9.jpg  \n",
            "  inflating: my_data/Stimuli_Set1/14.jpg  \n",
            "  inflating: my_data/__MACOSX/Stimuli_Set1/._14.jpg  \n",
            "  inflating: my_data/Stimuli_Set1/28.jpg  \n",
            "  inflating: my_data/__MACOSX/Stimuli_Set1/._28.jpg  \n",
            "  inflating: my_data/Stimuli_Set1/129.jpg  \n",
            "  inflating: my_data/__MACOSX/Stimuli_Set1/._129.jpg  \n",
            "  inflating: my_data/Stimuli_Set1/101.jpg  \n",
            "  inflating: my_data/__MACOSX/Stimuli_Set1/._101.jpg  \n",
            "  inflating: my_data/Stimuli_Set1/115.jpg  \n",
            "  inflating: my_data/__MACOSX/Stimuli_Set1/._115.jpg  \n",
            "  inflating: my_data/Stimuli_Set1/303.jpg  \n",
            "  inflating: my_data/__MACOSX/Stimuli_Set1/._303.jpg  \n",
            "  inflating: my_data/Stimuli_Set1/317.jpg  \n",
            "  inflating: my_data/__MACOSX/Stimuli_Set1/._317.jpg  \n",
            "  inflating: my_data/Stimuli_Set1/288.jpg  \n",
            "  inflating: my_data/__MACOSX/Stimuli_Set1/._288.jpg  \n",
            "  inflating: my_data/Stimuli_Set1/277.jpg  \n",
            "  inflating: my_data/__MACOSX/Stimuli_Set1/._277.jpg  \n",
            "  inflating: my_data/Stimuli_Set1/263.jpg  \n",
            "  inflating: my_data/__MACOSX/Stimuli_Set1/._263.jpg  \n",
            "  inflating: my_data/Stimuli_Set1/262.jpg  \n",
            "  inflating: my_data/__MACOSX/Stimuli_Set1/._262.jpg  \n",
            "  inflating: my_data/Stimuli_Set1/276.jpg  \n",
            "  inflating: my_data/__MACOSX/Stimuli_Set1/._276.jpg  \n",
            "  inflating: my_data/Stimuli_Set1/289.jpg  \n",
            "  inflating: my_data/__MACOSX/Stimuli_Set1/._289.jpg  \n",
            "  inflating: my_data/Stimuli_Set1/316.jpg  \n",
            "  inflating: my_data/__MACOSX/Stimuli_Set1/._316.jpg  \n",
            "  inflating: my_data/Stimuli_Set1/302.jpg  \n",
            "  inflating: my_data/__MACOSX/Stimuli_Set1/._302.jpg  \n",
            "  inflating: my_data/Stimuli_Set1/114.jpg  \n",
            "  inflating: my_data/__MACOSX/Stimuli_Set1/._114.jpg  \n",
            "  inflating: my_data/Stimuli_Set1/100.jpg  \n",
            "  inflating: my_data/__MACOSX/Stimuli_Set1/._100.jpg  \n",
            "  inflating: my_data/Stimuli_Set1/128.jpg  \n",
            "  inflating: my_data/__MACOSX/Stimuli_Set1/._128.jpg  \n",
            "  inflating: my_data/Stimuli_Set1/29.jpg  \n",
            "  inflating: my_data/__MACOSX/Stimuli_Set1/._29.jpg  \n",
            "  inflating: my_data/Stimuli_Set1/15.jpg  \n",
            "  inflating: my_data/__MACOSX/Stimuli_Set1/._15.jpg  \n",
            "  inflating: my_data/Stimuli_Set1/17.jpg  \n",
            "  inflating: my_data/__MACOSX/Stimuli_Set1/._17.jpg  \n",
            "  inflating: my_data/Stimuli_Set1/116.jpg  \n",
            "  inflating: my_data/__MACOSX/Stimuli_Set1/._116.jpg  \n",
            "  inflating: my_data/Stimuli_Set1/102.jpg  \n",
            "  inflating: my_data/__MACOSX/Stimuli_Set1/._102.jpg  \n",
            "  inflating: my_data/Stimuli_Set1/328.jpg  \n",
            "  inflating: my_data/__MACOSX/Stimuli_Set1/._328.jpg  \n",
            "  inflating: my_data/Stimuli_Set1/314.jpg  \n",
            "  inflating: my_data/__MACOSX/Stimuli_Set1/._314.jpg  \n",
            "  inflating: my_data/Stimuli_Set1/300.jpg  \n",
            "  inflating: my_data/__MACOSX/Stimuli_Set1/._300.jpg  \n",
            "  inflating: my_data/Stimuli_Set1/248.jpg  \n",
            "  inflating: my_data/__MACOSX/Stimuli_Set1/._248.jpg  \n",
            "  inflating: my_data/Stimuli_Set1/260.jpg  \n",
            "  inflating: my_data/__MACOSX/Stimuli_Set1/._260.jpg  \n",
            "  inflating: my_data/Stimuli_Set1/274.jpg  \n",
            "  inflating: my_data/__MACOSX/Stimuli_Set1/._274.jpg  \n",
            "  inflating: my_data/Stimuli_Set1/275.jpg  \n",
            "  inflating: my_data/__MACOSX/Stimuli_Set1/._275.jpg  \n",
            "  inflating: my_data/Stimuli_Set1/261.jpg  \n",
            "  inflating: my_data/__MACOSX/Stimuli_Set1/._261.jpg  \n",
            "  inflating: my_data/Stimuli_Set1/249.jpg  \n",
            "  inflating: my_data/__MACOSX/Stimuli_Set1/._249.jpg  \n",
            "  inflating: my_data/Stimuli_Set1/301.jpg  \n",
            "  inflating: my_data/__MACOSX/Stimuli_Set1/._301.jpg  \n",
            "  inflating: my_data/Stimuli_Set1/315.jpg  \n",
            "  inflating: my_data/__MACOSX/Stimuli_Set1/._315.jpg  \n",
            "  inflating: my_data/Stimuli_Set1/329.jpg  \n",
            "  inflating: my_data/__MACOSX/Stimuli_Set1/._329.jpg  \n",
            "  inflating: my_data/Stimuli_Set1/103.jpg  \n",
            "  inflating: my_data/__MACOSX/Stimuli_Set1/._103.jpg  \n",
            "  inflating: my_data/Stimuli_Set1/117.jpg  \n",
            "  inflating: my_data/__MACOSX/Stimuli_Set1/._117.jpg  \n",
            "  inflating: my_data/Stimuli_Set1/16.jpg  \n",
            "  inflating: my_data/__MACOSX/Stimuli_Set1/._16.jpg  \n",
            "  inflating: my_data/Stimuli_Set1/12.jpg  \n",
            "  inflating: my_data/__MACOSX/Stimuli_Set1/._12.jpg  \n",
            "  inflating: my_data/Stimuli_Set1/113.jpg  \n",
            "  inflating: my_data/__MACOSX/Stimuli_Set1/._113.jpg  \n",
            "  inflating: my_data/Stimuli_Set1/107.jpg  \n",
            "  inflating: my_data/__MACOSX/Stimuli_Set1/._107.jpg  \n",
            "  inflating: my_data/Stimuli_Set1/311.jpg  \n",
            "  inflating: my_data/__MACOSX/Stimuli_Set1/._311.jpg  \n",
            "  inflating: my_data/Stimuli_Set1/305.jpg  \n",
            "  inflating: my_data/__MACOSX/Stimuli_Set1/._305.jpg  \n",
            "  inflating: my_data/Stimuli_Set1/339.jpg  \n",
            "  inflating: my_data/__MACOSX/Stimuli_Set1/._339.jpg  \n",
            "  inflating: my_data/Stimuli_Set1/265.jpg  \n",
            "  inflating: my_data/__MACOSX/Stimuli_Set1/._265.jpg  \n",
            "  inflating: my_data/Stimuli_Set1/271.jpg  \n",
            "  inflating: my_data/__MACOSX/Stimuli_Set1/._271.jpg  \n",
            "  inflating: my_data/Stimuli_Set1/259.jpg  \n",
            "  inflating: my_data/__MACOSX/Stimuli_Set1/._259.jpg  \n",
            "  inflating: my_data/Stimuli_Set1/258.jpg  \n",
            "  inflating: my_data/__MACOSX/Stimuli_Set1/._258.jpg  \n",
            "  inflating: my_data/Stimuli_Set1/270.jpg  \n",
            "  inflating: my_data/__MACOSX/Stimuli_Set1/._270.jpg  \n",
            "  inflating: my_data/Stimuli_Set1/264.jpg  \n",
            "  inflating: my_data/__MACOSX/Stimuli_Set1/._264.jpg  \n",
            "  inflating: my_data/Stimuli_Set1/338.jpg  \n",
            "  inflating: my_data/__MACOSX/Stimuli_Set1/._338.jpg  \n",
            "  inflating: my_data/Stimuli_Set1/304.jpg  \n",
            "  inflating: my_data/__MACOSX/Stimuli_Set1/._304.jpg  \n",
            "  inflating: my_data/Stimuli_Set1/310.jpg  \n",
            "  inflating: my_data/__MACOSX/Stimuli_Set1/._310.jpg  \n",
            "  inflating: my_data/Stimuli_Set1/106.jpg  \n",
            "  inflating: my_data/__MACOSX/Stimuli_Set1/._106.jpg  \n",
            "  inflating: my_data/Stimuli_Set1/112.jpg  \n",
            "  inflating: my_data/__MACOSX/Stimuli_Set1/._112.jpg  \n",
            "  inflating: my_data/Stimuli_Set1/13.jpg  \n",
            "  inflating: my_data/__MACOSX/Stimuli_Set1/._13.jpg  \n",
            "  inflating: my_data/Stimuli_Set1/39.jpg  \n",
            "  inflating: my_data/__MACOSX/Stimuli_Set1/._39.jpg  \n",
            "  inflating: my_data/Stimuli_Set1/11.jpg  \n",
            "  inflating: my_data/__MACOSX/Stimuli_Set1/._11.jpg  \n",
            "  inflating: my_data/Stimuli_Set1/104.jpg  \n",
            "  inflating: my_data/__MACOSX/Stimuli_Set1/._104.jpg  \n",
            "  inflating: my_data/Stimuli_Set1/110.jpg  \n",
            "  inflating: my_data/__MACOSX/Stimuli_Set1/._110.jpg  \n",
            "  inflating: my_data/Stimuli_Set1/138.jpg  \n",
            "  inflating: my_data/__MACOSX/Stimuli_Set1/._138.jpg  \n",
            "  inflating: my_data/Stimuli_Set1/306.jpg  \n",
            "  inflating: my_data/__MACOSX/Stimuli_Set1/._306.jpg  \n",
            "  inflating: my_data/Stimuli_Set1/312.jpg  \n",
            "  inflating: my_data/__MACOSX/Stimuli_Set1/._312.jpg  \n",
            "  inflating: my_data/Stimuli_Set1/299.jpg  \n",
            "  inflating: my_data/__MACOSX/Stimuli_Set1/._299.jpg  \n",
            "  inflating: my_data/Stimuli_Set1/272.jpg  \n",
            "  inflating: my_data/__MACOSX/Stimuli_Set1/._272.jpg  \n",
            "  inflating: my_data/Stimuli_Set1/266.jpg  \n",
            "  inflating: my_data/__MACOSX/Stimuli_Set1/._266.jpg  \n",
            "  inflating: my_data/Stimuli_Set1/267.jpg  \n",
            "  inflating: my_data/__MACOSX/Stimuli_Set1/._267.jpg  \n",
            "  inflating: my_data/Stimuli_Set1/273.jpg  \n",
            "  inflating: my_data/__MACOSX/Stimuli_Set1/._273.jpg  \n",
            "  inflating: my_data/Stimuli_Set1/298.jpg  \n",
            "  inflating: my_data/__MACOSX/Stimuli_Set1/._298.jpg  \n",
            "  inflating: my_data/Stimuli_Set1/313.jpg  \n",
            "  inflating: my_data/__MACOSX/Stimuli_Set1/._313.jpg  \n",
            "  inflating: my_data/Stimuli_Set1/307.jpg  \n",
            "  inflating: my_data/__MACOSX/Stimuli_Set1/._307.jpg  \n",
            "  inflating: my_data/Stimuli_Set1/139.jpg  \n",
            "  inflating: my_data/__MACOSX/Stimuli_Set1/._139.jpg  \n",
            "  inflating: my_data/Stimuli_Set1/111.jpg  \n",
            "  inflating: my_data/__MACOSX/Stimuli_Set1/._111.jpg  \n",
            "  inflating: my_data/Stimuli_Set1/105.jpg  \n",
            "  inflating: my_data/__MACOSX/Stimuli_Set1/._105.jpg  \n",
            "  inflating: my_data/Stimuli_Set1/10.jpg  \n",
            "  inflating: my_data/__MACOSX/Stimuli_Set1/._10.jpg  \n",
            "  inflating: my_data/Stimuli_Set1/38.jpg  \n",
            "  inflating: my_data/__MACOSX/Stimuli_Set1/._38.jpg  \n",
            "  inflating: my_data/Stimuli_Set1/21.jpg  \n",
            "  inflating: my_data/__MACOSX/Stimuli_Set1/._21.jpg  \n",
            "  inflating: my_data/Stimuli_Set1/35.jpg  \n",
            "  inflating: my_data/__MACOSX/Stimuli_Set1/._35.jpg  \n",
            "  inflating: my_data/Stimuli_Set1/108.jpg  \n",
            "  inflating: my_data/__MACOSX/Stimuli_Set1/._108.jpg  \n",
            "  inflating: my_data/Stimuli_Set1/120.jpg  \n",
            "  inflating: my_data/__MACOSX/Stimuli_Set1/._120.jpg  \n",
            "  inflating: my_data/Stimuli_Set1/134.jpg  \n",
            "  inflating: my_data/__MACOSX/Stimuli_Set1/._134.jpg  \n",
            "  inflating: my_data/Stimuli_Set1/322.jpg  \n",
            "  inflating: my_data/__MACOSX/Stimuli_Set1/._322.jpg  \n",
            "  inflating: my_data/Stimuli_Set1/336.jpg  \n",
            "  inflating: my_data/__MACOSX/Stimuli_Set1/._336.jpg  \n",
            "  inflating: my_data/Stimuli_Set1/295.jpg  \n",
            "  inflating: my_data/__MACOSX/Stimuli_Set1/._295.jpg  \n",
            "  inflating: my_data/Stimuli_Set1/281.jpg  \n",
            "  inflating: my_data/__MACOSX/Stimuli_Set1/._281.jpg  \n",
            "  inflating: my_data/Stimuli_Set1/256.jpg  \n",
            "  inflating: my_data/__MACOSX/Stimuli_Set1/._256.jpg  \n",
            "  inflating: my_data/Stimuli_Set1/242.jpg  \n",
            "  inflating: my_data/__MACOSX/Stimuli_Set1/._242.jpg  \n",
            "  inflating: my_data/Stimuli_Set1/243.jpg  \n",
            "  inflating: my_data/__MACOSX/Stimuli_Set1/._243.jpg  \n",
            "  inflating: my_data/Stimuli_Set1/257.jpg  \n",
            "  inflating: my_data/__MACOSX/Stimuli_Set1/._257.jpg  \n",
            "  inflating: my_data/Stimuli_Set1/280.jpg  \n",
            "  inflating: my_data/__MACOSX/Stimuli_Set1/._280.jpg  \n",
            "  inflating: my_data/Stimuli_Set1/294.jpg  \n",
            "  inflating: my_data/__MACOSX/Stimuli_Set1/._294.jpg  \n",
            "  inflating: my_data/Stimuli_Set1/337.jpg  \n",
            "  inflating: my_data/__MACOSX/Stimuli_Set1/._337.jpg  \n",
            "  inflating: my_data/Stimuli_Set1/323.jpg  \n",
            "  inflating: my_data/__MACOSX/Stimuli_Set1/._323.jpg  \n",
            "  inflating: my_data/Stimuli_Set1/135.jpg  \n",
            "  inflating: my_data/__MACOSX/Stimuli_Set1/._135.jpg  \n",
            "  inflating: my_data/Stimuli_Set1/121.jpg  \n",
            "  inflating: my_data/__MACOSX/Stimuli_Set1/._121.jpg  \n",
            "  inflating: my_data/Stimuli_Set1/109.jpg  \n",
            "  inflating: my_data/__MACOSX/Stimuli_Set1/._109.jpg  \n",
            "  inflating: my_data/Stimuli_Set1/34.jpg  \n",
            "  inflating: my_data/__MACOSX/Stimuli_Set1/._34.jpg  \n",
            "  inflating: my_data/Stimuli_Set1/20.jpg  \n",
            "  inflating: my_data/__MACOSX/Stimuli_Set1/._20.jpg  \n",
            "  inflating: my_data/Stimuli_Set1/36.jpg  \n",
            "  inflating: my_data/__MACOSX/Stimuli_Set1/._36.jpg  \n",
            "  inflating: my_data/Stimuli_Set1/22.jpg  \n",
            "  inflating: my_data/__MACOSX/Stimuli_Set1/._22.jpg  \n",
            "  inflating: my_data/Stimuli_Set1/137.jpg  \n",
            "  inflating: my_data/__MACOSX/Stimuli_Set1/._137.jpg  \n",
            "  inflating: my_data/Stimuli_Set1/123.jpg  \n",
            "  inflating: my_data/__MACOSX/Stimuli_Set1/._123.jpg  \n",
            "  inflating: my_data/Stimuli_Set1/309.jpg  \n",
            "  inflating: my_data/__MACOSX/Stimuli_Set1/._309.jpg  \n",
            "  inflating: my_data/Stimuli_Set1/335.jpg  \n",
            "  inflating: my_data/__MACOSX/Stimuli_Set1/._335.jpg  \n",
            "  inflating: my_data/Stimuli_Set1/321.jpg  \n",
            "  inflating: my_data/__MACOSX/Stimuli_Set1/._321.jpg  \n",
            "  inflating: my_data/Stimuli_Set1/282.jpg  \n",
            "  inflating: my_data/__MACOSX/Stimuli_Set1/._282.jpg  \n",
            "  inflating: my_data/Stimuli_Set1/296.jpg  \n",
            "  inflating: my_data/__MACOSX/Stimuli_Set1/._296.jpg  \n",
            "  inflating: my_data/Stimuli_Set1/269.jpg  \n",
            "  inflating: my_data/__MACOSX/Stimuli_Set1/._269.jpg  \n",
            "  inflating: my_data/Stimuli_Set1/241.jpg  \n",
            "  inflating: my_data/__MACOSX/Stimuli_Set1/._241.jpg  \n",
            "  inflating: my_data/Stimuli_Set1/255.jpg  \n",
            "  inflating: my_data/__MACOSX/Stimuli_Set1/._255.jpg  \n",
            "  inflating: my_data/Stimuli_Set1/254.jpg  \n",
            "  inflating: my_data/__MACOSX/Stimuli_Set1/._254.jpg  \n",
            "  inflating: my_data/Stimuli_Set1/240.jpg  \n",
            "  inflating: my_data/__MACOSX/Stimuli_Set1/._240.jpg  \n",
            "  inflating: my_data/Stimuli_Set1/268.jpg  \n",
            "  inflating: my_data/__MACOSX/Stimuli_Set1/._268.jpg  \n",
            "  inflating: my_data/Stimuli_Set1/297.jpg  \n",
            "  inflating: my_data/__MACOSX/Stimuli_Set1/._297.jpg  \n",
            "  inflating: my_data/Stimuli_Set1/283.jpg  \n",
            "  inflating: my_data/__MACOSX/Stimuli_Set1/._283.jpg  \n",
            "  inflating: my_data/Stimuli_Set1/320.jpg  \n",
            "  inflating: my_data/__MACOSX/Stimuli_Set1/._320.jpg  \n",
            "  inflating: my_data/Stimuli_Set1/334.jpg  \n",
            "  inflating: my_data/__MACOSX/Stimuli_Set1/._334.jpg  \n",
            "  inflating: my_data/Stimuli_Set1/308.jpg  \n",
            "  inflating: my_data/__MACOSX/Stimuli_Set1/._308.jpg  \n",
            "  inflating: my_data/Stimuli_Set1/122.jpg  \n",
            "  inflating: my_data/__MACOSX/Stimuli_Set1/._122.jpg  \n",
            "  inflating: my_data/Stimuli_Set1/136.jpg  \n",
            "  inflating: my_data/__MACOSX/Stimuli_Set1/._136.jpg  \n",
            "  inflating: my_data/Stimuli_Set1/23.jpg  \n",
            "  inflating: my_data/__MACOSX/Stimuli_Set1/._23.jpg  \n",
            "  inflating: my_data/Stimuli_Set1/37.jpg  \n",
            "  inflating: my_data/__MACOSX/Stimuli_Set1/._37.jpg  \n",
            "  inflating: my_data/Stimuli_Set1/33.jpg  \n",
            "  inflating: my_data/__MACOSX/Stimuli_Set1/._33.jpg  \n",
            "  inflating: my_data/Stimuli_Set1/27.jpg  \n",
            "  inflating: my_data/__MACOSX/Stimuli_Set1/._27.jpg  \n",
            "  inflating: my_data/Stimuli_Set1/132.jpg  \n",
            "  inflating: my_data/__MACOSX/Stimuli_Set1/._132.jpg  \n",
            "  inflating: my_data/Stimuli_Set1/126.jpg  \n",
            "  inflating: my_data/__MACOSX/Stimuli_Set1/._126.jpg  \n",
            "  inflating: my_data/Stimuli_Set1/330.jpg  \n",
            "  inflating: my_data/__MACOSX/Stimuli_Set1/._330.jpg  \n",
            "  inflating: my_data/Stimuli_Set1/324.jpg  \n",
            "  inflating: my_data/__MACOSX/Stimuli_Set1/._324.jpg  \n",
            "  inflating: my_data/Stimuli_Set1/318.jpg  \n",
            "  inflating: my_data/__MACOSX/Stimuli_Set1/._318.jpg  \n",
            "  inflating: my_data/Stimuli_Set1/287.jpg  \n",
            "  inflating: my_data/__MACOSX/Stimuli_Set1/._287.jpg  \n",
            "  inflating: my_data/Stimuli_Set1/293.jpg  \n",
            "  inflating: my_data/__MACOSX/Stimuli_Set1/._293.jpg  \n",
            "  inflating: my_data/Stimuli_Set1/244.jpg  \n",
            "  inflating: my_data/__MACOSX/Stimuli_Set1/._244.jpg  \n",
            "  inflating: my_data/Stimuli_Set1/250.jpg  \n",
            "  inflating: my_data/__MACOSX/Stimuli_Set1/._250.jpg  \n",
            "  inflating: my_data/Stimuli_Set1/278.jpg  \n",
            "  inflating: my_data/__MACOSX/Stimuli_Set1/._278.jpg  \n",
            "  inflating: my_data/Stimuli_Set1/279.jpg  \n",
            "  inflating: my_data/__MACOSX/Stimuli_Set1/._279.jpg  \n",
            "  inflating: my_data/Stimuli_Set1/251.jpg  \n",
            "  inflating: my_data/__MACOSX/Stimuli_Set1/._251.jpg  \n",
            "  inflating: my_data/Stimuli_Set1/245.jpg  \n",
            "  inflating: my_data/__MACOSX/Stimuli_Set1/._245.jpg  \n",
            "  inflating: my_data/Stimuli_Set1/292.jpg  \n",
            "  inflating: my_data/__MACOSX/Stimuli_Set1/._292.jpg  \n",
            "  inflating: my_data/Stimuli_Set1/286.jpg  \n",
            "  inflating: my_data/__MACOSX/Stimuli_Set1/._286.jpg  \n",
            "  inflating: my_data/Stimuli_Set1/319.jpg  \n",
            "  inflating: my_data/__MACOSX/Stimuli_Set1/._319.jpg  \n",
            "  inflating: my_data/Stimuli_Set1/325.jpg  \n",
            "  inflating: my_data/__MACOSX/Stimuli_Set1/._325.jpg  \n",
            "  inflating: my_data/Stimuli_Set1/331.jpg  \n",
            "  inflating: my_data/__MACOSX/Stimuli_Set1/._331.jpg  \n",
            "  inflating: my_data/Stimuli_Set1/127.jpg  \n",
            "  inflating: my_data/__MACOSX/Stimuli_Set1/._127.jpg  \n",
            "  inflating: my_data/Stimuli_Set1/133.jpg  \n",
            "  inflating: my_data/__MACOSX/Stimuli_Set1/._133.jpg  \n",
            "  inflating: my_data/Stimuli_Set1/26.jpg  \n",
            "  inflating: my_data/__MACOSX/Stimuli_Set1/._26.jpg  \n",
            "  inflating: my_data/Stimuli_Set1/32.jpg  \n",
            "  inflating: my_data/__MACOSX/Stimuli_Set1/._32.jpg  \n",
            "  inflating: my_data/Stimuli_Set1/18.jpg  \n",
            "  inflating: my_data/__MACOSX/Stimuli_Set1/._18.jpg  \n",
            "  inflating: my_data/Stimuli_Set1/24.jpg  \n",
            "  inflating: my_data/__MACOSX/Stimuli_Set1/._24.jpg  \n",
            "  inflating: my_data/Stimuli_Set1/30.jpg  \n",
            "  inflating: my_data/__MACOSX/Stimuli_Set1/._30.jpg  \n",
            "  inflating: my_data/Stimuli_Set1/125.jpg  \n",
            "  inflating: my_data/__MACOSX/Stimuli_Set1/._125.jpg  \n",
            "  inflating: my_data/Stimuli_Set1/131.jpg  \n",
            "  inflating: my_data/__MACOSX/Stimuli_Set1/._131.jpg  \n",
            "  inflating: my_data/Stimuli_Set1/119.jpg  \n",
            "  inflating: my_data/__MACOSX/Stimuli_Set1/._119.jpg  \n",
            "  inflating: my_data/Stimuli_Set1/327.jpg  \n",
            "  inflating: my_data/__MACOSX/Stimuli_Set1/._327.jpg  \n",
            "  inflating: my_data/Stimuli_Set1/333.jpg  \n",
            "  inflating: my_data/__MACOSX/Stimuli_Set1/._333.jpg  \n",
            "  inflating: my_data/Stimuli_Set1/290.jpg  \n",
            "  inflating: my_data/__MACOSX/Stimuli_Set1/._290.jpg  \n",
            "  inflating: my_data/Stimuli_Set1/284.jpg  \n",
            "  inflating: my_data/__MACOSX/Stimuli_Set1/._284.jpg  \n",
            "  inflating: my_data/Stimuli_Set1/253.jpg  \n",
            "  inflating: my_data/__MACOSX/Stimuli_Set1/._253.jpg  \n",
            "  inflating: my_data/Stimuli_Set1/247.jpg  \n",
            "  inflating: my_data/__MACOSX/Stimuli_Set1/._247.jpg  \n",
            "  inflating: my_data/Stimuli_Set1/246.jpg  \n",
            "  inflating: my_data/__MACOSX/Stimuli_Set1/._246.jpg  \n",
            "  inflating: my_data/Stimuli_Set1/252.jpg  \n",
            "  inflating: my_data/__MACOSX/Stimuli_Set1/._252.jpg  \n",
            "  inflating: my_data/Stimuli_Set1/285.jpg  \n",
            "  inflating: my_data/__MACOSX/Stimuli_Set1/._285.jpg  \n",
            "  inflating: my_data/Stimuli_Set1/291.jpg  \n",
            "  inflating: my_data/__MACOSX/Stimuli_Set1/._291.jpg  \n",
            "  inflating: my_data/Stimuli_Set1/332.jpg  \n",
            "  inflating: my_data/__MACOSX/Stimuli_Set1/._332.jpg  \n",
            "  inflating: my_data/Stimuli_Set1/326.jpg  \n",
            "  inflating: my_data/__MACOSX/Stimuli_Set1/._326.jpg  \n",
            "  inflating: my_data/Stimuli_Set1/118.jpg  \n",
            "  inflating: my_data/__MACOSX/Stimuli_Set1/._118.jpg  \n",
            "  inflating: my_data/Stimuli_Set1/130.jpg  \n",
            "  inflating: my_data/__MACOSX/Stimuli_Set1/._130.jpg  \n",
            "  inflating: my_data/Stimuli_Set1/124.jpg  \n",
            "  inflating: my_data/__MACOSX/Stimuli_Set1/._124.jpg  \n",
            "  inflating: my_data/Stimuli_Set1/31.jpg  \n",
            "  inflating: my_data/__MACOSX/Stimuli_Set1/._31.jpg  \n",
            "  inflating: my_data/Stimuli_Set1/25.jpg  \n",
            "  inflating: my_data/__MACOSX/Stimuli_Set1/._25.jpg  \n",
            "  inflating: my_data/Stimuli_Set1/19.jpg  \n",
            "  inflating: my_data/__MACOSX/Stimuli_Set1/._19.jpg  \n",
            "  inflating: my_data/Stimuli_Set1/42.jpg  \n",
            "  inflating: my_data/__MACOSX/Stimuli_Set1/._42.jpg  \n",
            "  inflating: my_data/Stimuli_Set1/4.jpg  \n",
            "  inflating: my_data/__MACOSX/Stimuli_Set1/._4.jpg  \n",
            "  inflating: my_data/Stimuli_Set1/56.jpg  \n",
            "  inflating: my_data/__MACOSX/Stimuli_Set1/._56.jpg  \n",
            "  inflating: my_data/Stimuli_Set1/180.jpg  \n",
            "  inflating: my_data/__MACOSX/Stimuli_Set1/._180.jpg  \n",
            "  inflating: my_data/Stimuli_Set1/194.jpg  \n",
            "  inflating: my_data/__MACOSX/Stimuli_Set1/._194.jpg  \n",
            "  inflating: my_data/Stimuli_Set1/81.jpg  \n",
            "  inflating: my_data/__MACOSX/Stimuli_Set1/._81.jpg  \n",
            "  inflating: my_data/Stimuli_Set1/95.jpg  \n",
            "  inflating: my_data/__MACOSX/Stimuli_Set1/._95.jpg  \n",
            "  inflating: my_data/Stimuli_Set1/143.jpg  \n",
            "  inflating: my_data/__MACOSX/Stimuli_Set1/._143.jpg  \n",
            "  inflating: my_data/Stimuli_Set1/157.jpg  \n",
            "  inflating: my_data/__MACOSX/Stimuli_Set1/._157.jpg  \n",
            "  inflating: my_data/Stimuli_Set1/341.jpg  \n",
            "  inflating: my_data/__MACOSX/Stimuli_Set1/._341.jpg  \n",
            "  inflating: my_data/Stimuli_Set1/355.jpg  \n",
            "  inflating: my_data/__MACOSX/Stimuli_Set1/._355.jpg  \n",
            "  inflating: my_data/Stimuli_Set1/209.jpg  \n",
            "  inflating: my_data/__MACOSX/Stimuli_Set1/._209.jpg  \n",
            "  inflating: my_data/Stimuli_Set1/235.jpg  \n",
            "  inflating: my_data/__MACOSX/Stimuli_Set1/._235.jpg  \n",
            "  inflating: my_data/Stimuli_Set1/221.jpg  \n",
            "  inflating: my_data/__MACOSX/Stimuli_Set1/._221.jpg  \n",
            "  inflating: my_data/Stimuli_Set1/220.jpg  \n",
            "  inflating: my_data/__MACOSX/Stimuli_Set1/._220.jpg  \n",
            "  inflating: my_data/Stimuli_Set1/234.jpg  \n",
            "  inflating: my_data/__MACOSX/Stimuli_Set1/._234.jpg  \n",
            "  inflating: my_data/Stimuli_Set1/208.jpg  \n",
            "  inflating: my_data/__MACOSX/Stimuli_Set1/._208.jpg  \n",
            "  inflating: my_data/Stimuli_Set1/354.jpg  \n",
            "  inflating: my_data/__MACOSX/Stimuli_Set1/._354.jpg  \n",
            "  inflating: my_data/Stimuli_Set1/340.jpg  \n",
            "  inflating: my_data/__MACOSX/Stimuli_Set1/._340.jpg  \n",
            "  inflating: my_data/Stimuli_Set1/156.jpg  \n",
            "  inflating: my_data/__MACOSX/Stimuli_Set1/._156.jpg  \n",
            "  inflating: my_data/Stimuli_Set1/142.jpg  \n",
            "  inflating: my_data/__MACOSX/Stimuli_Set1/._142.jpg  \n",
            "  inflating: my_data/Stimuli_Set1/94.jpg  \n",
            "  inflating: my_data/__MACOSX/Stimuli_Set1/._94.jpg  \n",
            "  inflating: my_data/Stimuli_Set1/80.jpg  \n",
            "  inflating: my_data/__MACOSX/Stimuli_Set1/._80.jpg  \n",
            "  inflating: my_data/Stimuli_Set1/195.jpg  \n",
            "  inflating: my_data/__MACOSX/Stimuli_Set1/._195.jpg  \n",
            "  inflating: my_data/Stimuli_Set1/181.jpg  \n",
            "  inflating: my_data/__MACOSX/Stimuli_Set1/._181.jpg  \n",
            "  inflating: my_data/Stimuli_Set1/5.jpg  \n",
            "  inflating: my_data/__MACOSX/Stimuli_Set1/._5.jpg  \n",
            "  inflating: my_data/Stimuli_Set1/57.jpg  \n",
            "  inflating: my_data/__MACOSX/Stimuli_Set1/._57.jpg  \n",
            "  inflating: my_data/Stimuli_Set1/43.jpg  \n",
            "  inflating: my_data/__MACOSX/Stimuli_Set1/._43.jpg  \n",
            "  inflating: my_data/Stimuli_Set1/55.jpg  \n",
            "  inflating: my_data/__MACOSX/Stimuli_Set1/._55.jpg  \n",
            "  inflating: my_data/Stimuli_Set1/7.jpg  \n",
            "  inflating: my_data/__MACOSX/Stimuli_Set1/._7.jpg  \n",
            "  inflating: my_data/Stimuli_Set1/41.jpg  \n",
            "  inflating: my_data/__MACOSX/Stimuli_Set1/._41.jpg  \n",
            "  inflating: my_data/Stimuli_Set1/69.jpg  \n",
            "  inflating: my_data/__MACOSX/Stimuli_Set1/._69.jpg  \n",
            "  inflating: my_data/Stimuli_Set1/197.jpg  \n",
            "  inflating: my_data/__MACOSX/Stimuli_Set1/._197.jpg  \n",
            "  inflating: my_data/Stimuli_Set1/183.jpg  \n",
            "  inflating: my_data/__MACOSX/Stimuli_Set1/._183.jpg  \n",
            "  inflating: my_data/Stimuli_Set1/96.jpg  \n",
            "  inflating: my_data/__MACOSX/Stimuli_Set1/._96.jpg  \n",
            "  inflating: my_data/Stimuli_Set1/168.jpg  \n",
            "  inflating: my_data/__MACOSX/Stimuli_Set1/._168.jpg  \n",
            "  inflating: my_data/Stimuli_Set1/82.jpg  \n",
            "  inflating: my_data/__MACOSX/Stimuli_Set1/._82.jpg  \n",
            "  inflating: my_data/Stimuli_Set1/154.jpg  \n",
            "  inflating: my_data/__MACOSX/Stimuli_Set1/._154.jpg  \n",
            "  inflating: my_data/Stimuli_Set1/140.jpg  \n",
            "  inflating: my_data/__MACOSX/Stimuli_Set1/._140.jpg  \n",
            "  inflating: my_data/Stimuli_Set1/356.jpg  \n",
            "  inflating: my_data/__MACOSX/Stimuli_Set1/._356.jpg  \n",
            "  inflating: my_data/Stimuli_Set1/342.jpg  \n",
            "  inflating: my_data/__MACOSX/Stimuli_Set1/._342.jpg  \n",
            "  inflating: my_data/Stimuli_Set1/222.jpg  \n",
            "  inflating: my_data/__MACOSX/Stimuli_Set1/._222.jpg  \n",
            "  inflating: my_data/Stimuli_Set1/236.jpg  \n",
            "  inflating: my_data/__MACOSX/Stimuli_Set1/._236.jpg  \n",
            "  inflating: my_data/Stimuli_Set1/237.jpg  \n",
            "  inflating: my_data/__MACOSX/Stimuli_Set1/._237.jpg  \n",
            "  inflating: my_data/Stimuli_Set1/223.jpg  \n",
            "  inflating: my_data/__MACOSX/Stimuli_Set1/._223.jpg  \n",
            "  inflating: my_data/Stimuli_Set1/343.jpg  \n",
            "  inflating: my_data/__MACOSX/Stimuli_Set1/._343.jpg  \n",
            "  inflating: my_data/Stimuli_Set1/357.jpg  \n",
            "  inflating: my_data/__MACOSX/Stimuli_Set1/._357.jpg  \n",
            "  inflating: my_data/Stimuli_Set1/141.jpg  \n",
            "  inflating: my_data/__MACOSX/Stimuli_Set1/._141.jpg  \n",
            "  inflating: my_data/Stimuli_Set1/155.jpg  \n",
            "  inflating: my_data/__MACOSX/Stimuli_Set1/._155.jpg  \n",
            "  inflating: my_data/Stimuli_Set1/83.jpg  \n",
            "  inflating: my_data/__MACOSX/Stimuli_Set1/._83.jpg  \n",
            "  inflating: my_data/Stimuli_Set1/97.jpg  \n",
            "  inflating: my_data/__MACOSX/Stimuli_Set1/._97.jpg  \n",
            "  inflating: my_data/Stimuli_Set1/169.jpg  \n",
            "  inflating: my_data/__MACOSX/Stimuli_Set1/._169.jpg  \n",
            "  inflating: my_data/Stimuli_Set1/182.jpg  \n",
            "  inflating: my_data/__MACOSX/Stimuli_Set1/._182.jpg  \n",
            "  inflating: my_data/Stimuli_Set1/68.jpg  \n",
            "  inflating: my_data/__MACOSX/Stimuli_Set1/._68.jpg  \n",
            "  inflating: my_data/Stimuli_Set1/196.jpg  \n",
            "  inflating: my_data/__MACOSX/Stimuli_Set1/._196.jpg  \n",
            "  inflating: my_data/Stimuli_Set1/40.jpg  \n",
            "  inflating: my_data/__MACOSX/Stimuli_Set1/._40.jpg  \n",
            "  inflating: my_data/Stimuli_Set1/54.jpg  \n",
            "  inflating: my_data/__MACOSX/Stimuli_Set1/._54.jpg  \n",
            "  inflating: my_data/Stimuli_Set1/6.jpg  \n",
            "  inflating: my_data/__MACOSX/Stimuli_Set1/._6.jpg  \n",
            "  inflating: my_data/Stimuli_Set1/192.jpg  \n",
            "  inflating: my_data/__MACOSX/Stimuli_Set1/._192.jpg  \n",
            "  inflating: my_data/Stimuli_Set1/78.jpg  \n",
            "  inflating: my_data/__MACOSX/Stimuli_Set1/._78.jpg  \n",
            "  inflating: my_data/Stimuli_Set1/186.jpg  \n",
            "  inflating: my_data/__MACOSX/Stimuli_Set1/._186.jpg  \n",
            "  inflating: my_data/Stimuli_Set1/2.jpg  \n",
            "  inflating: my_data/__MACOSX/Stimuli_Set1/._2.jpg  \n",
            "  inflating: my_data/Stimuli_Set1/50.jpg  \n",
            "  inflating: my_data/__MACOSX/Stimuli_Set1/._50.jpg  \n",
            "  inflating: my_data/Stimuli_Set1/44.jpg  \n",
            "  inflating: my_data/__MACOSX/Stimuli_Set1/._44.jpg  \n",
            "  inflating: my_data/Stimuli_Set1/151.jpg  \n",
            "  inflating: my_data/__MACOSX/Stimuli_Set1/._151.jpg  \n",
            "  inflating: my_data/Stimuli_Set1/145.jpg  \n",
            "  inflating: my_data/__MACOSX/Stimuli_Set1/._145.jpg  \n",
            "  inflating: my_data/Stimuli_Set1/93.jpg  \n",
            "  inflating: my_data/__MACOSX/Stimuli_Set1/._93.jpg  \n",
            "  inflating: my_data/Stimuli_Set1/87.jpg  \n",
            "  inflating: my_data/__MACOSX/Stimuli_Set1/._87.jpg  \n",
            "  inflating: my_data/Stimuli_Set1/179.jpg  \n",
            "  inflating: my_data/__MACOSX/Stimuli_Set1/._179.jpg  \n",
            "  inflating: my_data/Stimuli_Set1/353.jpg  \n",
            "  inflating: my_data/__MACOSX/Stimuli_Set1/._353.jpg  \n",
            "  inflating: my_data/Stimuli_Set1/347.jpg  \n",
            "  inflating: my_data/__MACOSX/Stimuli_Set1/._347.jpg  \n",
            "  inflating: my_data/Stimuli_Set1/227.jpg  \n",
            "  inflating: my_data/__MACOSX/Stimuli_Set1/._227.jpg  \n",
            "  inflating: my_data/Stimuli_Set1/233.jpg  \n",
            "  inflating: my_data/__MACOSX/Stimuli_Set1/._233.jpg  \n",
            "  inflating: my_data/Stimuli_Set1/232.jpg  \n",
            "  inflating: my_data/__MACOSX/Stimuli_Set1/._232.jpg  \n",
            "  inflating: my_data/Stimuli_Set1/226.jpg  \n",
            "  inflating: my_data/__MACOSX/Stimuli_Set1/._226.jpg  \n",
            "  inflating: my_data/Stimuli_Set1/346.jpg  \n",
            "  inflating: my_data/__MACOSX/Stimuli_Set1/._346.jpg  \n",
            "  inflating: my_data/Stimuli_Set1/352.jpg  \n",
            "  inflating: my_data/__MACOSX/Stimuli_Set1/._352.jpg  \n",
            "  inflating: my_data/Stimuli_Set1/86.jpg  \n",
            "  inflating: my_data/__MACOSX/Stimuli_Set1/._86.jpg  \n",
            "  inflating: my_data/Stimuli_Set1/178.jpg  \n",
            "  inflating: my_data/__MACOSX/Stimuli_Set1/._178.jpg  \n",
            "  inflating: my_data/Stimuli_Set1/92.jpg  \n",
            "  inflating: my_data/__MACOSX/Stimuli_Set1/._92.jpg  \n",
            "  inflating: my_data/Stimuli_Set1/144.jpg  \n",
            "  inflating: my_data/__MACOSX/Stimuli_Set1/._144.jpg  \n",
            "  inflating: my_data/Stimuli_Set1/150.jpg  \n",
            "  inflating: my_data/__MACOSX/Stimuli_Set1/._150.jpg  \n",
            "  inflating: my_data/Stimuli_Set1/45.jpg  \n",
            "  inflating: my_data/__MACOSX/Stimuli_Set1/._45.jpg  \n",
            "  inflating: my_data/Stimuli_Set1/3.jpg  \n",
            "  inflating: my_data/__MACOSX/Stimuli_Set1/._3.jpg  \n",
            "  inflating: my_data/Stimuli_Set1/51.jpg  \n",
            "  inflating: my_data/__MACOSX/Stimuli_Set1/._51.jpg  \n",
            "  inflating: my_data/Stimuli_Set1/79.jpg  \n",
            "  inflating: my_data/__MACOSX/Stimuli_Set1/._79.jpg  \n",
            "  inflating: my_data/Stimuli_Set1/187.jpg  \n",
            "  inflating: my_data/__MACOSX/Stimuli_Set1/._187.jpg  \n",
            "  inflating: my_data/Stimuli_Set1/193.jpg  \n",
            "  inflating: my_data/__MACOSX/Stimuli_Set1/._193.jpg  \n",
            "  inflating: my_data/Stimuli_Set1/185.jpg  \n",
            "  inflating: my_data/__MACOSX/Stimuli_Set1/._185.jpg  \n",
            "  inflating: my_data/Stimuli_Set1/191.jpg  \n",
            "  inflating: my_data/__MACOSX/Stimuli_Set1/._191.jpg  \n",
            "  inflating: my_data/Stimuli_Set1/47.jpg  \n",
            "  inflating: my_data/__MACOSX/Stimuli_Set1/._47.jpg  \n",
            "  inflating: my_data/Stimuli_Set1/53.jpg  \n",
            "  inflating: my_data/__MACOSX/Stimuli_Set1/._53.jpg  \n",
            "  inflating: my_data/Stimuli_Set1/1.jpg  \n",
            "  inflating: my_data/__MACOSX/Stimuli_Set1/._1.jpg  \n",
            "  inflating: my_data/Stimuli_Set1/146.jpg  \n",
            "  inflating: my_data/__MACOSX/Stimuli_Set1/._146.jpg  \n",
            "  inflating: my_data/Stimuli_Set1/152.jpg  \n",
            "  inflating: my_data/__MACOSX/Stimuli_Set1/._152.jpg  \n",
            "  inflating: my_data/Stimuli_Set1/84.jpg  \n",
            "  inflating: my_data/__MACOSX/Stimuli_Set1/._84.jpg  \n",
            "  inflating: my_data/Stimuli_Set1/90.jpg  \n",
            "  inflating: my_data/__MACOSX/Stimuli_Set1/._90.jpg  \n",
            "  inflating: my_data/Stimuli_Set1/344.jpg  \n",
            "  inflating: my_data/__MACOSX/Stimuli_Set1/._344.jpg  \n",
            "  inflating: my_data/Stimuli_Set1/350.jpg  \n",
            "  inflating: my_data/__MACOSX/Stimuli_Set1/._350.jpg  \n",
            "  inflating: my_data/Stimuli_Set1/230.jpg  \n",
            "  inflating: my_data/__MACOSX/Stimuli_Set1/._230.jpg  \n",
            "  inflating: my_data/Stimuli_Set1/224.jpg  \n",
            "  inflating: my_data/__MACOSX/Stimuli_Set1/._224.jpg  \n",
            "  inflating: my_data/Stimuli_Set1/218.jpg  \n",
            "  inflating: my_data/__MACOSX/Stimuli_Set1/._218.jpg  \n",
            "  inflating: my_data/Stimuli_Set1/219.jpg  \n",
            "  inflating: my_data/__MACOSX/Stimuli_Set1/._219.jpg  \n",
            "  inflating: my_data/Stimuli_Set1/225.jpg  \n",
            "  inflating: my_data/__MACOSX/Stimuli_Set1/._225.jpg  \n",
            "  inflating: my_data/Stimuli_Set1/231.jpg  \n",
            "  inflating: my_data/__MACOSX/Stimuli_Set1/._231.jpg  \n",
            "  inflating: my_data/Stimuli_Set1/351.jpg  \n",
            "  inflating: my_data/__MACOSX/Stimuli_Set1/._351.jpg  \n",
            "  inflating: my_data/Stimuli_Set1/345.jpg  \n",
            "  inflating: my_data/__MACOSX/Stimuli_Set1/._345.jpg  \n",
            "  inflating: my_data/Stimuli_Set1/91.jpg  \n",
            "  inflating: my_data/__MACOSX/Stimuli_Set1/._91.jpg  \n",
            "  inflating: my_data/Stimuli_Set1/85.jpg  \n",
            "  inflating: my_data/__MACOSX/Stimuli_Set1/._85.jpg  \n",
            "  inflating: my_data/Stimuli_Set1/153.jpg  \n",
            "  inflating: my_data/__MACOSX/Stimuli_Set1/._153.jpg  \n",
            "  inflating: my_data/Stimuli_Set1/147.jpg  \n",
            "  inflating: my_data/__MACOSX/Stimuli_Set1/._147.jpg  \n",
            "  inflating: my_data/Stimuli_Set1/52.jpg  \n",
            "  inflating: my_data/__MACOSX/Stimuli_Set1/._52.jpg  \n",
            "  inflating: my_data/Stimuli_Set1/0.jpg  \n",
            "  inflating: my_data/__MACOSX/Stimuli_Set1/._0.jpg  \n",
            "  inflating: my_data/Stimuli_Set1/46.jpg  \n",
            "  inflating: my_data/__MACOSX/Stimuli_Set1/._46.jpg  \n",
            "  inflating: my_data/Stimuli_Set1/190.jpg  \n",
            "  inflating: my_data/__MACOSX/Stimuli_Set1/._190.jpg  \n",
            "  inflating: my_data/Stimuli_Set1/184.jpg  \n",
            "  inflating: my_data/__MACOSX/Stimuli_Set1/._184.jpg  \n"
          ]
        }
      ],
      "source": [
        "# unzip folder (previously uploaded in collab)\n",
        "!unzip '/content/drive/MyDrive/Thesis/Neural_network/Human category learning task/documents/CategoryLearningStimuli.zip' -d my_data"
      ]
    },
    {
      "cell_type": "code",
      "execution_count": 5,
      "metadata": {
        "id": "7Qn6g-xVMKZK"
      },
      "outputs": [],
      "source": [
        "# root directory to data\n",
        "root = \"my_data/Stimuli_Set1/\"\n",
        "dic_pretraining = '/content/drive/MyDrive/Thesis/Neural_network/Pre-training on Animals shapes/'\n",
        "dic_baseline = '/content/drive/MyDrive/Thesis/Neural_network/Human category learning task/documents/'"
      ]
    },
    {
      "cell_type": "code",
      "execution_count": 6,
      "metadata": {
        "id": "ClQaWXOnMph3"
      },
      "outputs": [],
      "source": [
        "# get category labels\n",
        "image_ID = os.listdir(root)\n",
        "\n",
        "#remove \".DS_Store\"\n",
        "image_ID.remove(\".DS_Store\")\n",
        "#image_ID.remove(\".ipynb_checkpoints\")"
      ]
    },
    {
      "cell_type": "markdown",
      "metadata": {
        "id": "kJKf0t5IY1Gi"
      },
      "source": [
        "2) Defining parameters"
      ]
    },
    {
      "cell_type": "code",
      "execution_count": 7,
      "metadata": {
        "id": "PpTOxpl7Pk-Y"
      },
      "outputs": [],
      "source": [
        "# conditions\n",
        "condition1 = {\n",
        "    'A':[-30, 30],  #low var\n",
        "    'D':[-80, 80]   #high var\n",
        "    }\n",
        "\n",
        "condition2 = {\n",
        "    'A':[-80, 80], #high var\n",
        "    'D':[-30, 30]  #low var\n",
        "    }"
      ]
    },
    {
      "cell_type": "code",
      "execution_count": 8,
      "metadata": {
        "id": "bRKgsVBrPsny"
      },
      "outputs": [],
      "source": [
        "# reference shapes angles --> categories\n",
        "reference_shapeA = 0\n",
        "reference_shapeB = 310\n",
        "reference_shapeC = 260\n",
        "reference_shapeD = 210"
      ]
    },
    {
      "cell_type": "markdown",
      "metadata": {
        "id": "BZcgeTwN_sJF"
      },
      "source": [
        "3) Get angles and directory"
      ]
    },
    {
      "cell_type": "code",
      "execution_count": 9,
      "metadata": {
        "id": "0USpqrVHNtVR"
      },
      "outputs": [],
      "source": [
        "# get angles\n",
        "angles = []\n",
        "for image in image_ID:\n",
        "  get_angle = image.replace('.jpg', '')\n",
        "  transform_to_int = int(get_angle)\n",
        "  angles.append(transform_to_int)"
      ]
    },
    {
      "cell_type": "code",
      "execution_count": 10,
      "metadata": {
        "id": "X_6UKKSBxd_N",
        "colab": {
          "base_uri": "https://localhost:8080/"
        },
        "outputId": "db1e1999-18a3-4a59-e20a-7ded44c6f320"
      },
      "outputs": [
        {
          "output_type": "execute_result",
          "data": {
            "text/plain": [
              "[553, 559, 363, 364, 488]"
            ]
          },
          "metadata": {},
          "execution_count": 10
        }
      ],
      "source": [
        "angles_720 = np.array(angles) + 360\n",
        "angles_720 = angles_720.tolist()\n",
        "angles_720[:5]"
      ]
    },
    {
      "cell_type": "code",
      "source": [
        "# skip!!!\n",
        "to_float = []\n",
        "for i in angles_720:\n",
        "  float_angle = float(i)\n",
        "  to_float.append(float_angle)\n",
        "angles_720 = to_float\n",
        "angles_720[:5]"
      ],
      "metadata": {
        "colab": {
          "base_uri": "https://localhost:8080/"
        },
        "id": "e9LBgkKUTQvc",
        "outputId": "7989b6e1-44dd-4f02-9cd8-b2f220bc2f92"
      },
      "execution_count": 67,
      "outputs": [
        {
          "output_type": "execute_result",
          "data": {
            "text/plain": [
              "[553.0, 559.0, 363.0, 364.0, 488.0]"
            ]
          },
          "metadata": {},
          "execution_count": 67
        }
      ]
    },
    {
      "cell_type": "code",
      "execution_count": 68,
      "metadata": {
        "collapsed": true,
        "id": "siyVH-nOZFqd"
      },
      "outputs": [],
      "source": [
        "# get image directories\n",
        "img_dir = []\n",
        "\n",
        "for image in image_ID:\n",
        "  folder_path = root + image\n",
        "  img_dir.append(folder_path)"
      ]
    },
    {
      "cell_type": "markdown",
      "metadata": {
        "id": "eNh2-TZG_wZE"
      },
      "source": [
        "4) Create general dataset"
      ]
    },
    {
      "cell_type": "code",
      "execution_count": 69,
      "metadata": {
        "id": "nGpw5M4scHaP"
      },
      "outputs": [],
      "source": [
        "data =  {'angle' : angles,\n",
        "         'angle_720' : angles_720,\n",
        "         'image' : image_ID,\n",
        "         'img_dir' : img_dir}\n",
        "# df\n",
        "df_data = pd.DataFrame(data)\n",
        "df_data = df_data.sort_values('angle')"
      ]
    },
    {
      "cell_type": "code",
      "execution_count": 70,
      "metadata": {
        "id": "cq9a6mfW4qcr"
      },
      "outputs": [],
      "source": [
        "# Create dictionary data\n",
        "def CreateDictionary (dataframe):\n",
        "  data_dicts = []\n",
        "\n",
        "  for i in range(len(dataframe)):\n",
        "    angle = dataframe.iloc[i, 0]\n",
        "    angles_720 = dataframe.iloc[i, 1]\n",
        "    image = dataframe.iloc[i, 2]\n",
        "    img_dir = dataframe.iloc[i, 3]\n",
        "\n",
        "    individual_dic =  {'angle' : angle,\n",
        "                       'angle_720' : angles_720,\n",
        "                       'image' : image,\n",
        "                       'img_dir' : img_dir}\n",
        "\n",
        "    data_dicts.append(individual_dic)\n",
        "  return data_dicts"
      ]
    },
    {
      "cell_type": "code",
      "execution_count": 71,
      "metadata": {
        "colab": {
          "base_uri": "https://localhost:8080/"
        },
        "collapsed": true,
        "id": "WV8uGC2e5IPf",
        "outputId": "30b7c869-8658-4215-833e-e1078791c455"
      },
      "outputs": [
        {
          "output_type": "execute_result",
          "data": {
            "text/plain": [
              "{'angle': 0,\n",
              " 'angle_720': 360.0,\n",
              " 'image': '0.jpg',\n",
              " 'img_dir': 'my_data/Stimuli_Set1/0.jpg'}"
            ]
          },
          "metadata": {},
          "execution_count": 71
        }
      ],
      "source": [
        "data_dict = CreateDictionary(df_data)\n",
        "data_dict[0]"
      ]
    },
    {
      "cell_type": "markdown",
      "metadata": {
        "id": "gEFM4e9kwK5H"
      },
      "source": [
        "Download positions for nn"
      ]
    },
    {
      "cell_type": "code",
      "execution_count": 15,
      "metadata": {
        "colab": {
          "base_uri": "https://localhost:8080/"
        },
        "collapsed": true,
        "id": "za0n_4hpwNAP",
        "outputId": "6b843039-d1c6-4e4c-dba2-26a6f7cbc490"
      },
      "outputs": [
        {
          "output_type": "execute_result",
          "data": {
            "text/plain": [
              "[[23, 25, 21, 19],\n",
              " [26, 26, 18, 18],\n",
              " [31, 7, 13, 37],\n",
              " [27, 5, 17, 39],\n",
              " [31, 10, 13, 34]]"
            ]
          },
          "metadata": {},
          "execution_count": 15
        }
      ],
      "source": [
        "# read positions.txt\n",
        "#read\n",
        "PATH = '/content/drive/MyDrive/Thesis/Neural_network/Human category learning task/documents/positions.txt'\n",
        "positions = np.loadtxt(PATH)\n",
        "positions = positions.tolist()\n",
        "positions = [[int(float(j)) for j in i] for i in positions]\n",
        "positions[:5]"
      ]
    },
    {
      "cell_type": "markdown",
      "metadata": {
        "id": "xZuywBPy_3f3"
      },
      "source": [
        "5) Define functions to create dataset for EACH REFERENCE SHAPE\n",
        "\n",
        "identical angle = same category\n",
        "\n",
        "other angle = different category"
      ]
    },
    {
      "cell_type": "markdown",
      "metadata": {
        "id": "FhOEMQaDABIw"
      },
      "source": [
        "8) Define class for CNN"
      ]
    },
    {
      "cell_type": "code",
      "source": [
        "import torch\n",
        "from torchvision import transforms\n",
        "from PIL import Image\n",
        "\n",
        "def morph_images(image1_path, image2_path, weight):\n",
        "    \"\"\"\n",
        "    Morphs two images with a given weight.\n",
        "\n",
        "    Args:\n",
        "        image1_path (str): Path to the first image.\n",
        "        image2_path (str): Path to the second image.\n",
        "        weight (float): The blending weight. 0.0 means only the first image, 1.0 means only the second image.\n",
        "\n",
        "    Returns:\n",
        "        PIL.Image: The morphed image.\n",
        "    \"\"\"\n",
        "    # Load the images\n",
        "    image1 = read_image(image1_path, ImageReadMode.RGB)\n",
        "    image2 = read_image(image2_path, ImageReadMode.RGB)\n",
        "\n",
        "    # Ensure the images are the same size\n",
        "    if image1.size() != image2.size():\n",
        "        raise ValueError(\"The two images must be of the same size.\")\n",
        "\n",
        "    # Blend the images\n",
        "    morphed_tensor = (1 - weight) * image1 + weight * image2\n",
        "\n",
        "    return morphed_tensor"
      ],
      "metadata": {
        "id": "37WdN2N7unAS"
      },
      "execution_count": 98,
      "outputs": []
    },
    {
      "cell_type": "code",
      "execution_count": 99,
      "metadata": {
        "id": "ABa-eDL3BeXa"
      },
      "outputs": [],
      "source": [
        "class ShapeImageDataset (Dataset):\n",
        "  # return two images, with 50% chance in same or different category and ground truth\n",
        "\n",
        "  # __init__\n",
        "  def __init__(self, length, reference_shape, test_shape, data_dict, positions, transform=None):\n",
        "    self.length = length\n",
        "    self.reference_shape = reference_shape\n",
        "    self.test_shape = test_shape\n",
        "    self.data = data_dict\n",
        "    self.transform = transform\n",
        "    self.positions = positions\n",
        "    self.left_right = [0,1]\n",
        "\n",
        "  # __len__\n",
        "  def __len__(self):\n",
        "    return self.length\n",
        "\n",
        "  # function to read images\n",
        "  def read_image_from_directory(self, img_dir):\n",
        "    return read_image(img_dir, ImageReadMode.RGB)\n",
        "\n",
        "  # function to be able to take half degree\n",
        "  def half_dregree(self, test_shape_angle):\n",
        "    return round(test_shape_angle * 2) / 2\n",
        "\n",
        "  # funtion to deal with half degrees\n",
        "  def to_aveage_images(self, test_shape_angle):\n",
        "    # get int images surrounding (e.g. 1 and 2 for 1.5)\n",
        "    upper_img_angle = test_shape_angle + 0.5\n",
        "    lower_img_angle = test_shape_angle - 0.5\n",
        "    # upper\n",
        "    upper_test_shape_image = self.data[int(upper_img_angle)]\n",
        "    upper_test_shape_dir = upper_test_shape_image['img_dir']\n",
        "    # lower\n",
        "    lower_test_shape_image = self.data[int(lower_img_angle)]\n",
        "    lower_test_shape_dir = lower_test_shape_image['img_dir']\n",
        "\n",
        "    return upper_test_shape_dir, lower_test_shape_dir\n",
        "\n",
        "  # __getitem__\n",
        "  def __getitem__(self, idx):\n",
        "\n",
        "    # img1 should be reference shape\n",
        "    ref_shape_image = self.data[self.reference_shape]\n",
        "    ref_shape_angle = ref_shape_image['angle_720']\n",
        "    ref_shape_dir = ref_shape_image['img_dir']\n",
        "\n",
        "    # img2 should be test shape: from all angles\n",
        "    if self.test_shape > 361:\n",
        "      test_shape_angle720 = self.test_shape - 360\n",
        "    else:\n",
        "      test_shape_angle720 = self.test_shape\n",
        "\n",
        "    if test_shape_angle720 % 0.5 != 0:\n",
        "      test_shape_angle = self.half_dregree(test_shape_angle720)\n",
        "      [image1_path, image2_path] = self.to_aveage_images(test_shape_angle)\n",
        "      test_image = morph_images(image1_path, image2_path, 0.5)\n",
        "      # read images\n",
        "      img1 = self.read_image_from_directory(ref_shape_dir)\n",
        "      img2 = test_image\n",
        "    else:\n",
        "      test_shape_image = self.data[round(test_shape_angle720)]\n",
        "      test_shape_angle = test_shape_image['angle_720']\n",
        "      test_shape_dir = test_shape_image['img_dir']\n",
        "      # read images\n",
        "      img1 = self.read_image_from_directory(ref_shape_dir)\n",
        "      img2 = self.read_image_from_directory(test_shape_dir)\n",
        "\n",
        "    # gt\n",
        "    if ref_shape_angle == test_shape_angle:\n",
        "      gt = 1\n",
        "    elif ref_shape_angle == (test_shape_angle-360): # correct for 360 and 0 same angles\n",
        "      gt = 1\n",
        "    elif ref_shape_angle == (test_shape_angle-720): # correct for 360 and 720 same angles\n",
        "      gt = 1\n",
        "    else:\n",
        "      gt = 0\n",
        "\n",
        "    # apply transformations per image pair\n",
        "    # resize to 180x180\n",
        "    resize = v2.Resize([180,180])\n",
        "    img1 = resize(img1)\n",
        "    img2 = resize(img2)\n",
        "    # apply padding\n",
        "    img1_selected_position = choice(self.positions)\n",
        "    img2_selected_position = choice(self.positions)\n",
        "    padding_img1 = Pad(padding = img1_selected_position, fill=128)\n",
        "    padding_img2 = Pad(padding = img2_selected_position, fill=128)\n",
        "    img1 = padding_img1(img1)\n",
        "    img2 = padding_img2(img2)\n",
        "\n",
        "    # apply more transformations\n",
        "    if self.transform:\n",
        "      img1 = self.transform(img1)\n",
        "      img2 = self.transform(img2)\n",
        "\n",
        "    # left and right positions change randomly\n",
        "    # return tensors for image 1 and image 2 and a ground truth\n",
        "    if choice(self.left_right) == 1:\n",
        "      img_left = img1\n",
        "      img_right = img2\n",
        "    else:\n",
        "      img_left = img2\n",
        "      img_right = img1\n",
        "\n",
        "    return img_left, img_right, gt"
      ]
    },
    {
      "cell_type": "markdown",
      "metadata": {
        "id": "M8Ma85FibAHp"
      },
      "source": [
        "9) Create datasets of images"
      ]
    },
    {
      "cell_type": "code",
      "execution_count": 215,
      "metadata": {
        "id": "__RpP8WTbBq1"
      },
      "outputs": [],
      "source": [
        "# tranformations to images for NN\n",
        "preprocess = v2.Compose(\n",
        "    [   v2.ToDtype(torch.float32, scale=True),\n",
        "        #v2.Normalize(mean=[0.485, 0.456, 0.406], std=[0.229, 0.224, 0.225]),\n",
        "        v2.ColorJitter(brightness=(0.5,1), contrast=(0.3,0.8), saturation = (0,2), hue=0),\n",
        "    ]\n",
        ")"
      ]
    },
    {
      "cell_type": "code",
      "execution_count": 216,
      "metadata": {
        "id": "TWI3S8JzO43n"
      },
      "outputs": [],
      "source": [
        "#create dataset dfor RSA\n",
        "#parameters: length, reference_shape, test_shape, data_dict, positions, transform=None)\n",
        "len_dataset = 1000\n",
        "test_shape = 0.2\n",
        "dataset_RSA = ShapeImageDataset(len_dataset, reference_shapeA, test_shape, data_dict, positions, preprocess)"
      ]
    },
    {
      "cell_type": "code",
      "source": [
        "dataset_RSA[0]"
      ],
      "metadata": {
        "colab": {
          "base_uri": "https://localhost:8080/"
        },
        "collapsed": true,
        "id": "5YAzcAQeyJKz",
        "outputId": "f62a4119-44e8-4b7f-b9c0-4dc3f18c30c9"
      },
      "execution_count": 107,
      "outputs": [
        {
          "output_type": "execute_result",
          "data": {
            "text/plain": [
              "(tensor([[[0.2724, 0.2724, 0.2724,  ..., 0.2724, 0.2724, 0.2724],\n",
              "          [0.2724, 0.2724, 0.2724,  ..., 0.2724, 0.2724, 0.2724],\n",
              "          [0.2724, 0.2724, 0.2724,  ..., 0.2724, 0.2724, 0.2724],\n",
              "          ...,\n",
              "          [0.2724, 0.2724, 0.2724,  ..., 0.2724, 0.2724, 0.2724],\n",
              "          [0.2724, 0.2724, 0.2724,  ..., 0.2724, 0.2724, 0.2724],\n",
              "          [0.2724, 0.2724, 0.2724,  ..., 0.2724, 0.2724, 0.2724]],\n",
              " \n",
              "         [[0.2724, 0.2724, 0.2724,  ..., 0.2724, 0.2724, 0.2724],\n",
              "          [0.2724, 0.2724, 0.2724,  ..., 0.2724, 0.2724, 0.2724],\n",
              "          [0.2724, 0.2724, 0.2724,  ..., 0.2724, 0.2724, 0.2724],\n",
              "          ...,\n",
              "          [0.2724, 0.2724, 0.2724,  ..., 0.2724, 0.2724, 0.2724],\n",
              "          [0.2724, 0.2724, 0.2724,  ..., 0.2724, 0.2724, 0.2724],\n",
              "          [0.2724, 0.2724, 0.2724,  ..., 0.2724, 0.2724, 0.2724]],\n",
              " \n",
              "         [[0.2724, 0.2724, 0.2724,  ..., 0.2724, 0.2724, 0.2724],\n",
              "          [0.2724, 0.2724, 0.2724,  ..., 0.2724, 0.2724, 0.2724],\n",
              "          [0.2724, 0.2724, 0.2724,  ..., 0.2724, 0.2724, 0.2724],\n",
              "          ...,\n",
              "          [0.2724, 0.2724, 0.2724,  ..., 0.2724, 0.2724, 0.2724],\n",
              "          [0.2724, 0.2724, 0.2724,  ..., 0.2724, 0.2724, 0.2724],\n",
              "          [0.2724, 0.2724, 0.2724,  ..., 0.2724, 0.2724, 0.2724]]]),\n",
              " tensor([[[0.2840, 0.2840, 0.2840,  ..., 0.2840, 0.2840, 0.2840],\n",
              "          [0.2840, 0.2840, 0.2840,  ..., 0.2840, 0.2840, 0.2840],\n",
              "          [0.2840, 0.2840, 0.2840,  ..., 0.2840, 0.2840, 0.2840],\n",
              "          ...,\n",
              "          [0.2840, 0.2840, 0.2840,  ..., 0.2840, 0.2840, 0.2840],\n",
              "          [0.2840, 0.2840, 0.2840,  ..., 0.2840, 0.2840, 0.2840],\n",
              "          [0.2840, 0.2840, 0.2840,  ..., 0.2840, 0.2840, 0.2840]],\n",
              " \n",
              "         [[0.2840, 0.2840, 0.2840,  ..., 0.2840, 0.2840, 0.2840],\n",
              "          [0.2840, 0.2840, 0.2840,  ..., 0.2840, 0.2840, 0.2840],\n",
              "          [0.2840, 0.2840, 0.2840,  ..., 0.2840, 0.2840, 0.2840],\n",
              "          ...,\n",
              "          [0.2840, 0.2840, 0.2840,  ..., 0.2840, 0.2840, 0.2840],\n",
              "          [0.2840, 0.2840, 0.2840,  ..., 0.2840, 0.2840, 0.2840],\n",
              "          [0.2840, 0.2840, 0.2840,  ..., 0.2840, 0.2840, 0.2840]],\n",
              " \n",
              "         [[0.2840, 0.2840, 0.2840,  ..., 0.2840, 0.2840, 0.2840],\n",
              "          [0.2840, 0.2840, 0.2840,  ..., 0.2840, 0.2840, 0.2840],\n",
              "          [0.2840, 0.2840, 0.2840,  ..., 0.2840, 0.2840, 0.2840],\n",
              "          ...,\n",
              "          [0.2840, 0.2840, 0.2840,  ..., 0.2840, 0.2840, 0.2840],\n",
              "          [0.2840, 0.2840, 0.2840,  ..., 0.2840, 0.2840, 0.2840],\n",
              "          [0.2840, 0.2840, 0.2840,  ..., 0.2840, 0.2840, 0.2840]]]),\n",
              " 0)"
            ]
          },
          "metadata": {},
          "execution_count": 107
        }
      ]
    },
    {
      "cell_type": "markdown",
      "metadata": {
        "id": "Txap5WFUded-"
      },
      "source": [
        "**Plotting Dataset**"
      ]
    },
    {
      "cell_type": "code",
      "source": [
        "def tensor_to_pil(image_tensor):\n",
        "    return transform.to_pil_image(image_tensor)"
      ],
      "metadata": {
        "id": "DDYKIc0Xeqi3"
      },
      "execution_count": 131,
      "outputs": []
    },
    {
      "cell_type": "code",
      "source": [
        "# Example usage to display 5 pairs of images\n",
        "fig, axs = plt.subplots(4, 2, figsize=(2, 5))\n",
        "\n",
        "for i in range(4):\n",
        "    idx = np.random.randint(0, len(dataset_RSA) - 1)\n",
        "    img1, img2, gt = dataset_RSA[idx]  # Get image pair and ground truth\n",
        "    img1_pil = tensor_to_pil(img1)\n",
        "    img2_pil = tensor_to_pil(img2)\n",
        "\n",
        "    axs[i, 0].imshow(img1_pil)\n",
        "    axs[i, 0].set_title('Image 1')\n",
        "    axs[i, 0].axis('off')\n",
        "\n",
        "    axs[i, 1].imshow(img2_pil)\n",
        "    axs[i, 1].set_title(f'Image 2 - GT: {gt}')\n",
        "    axs[i, 1].axis('off')\n",
        "\n",
        "plt.tight_layout()\n",
        "#plt.savefig(dic_baseline + 'image_pairs6.pdf')\n",
        "plt.show()"
      ],
      "metadata": {
        "colab": {
          "base_uri": "https://localhost:8080/",
          "height": 495
        },
        "collapsed": true,
        "id": "KjZqdXmoenld",
        "outputId": "2fdcbc00-d794-427a-cb69-1c254119e6aa"
      },
      "execution_count": 220,
      "outputs": [
        {
          "output_type": "display_data",
          "data": {
            "text/plain": [
              "<Figure size 200x500 with 8 Axes>"
            ],
            "image/png": "[encoded data removed]"
          },
          "metadata": {}
        }
      ]
    },
    {
      "cell_type": "markdown",
      "metadata": {
        "id": "gYvDAVCDnlNX"
      },
      "source": [
        "**Neural network**"
      ]
    },
    {
      "cell_type": "markdown",
      "metadata": {
        "id": "v2mXucf_vJj2"
      },
      "source": [
        "Get pre-trained weights"
      ]
    },
    {
      "cell_type": "code",
      "source": [
        "layer = 'block3'"
      ],
      "metadata": {
        "id": "5yZujJathVCk"
      },
      "execution_count": 29,
      "outputs": []
    },
    {
      "cell_type": "code",
      "execution_count": 28,
      "metadata": {
        "collapsed": true,
        "id": "GfjEK2_HuzzM"
      },
      "outputs": [],
      "source": [
        "#load pretrained weights\n",
        "transfer_learning_model = 'weights_224_PositionColorJitter.pt'\n",
        "\n",
        "PATH = dic_pretraining + transfer_learning_model\n",
        "pretrained_weights = torch.load(PATH)"
      ]
    },
    {
      "cell_type": "code",
      "execution_count": 30,
      "metadata": {
        "colab": {
          "base_uri": "https://localhost:8080/"
        },
        "collapsed": true,
        "id": "VFOsxkOYnuFI",
        "outputId": "6dfa4298-9c69-4965-d1ea-24ccefd703e2"
      },
      "outputs": [
        {
          "output_type": "stream",
          "name": "stderr",
          "text": [
            "Downloading: \"https://download.pytorch.org/models/resnet50-11ad3fa6.pth\" to /root/.cache/torch/hub/checkpoints/resnet50-11ad3fa6.pth\n",
            "100%|██████████| 97.8M/97.8M [00:00<00:00, 157MB/s]\n"
          ]
        }
      ],
      "source": [
        "#network\n",
        "architecture = 'resnet50'        # network's architecture\n",
        "weights = 'resnet50'             # the pretrained weights\n",
        "img_size = 224                   # network's input size\n",
        "layer = layer                    # the readout layer\n",
        "pooling = None\n",
        "readout_kwargs = {               # parameters for extracting features from the pretrained network\n",
        "    'architecture': architecture,\n",
        "    'weights': weights,\n",
        "    'layers': layer,\n",
        "    'img_size': img_size,\n",
        "    'pooling': pooling\n",
        "}\n",
        "pretrained_model = osculari.models.paradigm_2afc_merge_concatenate(**readout_kwargs)"
      ]
    },
    {
      "cell_type": "code",
      "execution_count": 31,
      "metadata": {
        "colab": {
          "base_uri": "https://localhost:8080/"
        },
        "id": "YPsnwqWhvE5H",
        "outputId": "8f3629a8-1a58-4ce6-a206-4d7783bad769"
      },
      "outputs": [
        {
          "output_type": "execute_result",
          "data": {
            "text/plain": [
              "<All keys matched successfully>"
            ]
          },
          "metadata": {},
          "execution_count": 31
        }
      ],
      "source": [
        "pretrained_model.load_state_dict(pretrained_weights)"
      ]
    },
    {
      "cell_type": "markdown",
      "metadata": {
        "id": "XTXicMC4uyeB"
      },
      "source": [
        "Staircase"
      ]
    },
    {
      "cell_type": "code",
      "execution_count": 32,
      "metadata": {
        "id": "4WHuWUUVFLsj"
      },
      "outputs": [],
      "source": [
        "# test function\n",
        "\"\"\"\n",
        "            test_fun: Function for evaluating the model. This function must accept three\n",
        "             positional arguments (i.e., model, db_loader, device). The output of this function\n",
        "             should be a dictionary containing the key `accuracy`.\n",
        "\"\"\"\n",
        "test_epoch_fun = osculari.paradigms.forced_choice.test_dataset"
      ]
    },
    {
      "cell_type": "code",
      "execution_count": 33,
      "metadata": {
        "id": "txaXiHPBFM5Z"
      },
      "outputs": [],
      "source": [
        "# dataset function\n",
        "\"\"\"\n",
        "            dataset_fun: Function for creating the dataset and dataloader. This function must\n",
        "             accept one argument (mid_val, i.e., the current value to be tested). This funtion must\n",
        "             return a tuple of three elements (i.e., dataset, batch_size, threshold).\n",
        "\"\"\"\n",
        "#parameters: length, reference_shape, test_shape, data_dict, positions, transform=None)\n",
        "def dataset_fun (len_dataset, reference_shape, test_shape, data_dict, positions, preprocess):\n",
        "    test_dataset = ShapeImageDataset(len_dataset, test_shape, reference_shape, data_dict, positions, preprocess)\n",
        "    return test_dataset, 64, 0.749"
      ]
    },
    {
      "cell_type": "markdown",
      "metadata": {
        "id": "j3d8qUSeIKUg"
      },
      "source": [
        "Staircase function"
      ]
    },
    {
      "cell_type": "code",
      "source": [
        "# run staircases TEST!!!\n",
        "len_dataset = 2000\n",
        "db_fun = lambda test_shape: dataset_fun(len_dataset, test_shape, reference_shapeA, data_dict, positions, preprocess)\n",
        "test_log_right = osculari.paradigms.staircase(pretrained_model, test_epoch_fun, db_fun, low_val=0, high_val=180, max_attempts = 10)\n",
        "#test_log_left = osculari.paradigms.staircase(pretrained_model, test_epoch_fun, db_fun, low_val=360, high_val=180, max_attempts = 10)"
      ],
      "metadata": {
        "id": "GhcDeayRhmDK"
      },
      "execution_count": 46,
      "outputs": []
    },
    {
      "cell_type": "code",
      "source": [
        "rounded_array = np.round(test_log_right, decimals=2)\n",
        "\n",
        "formatted_array = np.array([[f\"{num:.2f}\" for num in row] for row in rounded_array])\n",
        "\n",
        "# Print the formatted array\n",
        "for row in formatted_array:\n",
        "    print(row)"
      ],
      "metadata": {
        "colab": {
          "base_uri": "https://localhost:8080/"
        },
        "id": "W2Vm8zbgn3VC",
        "outputId": "2f3c954f-3460-426e-dcfb-150d6972ff55"
      },
      "execution_count": 81,
      "outputs": [
        {
          "output_type": "stream",
          "name": "stdout",
          "text": [
            "['90.00' '0.93']\n",
            "['45.00' '0.94']\n",
            "['22.50' '0.94']\n",
            "['11.25' '0.95']\n",
            "['5.62' '0.96']\n",
            "['2.81' '0.95']\n",
            "['1.41' '0.95']\n",
            "['0.70' '0.05']\n",
            "['1.05' '0.96']\n",
            "['0.88' '0.05']\n"
          ]
        }
      ]
    },
    {
      "cell_type": "code",
      "source": [
        "test_log_left"
      ],
      "metadata": {
        "colab": {
          "base_uri": "https://localhost:8080/"
        },
        "id": "UVWNZ4_2ldFx",
        "outputId": "2b9acf2d-e511-4ac4-9f4d-69dba45d2963"
      },
      "execution_count": 45,
      "outputs": [
        {
          "output_type": "execute_result",
          "data": {
            "text/plain": [
              "array([[270.        ,   0.949     ],\n",
              "       [315.        ,   0.971     ],\n",
              "       [337.5       ,   0.965     ],\n",
              "       [348.75      ,   0.958     ],\n",
              "       [354.375     ,   0.959     ],\n",
              "       [357.1875    ,   0.969     ],\n",
              "       [358.59375   ,   0.952     ],\n",
              "       [359.296875  ,   0.95      ],\n",
              "       [359.6484375 ,   0.954     ],\n",
              "       [359.82421875,   0.943     ]])"
            ]
          },
          "metadata": {},
          "execution_count": 45
        }
      ]
    },
    {
      "cell_type": "code",
      "execution_count": 34,
      "metadata": {
        "id": "82mqnnhG06m-"
      },
      "outputs": [],
      "source": [
        "# Code to loop over reference shapes\n",
        "len_dataset = 1000\n",
        "reference_shapes_list = [reference_shapeA, reference_shapeB, reference_shapeC, reference_shapeD]\n",
        "\n",
        "#min and max values\n",
        "def min_max(reference_shape):\n",
        "  min_1 = reference_shape\n",
        "  max_1 = reference_shape + 180\n",
        "  min_2 = reference_shape + 360\n",
        "  max_2 = max_1\n",
        "  return [min_1,max_1,min_2,max_2]\n",
        "\n",
        "min_max_RSA = min_max(reference_shapeA)\n",
        "min_max_RSB = min_max(reference_shapeB)\n",
        "min_max_RSC = min_max(reference_shapeC)\n",
        "min_max_RSD = min_max(reference_shapeD)"
      ]
    },
    {
      "cell_type": "code",
      "execution_count": null,
      "metadata": {
        "id": "clw4s7fMuSwg",
        "collapsed": true
      },
      "outputs": [],
      "source": [
        "# Staircases (19m T4 GPU)\n",
        "test_log_RSA_l = []\n",
        "test_log_RSA_r = []\n",
        "test_log_RSB_l = []\n",
        "test_log_RSB_r = []\n",
        "test_log_RSC_l = []\n",
        "test_log_RSC_r = []\n",
        "test_log_RSD_l = []\n",
        "test_log_RSD_r = []\n",
        "\n",
        "for reference_shape in reference_shapes_list:\n",
        "  # set min and max values according to reference shape\n",
        "  if reference_shape == reference_shapeA:\n",
        "    [min_1,max_1,min_2,max_2] = min_max_RSA\n",
        "  elif reference_shape == reference_shapeB:\n",
        "    [min_1,max_1,min_2,max_2] = min_max_RSB\n",
        "  elif reference_shape == reference_shapeC:\n",
        "    [min_1,max_1,min_2,max_2] = min_max_RSC\n",
        "  else:\n",
        "    [min_1,max_1,min_2,max_2] = min_max_RSD\n",
        "\n",
        "  # run staircases\n",
        "  db_fun = lambda test_shape: dataset_fun(len_dataset, test_shape, reference_shape, data_dict, positions, preprocess)\n",
        "  test_log_right = osculari.paradigms.staircase(pretrained_model, test_epoch_fun, db_fun, low_val=min_1, high_val=max_1, max_attempts = 10)\n",
        "  test_log_left = osculari.paradigms.staircase(pretrained_model, test_epoch_fun, db_fun, low_val=min_2, high_val=max_2, max_attempts = 10)\n",
        "\n",
        "  # append left and right catgegory boundaries\n",
        "  if reference_shape == reference_shapeA:\n",
        "    test_log_RSA_r.append(test_log_right)\n",
        "    test_log_RSA_l.append(test_log_left)\n",
        "  elif reference_shape == reference_shapeB:\n",
        "    test_log_RSB_r.append(test_log_right)\n",
        "    test_log_RSB_l.append(test_log_left)\n",
        "  elif reference_shape == reference_shapeC:\n",
        "    test_log_RSC_r.append(test_log_right)\n",
        "    test_log_RSC_l.append(test_log_left)\n",
        "  else:\n",
        "    test_log_RSD_r.append(test_log_right)\n",
        "    test_log_RSD_l.append(test_log_left)\n"
      ]
    },
    {
      "cell_type": "code",
      "source": [
        "PATH = '/content/drive/MyDrive/Thesis/Neural_network/results_staircases/Baseline_224x224/'\n",
        "\n",
        "def save_as_csv(result, name_string):\n",
        "  transform_toarray = np.asarray(result)\n",
        "  formating = transform_toarray[0]\n",
        "  df = pd.DataFrame(formating)\n",
        "  path = PATH + name_string + \".csv\"\n",
        "  df.to_csv(path, header=False, index=False)"
      ],
      "metadata": {
        "id": "y_ZoHmk5FOEb"
      },
      "execution_count": null,
      "outputs": []
    },
    {
      "cell_type": "code",
      "source": [
        "save_as_csv(test_log_RSA_r, \"test_log_RSA_r\")\n",
        "save_as_csv(test_log_RSA_l, \"test_log_RSA_l\")\n",
        "save_as_csv(test_log_RSB_r, \"test_log_RSB_r\")\n",
        "save_as_csv(test_log_RSB_l, \"test_log_RSB_l\")\n",
        "save_as_csv(test_log_RSC_r, \"test_log_RSC_r\")\n",
        "save_as_csv(test_log_RSC_l, \"test_log_RSC_l\")\n",
        "save_as_csv(test_log_RSD_r, \"test_log_RSD_r\")\n",
        "save_as_csv(test_log_RSD_l, \"test_log_RSD_l\")"
      ],
      "metadata": {
        "id": "YpfmNsi8Il9V"
      },
      "execution_count": null,
      "outputs": []
    },
    {
      "cell_type": "code",
      "source": [
        "test_log_RSB_l"
      ],
      "metadata": {
        "colab": {
          "base_uri": "https://localhost:8080/"
        },
        "id": "RD-nrXHAchGm",
        "outputId": "127d3a5f-86ce-4531-f9ba-d7b396f0a649"
      },
      "execution_count": null,
      "outputs": [
        {
          "output_type": "execute_result",
          "data": {
            "text/plain": [
              "[array([[580.        ,   1.        ],\n",
              "        [625.        ,   1.        ],\n",
              "        [647.5       ,   1.        ],\n",
              "        [658.75      ,   1.        ],\n",
              "        [664.375     ,   1.        ],\n",
              "        [667.1875    ,   1.        ],\n",
              "        [668.59375   ,   1.        ],\n",
              "        [669.296875  ,   1.        ],\n",
              "        [669.6484375 ,   0.        ],\n",
              "        [669.47265625,   1.        ]])]"
            ]
          },
          "metadata": {},
          "execution_count": 41
        }
      ]
    },
    {
      "cell_type": "code",
      "source": [
        "def formating_to_plot (result):\n",
        "  transform_toarray = np.asarray(result)\n",
        "  formated = transform_toarray[0]\n",
        "  return formated"
      ],
      "metadata": {
        "id": "rAQmcFb4L8qP"
      },
      "execution_count": null,
      "outputs": []
    },
    {
      "cell_type": "code",
      "source": [
        "i = 0\n",
        "\n",
        "test_log = formating_to_plot(test_log_RSD_l)\n",
        "\n",
        "for pair in test_log:\n",
        "  if pair[0] > 361:\n",
        "    angle_360 = pair[0] - 360\n",
        "    test_log[i,0] = angle_360\n",
        "  else:\n",
        "    pass\n",
        "\n",
        "fig = plt.figure(figsize=(6, 5))\n",
        "ax = fig.add_subplot(1, 1, 1,)\n",
        "sensitivity = test_log[:,1]\n",
        "sensitivity /= sensitivity.max()\n",
        "ax.plot(test_log[:,0], sensitivity, '-s', markersize=10, linewidth=3)\n",
        "ax.set_xlabel('Angle', fontsize=20)\n",
        "ax.set_ylabel('Sensitivity', fontsize=20)\n",
        "plt.show()"
      ],
      "metadata": {
        "colab": {
          "base_uri": "https://localhost:8080/",
          "height": 479
        },
        "id": "6tDN7wFxLyYq",
        "outputId": "69f0e951-cdc0-4b1f-bdda-88993becc2cd",
        "collapsed": true
      },
      "execution_count": null,
      "outputs": [
        {
          "output_type": "display_data",
          "data": {
            "text/plain": [
              "<Figure size 600x500 with 1 Axes>"
            ],
            "image/png": "[encoded data removed]"
          },
          "metadata": {}
        }
      ]
    }
  ],
  "metadata": {
    "colab": {
      "machine_shape": "hm",
      "provenance": [],
      "authorship_tag": "ABX9TyPNWM2OFpZeQOtFanqEK+bo",
      "include_colab_link": true
    },
    "kernelspec": {
      "display_name": "Python 3",
      "name": "python3"
    },
    "language_info": {
      "name": "python"
    }
  },
  "nbformat": 4,
  "nbformat_minor": 0
}