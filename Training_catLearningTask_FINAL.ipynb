{
  "nbformat": 4,
  "nbformat_minor": 0,
  "metadata": {
    "colab": {
      "provenance": [],
      "machine_shape": "hm",
      "gpuType": "T4",
      "authorship_tag": "ABX9TyMQOMKdNWtA9/RAty3NDbGY",
      "include_colab_link": true
    },
    "kernelspec": {
      "name": "python3",
      "display_name": "Python 3"
    },
    "language_info": {
      "name": "python"
    },
    "accelerator": "GPU"
  },
  "cells": [
    {
      "cell_type": "markdown",
      "metadata": {
        "id": "view-in-github",
        "colab_type": "text"
      },
      "source": [
        "<a href=\"https://colab.research.google.com/github/AnaBelenCarbajal/Thesis/blob/main/Training_catLearningTask_FINAL.ipynb\" target=\"_parent\"><img src=\"https://colab.research.google.com/assets/colab-badge.svg\" alt=\"Open In Colab\"/></a>"
      ]
    },
    {
      "cell_type": "markdown",
      "source": [
        "**Dataset novel shapes - Trainig**"
      ],
      "metadata": {
        "id": "jOvSRnBv_J8o"
      }
    },
    {
      "cell_type": "markdown",
      "source": [
        "1) Installing packages"
      ],
      "metadata": {
        "id": "F4pGeBM5_QOW"
      }
    },
    {
      "cell_type": "code",
      "source": [
        "from google.colab import drive\n",
        "drive.mount('/content/drive')"
      ],
      "metadata": {
        "id": "wWjv0aCROzig",
        "colab": {
          "base_uri": "https://localhost:8080/"
        },
        "outputId": "bbf9dec5-9534-4229-9379-409271dad1e8"
      },
      "execution_count": 1,
      "outputs": [
        {
          "output_type": "stream",
          "name": "stdout",
          "text": [
            "Mounted at /content/drive\n"
          ]
        }
      ]
    },
    {
      "cell_type": "code",
      "source": [
        "!pip install osculari"
      ],
      "metadata": {
        "id": "lFBJCs2OO1BV",
        "colab": {
          "base_uri": "https://localhost:8080/"
        },
        "outputId": "98195db0-2d24-41b5-9093-f6821736c24a",
        "collapsed": true
      },
      "execution_count": 2,
      "outputs": [
        {
          "output_type": "stream",
          "name": "stdout",
          "text": [
            "Collecting osculari\n",
            "  Downloading osculari-0.0.4-py3-none-any.whl (34 kB)\n",
            "Requirement already satisfied: numpy in /usr/local/lib/python3.10/dist-packages (from osculari) (1.25.2)\n",
            "Requirement already satisfied: torch in /usr/local/lib/python3.10/dist-packages (from osculari) (2.3.0+cu121)\n",
            "Requirement already satisfied: torchvision in /usr/local/lib/python3.10/dist-packages (from osculari) (0.18.0+cu121)\n",
            "Collecting clip-openai (from osculari)\n",
            "  Downloading clip_openai-1.0.post20230121-py3-none-any.whl (1.4 MB)\n",
            "\u001b[2K     \u001b[90m━━━━━━━━━━━━━━━━━━━━━━━━━━━━━━━━━━━━━━━━\u001b[0m \u001b[32m1.4/1.4 MB\u001b[0m \u001b[31m7.6 MB/s\u001b[0m eta \u001b[36m0:00:00\u001b[0m\n",
            "\u001b[?25hCollecting visualpriors (from osculari)\n",
            "  Downloading visualpriors-0.3.5.tar.gz (10 kB)\n",
            "  Preparing metadata (setup.py) ... \u001b[?25l\u001b[?25hdone\n",
            "Requirement already satisfied: opencv-python in /usr/local/lib/python3.10/dist-packages (from osculari) (4.8.0.76)\n",
            "Collecting ftfy (from clip-openai->osculari)\n",
            "  Downloading ftfy-6.2.0-py3-none-any.whl (54 kB)\n",
            "\u001b[2K     \u001b[90m━━━━━━━━━━━━━━━━━━━━━━━━━━━━━━━━━━━━━━━━\u001b[0m \u001b[32m54.4/54.4 kB\u001b[0m \u001b[31m7.6 MB/s\u001b[0m eta \u001b[36m0:00:00\u001b[0m\n",
            "\u001b[?25hRequirement already satisfied: regex in /usr/local/lib/python3.10/dist-packages (from clip-openai->osculari) (2024.5.15)\n",
            "Requirement already satisfied: tqdm in /usr/local/lib/python3.10/dist-packages (from clip-openai->osculari) (4.66.4)\n",
            "Requirement already satisfied: filelock in /usr/local/lib/python3.10/dist-packages (from torch->osculari) (3.14.0)\n",
            "Requirement already satisfied: typing-extensions>=4.8.0 in /usr/local/lib/python3.10/dist-packages (from torch->osculari) (4.12.2)\n",
            "Requirement already satisfied: sympy in /usr/local/lib/python3.10/dist-packages (from torch->osculari) (1.12.1)\n",
            "Requirement already satisfied: networkx in /usr/local/lib/python3.10/dist-packages (from torch->osculari) (3.3)\n",
            "Requirement already satisfied: jinja2 in /usr/local/lib/python3.10/dist-packages (from torch->osculari) (3.1.4)\n",
            "Requirement already satisfied: fsspec in /usr/local/lib/python3.10/dist-packages (from torch->osculari) (2023.6.0)\n",
            "Collecting nvidia-cuda-nvrtc-cu12==12.1.105 (from torch->osculari)\n",
            "  Using cached nvidia_cuda_nvrtc_cu12-12.1.105-py3-none-manylinux1_x86_64.whl (23.7 MB)\n",
            "Collecting nvidia-cuda-runtime-cu12==12.1.105 (from torch->osculari)\n",
            "  Using cached nvidia_cuda_runtime_cu12-12.1.105-py3-none-manylinux1_x86_64.whl (823 kB)\n",
            "Collecting nvidia-cuda-cupti-cu12==12.1.105 (from torch->osculari)\n",
            "  Using cached nvidia_cuda_cupti_cu12-12.1.105-py3-none-manylinux1_x86_64.whl (14.1 MB)\n",
            "Collecting nvidia-cudnn-cu12==8.9.2.26 (from torch->osculari)\n",
            "  Using cached nvidia_cudnn_cu12-8.9.2.26-py3-none-manylinux1_x86_64.whl (731.7 MB)\n",
            "Collecting nvidia-cublas-cu12==12.1.3.1 (from torch->osculari)\n",
            "  Using cached nvidia_cublas_cu12-12.1.3.1-py3-none-manylinux1_x86_64.whl (410.6 MB)\n",
            "Collecting nvidia-cufft-cu12==11.0.2.54 (from torch->osculari)\n",
            "  Using cached nvidia_cufft_cu12-11.0.2.54-py3-none-manylinux1_x86_64.whl (121.6 MB)\n",
            "Collecting nvidia-curand-cu12==10.3.2.106 (from torch->osculari)\n",
            "  Using cached nvidia_curand_cu12-10.3.2.106-py3-none-manylinux1_x86_64.whl (56.5 MB)\n",
            "Collecting nvidia-cusolver-cu12==11.4.5.107 (from torch->osculari)\n",
            "  Using cached nvidia_cusolver_cu12-11.4.5.107-py3-none-manylinux1_x86_64.whl (124.2 MB)\n",
            "Collecting nvidia-cusparse-cu12==12.1.0.106 (from torch->osculari)\n",
            "  Using cached nvidia_cusparse_cu12-12.1.0.106-py3-none-manylinux1_x86_64.whl (196.0 MB)\n",
            "Collecting nvidia-nccl-cu12==2.20.5 (from torch->osculari)\n",
            "  Using cached nvidia_nccl_cu12-2.20.5-py3-none-manylinux2014_x86_64.whl (176.2 MB)\n",
            "Collecting nvidia-nvtx-cu12==12.1.105 (from torch->osculari)\n",
            "  Using cached nvidia_nvtx_cu12-12.1.105-py3-none-manylinux1_x86_64.whl (99 kB)\n",
            "Requirement already satisfied: triton==2.3.0 in /usr/local/lib/python3.10/dist-packages (from torch->osculari) (2.3.0)\n",
            "Collecting nvidia-nvjitlink-cu12 (from nvidia-cusolver-cu12==11.4.5.107->torch->osculari)\n",
            "  Downloading nvidia_nvjitlink_cu12-12.5.40-py3-none-manylinux2014_x86_64.whl (21.3 MB)\n",
            "\u001b[2K     \u001b[90m━━━━━━━━━━━━━━━━━━━━━━━━━━━━━━━━━━━━━━━━\u001b[0m \u001b[32m21.3/21.3 MB\u001b[0m \u001b[31m45.2 MB/s\u001b[0m eta \u001b[36m0:00:00\u001b[0m\n",
            "\u001b[?25hRequirement already satisfied: pillow!=8.3.*,>=5.3.0 in /usr/local/lib/python3.10/dist-packages (from torchvision->osculari) (9.4.0)\n",
            "Requirement already satisfied: wcwidth<0.3.0,>=0.2.12 in /usr/local/lib/python3.10/dist-packages (from ftfy->clip-openai->osculari) (0.2.13)\n",
            "Requirement already satisfied: MarkupSafe>=2.0 in /usr/local/lib/python3.10/dist-packages (from jinja2->torch->osculari) (2.1.5)\n",
            "Requirement already satisfied: mpmath<1.4.0,>=1.1.0 in /usr/local/lib/python3.10/dist-packages (from sympy->torch->osculari) (1.3.0)\n",
            "Building wheels for collected packages: visualpriors\n",
            "  Building wheel for visualpriors (setup.py) ... \u001b[?25l\u001b[?25hdone\n",
            "  Created wheel for visualpriors: filename=visualpriors-0.3.5-py3-none-any.whl size=11368 sha256=4b6f6768a96371663e1ca7d0fcab868f19a163b91da9cd273714194ea6a8684b\n",
            "  Stored in directory: /root/.cache/pip/wheels/ce/18/2b/ac0e173977d8a72ea7155168fbaa891e5e8e4cafa01957cba3\n",
            "Successfully built visualpriors\n",
            "Installing collected packages: nvidia-nvtx-cu12, nvidia-nvjitlink-cu12, nvidia-nccl-cu12, nvidia-curand-cu12, nvidia-cufft-cu12, nvidia-cuda-runtime-cu12, nvidia-cuda-nvrtc-cu12, nvidia-cuda-cupti-cu12, nvidia-cublas-cu12, ftfy, nvidia-cusparse-cu12, nvidia-cudnn-cu12, nvidia-cusolver-cu12, visualpriors, clip-openai, osculari\n",
            "Successfully installed clip-openai-1.0.post20230121 ftfy-6.2.0 nvidia-cublas-cu12-12.1.3.1 nvidia-cuda-cupti-cu12-12.1.105 nvidia-cuda-nvrtc-cu12-12.1.105 nvidia-cuda-runtime-cu12-12.1.105 nvidia-cudnn-cu12-8.9.2.26 nvidia-cufft-cu12-11.0.2.54 nvidia-curand-cu12-10.3.2.106 nvidia-cusolver-cu12-11.4.5.107 nvidia-cusparse-cu12-12.1.0.106 nvidia-nccl-cu12-2.20.5 nvidia-nvjitlink-cu12-12.5.40 nvidia-nvtx-cu12-12.1.105 osculari-0.0.4 visualpriors-0.3.5\n"
          ]
        }
      ]
    },
    {
      "cell_type": "code",
      "source": [
        "#packages\n",
        "import osculari\n",
        "from osculari.paradigms.forced_choice import paradigm_utils\n",
        "import torch.nn as nn\n",
        "\n",
        "import os\n",
        "import pandas as pd\n",
        "import torch\n",
        "import numpy as np\n",
        "from matplotlib import pyplot as plt\n",
        "\n",
        "from random import choice\n",
        "import torchvision.transforms.functional as transform\n",
        "from torch.utils.data import Dataset\n",
        "from torchvision.io import read_image, ImageReadMode\n",
        "from torchvision.transforms import v2\n",
        "from torchvision.transforms import Pad\n",
        "from torch.utils.data import DataLoader\n",
        "\n",
        "from PIL import Image"
      ],
      "metadata": {
        "id": "nUzPiwVbMK49"
      },
      "execution_count": 3,
      "outputs": []
    },
    {
      "cell_type": "code",
      "execution_count": 4,
      "metadata": {
        "id": "q-RyspuOLGlX",
        "colab": {
          "base_uri": "https://localhost:8080/"
        },
        "collapsed": true,
        "outputId": "4cd0b6c4-fda0-43cb-e651-2c70adb58306"
      },
      "outputs": [
        {
          "output_type": "stream",
          "name": "stdout",
          "text": [
            "Archive:  /content/drive/MyDrive/Thesis/Neural_network/Human category learning task/documents/CategoryLearningStimuli.zip\n",
            "   creating: my_data/CategoryLearningStimuli/\n",
            "  inflating: my_data/__MACOSX/._CategoryLearningStimuli  \n",
            "  inflating: my_data/CategoryLearningStimuli/348.png  \n",
            "  inflating: my_data/__MACOSX/CategoryLearningStimuli/._348.png  \n",
            "  inflating: my_data/CategoryLearningStimuli/360.png  \n",
            "  inflating: my_data/__MACOSX/CategoryLearningStimuli/._360.png  \n",
            "  inflating: my_data/CategoryLearningStimuli/176.png  \n",
            "  inflating: my_data/__MACOSX/CategoryLearningStimuli/._176.png  \n",
            "  inflating: my_data/CategoryLearningStimuli/88.png  \n",
            "  inflating: my_data/__MACOSX/CategoryLearningStimuli/._88.png  \n",
            "  inflating: my_data/CategoryLearningStimuli/162.png  \n",
            "  inflating: my_data/__MACOSX/CategoryLearningStimuli/._162.png  \n",
            "  inflating: my_data/CategoryLearningStimuli/189.png  \n",
            "  inflating: my_data/__MACOSX/CategoryLearningStimuli/._189.png  \n",
            "  inflating: my_data/CategoryLearningStimuli/77.png  \n",
            "  inflating: my_data/__MACOSX/CategoryLearningStimuli/._77.png  \n",
            "  inflating: my_data/CategoryLearningStimuli/63.png  \n",
            "  inflating: my_data/__MACOSX/CategoryLearningStimuli/._63.png  \n",
            "  inflating: my_data/CategoryLearningStimuli/228.png  \n",
            "  inflating: my_data/__MACOSX/CategoryLearningStimuli/._228.png  \n",
            "  inflating: my_data/CategoryLearningStimuli/200.png  \n",
            "  inflating: my_data/__MACOSX/CategoryLearningStimuli/._200.png  \n",
            "  inflating: my_data/CategoryLearningStimuli/214.png  \n",
            "  inflating: my_data/__MACOSX/CategoryLearningStimuli/._214.png  \n",
            "  inflating: my_data/CategoryLearningStimuli/215.png  \n",
            "  inflating: my_data/__MACOSX/CategoryLearningStimuli/._215.png  \n",
            "  inflating: my_data/CategoryLearningStimuli/201.png  \n",
            "  inflating: my_data/__MACOSX/CategoryLearningStimuli/._201.png  \n",
            "  inflating: my_data/CategoryLearningStimuli/229.png  \n",
            "  inflating: my_data/__MACOSX/CategoryLearningStimuli/._229.png  \n",
            "  inflating: my_data/CategoryLearningStimuli/62.png  \n",
            "  inflating: my_data/__MACOSX/CategoryLearningStimuli/._62.png  \n",
            "  inflating: my_data/CategoryLearningStimuli/188.png  \n",
            "  inflating: my_data/__MACOSX/CategoryLearningStimuli/._188.png  \n",
            "  inflating: my_data/CategoryLearningStimuli/76.png  \n",
            "  inflating: my_data/__MACOSX/CategoryLearningStimuli/._76.png  \n",
            "  inflating: my_data/CategoryLearningStimuli/163.png  \n",
            "  inflating: my_data/__MACOSX/CategoryLearningStimuli/._163.png  \n",
            "  inflating: my_data/CategoryLearningStimuli/177.png  \n",
            "  inflating: my_data/__MACOSX/CategoryLearningStimuli/._177.png  \n",
            "  inflating: my_data/CategoryLearningStimuli/89.png  \n",
            "  inflating: my_data/__MACOSX/CategoryLearningStimuli/._89.png  \n",
            "  inflating: my_data/CategoryLearningStimuli/349.png  \n",
            "  inflating: my_data/__MACOSX/CategoryLearningStimuli/._349.png  \n",
            "  inflating: my_data/CategoryLearningStimuli/149.png  \n",
            "  inflating: my_data/__MACOSX/CategoryLearningStimuli/._149.png  \n",
            "  inflating: my_data/CategoryLearningStimuli/161.png  \n",
            "  inflating: my_data/__MACOSX/CategoryLearningStimuli/._161.png  \n",
            "  inflating: my_data/CategoryLearningStimuli/175.png  \n",
            "  inflating: my_data/__MACOSX/CategoryLearningStimuli/._175.png  \n",
            "  inflating: my_data/CategoryLearningStimuli/60.png  \n",
            "  inflating: my_data/__MACOSX/CategoryLearningStimuli/._60.png  \n",
            "  inflating: my_data/CategoryLearningStimuli/74.png  \n",
            "  inflating: my_data/__MACOSX/CategoryLearningStimuli/._74.png  \n",
            "  inflating: my_data/CategoryLearningStimuli/48.png  \n",
            "  inflating: my_data/__MACOSX/CategoryLearningStimuli/._48.png  \n",
            "  inflating: my_data/CategoryLearningStimuli/217.png  \n",
            "  inflating: my_data/__MACOSX/CategoryLearningStimuli/._217.png  \n",
            "  inflating: my_data/CategoryLearningStimuli/203.png  \n",
            "  inflating: my_data/__MACOSX/CategoryLearningStimuli/._203.png  \n",
            "  inflating: my_data/CategoryLearningStimuli/202.png  \n",
            "  inflating: my_data/__MACOSX/CategoryLearningStimuli/._202.png  \n",
            "  inflating: my_data/CategoryLearningStimuli/216.png  \n",
            "  inflating: my_data/__MACOSX/CategoryLearningStimuli/._216.png  \n",
            "  inflating: my_data/CategoryLearningStimuli/49.png  \n",
            "  inflating: my_data/__MACOSX/CategoryLearningStimuli/._49.png  \n",
            "  inflating: my_data/CategoryLearningStimuli/75.png  \n",
            "  inflating: my_data/__MACOSX/CategoryLearningStimuli/._75.png  \n",
            "  inflating: my_data/CategoryLearningStimuli/61.png  \n",
            "  inflating: my_data/__MACOSX/CategoryLearningStimuli/._61.png  \n",
            "  inflating: my_data/CategoryLearningStimuli/174.png  \n",
            "  inflating: my_data/__MACOSX/CategoryLearningStimuli/._174.png  \n",
            "  inflating: my_data/CategoryLearningStimuli/160.png  \n",
            "  inflating: my_data/__MACOSX/CategoryLearningStimuli/._160.png  \n",
            "  inflating: my_data/CategoryLearningStimuli/148.png  \n",
            "  inflating: my_data/__MACOSX/CategoryLearningStimuli/._148.png  \n",
            "  inflating: my_data/CategoryLearningStimuli/164.png  \n",
            "  inflating: my_data/__MACOSX/CategoryLearningStimuli/._164.png  \n",
            "  inflating: my_data/CategoryLearningStimuli/170.png  \n",
            "  inflating: my_data/__MACOSX/CategoryLearningStimuli/._170.png  \n",
            "  inflating: my_data/CategoryLearningStimuli/158.png  \n",
            "  inflating: my_data/__MACOSX/CategoryLearningStimuli/._158.png  \n",
            "  inflating: my_data/CategoryLearningStimuli/59.png  \n",
            "  inflating: my_data/__MACOSX/CategoryLearningStimuli/._59.png  \n",
            "  inflating: my_data/CategoryLearningStimuli/65.png  \n",
            "  inflating: my_data/__MACOSX/CategoryLearningStimuli/._65.png  \n",
            "  inflating: my_data/CategoryLearningStimuli/71.png  \n",
            "  inflating: my_data/__MACOSX/CategoryLearningStimuli/._71.png  \n",
            "  inflating: my_data/CategoryLearningStimuli/212.png  \n",
            "  inflating: my_data/__MACOSX/CategoryLearningStimuli/._212.png  \n",
            "  inflating: my_data/CategoryLearningStimuli/.DS_Store  \n",
            "  inflating: my_data/__MACOSX/CategoryLearningStimuli/._.DS_Store  \n",
            "  inflating: my_data/CategoryLearningStimuli/206.png  \n",
            "  inflating: my_data/__MACOSX/CategoryLearningStimuli/._206.png  \n",
            "  inflating: my_data/CategoryLearningStimuli/207.png  \n",
            "  inflating: my_data/__MACOSX/CategoryLearningStimuli/._207.png  \n",
            "  inflating: my_data/CategoryLearningStimuli/213.png  \n",
            "  inflating: my_data/__MACOSX/CategoryLearningStimuli/._213.png  \n",
            "  inflating: my_data/CategoryLearningStimuli/70.png  \n",
            "  inflating: my_data/__MACOSX/CategoryLearningStimuli/._70.png  \n",
            "  inflating: my_data/CategoryLearningStimuli/64.png  \n",
            "  inflating: my_data/__MACOSX/CategoryLearningStimuli/._64.png  \n",
            "  inflating: my_data/CategoryLearningStimuli/58.png  \n",
            "  inflating: my_data/__MACOSX/CategoryLearningStimuli/._58.png  \n",
            "  inflating: my_data/CategoryLearningStimuli/159.png  \n",
            "  inflating: my_data/__MACOSX/CategoryLearningStimuli/._159.png  \n",
            "  inflating: my_data/CategoryLearningStimuli/171.png  \n",
            "  inflating: my_data/__MACOSX/CategoryLearningStimuli/._171.png  \n",
            "  inflating: my_data/CategoryLearningStimuli/165.png  \n",
            "  inflating: my_data/__MACOSX/CategoryLearningStimuli/._165.png  \n",
            "  inflating: my_data/CategoryLearningStimuli/359.png  \n",
            "  inflating: my_data/__MACOSX/CategoryLearningStimuli/._359.png  \n",
            "  inflating: my_data/CategoryLearningStimuli/173.png  \n",
            "  inflating: my_data/__MACOSX/CategoryLearningStimuli/._173.png  \n",
            "  inflating: my_data/CategoryLearningStimuli/167.png  \n",
            "  inflating: my_data/__MACOSX/CategoryLearningStimuli/._167.png  \n",
            "  inflating: my_data/CategoryLearningStimuli/99.png  \n",
            "  inflating: my_data/__MACOSX/CategoryLearningStimuli/._99.png  \n",
            "  inflating: my_data/CategoryLearningStimuli/8.png  \n",
            "  inflating: my_data/__MACOSX/CategoryLearningStimuli/._8.png  \n",
            "  inflating: my_data/CategoryLearningStimuli/72.png  \n",
            "  inflating: my_data/__MACOSX/CategoryLearningStimuli/._72.png  \n",
            "  inflating: my_data/CategoryLearningStimuli/198.png  \n",
            "  inflating: my_data/__MACOSX/CategoryLearningStimuli/._198.png  \n",
            "  inflating: my_data/CategoryLearningStimuli/66.png  \n",
            "  inflating: my_data/__MACOSX/CategoryLearningStimuli/._66.png  \n",
            "  inflating: my_data/CategoryLearningStimuli/205.png  \n",
            "  inflating: my_data/__MACOSX/CategoryLearningStimuli/._205.png  \n",
            "  inflating: my_data/CategoryLearningStimuli/211.png  \n",
            "  inflating: my_data/__MACOSX/CategoryLearningStimuli/._211.png  \n",
            "  inflating: my_data/CategoryLearningStimuli/239.png  \n",
            "  inflating: my_data/__MACOSX/CategoryLearningStimuli/._239.png  \n",
            "  inflating: my_data/CategoryLearningStimuli/238.png  \n",
            "  inflating: my_data/__MACOSX/CategoryLearningStimuli/._238.png  \n",
            "  inflating: my_data/CategoryLearningStimuli/210.png  \n",
            "  inflating: my_data/__MACOSX/CategoryLearningStimuli/._210.png  \n",
            "  inflating: my_data/CategoryLearningStimuli/204.png  \n",
            "  inflating: my_data/__MACOSX/CategoryLearningStimuli/._204.png  \n",
            "  inflating: my_data/CategoryLearningStimuli/199.png  \n",
            "  inflating: my_data/__MACOSX/CategoryLearningStimuli/._199.png  \n",
            "  inflating: my_data/CategoryLearningStimuli/67.png  \n",
            "  inflating: my_data/__MACOSX/CategoryLearningStimuli/._67.png  \n",
            "  inflating: my_data/CategoryLearningStimuli/73.png  \n",
            "  inflating: my_data/__MACOSX/CategoryLearningStimuli/._73.png  \n",
            "  inflating: my_data/CategoryLearningStimuli/9.png  \n",
            "  inflating: my_data/__MACOSX/CategoryLearningStimuli/._9.png  \n",
            "  inflating: my_data/CategoryLearningStimuli/166.png  \n",
            "  inflating: my_data/__MACOSX/CategoryLearningStimuli/._166.png  \n",
            "  inflating: my_data/CategoryLearningStimuli/98.png  \n",
            "  inflating: my_data/__MACOSX/CategoryLearningStimuli/._98.png  \n",
            "  inflating: my_data/CategoryLearningStimuli/172.png  \n",
            "  inflating: my_data/__MACOSX/CategoryLearningStimuli/._172.png  \n",
            "  inflating: my_data/CategoryLearningStimuli/358.png  \n",
            "  inflating: my_data/__MACOSX/CategoryLearningStimuli/._358.png  \n",
            "  inflating: my_data/CategoryLearningStimuli/317.png  \n",
            "  inflating: my_data/__MACOSX/CategoryLearningStimuli/._317.png  \n",
            "  inflating: my_data/CategoryLearningStimuli/303.png  \n",
            "  inflating: my_data/__MACOSX/CategoryLearningStimuli/._303.png  \n",
            "  inflating: my_data/CategoryLearningStimuli/129.png  \n",
            "  inflating: my_data/__MACOSX/CategoryLearningStimuli/._129.png  \n",
            "  inflating: my_data/CategoryLearningStimuli/115.png  \n",
            "  inflating: my_data/__MACOSX/CategoryLearningStimuli/._115.png  \n",
            "  inflating: my_data/CategoryLearningStimuli/101.png  \n",
            "  inflating: my_data/__MACOSX/CategoryLearningStimuli/._101.png  \n",
            "  inflating: my_data/CategoryLearningStimuli/14.png  \n",
            "  inflating: my_data/__MACOSX/CategoryLearningStimuli/._14.png  \n",
            "  inflating: my_data/CategoryLearningStimuli/28.png  \n",
            "  inflating: my_data/__MACOSX/CategoryLearningStimuli/._28.png  \n",
            "  inflating: my_data/CategoryLearningStimuli/263.png  \n",
            "  inflating: my_data/__MACOSX/CategoryLearningStimuli/._263.png  \n",
            "  inflating: my_data/CategoryLearningStimuli/277.png  \n",
            "  inflating: my_data/__MACOSX/CategoryLearningStimuli/._277.png  \n",
            "  inflating: my_data/CategoryLearningStimuli/288.png  \n",
            "  inflating: my_data/__MACOSX/CategoryLearningStimuli/._288.png  \n",
            "  inflating: my_data/CategoryLearningStimuli/289.png  \n",
            "  inflating: my_data/__MACOSX/CategoryLearningStimuli/._289.png  \n",
            "  inflating: my_data/CategoryLearningStimuli/276.png  \n",
            "  inflating: my_data/__MACOSX/CategoryLearningStimuli/._276.png  \n",
            "  inflating: my_data/CategoryLearningStimuli/262.png  \n",
            "  inflating: my_data/__MACOSX/CategoryLearningStimuli/._262.png  \n",
            "  inflating: my_data/CategoryLearningStimuli/29.png  \n",
            "  inflating: my_data/__MACOSX/CategoryLearningStimuli/._29.png  \n",
            "  inflating: my_data/CategoryLearningStimuli/15.png  \n",
            "  inflating: my_data/__MACOSX/CategoryLearningStimuli/._15.png  \n",
            "  inflating: my_data/CategoryLearningStimuli/100.png  \n",
            "  inflating: my_data/__MACOSX/CategoryLearningStimuli/._100.png  \n",
            "  inflating: my_data/CategoryLearningStimuli/114.png  \n",
            "  inflating: my_data/__MACOSX/CategoryLearningStimuli/._114.png  \n",
            "  inflating: my_data/CategoryLearningStimuli/128.png  \n",
            "  inflating: my_data/__MACOSX/CategoryLearningStimuli/._128.png  \n",
            "  inflating: my_data/CategoryLearningStimuli/302.png  \n",
            "  inflating: my_data/__MACOSX/CategoryLearningStimuli/._302.png  \n",
            "  inflating: my_data/CategoryLearningStimuli/316.png  \n",
            "  inflating: my_data/__MACOSX/CategoryLearningStimuli/._316.png  \n",
            "  inflating: my_data/CategoryLearningStimuli/328.png  \n",
            "  inflating: my_data/__MACOSX/CategoryLearningStimuli/._328.png  \n",
            "  inflating: my_data/CategoryLearningStimuli/300.png  \n",
            "  inflating: my_data/__MACOSX/CategoryLearningStimuli/._300.png  \n",
            "  inflating: my_data/CategoryLearningStimuli/314.png  \n",
            "  inflating: my_data/__MACOSX/CategoryLearningStimuli/._314.png  \n",
            "  inflating: my_data/CategoryLearningStimuli/102.png  \n",
            "  inflating: my_data/__MACOSX/CategoryLearningStimuli/._102.png  \n",
            "  inflating: my_data/CategoryLearningStimuli/116.png  \n",
            "  inflating: my_data/__MACOSX/CategoryLearningStimuli/._116.png  \n",
            "  inflating: my_data/CategoryLearningStimuli/17.png  \n",
            "  inflating: my_data/__MACOSX/CategoryLearningStimuli/._17.png  \n",
            "  inflating: my_data/CategoryLearningStimuli/248.png  \n",
            "  inflating: my_data/__MACOSX/CategoryLearningStimuli/._248.png  \n",
            "  inflating: my_data/CategoryLearningStimuli/274.png  \n",
            "  inflating: my_data/__MACOSX/CategoryLearningStimuli/._274.png  \n",
            "  inflating: my_data/CategoryLearningStimuli/260.png  \n",
            "  inflating: my_data/__MACOSX/CategoryLearningStimuli/._260.png  \n",
            "  inflating: my_data/CategoryLearningStimuli/261.png  \n",
            "  inflating: my_data/__MACOSX/CategoryLearningStimuli/._261.png  \n",
            "  inflating: my_data/CategoryLearningStimuli/275.png  \n",
            "  inflating: my_data/__MACOSX/CategoryLearningStimuli/._275.png  \n",
            "  inflating: my_data/CategoryLearningStimuli/249.png  \n",
            "  inflating: my_data/__MACOSX/CategoryLearningStimuli/._249.png  \n",
            "  inflating: my_data/CategoryLearningStimuli/16.png  \n",
            "  inflating: my_data/__MACOSX/CategoryLearningStimuli/._16.png  \n",
            "  inflating: my_data/CategoryLearningStimuli/117.png  \n",
            "  inflating: my_data/__MACOSX/CategoryLearningStimuli/._117.png  \n",
            "  inflating: my_data/CategoryLearningStimuli/103.png  \n",
            "  inflating: my_data/__MACOSX/CategoryLearningStimuli/._103.png  \n",
            "  inflating: my_data/CategoryLearningStimuli/315.png  \n",
            "  inflating: my_data/__MACOSX/CategoryLearningStimuli/._315.png  \n",
            "  inflating: my_data/CategoryLearningStimuli/301.png  \n",
            "  inflating: my_data/__MACOSX/CategoryLearningStimuli/._301.png  \n",
            "  inflating: my_data/CategoryLearningStimuli/329.png  \n",
            "  inflating: my_data/__MACOSX/CategoryLearningStimuli/._329.png  \n",
            "  inflating: my_data/CategoryLearningStimuli/305.png  \n",
            "  inflating: my_data/__MACOSX/CategoryLearningStimuli/._305.png  \n",
            "  inflating: my_data/CategoryLearningStimuli/311.png  \n",
            "  inflating: my_data/__MACOSX/CategoryLearningStimuli/._311.png  \n",
            "  inflating: my_data/CategoryLearningStimuli/339.png  \n",
            "  inflating: my_data/__MACOSX/CategoryLearningStimuli/._339.png  \n",
            "  inflating: my_data/CategoryLearningStimuli/107.png  \n",
            "  inflating: my_data/__MACOSX/CategoryLearningStimuli/._107.png  \n",
            "  inflating: my_data/CategoryLearningStimuli/113.png  \n",
            "  inflating: my_data/__MACOSX/CategoryLearningStimuli/._113.png  \n",
            "  inflating: my_data/CategoryLearningStimuli/12.png  \n",
            "  inflating: my_data/__MACOSX/CategoryLearningStimuli/._12.png  \n",
            "  inflating: my_data/CategoryLearningStimuli/271.png  \n",
            "  inflating: my_data/__MACOSX/CategoryLearningStimuli/._271.png  \n",
            "  inflating: my_data/CategoryLearningStimuli/265.png  \n",
            "  inflating: my_data/__MACOSX/CategoryLearningStimuli/._265.png  \n",
            "  inflating: my_data/CategoryLearningStimuli/259.png  \n",
            "  inflating: my_data/__MACOSX/CategoryLearningStimuli/._259.png  \n",
            "  inflating: my_data/CategoryLearningStimuli/258.png  \n",
            "  inflating: my_data/__MACOSX/CategoryLearningStimuli/._258.png  \n",
            "  inflating: my_data/CategoryLearningStimuli/264.png  \n",
            "  inflating: my_data/__MACOSX/CategoryLearningStimuli/._264.png  \n",
            "  inflating: my_data/CategoryLearningStimuli/270.png  \n",
            "  inflating: my_data/__MACOSX/CategoryLearningStimuli/._270.png  \n",
            "  inflating: my_data/CategoryLearningStimuli/13.png  \n",
            "  inflating: my_data/__MACOSX/CategoryLearningStimuli/._13.png  \n",
            "  inflating: my_data/CategoryLearningStimuli/112.png  \n",
            "  inflating: my_data/__MACOSX/CategoryLearningStimuli/._112.png  \n",
            "  inflating: my_data/CategoryLearningStimuli/106.png  \n",
            "  inflating: my_data/__MACOSX/CategoryLearningStimuli/._106.png  \n",
            "  inflating: my_data/CategoryLearningStimuli/338.png  \n",
            "  inflating: my_data/__MACOSX/CategoryLearningStimuli/._338.png  \n",
            "  inflating: my_data/CategoryLearningStimuli/310.png  \n",
            "  inflating: my_data/__MACOSX/CategoryLearningStimuli/._310.png  \n",
            "  inflating: my_data/CategoryLearningStimuli/304.png  \n",
            "  inflating: my_data/__MACOSX/CategoryLearningStimuli/._304.png  \n",
            "  inflating: my_data/CategoryLearningStimuli/312.png  \n",
            "  inflating: my_data/__MACOSX/CategoryLearningStimuli/._312.png  \n",
            "  inflating: my_data/CategoryLearningStimuli/306.png  \n",
            "  inflating: my_data/__MACOSX/CategoryLearningStimuli/._306.png  \n",
            "  inflating: my_data/CategoryLearningStimuli/110.png  \n",
            "  inflating: my_data/__MACOSX/CategoryLearningStimuli/._110.png  \n",
            "  inflating: my_data/CategoryLearningStimuli/104.png  \n",
            "  inflating: my_data/__MACOSX/CategoryLearningStimuli/._104.png  \n",
            "  inflating: my_data/CategoryLearningStimuli/138.png  \n",
            "  inflating: my_data/__MACOSX/CategoryLearningStimuli/._138.png  \n",
            "  inflating: my_data/CategoryLearningStimuli/39.png  \n",
            "  inflating: my_data/__MACOSX/CategoryLearningStimuli/._39.png  \n",
            "  inflating: my_data/CategoryLearningStimuli/11.png  \n",
            "  inflating: my_data/__MACOSX/CategoryLearningStimuli/._11.png  \n",
            "  inflating: my_data/CategoryLearningStimuli/266.png  \n",
            "  inflating: my_data/__MACOSX/CategoryLearningStimuli/._266.png  \n",
            "  inflating: my_data/CategoryLearningStimuli/272.png  \n",
            "  inflating: my_data/__MACOSX/CategoryLearningStimuli/._272.png  \n",
            "  inflating: my_data/CategoryLearningStimuli/299.png  \n",
            "  inflating: my_data/__MACOSX/CategoryLearningStimuli/._299.png  \n",
            "  inflating: my_data/CategoryLearningStimuli/298.png  \n",
            "  inflating: my_data/__MACOSX/CategoryLearningStimuli/._298.png  \n",
            "  inflating: my_data/CategoryLearningStimuli/273.png  \n",
            "  inflating: my_data/__MACOSX/CategoryLearningStimuli/._273.png  \n",
            "  inflating: my_data/CategoryLearningStimuli/267.png  \n",
            "  inflating: my_data/__MACOSX/CategoryLearningStimuli/._267.png  \n",
            "  inflating: my_data/CategoryLearningStimuli/10.png  \n",
            "  inflating: my_data/__MACOSX/CategoryLearningStimuli/._10.png  \n",
            "  inflating: my_data/CategoryLearningStimuli/38.png  \n",
            "  inflating: my_data/__MACOSX/CategoryLearningStimuli/._38.png  \n",
            "  inflating: my_data/CategoryLearningStimuli/139.png  \n",
            "  inflating: my_data/__MACOSX/CategoryLearningStimuli/._139.png  \n",
            "  inflating: my_data/CategoryLearningStimuli/105.png  \n",
            "  inflating: my_data/__MACOSX/CategoryLearningStimuli/._105.png  \n",
            "  inflating: my_data/CategoryLearningStimuli/111.png  \n",
            "  inflating: my_data/__MACOSX/CategoryLearningStimuli/._111.png  \n",
            "  inflating: my_data/CategoryLearningStimuli/307.png  \n",
            "  inflating: my_data/__MACOSX/CategoryLearningStimuli/._307.png  \n",
            "  inflating: my_data/CategoryLearningStimuli/313.png  \n",
            "  inflating: my_data/__MACOSX/CategoryLearningStimuli/._313.png  \n",
            "  inflating: my_data/CategoryLearningStimuli/336.png  \n",
            "  inflating: my_data/__MACOSX/CategoryLearningStimuli/._336.png  \n",
            "  inflating: my_data/CategoryLearningStimuli/322.png  \n",
            "  inflating: my_data/__MACOSX/CategoryLearningStimuli/._322.png  \n",
            "  inflating: my_data/CategoryLearningStimuli/108.png  \n",
            "  inflating: my_data/__MACOSX/CategoryLearningStimuli/._108.png  \n",
            "  inflating: my_data/CategoryLearningStimuli/134.png  \n",
            "  inflating: my_data/__MACOSX/CategoryLearningStimuli/._134.png  \n",
            "  inflating: my_data/CategoryLearningStimuli/120.png  \n",
            "  inflating: my_data/__MACOSX/CategoryLearningStimuli/._120.png  \n",
            "  inflating: my_data/CategoryLearningStimuli/35.png  \n",
            "  inflating: my_data/__MACOSX/CategoryLearningStimuli/._35.png  \n",
            "  inflating: my_data/CategoryLearningStimuli/21.png  \n",
            "  inflating: my_data/__MACOSX/CategoryLearningStimuli/._21.png  \n",
            "  inflating: my_data/CategoryLearningStimuli/242.png  \n",
            "  inflating: my_data/__MACOSX/CategoryLearningStimuli/._242.png  \n",
            "  inflating: my_data/CategoryLearningStimuli/256.png  \n",
            "  inflating: my_data/__MACOSX/CategoryLearningStimuli/._256.png  \n",
            "  inflating: my_data/CategoryLearningStimuli/281.png  \n",
            "  inflating: my_data/__MACOSX/CategoryLearningStimuli/._281.png  \n",
            "  inflating: my_data/CategoryLearningStimuli/295.png  \n",
            "  inflating: my_data/__MACOSX/CategoryLearningStimuli/._295.png  \n",
            "  inflating: my_data/CategoryLearningStimuli/294.png  \n",
            "  inflating: my_data/__MACOSX/CategoryLearningStimuli/._294.png  \n",
            "  inflating: my_data/CategoryLearningStimuli/280.png  \n",
            "  inflating: my_data/__MACOSX/CategoryLearningStimuli/._280.png  \n",
            "  inflating: my_data/CategoryLearningStimuli/257.png  \n",
            "  inflating: my_data/__MACOSX/CategoryLearningStimuli/._257.png  \n",
            "  inflating: my_data/CategoryLearningStimuli/243.png  \n",
            "  inflating: my_data/__MACOSX/CategoryLearningStimuli/._243.png  \n",
            "  inflating: my_data/CategoryLearningStimuli/20.png  \n",
            "  inflating: my_data/__MACOSX/CategoryLearningStimuli/._20.png  \n",
            "  inflating: my_data/CategoryLearningStimuli/34.png  \n",
            "  inflating: my_data/__MACOSX/CategoryLearningStimuli/._34.png  \n",
            "  inflating: my_data/CategoryLearningStimuli/121.png  \n",
            "  inflating: my_data/__MACOSX/CategoryLearningStimuli/._121.png  \n",
            "  inflating: my_data/CategoryLearningStimuli/135.png  \n",
            "  inflating: my_data/__MACOSX/CategoryLearningStimuli/._135.png  \n",
            "  inflating: my_data/CategoryLearningStimuli/109.png  \n",
            "  inflating: my_data/__MACOSX/CategoryLearningStimuli/._109.png  \n",
            "  inflating: my_data/CategoryLearningStimuli/323.png  \n",
            "  inflating: my_data/__MACOSX/CategoryLearningStimuli/._323.png  \n",
            "  inflating: my_data/CategoryLearningStimuli/337.png  \n",
            "  inflating: my_data/__MACOSX/CategoryLearningStimuli/._337.png  \n",
            "  inflating: my_data/CategoryLearningStimuli/309.png  \n",
            "  inflating: my_data/__MACOSX/CategoryLearningStimuli/._309.png  \n",
            "  inflating: my_data/CategoryLearningStimuli/321.png  \n",
            "  inflating: my_data/__MACOSX/CategoryLearningStimuli/._321.png  \n",
            "  inflating: my_data/CategoryLearningStimuli/335.png  \n",
            "  inflating: my_data/__MACOSX/CategoryLearningStimuli/._335.png  \n",
            "  inflating: my_data/CategoryLearningStimuli/123.png  \n",
            "  inflating: my_data/__MACOSX/CategoryLearningStimuli/._123.png  \n",
            "  inflating: my_data/CategoryLearningStimuli/137.png  \n",
            "  inflating: my_data/__MACOSX/CategoryLearningStimuli/._137.png  \n",
            "  inflating: my_data/CategoryLearningStimuli/22.png  \n",
            "  inflating: my_data/__MACOSX/CategoryLearningStimuli/._22.png  \n",
            "  inflating: my_data/CategoryLearningStimuli/36.png  \n",
            "  inflating: my_data/__MACOSX/CategoryLearningStimuli/._36.png  \n",
            "  inflating: my_data/CategoryLearningStimuli/269.png  \n",
            "  inflating: my_data/__MACOSX/CategoryLearningStimuli/._269.png  \n",
            "  inflating: my_data/CategoryLearningStimuli/255.png  \n",
            "  inflating: my_data/__MACOSX/CategoryLearningStimuli/._255.png  \n",
            "  inflating: my_data/CategoryLearningStimuli/241.png  \n",
            "  inflating: my_data/__MACOSX/CategoryLearningStimuli/._241.png  \n",
            "  inflating: my_data/CategoryLearningStimuli/296.png  \n",
            "  inflating: my_data/__MACOSX/CategoryLearningStimuli/._296.png  \n",
            "  inflating: my_data/CategoryLearningStimuli/282.png  \n",
            "  inflating: my_data/__MACOSX/CategoryLearningStimuli/._282.png  \n",
            "  inflating: my_data/CategoryLearningStimuli/283.png  \n",
            "  inflating: my_data/__MACOSX/CategoryLearningStimuli/._283.png  \n",
            "  inflating: my_data/CategoryLearningStimuli/297.png  \n",
            "  inflating: my_data/__MACOSX/CategoryLearningStimuli/._297.png  \n",
            "  inflating: my_data/CategoryLearningStimuli/240.png  \n",
            "  inflating: my_data/__MACOSX/CategoryLearningStimuli/._240.png  \n",
            "  inflating: my_data/CategoryLearningStimuli/254.png  \n",
            "  inflating: my_data/__MACOSX/CategoryLearningStimuli/._254.png  \n",
            "  inflating: my_data/CategoryLearningStimuli/268.png  \n",
            "  inflating: my_data/__MACOSX/CategoryLearningStimuli/._268.png  \n",
            "  inflating: my_data/CategoryLearningStimuli/37.png  \n",
            "  inflating: my_data/__MACOSX/CategoryLearningStimuli/._37.png  \n",
            "  inflating: my_data/CategoryLearningStimuli/23.png  \n",
            "  inflating: my_data/__MACOSX/CategoryLearningStimuli/._23.png  \n",
            "  inflating: my_data/CategoryLearningStimuli/136.png  \n",
            "  inflating: my_data/__MACOSX/CategoryLearningStimuli/._136.png  \n",
            "  inflating: my_data/CategoryLearningStimuli/122.png  \n",
            "  inflating: my_data/__MACOSX/CategoryLearningStimuli/._122.png  \n",
            "  inflating: my_data/CategoryLearningStimuli/334.png  \n",
            "  inflating: my_data/__MACOSX/CategoryLearningStimuli/._334.png  \n",
            "  inflating: my_data/CategoryLearningStimuli/320.png  \n",
            "  inflating: my_data/__MACOSX/CategoryLearningStimuli/._320.png  \n",
            "  inflating: my_data/CategoryLearningStimuli/308.png  \n",
            "  inflating: my_data/__MACOSX/CategoryLearningStimuli/._308.png  \n",
            "  inflating: my_data/CategoryLearningStimuli/324.png  \n",
            "  inflating: my_data/__MACOSX/CategoryLearningStimuli/._324.png  \n",
            "  inflating: my_data/CategoryLearningStimuli/330.png  \n",
            "  inflating: my_data/__MACOSX/CategoryLearningStimuli/._330.png  \n",
            "  inflating: my_data/CategoryLearningStimuli/318.png  \n",
            "  inflating: my_data/__MACOSX/CategoryLearningStimuli/._318.png  \n",
            "  inflating: my_data/CategoryLearningStimuli/126.png  \n",
            "  inflating: my_data/__MACOSX/CategoryLearningStimuli/._126.png  \n",
            "  inflating: my_data/CategoryLearningStimuli/132.png  \n",
            "  inflating: my_data/__MACOSX/CategoryLearningStimuli/._132.png  \n",
            "  inflating: my_data/CategoryLearningStimuli/27.png  \n",
            "  inflating: my_data/__MACOSX/CategoryLearningStimuli/._27.png  \n",
            "  inflating: my_data/CategoryLearningStimuli/33.png  \n",
            "  inflating: my_data/__MACOSX/CategoryLearningStimuli/._33.png  \n",
            "  inflating: my_data/CategoryLearningStimuli/250.png  \n",
            "  inflating: my_data/__MACOSX/CategoryLearningStimuli/._250.png  \n",
            "  inflating: my_data/CategoryLearningStimuli/244.png  \n",
            "  inflating: my_data/__MACOSX/CategoryLearningStimuli/._244.png  \n",
            "  inflating: my_data/CategoryLearningStimuli/278.png  \n",
            "  inflating: my_data/__MACOSX/CategoryLearningStimuli/._278.png  \n",
            "  inflating: my_data/CategoryLearningStimuli/293.png  \n",
            "  inflating: my_data/__MACOSX/CategoryLearningStimuli/._293.png  \n",
            "  inflating: my_data/CategoryLearningStimuli/287.png  \n",
            "  inflating: my_data/__MACOSX/CategoryLearningStimuli/._287.png  \n",
            "  inflating: my_data/CategoryLearningStimuli/286.png  \n",
            "  inflating: my_data/__MACOSX/CategoryLearningStimuli/._286.png  \n",
            "  inflating: my_data/CategoryLearningStimuli/292.png  \n",
            "  inflating: my_data/__MACOSX/CategoryLearningStimuli/._292.png  \n",
            "  inflating: my_data/CategoryLearningStimuli/279.png  \n",
            "  inflating: my_data/__MACOSX/CategoryLearningStimuli/._279.png  \n",
            "  inflating: my_data/CategoryLearningStimuli/245.png  \n",
            "  inflating: my_data/__MACOSX/CategoryLearningStimuli/._245.png  \n",
            "  inflating: my_data/CategoryLearningStimuli/251.png  \n",
            "  inflating: my_data/__MACOSX/CategoryLearningStimuli/._251.png  \n",
            "  inflating: my_data/CategoryLearningStimuli/32.png  \n",
            "  inflating: my_data/__MACOSX/CategoryLearningStimuli/._32.png  \n",
            "  inflating: my_data/CategoryLearningStimuli/26.png  \n",
            "  inflating: my_data/__MACOSX/CategoryLearningStimuli/._26.png  \n",
            "  inflating: my_data/CategoryLearningStimuli/133.png  \n",
            "  inflating: my_data/__MACOSX/CategoryLearningStimuli/._133.png  \n",
            "  inflating: my_data/CategoryLearningStimuli/127.png  \n",
            "  inflating: my_data/__MACOSX/CategoryLearningStimuli/._127.png  \n",
            "  inflating: my_data/CategoryLearningStimuli/319.png  \n",
            "  inflating: my_data/__MACOSX/CategoryLearningStimuli/._319.png  \n",
            "  inflating: my_data/CategoryLearningStimuli/331.png  \n",
            "  inflating: my_data/__MACOSX/CategoryLearningStimuli/._331.png  \n",
            "  inflating: my_data/CategoryLearningStimuli/325.png  \n",
            "  inflating: my_data/__MACOSX/CategoryLearningStimuli/._325.png  \n",
            "  inflating: my_data/CategoryLearningStimuli/333.png  \n",
            "  inflating: my_data/__MACOSX/CategoryLearningStimuli/._333.png  \n",
            "  inflating: my_data/CategoryLearningStimuli/327.png  \n",
            "  inflating: my_data/__MACOSX/CategoryLearningStimuli/._327.png  \n",
            "  inflating: my_data/CategoryLearningStimuli/131.png  \n",
            "  inflating: my_data/__MACOSX/CategoryLearningStimuli/._131.png  \n",
            "  inflating: my_data/CategoryLearningStimuli/125.png  \n",
            "  inflating: my_data/__MACOSX/CategoryLearningStimuli/._125.png  \n",
            "  inflating: my_data/CategoryLearningStimuli/119.png  \n",
            "  inflating: my_data/__MACOSX/CategoryLearningStimuli/._119.png  \n",
            "  inflating: my_data/CategoryLearningStimuli/18.png  \n",
            "  inflating: my_data/__MACOSX/CategoryLearningStimuli/._18.png  \n",
            "  inflating: my_data/CategoryLearningStimuli/30.png  \n",
            "  inflating: my_data/__MACOSX/CategoryLearningStimuli/._30.png  \n",
            "  inflating: my_data/CategoryLearningStimuli/24.png  \n",
            "  inflating: my_data/__MACOSX/CategoryLearningStimuli/._24.png  \n",
            "  inflating: my_data/CategoryLearningStimuli/247.png  \n",
            "  inflating: my_data/__MACOSX/CategoryLearningStimuli/._247.png  \n",
            "  inflating: my_data/CategoryLearningStimuli/253.png  \n",
            "  inflating: my_data/__MACOSX/CategoryLearningStimuli/._253.png  \n",
            "  inflating: my_data/CategoryLearningStimuli/284.png  \n",
            "  inflating: my_data/__MACOSX/CategoryLearningStimuli/._284.png  \n",
            "  inflating: my_data/CategoryLearningStimuli/290.png  \n",
            "  inflating: my_data/__MACOSX/CategoryLearningStimuli/._290.png  \n",
            "  inflating: my_data/CategoryLearningStimuli/291.png  \n",
            "  inflating: my_data/__MACOSX/CategoryLearningStimuli/._291.png  \n",
            "  inflating: my_data/CategoryLearningStimuli/285.png  \n",
            "  inflating: my_data/__MACOSX/CategoryLearningStimuli/._285.png  \n",
            "  inflating: my_data/CategoryLearningStimuli/252.png  \n",
            "  inflating: my_data/__MACOSX/CategoryLearningStimuli/._252.png  \n",
            "  inflating: my_data/CategoryLearningStimuli/246.png  \n",
            "  inflating: my_data/__MACOSX/CategoryLearningStimuli/._246.png  \n",
            "  inflating: my_data/CategoryLearningStimuli/25.png  \n",
            "  inflating: my_data/__MACOSX/CategoryLearningStimuli/._25.png  \n",
            "  inflating: my_data/CategoryLearningStimuli/31.png  \n",
            "  inflating: my_data/__MACOSX/CategoryLearningStimuli/._31.png  \n",
            "  inflating: my_data/CategoryLearningStimuli/19.png  \n",
            "  inflating: my_data/__MACOSX/CategoryLearningStimuli/._19.png  \n",
            "  inflating: my_data/CategoryLearningStimuli/118.png  \n",
            "  inflating: my_data/__MACOSX/CategoryLearningStimuli/._118.png  \n",
            "  inflating: my_data/CategoryLearningStimuli/124.png  \n",
            "  inflating: my_data/__MACOSX/CategoryLearningStimuli/._124.png  \n",
            "  inflating: my_data/CategoryLearningStimuli/130.png  \n",
            "  inflating: my_data/__MACOSX/CategoryLearningStimuli/._130.png  \n",
            "  inflating: my_data/CategoryLearningStimuli/326.png  \n",
            "  inflating: my_data/__MACOSX/CategoryLearningStimuli/._326.png  \n",
            "  inflating: my_data/CategoryLearningStimuli/332.png  \n",
            "  inflating: my_data/__MACOSX/CategoryLearningStimuli/._332.png  \n",
            "  inflating: my_data/CategoryLearningStimuli/355.png  \n",
            "  inflating: my_data/__MACOSX/CategoryLearningStimuli/._355.png  \n",
            "  inflating: my_data/CategoryLearningStimuli/341.png  \n",
            "  inflating: my_data/__MACOSX/CategoryLearningStimuli/._341.png  \n",
            "  inflating: my_data/CategoryLearningStimuli/95.png  \n",
            "  inflating: my_data/__MACOSX/CategoryLearningStimuli/._95.png  \n",
            "  inflating: my_data/CategoryLearningStimuli/81.png  \n",
            "  inflating: my_data/__MACOSX/CategoryLearningStimuli/._81.png  \n",
            "  inflating: my_data/CategoryLearningStimuli/157.png  \n",
            "  inflating: my_data/__MACOSX/CategoryLearningStimuli/._157.png  \n",
            "  inflating: my_data/CategoryLearningStimuli/143.png  \n",
            "  inflating: my_data/__MACOSX/CategoryLearningStimuli/._143.png  \n",
            "  inflating: my_data/CategoryLearningStimuli/4.png  \n",
            "  inflating: my_data/__MACOSX/CategoryLearningStimuli/._4.png  \n",
            "  inflating: my_data/CategoryLearningStimuli/56.png  \n",
            "  inflating: my_data/__MACOSX/CategoryLearningStimuli/._56.png  \n",
            "  inflating: my_data/CategoryLearningStimuli/42.png  \n",
            "  inflating: my_data/__MACOSX/CategoryLearningStimuli/._42.png  \n",
            "  inflating: my_data/CategoryLearningStimuli/194.png  \n",
            "  inflating: my_data/__MACOSX/CategoryLearningStimuli/._194.png  \n",
            "  inflating: my_data/CategoryLearningStimuli/180.png  \n",
            "  inflating: my_data/__MACOSX/CategoryLearningStimuli/._180.png  \n",
            "  inflating: my_data/CategoryLearningStimuli/209.png  \n",
            "  inflating: my_data/__MACOSX/CategoryLearningStimuli/._209.png  \n",
            "  inflating: my_data/CategoryLearningStimuli/221.png  \n",
            "  inflating: my_data/__MACOSX/CategoryLearningStimuli/._221.png  \n",
            "  inflating: my_data/CategoryLearningStimuli/235.png  \n",
            "  inflating: my_data/__MACOSX/CategoryLearningStimuli/._235.png  \n",
            "  inflating: my_data/CategoryLearningStimuli/234.png  \n",
            "  inflating: my_data/__MACOSX/CategoryLearningStimuli/._234.png  \n",
            "  inflating: my_data/CategoryLearningStimuli/220.png  \n",
            "  inflating: my_data/__MACOSX/CategoryLearningStimuli/._220.png  \n",
            "  inflating: my_data/CategoryLearningStimuli/208.png  \n",
            "  inflating: my_data/__MACOSX/CategoryLearningStimuli/._208.png  \n",
            "  inflating: my_data/CategoryLearningStimuli/181.png  \n",
            "  inflating: my_data/__MACOSX/CategoryLearningStimuli/._181.png  \n",
            "  inflating: my_data/CategoryLearningStimuli/195.png  \n",
            "  inflating: my_data/__MACOSX/CategoryLearningStimuli/._195.png  \n",
            "  inflating: my_data/CategoryLearningStimuli/43.png  \n",
            "  inflating: my_data/__MACOSX/CategoryLearningStimuli/._43.png  \n",
            "  inflating: my_data/CategoryLearningStimuli/5.png  \n",
            "  inflating: my_data/__MACOSX/CategoryLearningStimuli/._5.png  \n",
            "  inflating: my_data/CategoryLearningStimuli/57.png  \n",
            "  inflating: my_data/__MACOSX/CategoryLearningStimuli/._57.png  \n",
            "  inflating: my_data/CategoryLearningStimuli/142.png  \n",
            "  inflating: my_data/__MACOSX/CategoryLearningStimuli/._142.png  \n",
            "  inflating: my_data/CategoryLearningStimuli/156.png  \n",
            "  inflating: my_data/__MACOSX/CategoryLearningStimuli/._156.png  \n",
            "  inflating: my_data/CategoryLearningStimuli/80.png  \n",
            "  inflating: my_data/__MACOSX/CategoryLearningStimuli/._80.png  \n",
            "  inflating: my_data/CategoryLearningStimuli/94.png  \n",
            "  inflating: my_data/__MACOSX/CategoryLearningStimuli/._94.png  \n",
            "  inflating: my_data/CategoryLearningStimuli/340.png  \n",
            "  inflating: my_data/__MACOSX/CategoryLearningStimuli/._340.png  \n",
            "  inflating: my_data/CategoryLearningStimuli/354.png  \n",
            "  inflating: my_data/__MACOSX/CategoryLearningStimuli/._354.png  \n",
            "  inflating: my_data/CategoryLearningStimuli/342.png  \n",
            "  inflating: my_data/__MACOSX/CategoryLearningStimuli/._342.png  \n",
            "  inflating: my_data/CategoryLearningStimuli/356.png  \n",
            "  inflating: my_data/__MACOSX/CategoryLearningStimuli/._356.png  \n",
            "  inflating: my_data/CategoryLearningStimuli/82.png  \n",
            "  inflating: my_data/__MACOSX/CategoryLearningStimuli/._82.png  \n",
            "  inflating: my_data/CategoryLearningStimuli/96.png  \n",
            "  inflating: my_data/__MACOSX/CategoryLearningStimuli/._96.png  \n",
            "  inflating: my_data/CategoryLearningStimuli/168.png  \n",
            "  inflating: my_data/__MACOSX/CategoryLearningStimuli/._168.png  \n",
            "  inflating: my_data/CategoryLearningStimuli/140.png  \n",
            "  inflating: my_data/__MACOSX/CategoryLearningStimuli/._140.png  \n",
            "  inflating: my_data/CategoryLearningStimuli/154.png  \n",
            "  inflating: my_data/__MACOSX/CategoryLearningStimuli/._154.png  \n",
            "  inflating: my_data/CategoryLearningStimuli/41.png  \n",
            "  inflating: my_data/__MACOSX/CategoryLearningStimuli/._41.png  \n",
            "  inflating: my_data/CategoryLearningStimuli/55.png  \n",
            "  inflating: my_data/__MACOSX/CategoryLearningStimuli/._55.png  \n",
            "  inflating: my_data/CategoryLearningStimuli/7.png  \n",
            "  inflating: my_data/__MACOSX/CategoryLearningStimuli/._7.png  \n",
            "  inflating: my_data/CategoryLearningStimuli/183.png  \n",
            "  inflating: my_data/__MACOSX/CategoryLearningStimuli/._183.png  \n",
            "  inflating: my_data/CategoryLearningStimuli/69.png  \n",
            "  inflating: my_data/__MACOSX/CategoryLearningStimuli/._69.png  \n",
            "  inflating: my_data/CategoryLearningStimuli/197.png  \n",
            "  inflating: my_data/__MACOSX/CategoryLearningStimuli/._197.png  \n",
            "  inflating: my_data/CategoryLearningStimuli/236.png  \n",
            "  inflating: my_data/__MACOSX/CategoryLearningStimuli/._236.png  \n",
            "  inflating: my_data/CategoryLearningStimuli/222.png  \n",
            "  inflating: my_data/__MACOSX/CategoryLearningStimuli/._222.png  \n",
            "  inflating: my_data/CategoryLearningStimuli/223.png  \n",
            "  inflating: my_data/__MACOSX/CategoryLearningStimuli/._223.png  \n",
            "  inflating: my_data/CategoryLearningStimuli/237.png  \n",
            "  inflating: my_data/__MACOSX/CategoryLearningStimuli/._237.png  \n",
            "  inflating: my_data/CategoryLearningStimuli/68.png  \n",
            "  inflating: my_data/__MACOSX/CategoryLearningStimuli/._68.png  \n",
            "  inflating: my_data/CategoryLearningStimuli/196.png  \n",
            "  inflating: my_data/__MACOSX/CategoryLearningStimuli/._196.png  \n",
            "  inflating: my_data/CategoryLearningStimuli/182.png  \n",
            "  inflating: my_data/__MACOSX/CategoryLearningStimuli/._182.png  \n",
            "  inflating: my_data/CategoryLearningStimuli/54.png  \n",
            "  inflating: my_data/__MACOSX/CategoryLearningStimuli/._54.png  \n",
            "  inflating: my_data/CategoryLearningStimuli/6.png  \n",
            "  inflating: my_data/__MACOSX/CategoryLearningStimuli/._6.png  \n",
            "  inflating: my_data/CategoryLearningStimuli/40.png  \n",
            "  inflating: my_data/__MACOSX/CategoryLearningStimuli/._40.png  \n",
            "  inflating: my_data/CategoryLearningStimuli/155.png  \n",
            "  inflating: my_data/__MACOSX/CategoryLearningStimuli/._155.png  \n",
            "  inflating: my_data/CategoryLearningStimuli/141.png  \n",
            "  inflating: my_data/__MACOSX/CategoryLearningStimuli/._141.png  \n",
            "  inflating: my_data/CategoryLearningStimuli/97.png  \n",
            "  inflating: my_data/__MACOSX/CategoryLearningStimuli/._97.png  \n",
            "  inflating: my_data/CategoryLearningStimuli/169.png  \n",
            "  inflating: my_data/__MACOSX/CategoryLearningStimuli/._169.png  \n",
            "  inflating: my_data/CategoryLearningStimuli/83.png  \n",
            "  inflating: my_data/__MACOSX/CategoryLearningStimuli/._83.png  \n",
            "  inflating: my_data/CategoryLearningStimuli/357.png  \n",
            "  inflating: my_data/__MACOSX/CategoryLearningStimuli/._357.png  \n",
            "  inflating: my_data/CategoryLearningStimuli/343.png  \n",
            "  inflating: my_data/__MACOSX/CategoryLearningStimuli/._343.png  \n",
            "  inflating: my_data/CategoryLearningStimuli/347.png  \n",
            "  inflating: my_data/__MACOSX/CategoryLearningStimuli/._347.png  \n",
            "  inflating: my_data/CategoryLearningStimuli/353.png  \n",
            "  inflating: my_data/__MACOSX/CategoryLearningStimuli/._353.png  \n",
            "  inflating: my_data/CategoryLearningStimuli/145.png  \n",
            "  inflating: my_data/__MACOSX/CategoryLearningStimuli/._145.png  \n",
            "  inflating: my_data/CategoryLearningStimuli/151.png  \n",
            "  inflating: my_data/__MACOSX/CategoryLearningStimuli/._151.png  \n",
            "  inflating: my_data/CategoryLearningStimuli/87.png  \n",
            "  inflating: my_data/__MACOSX/CategoryLearningStimuli/._87.png  \n",
            "  inflating: my_data/CategoryLearningStimuli/179.png  \n",
            "  inflating: my_data/__MACOSX/CategoryLearningStimuli/._179.png  \n",
            "  inflating: my_data/CategoryLearningStimuli/93.png  \n",
            "  inflating: my_data/__MACOSX/CategoryLearningStimuli/._93.png  \n",
            "  inflating: my_data/CategoryLearningStimuli/78.png  \n",
            "  inflating: my_data/__MACOSX/CategoryLearningStimuli/._78.png  \n",
            "  inflating: my_data/CategoryLearningStimuli/186.png  \n",
            "  inflating: my_data/__MACOSX/CategoryLearningStimuli/._186.png  \n",
            "  inflating: my_data/CategoryLearningStimuli/192.png  \n",
            "  inflating: my_data/__MACOSX/CategoryLearningStimuli/._192.png  \n",
            "  inflating: my_data/CategoryLearningStimuli/44.png  \n",
            "  inflating: my_data/__MACOSX/CategoryLearningStimuli/._44.png  \n",
            "  inflating: my_data/CategoryLearningStimuli/2.png  \n",
            "  inflating: my_data/__MACOSX/CategoryLearningStimuli/._2.png  \n",
            "  inflating: my_data/CategoryLearningStimuli/50.png  \n",
            "  inflating: my_data/__MACOSX/CategoryLearningStimuli/._50.png  \n",
            "  inflating: my_data/CategoryLearningStimuli/233.png  \n",
            "  inflating: my_data/__MACOSX/CategoryLearningStimuli/._233.png  \n",
            "  inflating: my_data/CategoryLearningStimuli/227.png  \n",
            "  inflating: my_data/__MACOSX/CategoryLearningStimuli/._227.png  \n",
            "  inflating: my_data/CategoryLearningStimuli/226.png  \n",
            "  inflating: my_data/__MACOSX/CategoryLearningStimuli/._226.png  \n",
            "  inflating: my_data/CategoryLearningStimuli/232.png  \n",
            "  inflating: my_data/__MACOSX/CategoryLearningStimuli/._232.png  \n",
            "  inflating: my_data/CategoryLearningStimuli/3.png  \n",
            "  inflating: my_data/__MACOSX/CategoryLearningStimuli/._3.png  \n",
            "  inflating: my_data/CategoryLearningStimuli/51.png  \n",
            "  inflating: my_data/__MACOSX/CategoryLearningStimuli/._51.png  \n",
            "  inflating: my_data/CategoryLearningStimuli/45.png  \n",
            "  inflating: my_data/__MACOSX/CategoryLearningStimuli/._45.png  \n",
            "  inflating: my_data/CategoryLearningStimuli/193.png  \n",
            "  inflating: my_data/__MACOSX/CategoryLearningStimuli/._193.png  \n",
            "  inflating: my_data/CategoryLearningStimuli/79.png  \n",
            "  inflating: my_data/__MACOSX/CategoryLearningStimuli/._79.png  \n",
            "  inflating: my_data/CategoryLearningStimuli/187.png  \n",
            "  inflating: my_data/__MACOSX/CategoryLearningStimuli/._187.png  \n",
            "  inflating: my_data/CategoryLearningStimuli/92.png  \n",
            "  inflating: my_data/__MACOSX/CategoryLearningStimuli/._92.png  \n",
            "  inflating: my_data/CategoryLearningStimuli/86.png  \n",
            "  inflating: my_data/__MACOSX/CategoryLearningStimuli/._86.png  \n",
            "  inflating: my_data/CategoryLearningStimuli/178.png  \n",
            "  inflating: my_data/__MACOSX/CategoryLearningStimuli/._178.png  \n",
            "  inflating: my_data/CategoryLearningStimuli/150.png  \n",
            "  inflating: my_data/__MACOSX/CategoryLearningStimuli/._150.png  \n",
            "  inflating: my_data/CategoryLearningStimuli/144.png  \n",
            "  inflating: my_data/__MACOSX/CategoryLearningStimuli/._144.png  \n",
            "  inflating: my_data/CategoryLearningStimuli/352.png  \n",
            "  inflating: my_data/__MACOSX/CategoryLearningStimuli/._352.png  \n",
            "  inflating: my_data/CategoryLearningStimuli/346.png  \n",
            "  inflating: my_data/__MACOSX/CategoryLearningStimuli/._346.png  \n",
            "  inflating: my_data/CategoryLearningStimuli/350.png  \n",
            "  inflating: my_data/__MACOSX/CategoryLearningStimuli/._350.png  \n",
            "  inflating: my_data/CategoryLearningStimuli/344.png  \n",
            "  inflating: my_data/__MACOSX/CategoryLearningStimuli/._344.png  \n",
            "  inflating: my_data/CategoryLearningStimuli/152.png  \n",
            "  inflating: my_data/__MACOSX/CategoryLearningStimuli/._152.png  \n",
            "  inflating: my_data/CategoryLearningStimuli/146.png  \n",
            "  inflating: my_data/__MACOSX/CategoryLearningStimuli/._146.png  \n",
            "  inflating: my_data/CategoryLearningStimuli/90.png  \n",
            "  inflating: my_data/__MACOSX/CategoryLearningStimuli/._90.png  \n",
            "  inflating: my_data/CategoryLearningStimuli/84.png  \n",
            "  inflating: my_data/__MACOSX/CategoryLearningStimuli/._84.png  \n",
            "  inflating: my_data/CategoryLearningStimuli/191.png  \n",
            "  inflating: my_data/__MACOSX/CategoryLearningStimuli/._191.png  \n",
            "  inflating: my_data/CategoryLearningStimuli/185.png  \n",
            "  inflating: my_data/__MACOSX/CategoryLearningStimuli/._185.png  \n",
            "  inflating: my_data/CategoryLearningStimuli/53.png  \n",
            "  inflating: my_data/__MACOSX/CategoryLearningStimuli/._53.png  \n",
            "  inflating: my_data/CategoryLearningStimuli/1.png  \n",
            "  inflating: my_data/__MACOSX/CategoryLearningStimuli/._1.png  \n",
            "  inflating: my_data/CategoryLearningStimuli/47.png  \n",
            "  inflating: my_data/__MACOSX/CategoryLearningStimuli/._47.png  \n",
            "  inflating: my_data/CategoryLearningStimuli/224.png  \n",
            "  inflating: my_data/__MACOSX/CategoryLearningStimuli/._224.png  \n",
            "  inflating: my_data/CategoryLearningStimuli/230.png  \n",
            "  inflating: my_data/__MACOSX/CategoryLearningStimuli/._230.png  \n",
            "  inflating: my_data/CategoryLearningStimuli/218.png  \n",
            "  inflating: my_data/__MACOSX/CategoryLearningStimuli/._218.png  \n",
            "  inflating: my_data/CategoryLearningStimuli/219.png  \n",
            "  inflating: my_data/__MACOSX/CategoryLearningStimuli/._219.png  \n",
            "  inflating: my_data/CategoryLearningStimuli/231.png  \n",
            "  inflating: my_data/__MACOSX/CategoryLearningStimuli/._231.png  \n",
            "  inflating: my_data/CategoryLearningStimuli/225.png  \n",
            "  inflating: my_data/__MACOSX/CategoryLearningStimuli/._225.png  \n",
            "  inflating: my_data/CategoryLearningStimuli/46.png  \n",
            "  inflating: my_data/__MACOSX/CategoryLearningStimuli/._46.png  \n",
            "  inflating: my_data/CategoryLearningStimuli/52.png  \n",
            "  inflating: my_data/__MACOSX/CategoryLearningStimuli/._52.png  \n",
            "  inflating: my_data/CategoryLearningStimuli/0.png  \n",
            "  inflating: my_data/__MACOSX/CategoryLearningStimuli/._0.png  \n",
            "  inflating: my_data/CategoryLearningStimuli/184.png  \n",
            "  inflating: my_data/__MACOSX/CategoryLearningStimuli/._184.png  \n",
            "  inflating: my_data/CategoryLearningStimuli/190.png  \n",
            "  inflating: my_data/__MACOSX/CategoryLearningStimuli/._190.png  \n",
            "  inflating: my_data/CategoryLearningStimuli/85.png  \n",
            "  inflating: my_data/__MACOSX/CategoryLearningStimuli/._85.png  \n",
            "  inflating: my_data/CategoryLearningStimuli/91.png  \n",
            "  inflating: my_data/__MACOSX/CategoryLearningStimuli/._91.png  \n",
            "  inflating: my_data/CategoryLearningStimuli/147.png  \n",
            "  inflating: my_data/__MACOSX/CategoryLearningStimuli/._147.png  \n",
            "  inflating: my_data/CategoryLearningStimuli/153.png  \n",
            "  inflating: my_data/__MACOSX/CategoryLearningStimuli/._153.png  \n",
            "  inflating: my_data/CategoryLearningStimuli/345.png  \n",
            "  inflating: my_data/__MACOSX/CategoryLearningStimuli/._345.png  \n",
            "  inflating: my_data/CategoryLearningStimuli/351.png  \n",
            "  inflating: my_data/__MACOSX/CategoryLearningStimuli/._351.png  \n"
          ]
        }
      ],
      "source": [
        "# unzip folder (previously uploaded in collab)\n",
        "!unzip '/content/drive/MyDrive/Thesis/Neural_network/Human category learning task/documents/CategoryLearningStimuli.zip' -d my_data"
      ]
    },
    {
      "cell_type": "code",
      "source": [
        "# root directory to data\n",
        "root = \"my_data/CategoryLearningStimuli/\"\n",
        "dic_pretraining = '/content/drive/MyDrive/Thesis/Neural_network/Pre-training on Animals shapes/'\n",
        "dic_training = '/content/drive/MyDrive/Thesis/Neural_network/Human category learning task/documents/'"
      ],
      "metadata": {
        "id": "7Qn6g-xVMKZK"
      },
      "execution_count": 5,
      "outputs": []
    },
    {
      "cell_type": "code",
      "source": [
        "# get category labels\n",
        "image_ID = os.listdir(root)\n",
        "\n",
        "#remove \".DS_Store\"\n",
        "image_ID.remove(\".DS_Store\")\n",
        "#image_ID.remove(\".ipynb_checkpoints\")"
      ],
      "metadata": {
        "id": "ClQaWXOnMph3"
      },
      "execution_count": 6,
      "outputs": []
    },
    {
      "cell_type": "markdown",
      "source": [
        "2) Defining parameters"
      ],
      "metadata": {
        "id": "kJKf0t5IY1Gi"
      }
    },
    {
      "cell_type": "code",
      "source": [
        "# conditions\n",
        "condition1 = {\n",
        "    'A':[-30, 30],  #low var\n",
        "    'D':[-80, 80]   #high var\n",
        "    }\n",
        "\n",
        "condition2 = {\n",
        "    'A':[-80, 80], #high var\n",
        "    'D':[-30, 30]  #low var\n",
        "    }"
      ],
      "metadata": {
        "id": "PpTOxpl7Pk-Y"
      },
      "execution_count": 7,
      "outputs": []
    },
    {
      "cell_type": "code",
      "source": [
        "# reference shapes angles --> categories\n",
        "reference_shapeA = 0\n",
        "reference_shapeB = 310\n",
        "reference_shapeC = 260\n",
        "reference_shapeD = 210"
      ],
      "metadata": {
        "id": "bRKgsVBrPsny"
      },
      "execution_count": 8,
      "outputs": []
    },
    {
      "cell_type": "markdown",
      "source": [
        "3) Get angles and directory"
      ],
      "metadata": {
        "id": "BZcgeTwN_sJF"
      }
    },
    {
      "cell_type": "code",
      "source": [
        "# get angles\n",
        "angles = []\n",
        "for image in image_ID:\n",
        "  get_angle = image.replace('.png', '')\n",
        "  transform_to_int = int(get_angle)\n",
        "  angles.append(transform_to_int)"
      ],
      "metadata": {
        "id": "0USpqrVHNtVR"
      },
      "execution_count": 9,
      "outputs": []
    },
    {
      "cell_type": "code",
      "source": [
        "# get image directories\n",
        "img_dir = []\n",
        "\n",
        "for image in image_ID:\n",
        "  folder_path = root + image\n",
        "  img_dir.append(folder_path)"
      ],
      "metadata": {
        "id": "siyVH-nOZFqd",
        "collapsed": true
      },
      "execution_count": 10,
      "outputs": []
    },
    {
      "cell_type": "markdown",
      "source": [
        "4) Create general dataset"
      ],
      "metadata": {
        "id": "eNh2-TZG_wZE"
      }
    },
    {
      "cell_type": "code",
      "source": [
        "data =  {'angle' : angles,\n",
        "         'image' : image_ID,\n",
        "         'img_dir' : img_dir}\n",
        "# df\n",
        "df_data = pd.DataFrame(data)\n",
        "df_data = df_data.sort_values('angle')"
      ],
      "metadata": {
        "id": "nGpw5M4scHaP"
      },
      "execution_count": 11,
      "outputs": []
    },
    {
      "cell_type": "markdown",
      "source": [
        "5) Define functions to create dataset for cond1 and cond2 with corresponding labels of whether the shapes belong to the same condition as Reference shapes A, B, C and D"
      ],
      "metadata": {
        "id": "xZuywBPy_3f3"
      }
    },
    {
      "cell_type": "code",
      "source": [
        "# functions to create datasets\n",
        "\n",
        "# create datasets for reference shape A and D\n",
        "def CreateLabelsAD (reference_shape, condition, dataset, stringCat):\n",
        "  angles = dataset['angle'].tolist()\n",
        "  labels = []\n",
        "\n",
        "  for angle in angles:\n",
        "\n",
        "    left_threshold = reference_shape + condition[stringCat][0]\n",
        "    right_threshold = reference_shape + condition[stringCat][1]\n",
        "\n",
        "    if stringCat == \"A\":\n",
        "      left_threshold = left_threshold + 360\n",
        "      if angle >= left_threshold or angle <= right_threshold:\n",
        "        label_composition = \"sameCat\"\n",
        "        label = label_composition\n",
        "      else:\n",
        "        label_composition = \"diffCat\"\n",
        "        label = label_composition\n",
        "    else:\n",
        "      if angle >= left_threshold and angle <= right_threshold:\n",
        "        label_composition = \"sameCat\"\n",
        "        label = label_composition\n",
        "      else:\n",
        "        label_composition = \"diffCat\"\n",
        "        label = label_composition\n",
        "\n",
        "    labels.append(label)\n",
        "  return labels\n",
        "\n",
        "  # Create dictionary data\n",
        "def CreateDictionary (dataframe):\n",
        "  data_dicts = []\n",
        "\n",
        "  for i in range(len(dataframe)):\n",
        "    angle = dataframe.iloc[i, 0]\n",
        "    image = dataframe.iloc[i, 1]\n",
        "    img_dir = dataframe.iloc[i, 2]\n",
        "    label_RefA = dataframe.iloc[i, 3]\n",
        "    label_RefD = dataframe.iloc[i, 4]\n",
        "\n",
        "    individual_dic =  {'angle' : angle,\n",
        "                       'image' : image,\n",
        "                       'img_dir' : img_dir,\n",
        "                       'label_RefA' : label_RefA,\n",
        "                       'label_RefD' : label_RefD}\n",
        "\n",
        "    data_dicts.append(individual_dic)\n",
        "  return data_dicts"
      ],
      "metadata": {
        "id": "-gazhYgtbH08"
      },
      "execution_count": 12,
      "outputs": []
    },
    {
      "cell_type": "markdown",
      "source": [
        "6) Create datasets (4 for each condition)"
      ],
      "metadata": {
        "id": "72OFjL4f_7e4"
      }
    },
    {
      "cell_type": "code",
      "source": [
        "# COND1 : getting labels for each reference shape\n",
        "\n",
        "#refA\n",
        "labels_RefA_Cond1 = CreateLabelsAD(reference_shapeA, condition1, df_data, \"A\")\n",
        "#refD\n",
        "labels_RefD_Cond1 = CreateLabelsAD(reference_shapeD, condition1, df_data, \"D\")\n",
        "\n",
        "# add to dataframe\n",
        "df_data_cond1 = df_data\n",
        "df_data_cond1[\"label_RefA\"] = labels_RefA_Cond1\n",
        "df_data_cond1[\"label_RefD\"] = labels_RefD_Cond1\n",
        "\n",
        "data_Cond1 = CreateDictionary(df_data_cond1)\n",
        "data_Cond1[0]"
      ],
      "metadata": {
        "colab": {
          "base_uri": "https://localhost:8080/"
        },
        "id": "Jy110xwuc909",
        "outputId": "db5897bf-50e1-465f-b848-6d7628a735d5"
      },
      "execution_count": 13,
      "outputs": [
        {
          "output_type": "execute_result",
          "data": {
            "text/plain": [
              "{'angle': 0,\n",
              " 'image': '0.png',\n",
              " 'img_dir': 'my_data/CategoryLearningStimuli/0.png',\n",
              " 'label_RefA': 'sameCat',\n",
              " 'label_RefD': 'diffCat'}"
            ]
          },
          "metadata": {},
          "execution_count": 13
        }
      ]
    },
    {
      "cell_type": "code",
      "source": [
        "df_data_cond1"
      ],
      "metadata": {
        "colab": {
          "base_uri": "https://localhost:8080/",
          "height": 1197
        },
        "id": "UroKA7WiAU7F",
        "outputId": "5e2a8978-0a6d-48b0-f4c2-86d8f18a9658",
        "collapsed": true
      },
      "execution_count": 14,
      "outputs": [
        {
          "output_type": "execute_result",
          "data": {
            "text/plain": [
              "     angle    image                                  img_dir label_RefA  \\\n",
              "310      0    0.png    my_data/CategoryLearningStimuli/0.png    sameCat   \n",
              "217      1    1.png    my_data/CategoryLearningStimuli/1.png    sameCat   \n",
              "194      2    2.png    my_data/CategoryLearningStimuli/2.png    sameCat   \n",
              "0        3    3.png    my_data/CategoryLearningStimuli/3.png    sameCat   \n",
              "237      4    4.png    my_data/CategoryLearningStimuli/4.png    sameCat   \n",
              "..     ...      ...                                      ...        ...   \n",
              "7      356  356.png  my_data/CategoryLearningStimuli/356.png    sameCat   \n",
              "165    357  357.png  my_data/CategoryLearningStimuli/357.png    sameCat   \n",
              "8      358  358.png  my_data/CategoryLearningStimuli/358.png    sameCat   \n",
              "220    359  359.png  my_data/CategoryLearningStimuli/359.png    sameCat   \n",
              "292    360  360.png  my_data/CategoryLearningStimuli/360.png    sameCat   \n",
              "\n",
              "    label_RefD  \n",
              "310    diffCat  \n",
              "217    diffCat  \n",
              "194    diffCat  \n",
              "0      diffCat  \n",
              "237    diffCat  \n",
              "..         ...  \n",
              "7      diffCat  \n",
              "165    diffCat  \n",
              "8      diffCat  \n",
              "220    diffCat  \n",
              "292    diffCat  \n",
              "\n",
              "[361 rows x 5 columns]"
            ],
            "text/html": [
              "\n",
              "  <div id=\"df-35c55432-c55e-4d62-b5b8-696a8e7dc222\" class=\"colab-df-container\">\n",
              "    <div>\n",
              "<style scoped>\n",
              "    .dataframe tbody tr th:only-of-type {\n",
              "        vertical-align: middle;\n",
              "    }\n",
              "\n",
              "    .dataframe tbody tr th {\n",
              "        vertical-align: top;\n",
              "    }\n",
              "\n",
              "    .dataframe thead th {\n",
              "        text-align: right;\n",
              "    }\n",
              "</style>\n",
              "<table border=\"1\" class=\"dataframe\">\n",
              "  <thead>\n",
              "    <tr style=\"text-align: right;\">\n",
              "      <th></th>\n",
              "      <th>angle</th>\n",
              "      <th>image</th>\n",
              "      <th>img_dir</th>\n",
              "      <th>label_RefA</th>\n",
              "      <th>label_RefD</th>\n",
              "    </tr>\n",
              "  </thead>\n",
              "  <tbody>\n",
              "    <tr>\n",
              "      <th>310</th>\n",
              "      <td>0</td>\n",
              "      <td>0.png</td>\n",
              "      <td>my_data/CategoryLearningStimuli/0.png</td>\n",
              "      <td>sameCat</td>\n",
              "      <td>diffCat</td>\n",
              "    </tr>\n",
              "    <tr>\n",
              "      <th>217</th>\n",
              "      <td>1</td>\n",
              "      <td>1.png</td>\n",
              "      <td>my_data/CategoryLearningStimuli/1.png</td>\n",
              "      <td>sameCat</td>\n",
              "      <td>diffCat</td>\n",
              "    </tr>\n",
              "    <tr>\n",
              "      <th>194</th>\n",
              "      <td>2</td>\n",
              "      <td>2.png</td>\n",
              "      <td>my_data/CategoryLearningStimuli/2.png</td>\n",
              "      <td>sameCat</td>\n",
              "      <td>diffCat</td>\n",
              "    </tr>\n",
              "    <tr>\n",
              "      <th>0</th>\n",
              "      <td>3</td>\n",
              "      <td>3.png</td>\n",
              "      <td>my_data/CategoryLearningStimuli/3.png</td>\n",
              "      <td>sameCat</td>\n",
              "      <td>diffCat</td>\n",
              "    </tr>\n",
              "    <tr>\n",
              "      <th>237</th>\n",
              "      <td>4</td>\n",
              "      <td>4.png</td>\n",
              "      <td>my_data/CategoryLearningStimuli/4.png</td>\n",
              "      <td>sameCat</td>\n",
              "      <td>diffCat</td>\n",
              "    </tr>\n",
              "    <tr>\n",
              "      <th>...</th>\n",
              "      <td>...</td>\n",
              "      <td>...</td>\n",
              "      <td>...</td>\n",
              "      <td>...</td>\n",
              "      <td>...</td>\n",
              "    </tr>\n",
              "    <tr>\n",
              "      <th>7</th>\n",
              "      <td>356</td>\n",
              "      <td>356.png</td>\n",
              "      <td>my_data/CategoryLearningStimuli/356.png</td>\n",
              "      <td>sameCat</td>\n",
              "      <td>diffCat</td>\n",
              "    </tr>\n",
              "    <tr>\n",
              "      <th>165</th>\n",
              "      <td>357</td>\n",
              "      <td>357.png</td>\n",
              "      <td>my_data/CategoryLearningStimuli/357.png</td>\n",
              "      <td>sameCat</td>\n",
              "      <td>diffCat</td>\n",
              "    </tr>\n",
              "    <tr>\n",
              "      <th>8</th>\n",
              "      <td>358</td>\n",
              "      <td>358.png</td>\n",
              "      <td>my_data/CategoryLearningStimuli/358.png</td>\n",
              "      <td>sameCat</td>\n",
              "      <td>diffCat</td>\n",
              "    </tr>\n",
              "    <tr>\n",
              "      <th>220</th>\n",
              "      <td>359</td>\n",
              "      <td>359.png</td>\n",
              "      <td>my_data/CategoryLearningStimuli/359.png</td>\n",
              "      <td>sameCat</td>\n",
              "      <td>diffCat</td>\n",
              "    </tr>\n",
              "    <tr>\n",
              "      <th>292</th>\n",
              "      <td>360</td>\n",
              "      <td>360.png</td>\n",
              "      <td>my_data/CategoryLearningStimuli/360.png</td>\n",
              "      <td>sameCat</td>\n",
              "      <td>diffCat</td>\n",
              "    </tr>\n",
              "  </tbody>\n",
              "</table>\n",
              "<p>361 rows × 5 columns</p>\n",
              "</div>\n",
              "    <div class=\"colab-df-buttons\">\n",
              "\n",
              "  <div class=\"colab-df-container\">\n",
              "    <button class=\"colab-df-convert\" onclick=\"convertToInteractive('df-35c55432-c55e-4d62-b5b8-696a8e7dc222')\"\n",
              "            title=\"Convert this dataframe to an interactive table.\"\n",
              "            style=\"display:none;\">\n",
              "\n",
              "  <svg xmlns=\"http://www.w3.org/2000/svg\" height=\"24px\" viewBox=\"0 -960 960 960\">\n",
              "    <path d=\"M120-120v-720h720v720H120Zm60-500h600v-160H180v160Zm220 220h160v-160H400v160Zm0 220h160v-160H400v160ZM180-400h160v-160H180v160Zm440 0h160v-160H620v160ZM180-180h160v-160H180v160Zm440 0h160v-160H620v160Z\"/>\n",
              "  </svg>\n",
              "    </button>\n",
              "\n",
              "  <style>\n",
              "    .colab-df-container {\n",
              "      display:flex;\n",
              "      gap: 12px;\n",
              "    }\n",
              "\n",
              "    .colab-df-convert {\n",
              "      background-color: #E8F0FE;\n",
              "      border: none;\n",
              "      border-radius: 50%;\n",
              "      cursor: pointer;\n",
              "      display: none;\n",
              "      fill: #1967D2;\n",
              "      height: 32px;\n",
              "      padding: 0 0 0 0;\n",
              "      width: 32px;\n",
              "    }\n",
              "\n",
              "    .colab-df-convert:hover {\n",
              "      background-color: #E2EBFA;\n",
              "      box-shadow: 0px 1px 2px rgba(60, 64, 67, 0.3), 0px 1px 3px 1px rgba(60, 64, 67, 0.15);\n",
              "      fill: #174EA6;\n",
              "    }\n",
              "\n",
              "    .colab-df-buttons div {\n",
              "      margin-bottom: 4px;\n",
              "    }\n",
              "\n",
              "    [theme=dark] .colab-df-convert {\n",
              "      background-color: #3B4455;\n",
              "      fill: #D2E3FC;\n",
              "    }\n",
              "\n",
              "    [theme=dark] .colab-df-convert:hover {\n",
              "      background-color: #434B5C;\n",
              "      box-shadow: 0px 1px 3px 1px rgba(0, 0, 0, 0.15);\n",
              "      filter: drop-shadow(0px 1px 2px rgba(0, 0, 0, 0.3));\n",
              "      fill: #FFFFFF;\n",
              "    }\n",
              "  </style>\n",
              "\n",
              "    <script>\n",
              "      const buttonEl =\n",
              "        document.querySelector('#df-35c55432-c55e-4d62-b5b8-696a8e7dc222 button.colab-df-convert');\n",
              "      buttonEl.style.display =\n",
              "        google.colab.kernel.accessAllowed ? 'block' : 'none';\n",
              "\n",
              "      async function convertToInteractive(key) {\n",
              "        const element = document.querySelector('#df-35c55432-c55e-4d62-b5b8-696a8e7dc222');\n",
              "        const dataTable =\n",
              "          await google.colab.kernel.invokeFunction('convertToInteractive',\n",
              "                                                    [key], {});\n",
              "        if (!dataTable) return;\n",
              "\n",
              "        const docLinkHtml = 'Like what you see? Visit the ' +\n",
              "          '<a target=\"_blank\" href=https://colab.research.google.com/notebooks/data_table.ipynb>data table notebook</a>'\n",
              "          + ' to learn more about interactive tables.';\n",
              "        element.innerHTML = '';\n",
              "        dataTable['output_type'] = 'display_data';\n",
              "        await google.colab.output.renderOutput(dataTable, element);\n",
              "        const docLink = document.createElement('div');\n",
              "        docLink.innerHTML = docLinkHtml;\n",
              "        element.appendChild(docLink);\n",
              "      }\n",
              "    </script>\n",
              "  </div>\n",
              "\n",
              "\n",
              "<div id=\"df-21942ec3-e647-476f-965b-7b94ddaafb4b\">\n",
              "  <button class=\"colab-df-quickchart\" onclick=\"quickchart('df-21942ec3-e647-476f-965b-7b94ddaafb4b')\"\n",
              "            title=\"Suggest charts\"\n",
              "            style=\"display:none;\">\n",
              "\n",
              "<svg xmlns=\"http://www.w3.org/2000/svg\" height=\"24px\"viewBox=\"0 0 24 24\"\n",
              "     width=\"24px\">\n",
              "    <g>\n",
              "        <path d=\"M19 3H5c-1.1 0-2 .9-2 2v14c0 1.1.9 2 2 2h14c1.1 0 2-.9 2-2V5c0-1.1-.9-2-2-2zM9 17H7v-7h2v7zm4 0h-2V7h2v10zm4 0h-2v-4h2v4z\"/>\n",
              "    </g>\n",
              "</svg>\n",
              "  </button>\n",
              "\n",
              "<style>\n",
              "  .colab-df-quickchart {\n",
              "      --bg-color: #E8F0FE;\n",
              "      --fill-color: #1967D2;\n",
              "      --hover-bg-color: #E2EBFA;\n",
              "      --hover-fill-color: #174EA6;\n",
              "      --disabled-fill-color: #AAA;\n",
              "      --disabled-bg-color: #DDD;\n",
              "  }\n",
              "\n",
              "  [theme=dark] .colab-df-quickchart {\n",
              "      --bg-color: #3B4455;\n",
              "      --fill-color: #D2E3FC;\n",
              "      --hover-bg-color: #434B5C;\n",
              "      --hover-fill-color: #FFFFFF;\n",
              "      --disabled-bg-color: #3B4455;\n",
              "      --disabled-fill-color: #666;\n",
              "  }\n",
              "\n",
              "  .colab-df-quickchart {\n",
              "    background-color: var(--bg-color);\n",
              "    border: none;\n",
              "    border-radius: 50%;\n",
              "    cursor: pointer;\n",
              "    display: none;\n",
              "    fill: var(--fill-color);\n",
              "    height: 32px;\n",
              "    padding: 0;\n",
              "    width: 32px;\n",
              "  }\n",
              "\n",
              "  .colab-df-quickchart:hover {\n",
              "    background-color: var(--hover-bg-color);\n",
              "    box-shadow: 0 1px 2px rgba(60, 64, 67, 0.3), 0 1px 3px 1px rgba(60, 64, 67, 0.15);\n",
              "    fill: var(--button-hover-fill-color);\n",
              "  }\n",
              "\n",
              "  .colab-df-quickchart-complete:disabled,\n",
              "  .colab-df-quickchart-complete:disabled:hover {\n",
              "    background-color: var(--disabled-bg-color);\n",
              "    fill: var(--disabled-fill-color);\n",
              "    box-shadow: none;\n",
              "  }\n",
              "\n",
              "  .colab-df-spinner {\n",
              "    border: 2px solid var(--fill-color);\n",
              "    border-color: transparent;\n",
              "    border-bottom-color: var(--fill-color);\n",
              "    animation:\n",
              "      spin 1s steps(1) infinite;\n",
              "  }\n",
              "\n",
              "  @keyframes spin {\n",
              "    0% {\n",
              "      border-color: transparent;\n",
              "      border-bottom-color: var(--fill-color);\n",
              "      border-left-color: var(--fill-color);\n",
              "    }\n",
              "    20% {\n",
              "      border-color: transparent;\n",
              "      border-left-color: var(--fill-color);\n",
              "      border-top-color: var(--fill-color);\n",
              "    }\n",
              "    30% {\n",
              "      border-color: transparent;\n",
              "      border-left-color: var(--fill-color);\n",
              "      border-top-color: var(--fill-color);\n",
              "      border-right-color: var(--fill-color);\n",
              "    }\n",
              "    40% {\n",
              "      border-color: transparent;\n",
              "      border-right-color: var(--fill-color);\n",
              "      border-top-color: var(--fill-color);\n",
              "    }\n",
              "    60% {\n",
              "      border-color: transparent;\n",
              "      border-right-color: var(--fill-color);\n",
              "    }\n",
              "    80% {\n",
              "      border-color: transparent;\n",
              "      border-right-color: var(--fill-color);\n",
              "      border-bottom-color: var(--fill-color);\n",
              "    }\n",
              "    90% {\n",
              "      border-color: transparent;\n",
              "      border-bottom-color: var(--fill-color);\n",
              "    }\n",
              "  }\n",
              "</style>\n",
              "\n",
              "  <script>\n",
              "    async function quickchart(key) {\n",
              "      const quickchartButtonEl =\n",
              "        document.querySelector('#' + key + ' button');\n",
              "      quickchartButtonEl.disabled = true;  // To prevent multiple clicks.\n",
              "      quickchartButtonEl.classList.add('colab-df-spinner');\n",
              "      try {\n",
              "        const charts = await google.colab.kernel.invokeFunction(\n",
              "            'suggestCharts', [key], {});\n",
              "      } catch (error) {\n",
              "        console.error('Error during call to suggestCharts:', error);\n",
              "      }\n",
              "      quickchartButtonEl.classList.remove('colab-df-spinner');\n",
              "      quickchartButtonEl.classList.add('colab-df-quickchart-complete');\n",
              "    }\n",
              "    (() => {\n",
              "      let quickchartButtonEl =\n",
              "        document.querySelector('#df-21942ec3-e647-476f-965b-7b94ddaafb4b button');\n",
              "      quickchartButtonEl.style.display =\n",
              "        google.colab.kernel.accessAllowed ? 'block' : 'none';\n",
              "    })();\n",
              "  </script>\n",
              "</div>\n",
              "    </div>\n",
              "  </div>\n"
            ],
            "application/vnd.google.colaboratory.intrinsic+json": {
              "type": "dataframe",
              "variable_name": "df_data",
              "summary": "{\n  \"name\": \"df_data\",\n  \"rows\": 361,\n  \"fields\": [\n    {\n      \"column\": \"angle\",\n      \"properties\": {\n        \"dtype\": \"number\",\n        \"std\": 104,\n        \"min\": 0,\n        \"max\": 360,\n        \"num_unique_values\": 361,\n        \"samples\": [\n          163,\n          33,\n          15\n        ],\n        \"semantic_type\": \"\",\n        \"description\": \"\"\n      }\n    },\n    {\n      \"column\": \"image\",\n      \"properties\": {\n        \"dtype\": \"string\",\n        \"num_unique_values\": 361,\n        \"samples\": [\n          \"163.png\",\n          \"33.png\",\n          \"15.png\"\n        ],\n        \"semantic_type\": \"\",\n        \"description\": \"\"\n      }\n    },\n    {\n      \"column\": \"img_dir\",\n      \"properties\": {\n        \"dtype\": \"string\",\n        \"num_unique_values\": 361,\n        \"samples\": [\n          \"my_data/CategoryLearningStimuli/163.png\",\n          \"my_data/CategoryLearningStimuli/33.png\",\n          \"my_data/CategoryLearningStimuli/15.png\"\n        ],\n        \"semantic_type\": \"\",\n        \"description\": \"\"\n      }\n    },\n    {\n      \"column\": \"label_RefA\",\n      \"properties\": {\n        \"dtype\": \"category\",\n        \"num_unique_values\": 2,\n        \"samples\": [\n          \"diffCat\",\n          \"sameCat\"\n        ],\n        \"semantic_type\": \"\",\n        \"description\": \"\"\n      }\n    },\n    {\n      \"column\": \"label_RefD\",\n      \"properties\": {\n        \"dtype\": \"category\",\n        \"num_unique_values\": 2,\n        \"samples\": [\n          \"sameCat\",\n          \"diffCat\"\n        ],\n        \"semantic_type\": \"\",\n        \"description\": \"\"\n      }\n    }\n  ]\n}"
            }
          },
          "metadata": {},
          "execution_count": 14
        }
      ]
    },
    {
      "cell_type": "code",
      "source": [
        "# COND2 : getting labels for each reference shape\n",
        "\n",
        "#refA\n",
        "labels_RefA_Cond2 = CreateLabelsAD(reference_shapeA, condition2, df_data, \"A\")\n",
        "#refD\n",
        "labels_RefD_Cond2 = CreateLabelsAD(reference_shapeD, condition2, df_data, \"D\")\n",
        "\n",
        "# add to dataframe\n",
        "df_data_cond2 = df_data\n",
        "df_data_cond2[\"label_RefA\"] = labels_RefA_Cond2\n",
        "df_data_cond2[\"label_RefD\"] = labels_RefD_Cond2\n",
        "\n",
        "data_Cond2 = CreateDictionary(df_data_cond2)\n",
        "data_Cond2[0]"
      ],
      "metadata": {
        "id": "WIm1-Ql5KSaK",
        "colab": {
          "base_uri": "https://localhost:8080/"
        },
        "collapsed": true,
        "outputId": "0fc709c1-b44b-41e6-be90-1b29cb50cb5f"
      },
      "execution_count": null,
      "outputs": [
        {
          "output_type": "execute_result",
          "data": {
            "text/plain": [
              "{'angle': 1,\n",
              " 'image': '1.png',\n",
              " 'img_dir': 'my_data/CategoryLearningStimuli/1.png',\n",
              " 'label_RefA': 'sameCat',\n",
              " 'label_RefD': 'diffCat'}"
            ]
          },
          "metadata": {},
          "execution_count": 14
        }
      ]
    },
    {
      "cell_type": "markdown",
      "source": [
        "7) Create and select random positions for images"
      ],
      "metadata": {
        "id": "iKeaQuFovLre"
      }
    },
    {
      "cell_type": "code",
      "source": [
        "# read positions.txt\n",
        "#read\n",
        "PATH = '/content/drive/MyDrive/Thesis/Neural_network/Human category learning task/documents/positions.txt'\n",
        "positions = np.loadtxt(PATH)\n",
        "positions = positions.tolist()\n",
        "positions = [[int(float(j)) for j in i] for i in positions]\n",
        "positions[:5]"
      ],
      "metadata": {
        "id": "yMP3PGP_3f_I",
        "colab": {
          "base_uri": "https://localhost:8080/"
        },
        "collapsed": true,
        "outputId": "ecd784bd-938b-43b9-d2e5-029e154cdfbf"
      },
      "execution_count": 15,
      "outputs": [
        {
          "output_type": "execute_result",
          "data": {
            "text/plain": [
              "[[23, 25, 21, 19],\n",
              " [26, 26, 18, 18],\n",
              " [31, 7, 13, 37],\n",
              " [27, 5, 17, 39],\n",
              " [31, 10, 13, 34]]"
            ]
          },
          "metadata": {},
          "execution_count": 15
        }
      ]
    },
    {
      "cell_type": "markdown",
      "source": [
        "8) Define class for CNN"
      ],
      "metadata": {
        "id": "FhOEMQaDABIw"
      }
    },
    {
      "cell_type": "code",
      "source": [
        "# function to gove 'random' color jitter\n",
        "import torch\n",
        "from torchvision import transforms\n",
        "from torchvision.transforms import functional as F\n",
        "\n",
        "def compute_parameters(brightness, contrast, saturation, hue): #tuples\n",
        "  # pool size of static random values\n",
        "  N_values = 1000\n",
        "\n",
        "  # Create list of random values\n",
        "  rng = np.random.default_rng(seed=42)\n",
        "  brightness = list(rng.uniform(low=brightness[0], high=brightness[1], size=(N_values,)))\n",
        "  contrast = list(rng.uniform(low=contrast[0], high=contrast[1], size=(N_values,)))\n",
        "  saturation = list(rng.uniform(low=saturation[0], high=saturation[1], size=(N_values,)))\n",
        "  hue = hue\n",
        "\n",
        "  # Define specific jitter values\n",
        "  brightness_factor = np.random.choice(brightness)  # Change this to your specific value\n",
        "  contrast_factor = np.random.choice(contrast)    # Change this to your specific value\n",
        "  saturation_factor = 0.8  # Change this to your specific value\n",
        "  hue_factor = 0.1         # Change this to your specific value\n",
        "\n",
        "  return brightness_factor, contrast_factor, saturation_factor, hue_factor\n",
        "\n",
        "\n",
        "def apply_ColorJitter(tensor, brightness_factor, contrast_factor, saturation_factor, hue_factor):\n",
        "\n",
        "  # Convert tensor to PIL Image\n",
        "  pil_image = transforms.ToPILImage()(tensor)\n",
        "\n",
        "  # Apply the transformations using functional API on PIL image\n",
        "  jittered_image = F.adjust_brightness(pil_image, brightness_factor)\n",
        "  jittered_image = F.adjust_contrast(jittered_image, contrast_factor)\n",
        "  jittered_image = F.adjust_saturation(jittered_image, saturation_factor)\n",
        "  jittered_image = F.adjust_hue(jittered_image, hue_factor)\n",
        "\n",
        "  # Convert PIL Image back to tensor\n",
        "  jittered_tensor = transforms.ToTensor()(jittered_image)\n",
        "\n",
        "  return jittered_tensor"
      ],
      "metadata": {
        "id": "KkAtxOPKT4On"
      },
      "execution_count": 16,
      "outputs": []
    },
    {
      "cell_type": "code",
      "source": [
        "class ShapeImageDataset (Dataset):\n",
        "  # return two images, with 50% chance in same or different category and ground truth\n",
        "\n",
        "  # __init__\n",
        "  def __init__(self, length, reference_shape, data_dict, positions, transform=None):\n",
        "    self.length = length\n",
        "    self.reference_shape = reference_shape\n",
        "    self.data = data_dict\n",
        "    self.transform = transform\n",
        "    self.positions = positions\n",
        "    self.left_right = [1, 0]\n",
        "    self.same_category = [1, 0]\n",
        "\n",
        "  # __len__\n",
        "  def __len__(self):\n",
        "    return self.length\n",
        "\n",
        "  # function to pick image from 'diffCat'\n",
        "  def select_Cat_image(self, label, category):\n",
        "    result = []\n",
        "    for item in self.data:\n",
        "      if item[label] == category:\n",
        "        result.append(item)\n",
        "    return choice(result)\n",
        "\n",
        "  # function to read images\n",
        "  def read_image_from_directory(self, img_dir):\n",
        "    return read_image(img_dir, ImageReadMode.RGB)\n",
        "\n",
        "  # function to get labels corresponding to reference shape\n",
        "  def get_label(self, reference_shape):\n",
        "    if reference_shape == 0:\n",
        "      label = 'label_RefA'\n",
        "    else:\n",
        "      label = 'label_RefD'\n",
        "    return label\n",
        "\n",
        "  # __getitem__\n",
        "  def __getitem__(self, idx):\n",
        "\n",
        "    # get label of reference shape (e.g. \"label_RefA\")\n",
        "    label = self.get_label(self.reference_shape)\n",
        "\n",
        "    # img1 should be reference shape\n",
        "    ref_shape_image = self.data[self.reference_shape]\n",
        "    ref_shape_label = ref_shape_image[label]\n",
        "    ref_shape_dir = ref_shape_image['img_dir']\n",
        "\n",
        "    # img2 should be test shape: from all angles\n",
        "    if self.length <= 360:\n",
        "      test_shape_angle_360 = idx\n",
        "    elif self.length > 360 and self.length <= (360*2):\n",
        "      if idx > 360:\n",
        "        test_shape_angle_360 = idx - 360\n",
        "      else:\n",
        "        test_shape_angle_360 = idx\n",
        "    elif self.length > (360*2) and self.length <= (360*3):\n",
        "      if idx > 360 and idx <= (360*2):\n",
        "        test_shape_angle_360 = idx - 360\n",
        "      elif idx > (360*2) and idx <= (360*3):\n",
        "        test_shape_angle_360 = idx - (360*2)\n",
        "      else:\n",
        "        test_shape_angle_360 = idx\n",
        "    else:\n",
        "      if idx > 360 and idx <= (360*2):\n",
        "        test_shape_angle_360 = idx - 360\n",
        "      elif idx > (360*2) and idx <= (360*3):\n",
        "        test_shape_angle_360 = idx - (360*2)\n",
        "      elif idx > (360*3) and idx <= (360*4):\n",
        "        test_shape_angle_360 = idx - (360*3)\n",
        "      else:\n",
        "        test_shape_angle_360 = idx\n",
        "\n",
        "    # get test shape\n",
        "    test_shape_image = self.data[test_shape_angle_360]\n",
        "\n",
        "    # 50-50 choose image 2 from same category\n",
        "    same = choice(self.same_category)\n",
        "    if same == 1:\n",
        "      if test_shape_image[label] == ref_shape_label:\n",
        "        pass\n",
        "      else:\n",
        "        test_shape_image = self.select_Cat_image(label, 'sameCat')\n",
        "    else:\n",
        "      if test_shape_image[label] != ref_shape_label:\n",
        "        pass\n",
        "      else:\n",
        "        test_shape_image = self.select_Cat_image(label, 'diffCat')\n",
        "\n",
        "    # get test shape label and directory\n",
        "    test_shape_label = test_shape_image[label]\n",
        "    test_shape_dir = test_shape_image['img_dir']\n",
        "\n",
        "    # read images\n",
        "    img1 = self.read_image_from_directory(ref_shape_dir)\n",
        "    img2 = self.read_image_from_directory(test_shape_dir)\n",
        "\n",
        "    # gt\n",
        "    if ref_shape_label == test_shape_label:\n",
        "      gt = 1\n",
        "    else:\n",
        "      gt = 0\n",
        "\n",
        "    # apply transformations\n",
        "    # resize to 180x180\n",
        "    resize = v2.Resize([180,180])\n",
        "    img1 = resize(img1)\n",
        "    img2 = resize(img2)\n",
        "    # apply padding\n",
        "    img1_selected_position = choice(self.positions)\n",
        "    img2_selected_position = choice(self.positions)\n",
        "    padding_img1 = Pad(padding = img1_selected_position, fill=128)\n",
        "    padding_img2 = Pad(padding = img2_selected_position, fill=128)\n",
        "    img1 = padding_img1(img1)\n",
        "    img2 = padding_img2(img2)\n",
        "\n",
        "    #apply ColorJitter\n",
        "    [brightness_factor, contrast_factor, saturation_factor, hue_factor] = compute_parameters(\n",
        "        brightness=(0.5,0.8), contrast=(0.1,1), saturation=(-0.5,0.5), hue=0)\n",
        "    img1 = apply_ColorJitter(img1, brightness_factor, contrast_factor, saturation_factor, hue_factor)\n",
        "    img2 = apply_ColorJitter(img2, brightness_factor, contrast_factor, saturation_factor, hue_factor)\n",
        "\n",
        "    # apply more transformations\n",
        "    if self.transform:\n",
        "      img1 = self.transform(img1)\n",
        "      img2 = self.transform(img2)\n",
        "\n",
        "    # left and right positions change randomly\n",
        "    # return tensors for image 1 and image 2 and a ground truth\n",
        "    if choice(self.left_right) == 1:\n",
        "      img_left = img1\n",
        "      img_right = img2\n",
        "    else:\n",
        "      img_left = img2\n",
        "      img_right = img1\n",
        "\n",
        "    #return to_grayscale_rgb(img_left), to_grayscale_rgb(img_right), gt\n",
        "    return img_left, img_right, gt"
      ],
      "metadata": {
        "id": "ABa-eDL3BeXa"
      },
      "execution_count": 21,
      "outputs": []
    },
    {
      "cell_type": "markdown",
      "source": [
        "9) Create datasets of images"
      ],
      "metadata": {
        "id": "M8Ma85FibAHp"
      }
    },
    {
      "cell_type": "code",
      "source": [
        "# tranformations to images for NN\n",
        "preprocess = v2.Compose(\n",
        "    [   v2.ToDtype(torch.float32, scale=True),\n",
        "        v2.Normalize(mean=[0.485, 0.456, 0.406], std=[0.229, 0.224, 0.225]),\n",
        "    ]\n",
        ")"
      ],
      "metadata": {
        "id": "__RpP8WTbBq1"
      },
      "execution_count": 18,
      "outputs": []
    },
    {
      "cell_type": "code",
      "source": [
        "#create dataset for RSA\n",
        "#parameters: length, reference_shape, test_shape, data_dict, positions, transform=None)\n",
        "len_dataset = 360*4 # multiple of 360 up until (360*4)\n",
        "dataset_RSA = ShapeImageDataset(len_dataset, reference_shapeA, data_Cond1, positions, preprocess)"
      ],
      "metadata": {
        "id": "uguuCmIhb8wO"
      },
      "execution_count": 22,
      "outputs": []
    },
    {
      "cell_type": "code",
      "source": [
        "dataset_RSA[360*4]"
      ],
      "metadata": {
        "colab": {
          "base_uri": "https://localhost:8080/"
        },
        "collapsed": true,
        "id": "aocmSX-6K90c",
        "outputId": "6e1f27ee-b4ed-48f0-ef94-a5507e9b04ee"
      },
      "execution_count": 24,
      "outputs": [
        {
          "output_type": "execute_result",
          "data": {
            "text/plain": [
              "(tensor([[[-1.1418, -1.1418, -1.1418,  ..., -1.1418, -1.1418, -1.1418],\n",
              "          [-1.1418, -1.1418, -1.1418,  ..., -1.1418, -1.1418, -1.1418],\n",
              "          [-1.1418, -1.1418, -1.1418,  ..., -1.1418, -1.1418, -1.1418],\n",
              "          ...,\n",
              "          [-1.1418, -1.1418, -1.1418,  ..., -1.1418, -1.1418, -1.1418],\n",
              "          [-1.1418, -1.1418, -1.1418,  ..., -1.1418, -1.1418, -1.1418],\n",
              "          [-1.1418, -1.1418, -1.1418,  ..., -1.1418, -1.1418, -1.1418]],\n",
              " \n",
              "         [[-1.0378, -1.0378, -1.0378,  ..., -1.0378, -1.0378, -1.0378],\n",
              "          [-1.0378, -1.0378, -1.0378,  ..., -1.0378, -1.0378, -1.0378],\n",
              "          [-1.0378, -1.0378, -1.0378,  ..., -1.0378, -1.0378, -1.0378],\n",
              "          ...,\n",
              "          [-1.0378, -1.0378, -1.0378,  ..., -1.0378, -1.0378, -1.0378],\n",
              "          [-1.0378, -1.0378, -1.0378,  ..., -1.0378, -1.0378, -1.0378],\n",
              "          [-1.0378, -1.0378, -1.0378,  ..., -1.0378, -1.0378, -1.0378]],\n",
              " \n",
              "         [[-0.8110, -0.8110, -0.8110,  ..., -0.8110, -0.8110, -0.8110],\n",
              "          [-0.8110, -0.8110, -0.8110,  ..., -0.8110, -0.8110, -0.8110],\n",
              "          [-0.8110, -0.8110, -0.8110,  ..., -0.8110, -0.8110, -0.8110],\n",
              "          ...,\n",
              "          [-0.8110, -0.8110, -0.8110,  ..., -0.8110, -0.8110, -0.8110],\n",
              "          [-0.8110, -0.8110, -0.8110,  ..., -0.8110, -0.8110, -0.8110],\n",
              "          [-0.8110, -0.8110, -0.8110,  ..., -0.8110, -0.8110, -0.8110]]]),\n",
              " tensor([[[-1.1075, -1.1075, -1.1075,  ..., -1.1075, -1.1075, -1.1075],\n",
              "          [-1.1075, -1.1075, -1.1075,  ..., -1.1075, -1.1075, -1.1075],\n",
              "          [-1.1075, -1.1075, -1.1075,  ..., -1.1075, -1.1075, -1.1075],\n",
              "          ...,\n",
              "          [-1.1075, -1.1075, -1.1075,  ..., -1.1075, -1.1075, -1.1075],\n",
              "          [-1.1075, -1.1075, -1.1075,  ..., -1.1075, -1.1075, -1.1075],\n",
              "          [-1.1075, -1.1075, -1.1075,  ..., -1.1075, -1.1075, -1.1075]],\n",
              " \n",
              "         [[-1.0028, -1.0028, -1.0028,  ..., -1.0028, -1.0028, -1.0028],\n",
              "          [-1.0028, -1.0028, -1.0028,  ..., -1.0028, -1.0028, -1.0028],\n",
              "          [-1.0028, -1.0028, -1.0028,  ..., -1.0028, -1.0028, -1.0028],\n",
              "          ...,\n",
              "          [-1.0028, -1.0028, -1.0028,  ..., -1.0028, -1.0028, -1.0028],\n",
              "          [-1.0028, -1.0028, -1.0028,  ..., -1.0028, -1.0028, -1.0028],\n",
              "          [-1.0028, -1.0028, -1.0028,  ..., -1.0028, -1.0028, -1.0028]],\n",
              " \n",
              "         [[-0.7761, -0.7761, -0.7761,  ..., -0.7761, -0.7761, -0.7761],\n",
              "          [-0.7761, -0.7761, -0.7761,  ..., -0.7761, -0.7761, -0.7761],\n",
              "          [-0.7761, -0.7761, -0.7761,  ..., -0.7761, -0.7761, -0.7761],\n",
              "          ...,\n",
              "          [-0.7761, -0.7761, -0.7761,  ..., -0.7761, -0.7761, -0.7761],\n",
              "          [-0.7761, -0.7761, -0.7761,  ..., -0.7761, -0.7761, -0.7761],\n",
              "          [-0.7761, -0.7761, -0.7761,  ..., -0.7761, -0.7761, -0.7761]]]),\n",
              " 0)"
            ]
          },
          "metadata": {},
          "execution_count": 24
        }
      ]
    },
    {
      "cell_type": "markdown",
      "source": [
        "**Plotting Dataset**"
      ],
      "metadata": {
        "id": "Txap5WFUded-"
      }
    },
    {
      "cell_type": "code",
      "source": [
        "# Denormalize tensor\n",
        "denormalize = transforms.Normalize(\n",
        "    mean=[-0.485 / 0.229, -0.456 / 0.224, -0.406 / 0.225],\n",
        "    std=[1/0.229, 1/0.224, 1/0.225]\n",
        ")"
      ],
      "metadata": {
        "id": "H8x2PUkxUWg2"
      },
      "execution_count": 26,
      "outputs": []
    },
    {
      "cell_type": "code",
      "source": [
        "from torchvision.transforms import functional as F\n",
        "\n",
        "def tensor_to_pil(image_tensor):\n",
        "    return F.to_pil_image(image_tensor)"
      ],
      "metadata": {
        "id": "YJmvs08AUYK4"
      },
      "execution_count": 25,
      "outputs": []
    },
    {
      "cell_type": "code",
      "source": [
        "# Example usage to display 5 pairs of images\n",
        "fig, axs = plt.subplots(4, 2, figsize=(5, 10))\n",
        "\n",
        "for i in range(4):\n",
        "    idx = np.random.randint(0, len(dataset_RSA) - 1)\n",
        "    img1, img2, gt = dataset_RSA[idx]  # Get image pair and ground truth\n",
        "    img1 = denormalize(img1)\n",
        "    img2 = denormalize(img2)\n",
        "    img1_pil = tensor_to_pil(img1)\n",
        "    img2_pil = tensor_to_pil(img2)\n",
        "\n",
        "    axs[i, 0].imshow(img1_pil)\n",
        "    axs[i, 0].set_title('Image 1')\n",
        "    axs[i, 0].axis('off')\n",
        "\n",
        "    axs[i, 1].imshow(img2_pil)\n",
        "    axs[i, 1].set_title(f'Image 2 - GT: {gt}')\n",
        "    axs[i, 1].axis('off')\n",
        "\n",
        "plt.tight_layout()\n",
        "#plt.savefig(dic_training + 'image_pairs_training_RSD.pdf')\n",
        "plt.show()"
      ],
      "metadata": {
        "colab": {
          "base_uri": "https://localhost:8080/",
          "height": 1000
        },
        "id": "RtuoxF0PdvoC",
        "outputId": "1653544a-8a3a-424c-ac31-0c06fa850033",
        "collapsed": true
      },
      "execution_count": 27,
      "outputs": [
        {
          "output_type": "display_data",
          "data": {
            "text/plain": [
              "<Figure size 500x1000 with 8 Axes>"
            ],
            "image/png": "[encoded data removed]"
          },
          "metadata": {}
        }
      ]
    },
    {
      "cell_type": "markdown",
      "source": [
        "**Neural network**"
      ],
      "metadata": {
        "id": "gYvDAVCDnlNX"
      }
    },
    {
      "cell_type": "markdown",
      "source": [
        "Get pre-trained weights"
      ],
      "metadata": {
        "id": "v2mXucf_vJj2"
      }
    },
    {
      "cell_type": "code",
      "source": [
        "# COND1\n",
        "#create dataset for RSA and RSD\n",
        "#parameters: length, reference_shape, test_shape, data_dict, positions, transform=None)\n",
        "len_dataset = (360*4)\n",
        "dataset_RSA = ShapeImageDataset(len_dataset, reference_shapeA, data_Cond1, positions, preprocess)\n",
        "dataset_RSD = ShapeImageDataset(len_dataset, reference_shapeD, data_Cond1, positions, preprocess)"
      ],
      "metadata": {
        "id": "uv_oNUxWVLzC"
      },
      "execution_count": 30,
      "outputs": []
    },
    {
      "cell_type": "code",
      "source": [
        "# dataset loader\n",
        "dataset_loader_RSA = DataLoader(dataset_RSA, 64)\n",
        "dataset_loader_RSD = DataLoader(dataset_RSD, 64)"
      ],
      "metadata": {
        "id": "ATWuIHLxYvRm"
      },
      "execution_count": 31,
      "outputs": []
    },
    {
      "cell_type": "code",
      "source": [
        "# experiment-dependent function to process an epoch of data\n",
        "epoch_fun = osculari.paradigms.forced_choice.epoch_loop"
      ],
      "metadata": {
        "id": "fKBuKNyDVaEY"
      },
      "execution_count": 32,
      "outputs": []
    },
    {
      "cell_type": "code",
      "source": [
        "lr = 0.01"
      ],
      "metadata": {
        "id": "cFaNnNtDUeci"
      },
      "execution_count": 33,
      "outputs": []
    },
    {
      "cell_type": "code",
      "source": [
        "#load pretrained weights\n",
        "Animal_weights_layer0_NP = 'Animal_weights_layer0_NP.pt'\n",
        "Animal_weights_layer1_NP = 'Animal_weights_layer1_NP.pt'\n",
        "Animal_weights_layer2_NP = 'Animal_weights_layer2_NP.pt'\n",
        "\n",
        "# load weights\n",
        "def load_weights(model):\n",
        "  PATH = dic_pretraining + model\n",
        "  pretrained_weights = torch.load(PATH)\n",
        "  return pretrained_weights"
      ],
      "metadata": {
        "id": "Fp44Hv6GXf6u"
      },
      "execution_count": 53,
      "outputs": []
    },
    {
      "cell_type": "code",
      "source": [
        "weights_layer0_NP = load_weights(Animal_weights_layer0_NP)\n",
        "weights_layer1_NP = load_weights(Animal_weights_layer1_NP)\n",
        "weights_layer2_NP = load_weights(Animal_weights_layer2_NP)"
      ],
      "metadata": {
        "id": "qAhX2k1pXz-3"
      },
      "execution_count": 54,
      "outputs": []
    },
    {
      "cell_type": "markdown",
      "source": [
        "Training"
      ],
      "metadata": {
        "id": "XTXicMC4uyeB"
      }
    },
    {
      "cell_type": "code",
      "source": [
        "#####################################################################\n",
        "# RESNET WEIGHTS - NO PRE-TRAINING (and no pooling) layer0\n",
        "#####################################################################\n",
        "\n",
        "# network\n",
        "architecture = 'resnet50'        # network's architecture\n",
        "weights = 'resnet50'             # the pretrained weights\n",
        "img_size = 224                   # network's input size\n",
        "layer = 'block0'                    # the readout layer\n",
        "pooling = None\n",
        "readout_kwargs = {               # parameters for extracting features from the pretrained network\n",
        "    'architecture': architecture,\n",
        "    'weights': weights,\n",
        "    'layers': layer,\n",
        "    'img_size': img_size,\n",
        "    'pooling': pooling\n",
        "}\n",
        "\n",
        "# model with pre-trained weights\n",
        "original_model_RSA = osculari.models.paradigm_2afc_merge_concatenate(**readout_kwargs)\n",
        "original_model_RSD = osculari.models.paradigm_2afc_merge_concatenate(**readout_kwargs)"
      ],
      "metadata": {
        "colab": {
          "base_uri": "https://localhost:8080/"
        },
        "id": "ayaiSxPyX9hJ",
        "outputId": "fdc6922c-446e-4e41-ebef-1c8c7ff3e6a2"
      },
      "execution_count": 36,
      "outputs": [
        {
          "output_type": "stream",
          "name": "stderr",
          "text": [
            "Downloading: \"https://download.pytorch.org/models/resnet50-11ad3fa6.pth\" to /root/.cache/torch/hub/checkpoints/resnet50-11ad3fa6.pth\n",
            "100%|██████████| 97.8M/97.8M [00:00<00:00, 120MB/s]\n"
          ]
        }
      ]
    },
    {
      "cell_type": "code",
      "source": [
        "# RS-A\n",
        "params_to_optimize = [{'params': [p for p in original_model_RSA.fc.parameters()]}]\n",
        "optimiser = torch.optim.SGD(params_to_optimize, lr=lr, momentum=0.9, weight_decay=1e-4)\n",
        "# calling the generic train_linear_probe function\n",
        "training_log = osculari.paradigms.paradigm_utils.train_linear_probe(\n",
        "    original_model_RSA, dataset_loader_RSA, epoch_fun, 'my_data/osculari_test/', device=\"cuda\",\n",
        "    epochs = 10,\n",
        "    optimiser=optimiser\n",
        "    )"
      ],
      "metadata": {
        "colab": {
          "base_uri": "https://localhost:8080/"
        },
        "id": "KLg3fo7XZLwo",
        "outputId": "1a567007-c08a-4352-b9c9-e49cfe64a264"
      },
      "execution_count": 37,
      "outputs": [
        {
          "output_type": "stream",
          "name": "stdout",
          "text": [
            "[000] accuracy=0.492 loss=40850.191\n",
            "[001] accuracy=0.537 loss=43929.217\n",
            "[002] accuracy=0.588 loss=36607.165\n",
            "[003] accuracy=0.578 loss=40198.453\n",
            "[004] accuracy=0.712 loss=15337.757\n",
            "[005] accuracy=0.791 loss=6514.998\n",
            "[006] accuracy=0.876 loss=3207.714\n",
            "[007] accuracy=0.892 loss=2835.172\n",
            "[008] accuracy=0.870 loss=3407.650\n",
            "[009] accuracy=0.902 loss=2287.055\n"
          ]
        }
      ]
    },
    {
      "cell_type": "code",
      "source": [
        "# save RSA model's weigths\n",
        "PATH = dic_training + 'training_originalmodel-RSA.pt'\n",
        "torch.save(original_model_RSA.state_dict(), PATH)"
      ],
      "metadata": {
        "id": "wa5PjETSZRVX"
      },
      "execution_count": 38,
      "outputs": []
    },
    {
      "cell_type": "code",
      "source": [
        "# RS-D\n",
        "params_to_optimize = [{'params': [p for p in original_model_RSD.fc.parameters()]}]\n",
        "optimiser = torch.optim.SGD(params_to_optimize, lr=lr, momentum=0.9, weight_decay=1e-4)\n",
        "# calling the generic train_linear_probe function\n",
        "training_log = osculari.paradigms.paradigm_utils.train_linear_probe(\n",
        "    original_model_RSD, dataset_loader_RSD, epoch_fun, 'my_data/osculari_test/', device=\"cuda\",\n",
        "    epochs = 10,\n",
        "    optimiser=optimiser\n",
        "    )"
      ],
      "metadata": {
        "colab": {
          "base_uri": "https://localhost:8080/"
        },
        "id": "iJt3J-OfZ0Fk",
        "outputId": "815f6b56-d125-49f6-f4b8-44e5300ba707"
      },
      "execution_count": 39,
      "outputs": [
        {
          "output_type": "stream",
          "name": "stdout",
          "text": [
            "[000] accuracy=0.583 loss=16162.622\n",
            "[001] accuracy=0.747 loss=4737.952\n",
            "[002] accuracy=0.846 loss=1989.213\n",
            "[003] accuracy=0.863 loss=2117.640\n",
            "[004] accuracy=0.782 loss=3730.558\n",
            "[005] accuracy=0.895 loss=1537.579\n",
            "[006] accuracy=0.908 loss=891.384\n",
            "[007] accuracy=0.938 loss=627.565\n",
            "[008] accuracy=0.944 loss=399.136\n",
            "[009] accuracy=0.953 loss=390.649\n"
          ]
        }
      ]
    },
    {
      "cell_type": "code",
      "source": [
        "# save RSD model's weigths\n",
        "PATH = dic_training + 'training_originalmodel-RSD.pt'\n",
        "torch.save(original_model_RSD.state_dict(), PATH)"
      ],
      "metadata": {
        "id": "RKfUA57ZaFIk"
      },
      "execution_count": 41,
      "outputs": []
    },
    {
      "cell_type": "code",
      "source": [
        "##############################################\n",
        "# No pooling, layer 0 - pretrained\n",
        "##############################################\n",
        "\n",
        "# network\n",
        "architecture = 'resnet50'        # network's architecture\n",
        "weights = 'resnet50'             # the pretrained weights\n",
        "img_size = 224                   # network's input size\n",
        "layer = 'block0'                    # the readout layer\n",
        "pooling = None\n",
        "readout_kwargs = {               # parameters for extracting features from the pretrained network\n",
        "    'architecture': architecture,\n",
        "    'weights': weights,\n",
        "    'layers': layer,\n",
        "    'img_size': img_size,\n",
        "    'pooling': pooling\n",
        "}\n",
        "\n",
        "# model with pre-trained weights\n",
        "layer0_NP_RSA = osculari.models.paradigm_2afc_merge_concatenate(**readout_kwargs)\n",
        "layer0_NP_RSD = osculari.models.paradigm_2afc_merge_concatenate(**readout_kwargs)\n",
        "\n",
        "# change weights\n",
        "layer0_NP_RSA.load_state_dict(weights_layer0_NP)\n",
        "layer0_NP_RSD.load_state_dict(weights_layer0_NP)"
      ],
      "metadata": {
        "colab": {
          "base_uri": "https://localhost:8080/"
        },
        "id": "7Bdt4z5Raq3x",
        "outputId": "b747d0cb-ee7e-4e11-bbf2-976846fb71c9"
      },
      "execution_count": 42,
      "outputs": [
        {
          "output_type": "execute_result",
          "data": {
            "text/plain": [
              "<All keys matched successfully>"
            ]
          },
          "metadata": {},
          "execution_count": 42
        }
      ]
    },
    {
      "cell_type": "code",
      "source": [
        "# RS-A\n",
        "params_to_optimize = [{'params': [p for p in layer0_NP_RSA.fc.parameters()]}]\n",
        "optimiser = torch.optim.SGD(params_to_optimize, lr=lr, momentum=0.9, weight_decay=1e-4)\n",
        "# calling the generic train_linear_probe function\n",
        "training_log = osculari.paradigms.paradigm_utils.train_linear_probe(\n",
        "    layer0_NP_RSA, dataset_loader_RSA, epoch_fun, 'my_data/osculari_test/', device=\"cuda\",\n",
        "    epochs = 10,\n",
        "    optimiser=optimiser\n",
        "    )"
      ],
      "metadata": {
        "colab": {
          "base_uri": "https://localhost:8080/"
        },
        "id": "z03RZwKdbbGw",
        "outputId": "d1aa9311-4c25-4a4a-90d8-75ce78fbb1e6"
      },
      "execution_count": 43,
      "outputs": [
        {
          "output_type": "stream",
          "name": "stdout",
          "text": [
            "[000] accuracy=0.563 loss=20340.126\n",
            "[001] accuracy=0.575 loss=37023.115\n",
            "[002] accuracy=0.527 loss=53853.199\n",
            "[003] accuracy=0.662 loss=26756.938\n",
            "[004] accuracy=0.608 loss=36098.372\n",
            "[005] accuracy=0.644 loss=26284.730\n",
            "[006] accuracy=0.782 loss=8954.255\n",
            "[007] accuracy=0.832 loss=4659.140\n",
            "[008] accuracy=0.875 loss=3548.279\n",
            "[009] accuracy=0.853 loss=3637.735\n"
          ]
        }
      ]
    },
    {
      "cell_type": "code",
      "source": [
        "# save RSA model's weigths\n",
        "PATH = dic_training + 'training_pret_layer0NP-RSA.pt'\n",
        "torch.save(layer0_NP_RSA.state_dict(), PATH)"
      ],
      "metadata": {
        "id": "n17s6taNbggT"
      },
      "execution_count": 44,
      "outputs": []
    },
    {
      "cell_type": "code",
      "source": [
        "# RS-D\n",
        "params_to_optimize = [{'params': [p for p in layer0_NP_RSD.fc.parameters()]}]\n",
        "optimiser = torch.optim.SGD(params_to_optimize, lr=lr, momentum=0.9, weight_decay=1e-4)\n",
        "# calling the generic train_linear_probe function\n",
        "training_log = osculari.paradigms.paradigm_utils.train_linear_probe(\n",
        "    layer0_NP_RSD, dataset_loader_RSD, epoch_fun, 'my_data/osculari_test/', device=\"cuda\",\n",
        "    epochs = 10,\n",
        "    optimiser=optimiser\n",
        "    )"
      ],
      "metadata": {
        "colab": {
          "base_uri": "https://localhost:8080/"
        },
        "id": "KS3dH8nkbqdN",
        "outputId": "612a6d1f-2f37-4af4-f364-c6277753025e"
      },
      "execution_count": 45,
      "outputs": [
        {
          "output_type": "stream",
          "name": "stdout",
          "text": [
            "[000] accuracy=0.496 loss=41249.587\n",
            "[001] accuracy=0.596 loss=35343.136\n",
            "[002] accuracy=0.658 loss=23969.406\n",
            "[003] accuracy=0.656 loss=20804.846\n",
            "[004] accuracy=0.787 loss=10986.300\n",
            "[005] accuracy=0.844 loss=5026.798\n",
            "[006] accuracy=0.927 loss=1456.571\n",
            "[007] accuracy=0.927 loss=1354.412\n",
            "[008] accuracy=0.934 loss=1196.681\n",
            "[009] accuracy=0.938 loss=982.537\n"
          ]
        }
      ]
    },
    {
      "cell_type": "code",
      "source": [
        "# save RSD model's weigths\n",
        "PATH = dic_training + 'training_pret_layer0NP-RSD.pt'\n",
        "torch.save(layer0_NP_RSD.state_dict(), PATH)"
      ],
      "metadata": {
        "id": "KjhAxRoLbv3V"
      },
      "execution_count": 46,
      "outputs": []
    },
    {
      "cell_type": "code",
      "source": [
        "##############################################\n",
        "# No pooling, layer 1 - pretrained\n",
        "##############################################\n",
        "\n",
        "# network\n",
        "architecture = 'resnet50'        # network's architecture\n",
        "weights = 'resnet50'             # the pretrained weights\n",
        "img_size = 224                   # network's input size\n",
        "layer = 'block1'                    # the readout layer\n",
        "pooling = None\n",
        "readout_kwargs = {               # parameters for extracting features from the pretrained network\n",
        "    'architecture': architecture,\n",
        "    'weights': weights,\n",
        "    'layers': layer,\n",
        "    'img_size': img_size,\n",
        "    'pooling': pooling\n",
        "}\n",
        "\n",
        "# model with pre-trained weights\n",
        "layer1_NP_RSA = osculari.models.paradigm_2afc_merge_concatenate(**readout_kwargs)\n",
        "layer1_NP_RSD = osculari.models.paradigm_2afc_merge_concatenate(**readout_kwargs)\n",
        "\n",
        "# change weights\n",
        "layer1_NP_RSA.load_state_dict(weights_layer1_NP)\n",
        "layer1_NP_RSD.load_state_dict(weights_layer1_NP)"
      ],
      "metadata": {
        "colab": {
          "base_uri": "https://localhost:8080/"
        },
        "id": "WQ9AGQzqcIDA",
        "outputId": "c354163a-4b95-46be-8bff-59b7c0ad62e1"
      },
      "execution_count": 47,
      "outputs": [
        {
          "output_type": "execute_result",
          "data": {
            "text/plain": [
              "<All keys matched successfully>"
            ]
          },
          "metadata": {},
          "execution_count": 47
        }
      ]
    },
    {
      "cell_type": "code",
      "source": [
        "# RS-A\n",
        "params_to_optimize = [{'params': [p for p in layer1_NP_RSA.fc.parameters()]}]\n",
        "optimiser = torch.optim.SGD(params_to_optimize, lr=lr, momentum=0.9, weight_decay=1e-4)\n",
        "# calling the generic train_linear_probe function\n",
        "training_log = osculari.paradigms.paradigm_utils.train_linear_probe(\n",
        "    layer1_NP_RSA, dataset_loader_RSA, epoch_fun, 'my_data/osculari_test/', device=\"cuda\",\n",
        "    epochs = 10,\n",
        "    optimiser=optimiser\n",
        "    )"
      ],
      "metadata": {
        "colab": {
          "base_uri": "https://localhost:8080/"
        },
        "id": "3fq5ECincOJe",
        "outputId": "fbeb1a3a-4958-4ffe-ab43-158cd3d807f8"
      },
      "execution_count": 48,
      "outputs": [
        {
          "output_type": "stream",
          "name": "stdout",
          "text": [
            "[000] accuracy=0.528 loss=4976.623\n",
            "[001] accuracy=0.562 loss=11180.030\n",
            "[002] accuracy=0.544 loss=13004.003\n",
            "[003] accuracy=0.656 loss=7371.487\n",
            "[004] accuracy=0.738 loss=3274.972\n",
            "[005] accuracy=0.740 loss=3071.794\n",
            "[006] accuracy=0.871 loss=882.912\n",
            "[007] accuracy=0.874 loss=770.660\n",
            "[008] accuracy=0.885 loss=736.082\n",
            "[009] accuracy=0.892 loss=699.342\n"
          ]
        }
      ]
    },
    {
      "cell_type": "code",
      "source": [
        "# save RSA model's weigths\n",
        "PATH = dic_training + 'training_pret_layer1NP-RSA.pt'\n",
        "torch.save(layer1_NP_RSA.state_dict(), PATH)"
      ],
      "metadata": {
        "id": "mvNekr8KcQMs"
      },
      "execution_count": 49,
      "outputs": []
    },
    {
      "cell_type": "code",
      "source": [
        "# RS-D\n",
        "params_to_optimize = [{'params': [p for p in layer1_NP_RSD.fc.parameters()]}]\n",
        "optimiser = torch.optim.SGD(params_to_optimize, lr=lr, momentum=0.9, weight_decay=1e-4)\n",
        "# calling the generic train_linear_probe function\n",
        "training_log = osculari.paradigms.paradigm_utils.train_linear_probe(\n",
        "    layer1_NP_RSD, dataset_loader_RSD, epoch_fun, 'my_data/osculari_test/', device=\"cuda\",\n",
        "    epochs = 10,\n",
        "    optimiser=optimiser\n",
        "    )"
      ],
      "metadata": {
        "colab": {
          "base_uri": "https://localhost:8080/"
        },
        "id": "XIXAmv8Lca0J",
        "outputId": "115787d6-14b1-4795-abfa-7eead51035ff"
      },
      "execution_count": 50,
      "outputs": [
        {
          "output_type": "stream",
          "name": "stdout",
          "text": [
            "[000] accuracy=0.488 loss=23975.041\n",
            "[001] accuracy=0.548 loss=23864.597\n",
            "[002] accuracy=0.649 loss=7818.299\n",
            "[003] accuracy=0.852 loss=1740.983\n",
            "[004] accuracy=0.788 loss=3263.786\n",
            "[005] accuracy=0.925 loss=556.750\n",
            "[006] accuracy=0.940 loss=318.597\n",
            "[007] accuracy=0.940 loss=485.571\n",
            "[008] accuracy=0.924 loss=480.415\n",
            "[009] accuracy=0.931 loss=415.803\n"
          ]
        }
      ]
    },
    {
      "cell_type": "code",
      "source": [
        "# save RSD model's weigths\n",
        "PATH = dic_training + 'training_pret_layer1NP-RSD.pt'\n",
        "torch.save(layer1_NP_RSD.state_dict(), PATH)"
      ],
      "metadata": {
        "id": "tu5D_Dx8cnKc"
      },
      "execution_count": 51,
      "outputs": []
    },
    {
      "cell_type": "code",
      "source": [
        "##############################################\n",
        "# No pooling, layer 2 - pretrained\n",
        "##############################################\n",
        "\n",
        "# network\n",
        "architecture = 'resnet50'        # network's architecture\n",
        "weights = 'resnet50'             # the pretrained weights\n",
        "img_size = 224                   # network's input size\n",
        "layer = 'block2'                    # the readout layer\n",
        "pooling = None\n",
        "readout_kwargs = {               # parameters for extracting features from the pretrained network\n",
        "    'architecture': architecture,\n",
        "    'weights': weights,\n",
        "    'layers': layer,\n",
        "    'img_size': img_size,\n",
        "    'pooling': pooling\n",
        "}\n",
        "\n",
        "# model with pre-trained weights\n",
        "layer2_NP_RSA = osculari.models.paradigm_2afc_merge_concatenate(**readout_kwargs)\n",
        "layer2_NP_RSD = osculari.models.paradigm_2afc_merge_concatenate(**readout_kwargs)\n",
        "\n",
        "# change weights\n",
        "layer2_NP_RSA.load_state_dict(weights_layer2_NP)\n",
        "layer2_NP_RSD.load_state_dict(weights_layer2_NP)"
      ],
      "metadata": {
        "colab": {
          "base_uri": "https://localhost:8080/"
        },
        "id": "HGTK2n9-dKPv",
        "outputId": "bb1a4d8f-7925-4b0b-d9c5-c0026d9c7e91"
      },
      "execution_count": 55,
      "outputs": [
        {
          "output_type": "execute_result",
          "data": {
            "text/plain": [
              "<All keys matched successfully>"
            ]
          },
          "metadata": {},
          "execution_count": 55
        }
      ]
    },
    {
      "cell_type": "code",
      "source": [
        "# RS-A\n",
        "params_to_optimize = [{'params': [p for p in layer2_NP_RSA.fc.parameters()]}]\n",
        "optimiser = torch.optim.SGD(params_to_optimize, lr=lr, momentum=0.9, weight_decay=1e-4)\n",
        "# calling the generic train_linear_probe function\n",
        "training_log = osculari.paradigms.paradigm_utils.train_linear_probe(\n",
        "    layer2_NP_RSA, dataset_loader_RSA, epoch_fun, 'my_data/osculari_test/', device=\"cuda\",\n",
        "    epochs = 10,\n",
        "    optimiser=optimiser\n",
        "    )"
      ],
      "metadata": {
        "colab": {
          "base_uri": "https://localhost:8080/"
        },
        "id": "kW6bRm40dQqy",
        "outputId": "1393961b-9ac6-4e2f-cde7-b9f0ec4f9baf"
      },
      "execution_count": 56,
      "outputs": [
        {
          "output_type": "stream",
          "name": "stdout",
          "text": [
            "[000] accuracy=0.561 loss=1520.607\n",
            "[001] accuracy=0.710 loss=1872.010\n",
            "[002] accuracy=0.644 loss=2842.851\n",
            "[003] accuracy=0.796 loss=1057.919\n",
            "[004] accuracy=0.810 loss=829.653\n",
            "[005] accuracy=0.919 loss=247.684\n",
            "[006] accuracy=0.929 loss=172.582\n",
            "[007] accuracy=0.933 loss=145.929\n",
            "[008] accuracy=0.931 loss=158.527\n",
            "[009] accuracy=0.928 loss=145.369\n"
          ]
        }
      ]
    },
    {
      "cell_type": "code",
      "source": [
        "# save RSA model's weigths\n",
        "PATH = dic_training + 'training_pret_layer2NP-RSA.pt'\n",
        "torch.save(layer2_NP_RSA.state_dict(), PATH)"
      ],
      "metadata": {
        "id": "O4BBOZamdd4k"
      },
      "execution_count": 57,
      "outputs": []
    },
    {
      "cell_type": "code",
      "source": [
        "# RS-D\n",
        "params_to_optimize = [{'params': [p for p in layer2_NP_RSD.fc.parameters()]}]\n",
        "optimiser = torch.optim.SGD(params_to_optimize, lr=lr, momentum=0.9, weight_decay=1e-4)\n",
        "# calling the generic train_linear_probe function\n",
        "training_log = osculari.paradigms.paradigm_utils.train_linear_probe(\n",
        "    layer2_NP_RSD, dataset_loader_RSD, epoch_fun, 'my_data/osculari_test/', device=\"cuda\",\n",
        "    epochs = 10,\n",
        "    optimiser=optimiser\n",
        "    )"
      ],
      "metadata": {
        "colab": {
          "base_uri": "https://localhost:8080/"
        },
        "id": "JpiVlA_OdXTS",
        "outputId": "fc0f36b4-6b98-4ed8-8e3e-95dc71754c81"
      },
      "execution_count": 58,
      "outputs": [
        {
          "output_type": "stream",
          "name": "stdout",
          "text": [
            "[000] accuracy=0.509 loss=8350.893\n",
            "[001] accuracy=0.694 loss=2871.454\n",
            "[002] accuracy=0.837 loss=832.076\n",
            "[003] accuracy=0.841 loss=858.316\n",
            "[004] accuracy=0.944 loss=158.713\n",
            "[005] accuracy=0.942 loss=176.864\n",
            "[006] accuracy=0.958 loss=92.115\n",
            "[007] accuracy=0.953 loss=117.179\n",
            "[008] accuracy=0.956 loss=128.806\n",
            "[009] accuracy=0.949 loss=128.121\n"
          ]
        }
      ]
    },
    {
      "cell_type": "code",
      "source": [
        "# save RSD model's weigths\n",
        "PATH = dic_training + 'training_pret_layer2NP-RSD.pt'\n",
        "torch.save(layer2_NP_RSD.state_dict(), PATH)"
      ],
      "metadata": {
        "id": "urFxxZJUdilH"
      },
      "execution_count": 59,
      "outputs": []
    }
  ]
}