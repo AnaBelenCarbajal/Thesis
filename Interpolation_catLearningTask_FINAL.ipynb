{
  "nbformat": 4,
  "nbformat_minor": 0,
  "metadata": {
    "colab": {
      "provenance": [],
      "machine_shape": "hm",
      "authorship_tag": "ABX9TyMh9UttR/S9YJQCy1+AhAyU",
      "include_colab_link": true
    },
    "kernelspec": {
      "name": "python3",
      "display_name": "Python 3"
    },
    "language_info": {
      "name": "python"
    }
  },
  "cells": [
    {
      "cell_type": "markdown",
      "metadata": {
        "id": "view-in-github",
        "colab_type": "text"
      },
      "source": [
        "<a href=\"https://colab.research.google.com/github/AnaBelenCarbajal/Thesis/blob/main/Interpolation_catLearningTask_FINAL.ipynb\" target=\"_parent\"><img src=\"https://colab.research.google.com/assets/colab-badge.svg\" alt=\"Open In Colab\"/></a>"
      ]
    },
    {
      "cell_type": "markdown",
      "source": [
        "**Dataset novel shapes - Trainig**"
      ],
      "metadata": {
        "id": "jOvSRnBv_J8o"
      }
    },
    {
      "cell_type": "markdown",
      "source": [
        "1) Installing packages"
      ],
      "metadata": {
        "id": "F4pGeBM5_QOW"
      }
    },
    {
      "cell_type": "code",
      "source": [
        "from google.colab import drive\n",
        "drive.mount('/content/drive')"
      ],
      "metadata": {
        "id": "wWjv0aCROzig",
        "colab": {
          "base_uri": "https://localhost:8080/"
        },
        "outputId": "97b5aaf9-ca1e-4147-f70e-4eb72061a8cc"
      },
      "execution_count": 1,
      "outputs": [
        {
          "output_type": "stream",
          "name": "stdout",
          "text": [
            "Mounted at /content/drive\n"
          ]
        }
      ]
    },
    {
      "cell_type": "code",
      "source": [
        "!pip install osculari"
      ],
      "metadata": {
        "id": "lFBJCs2OO1BV",
        "colab": {
          "base_uri": "https://localhost:8080/"
        },
        "outputId": "58eb0776-0ba1-4c98-cbdb-5aa23c3707a3",
        "collapsed": true
      },
      "execution_count": 2,
      "outputs": [
        {
          "output_type": "stream",
          "name": "stdout",
          "text": [
            "Collecting osculari\n",
            "  Downloading osculari-0.0.4-py3-none-any.whl (34 kB)\n",
            "Requirement already satisfied: numpy in /usr/local/lib/python3.10/dist-packages (from osculari) (1.25.2)\n",
            "Requirement already satisfied: torch in /usr/local/lib/python3.10/dist-packages (from osculari) (2.3.0+cu121)\n",
            "Requirement already satisfied: torchvision in /usr/local/lib/python3.10/dist-packages (from osculari) (0.18.0+cu121)\n",
            "Collecting clip-openai (from osculari)\n",
            "  Downloading clip_openai-1.0.post20230121-py3-none-any.whl (1.4 MB)\n",
            "\u001b[2K     \u001b[90m━━━━━━━━━━━━━━━━━━━━━━━━━━━━━━━━━━━━━━━━\u001b[0m \u001b[32m1.4/1.4 MB\u001b[0m \u001b[31m7.6 MB/s\u001b[0m eta \u001b[36m0:00:00\u001b[0m\n",
            "\u001b[?25hCollecting visualpriors (from osculari)\n",
            "  Downloading visualpriors-0.3.5.tar.gz (10 kB)\n",
            "  Preparing metadata (setup.py) ... \u001b[?25l\u001b[?25hdone\n",
            "Requirement already satisfied: opencv-python in /usr/local/lib/python3.10/dist-packages (from osculari) (4.8.0.76)\n",
            "Collecting ftfy (from clip-openai->osculari)\n",
            "  Downloading ftfy-6.2.0-py3-none-any.whl (54 kB)\n",
            "\u001b[2K     \u001b[90m━━━━━━━━━━━━━━━━━━━━━━━━━━━━━━━━━━━━━━━━\u001b[0m \u001b[32m54.4/54.4 kB\u001b[0m \u001b[31m8.7 MB/s\u001b[0m eta \u001b[36m0:00:00\u001b[0m\n",
            "\u001b[?25hRequirement already satisfied: regex in /usr/local/lib/python3.10/dist-packages (from clip-openai->osculari) (2024.5.15)\n",
            "Requirement already satisfied: tqdm in /usr/local/lib/python3.10/dist-packages (from clip-openai->osculari) (4.66.4)\n",
            "Requirement already satisfied: filelock in /usr/local/lib/python3.10/dist-packages (from torch->osculari) (3.14.0)\n",
            "Requirement already satisfied: typing-extensions>=4.8.0 in /usr/local/lib/python3.10/dist-packages (from torch->osculari) (4.12.1)\n",
            "Requirement already satisfied: sympy in /usr/local/lib/python3.10/dist-packages (from torch->osculari) (1.12.1)\n",
            "Requirement already satisfied: networkx in /usr/local/lib/python3.10/dist-packages (from torch->osculari) (3.3)\n",
            "Requirement already satisfied: jinja2 in /usr/local/lib/python3.10/dist-packages (from torch->osculari) (3.1.4)\n",
            "Requirement already satisfied: fsspec in /usr/local/lib/python3.10/dist-packages (from torch->osculari) (2023.6.0)\n",
            "Collecting nvidia-cuda-nvrtc-cu12==12.1.105 (from torch->osculari)\n",
            "  Using cached nvidia_cuda_nvrtc_cu12-12.1.105-py3-none-manylinux1_x86_64.whl (23.7 MB)\n",
            "Collecting nvidia-cuda-runtime-cu12==12.1.105 (from torch->osculari)\n",
            "  Using cached nvidia_cuda_runtime_cu12-12.1.105-py3-none-manylinux1_x86_64.whl (823 kB)\n",
            "Collecting nvidia-cuda-cupti-cu12==12.1.105 (from torch->osculari)\n",
            "  Using cached nvidia_cuda_cupti_cu12-12.1.105-py3-none-manylinux1_x86_64.whl (14.1 MB)\n",
            "Collecting nvidia-cudnn-cu12==8.9.2.26 (from torch->osculari)\n",
            "  Using cached nvidia_cudnn_cu12-8.9.2.26-py3-none-manylinux1_x86_64.whl (731.7 MB)\n",
            "Collecting nvidia-cublas-cu12==12.1.3.1 (from torch->osculari)\n",
            "  Using cached nvidia_cublas_cu12-12.1.3.1-py3-none-manylinux1_x86_64.whl (410.6 MB)\n",
            "Collecting nvidia-cufft-cu12==11.0.2.54 (from torch->osculari)\n",
            "  Using cached nvidia_cufft_cu12-11.0.2.54-py3-none-manylinux1_x86_64.whl (121.6 MB)\n",
            "Collecting nvidia-curand-cu12==10.3.2.106 (from torch->osculari)\n",
            "  Using cached nvidia_curand_cu12-10.3.2.106-py3-none-manylinux1_x86_64.whl (56.5 MB)\n",
            "Collecting nvidia-cusolver-cu12==11.4.5.107 (from torch->osculari)\n",
            "  Using cached nvidia_cusolver_cu12-11.4.5.107-py3-none-manylinux1_x86_64.whl (124.2 MB)\n",
            "Collecting nvidia-cusparse-cu12==12.1.0.106 (from torch->osculari)\n",
            "  Using cached nvidia_cusparse_cu12-12.1.0.106-py3-none-manylinux1_x86_64.whl (196.0 MB)\n",
            "Collecting nvidia-nccl-cu12==2.20.5 (from torch->osculari)\n",
            "  Using cached nvidia_nccl_cu12-2.20.5-py3-none-manylinux2014_x86_64.whl (176.2 MB)\n",
            "Collecting nvidia-nvtx-cu12==12.1.105 (from torch->osculari)\n",
            "  Using cached nvidia_nvtx_cu12-12.1.105-py3-none-manylinux1_x86_64.whl (99 kB)\n",
            "Requirement already satisfied: triton==2.3.0 in /usr/local/lib/python3.10/dist-packages (from torch->osculari) (2.3.0)\n",
            "Collecting nvidia-nvjitlink-cu12 (from nvidia-cusolver-cu12==11.4.5.107->torch->osculari)\n",
            "  Downloading nvidia_nvjitlink_cu12-12.5.40-py3-none-manylinux2014_x86_64.whl (21.3 MB)\n",
            "\u001b[2K     \u001b[90m━━━━━━━━━━━━━━━━━━━━━━━━━━━━━━━━━━━━━━━━\u001b[0m \u001b[32m21.3/21.3 MB\u001b[0m \u001b[31m46.2 MB/s\u001b[0m eta \u001b[36m0:00:00\u001b[0m\n",
            "\u001b[?25hRequirement already satisfied: pillow!=8.3.*,>=5.3.0 in /usr/local/lib/python3.10/dist-packages (from torchvision->osculari) (9.4.0)\n",
            "Requirement already satisfied: wcwidth<0.3.0,>=0.2.12 in /usr/local/lib/python3.10/dist-packages (from ftfy->clip-openai->osculari) (0.2.13)\n",
            "Requirement already satisfied: MarkupSafe>=2.0 in /usr/local/lib/python3.10/dist-packages (from jinja2->torch->osculari) (2.1.5)\n",
            "Requirement already satisfied: mpmath<1.4.0,>=1.1.0 in /usr/local/lib/python3.10/dist-packages (from sympy->torch->osculari) (1.3.0)\n",
            "Building wheels for collected packages: visualpriors\n",
            "  Building wheel for visualpriors (setup.py) ... \u001b[?25l\u001b[?25hdone\n",
            "  Created wheel for visualpriors: filename=visualpriors-0.3.5-py3-none-any.whl size=11368 sha256=a1c2d7299880ebea928d61c0e425bd495db7f35cf416ae0c8be37b3235246844\n",
            "  Stored in directory: /root/.cache/pip/wheels/ce/18/2b/ac0e173977d8a72ea7155168fbaa891e5e8e4cafa01957cba3\n",
            "Successfully built visualpriors\n",
            "Installing collected packages: nvidia-nvtx-cu12, nvidia-nvjitlink-cu12, nvidia-nccl-cu12, nvidia-curand-cu12, nvidia-cufft-cu12, nvidia-cuda-runtime-cu12, nvidia-cuda-nvrtc-cu12, nvidia-cuda-cupti-cu12, nvidia-cublas-cu12, ftfy, nvidia-cusparse-cu12, nvidia-cudnn-cu12, nvidia-cusolver-cu12, visualpriors, clip-openai, osculari\n",
            "Successfully installed clip-openai-1.0.post20230121 ftfy-6.2.0 nvidia-cublas-cu12-12.1.3.1 nvidia-cuda-cupti-cu12-12.1.105 nvidia-cuda-nvrtc-cu12-12.1.105 nvidia-cuda-runtime-cu12-12.1.105 nvidia-cudnn-cu12-8.9.2.26 nvidia-cufft-cu12-11.0.2.54 nvidia-curand-cu12-10.3.2.106 nvidia-cusolver-cu12-11.4.5.107 nvidia-cusparse-cu12-12.1.0.106 nvidia-nccl-cu12-2.20.5 nvidia-nvjitlink-cu12-12.5.40 nvidia-nvtx-cu12-12.1.105 osculari-0.0.4 visualpriors-0.3.5\n"
          ]
        }
      ]
    },
    {
      "cell_type": "code",
      "source": [
        "#packages\n",
        "import osculari\n",
        "from osculari.paradigms.forced_choice import paradigm_utils\n",
        "import torch.nn as nn\n",
        "\n",
        "import os\n",
        "import pandas as pd\n",
        "import torch\n",
        "import numpy as np\n",
        "from matplotlib import pyplot as plt\n",
        "\n",
        "from random import choice\n",
        "import torchvision.transforms.functional as transform\n",
        "from torch.utils.data import Dataset\n",
        "from torchvision.io import read_image, ImageReadMode\n",
        "from torchvision.transforms import v2\n",
        "from torchvision.transforms import Pad\n",
        "from torch.utils.data import DataLoader\n",
        "\n",
        "from PIL import Image"
      ],
      "metadata": {
        "id": "nUzPiwVbMK49"
      },
      "execution_count": 3,
      "outputs": []
    },
    {
      "cell_type": "code",
      "execution_count": 6,
      "metadata": {
        "id": "q-RyspuOLGlX",
        "colab": {
          "base_uri": "https://localhost:8080/"
        },
        "collapsed": true,
        "outputId": "17e687cd-46cf-4e0e-de92-141ce432e4b3"
      },
      "outputs": [
        {
          "output_type": "stream",
          "name": "stdout",
          "text": [
            "Archive:  /content/drive/MyDrive/Thesis/Neural_network/Human category learning task/documents/CategoryLearningStimuli.zip\n",
            "   creating: my_data/CategoryLearningStimuli/\n",
            "  inflating: my_data/__MACOSX/._CategoryLearningStimuli  \n",
            "  inflating: my_data/CategoryLearningStimuli/348.png  \n",
            "  inflating: my_data/__MACOSX/CategoryLearningStimuli/._348.png  \n",
            "  inflating: my_data/CategoryLearningStimuli/360.png  \n",
            "  inflating: my_data/__MACOSX/CategoryLearningStimuli/._360.png  \n",
            "  inflating: my_data/CategoryLearningStimuli/176.png  \n",
            "  inflating: my_data/__MACOSX/CategoryLearningStimuli/._176.png  \n",
            "  inflating: my_data/CategoryLearningStimuli/88.png  \n",
            "  inflating: my_data/__MACOSX/CategoryLearningStimuli/._88.png  \n",
            "  inflating: my_data/CategoryLearningStimuli/162.png  \n",
            "  inflating: my_data/__MACOSX/CategoryLearningStimuli/._162.png  \n",
            "  inflating: my_data/CategoryLearningStimuli/189.png  \n",
            "  inflating: my_data/__MACOSX/CategoryLearningStimuli/._189.png  \n",
            "  inflating: my_data/CategoryLearningStimuli/77.png  \n",
            "  inflating: my_data/__MACOSX/CategoryLearningStimuli/._77.png  \n",
            "  inflating: my_data/CategoryLearningStimuli/63.png  \n",
            "  inflating: my_data/__MACOSX/CategoryLearningStimuli/._63.png  \n",
            "  inflating: my_data/CategoryLearningStimuli/228.png  \n",
            "  inflating: my_data/__MACOSX/CategoryLearningStimuli/._228.png  \n",
            "  inflating: my_data/CategoryLearningStimuli/200.png  \n",
            "  inflating: my_data/__MACOSX/CategoryLearningStimuli/._200.png  \n",
            "  inflating: my_data/CategoryLearningStimuli/214.png  \n",
            "  inflating: my_data/__MACOSX/CategoryLearningStimuli/._214.png  \n",
            "  inflating: my_data/CategoryLearningStimuli/215.png  \n",
            "  inflating: my_data/__MACOSX/CategoryLearningStimuli/._215.png  \n",
            "  inflating: my_data/CategoryLearningStimuli/201.png  \n",
            "  inflating: my_data/__MACOSX/CategoryLearningStimuli/._201.png  \n",
            "  inflating: my_data/CategoryLearningStimuli/229.png  \n",
            "  inflating: my_data/__MACOSX/CategoryLearningStimuli/._229.png  \n",
            "  inflating: my_data/CategoryLearningStimuli/62.png  \n",
            "  inflating: my_data/__MACOSX/CategoryLearningStimuli/._62.png  \n",
            "  inflating: my_data/CategoryLearningStimuli/188.png  \n",
            "  inflating: my_data/__MACOSX/CategoryLearningStimuli/._188.png  \n",
            "  inflating: my_data/CategoryLearningStimuli/76.png  \n",
            "  inflating: my_data/__MACOSX/CategoryLearningStimuli/._76.png  \n",
            "  inflating: my_data/CategoryLearningStimuli/163.png  \n",
            "  inflating: my_data/__MACOSX/CategoryLearningStimuli/._163.png  \n",
            "  inflating: my_data/CategoryLearningStimuli/177.png  \n",
            "  inflating: my_data/__MACOSX/CategoryLearningStimuli/._177.png  \n",
            "  inflating: my_data/CategoryLearningStimuli/89.png  \n",
            "  inflating: my_data/__MACOSX/CategoryLearningStimuli/._89.png  \n",
            "  inflating: my_data/CategoryLearningStimuli/349.png  \n",
            "  inflating: my_data/__MACOSX/CategoryLearningStimuli/._349.png  \n",
            "  inflating: my_data/CategoryLearningStimuli/149.png  \n",
            "  inflating: my_data/__MACOSX/CategoryLearningStimuli/._149.png  \n",
            "  inflating: my_data/CategoryLearningStimuli/161.png  \n",
            "  inflating: my_data/__MACOSX/CategoryLearningStimuli/._161.png  \n",
            "  inflating: my_data/CategoryLearningStimuli/175.png  \n",
            "  inflating: my_data/__MACOSX/CategoryLearningStimuli/._175.png  \n",
            "  inflating: my_data/CategoryLearningStimuli/60.png  \n",
            "  inflating: my_data/__MACOSX/CategoryLearningStimuli/._60.png  \n",
            "  inflating: my_data/CategoryLearningStimuli/74.png  \n",
            "  inflating: my_data/__MACOSX/CategoryLearningStimuli/._74.png  \n",
            "  inflating: my_data/CategoryLearningStimuli/48.png  \n",
            "  inflating: my_data/__MACOSX/CategoryLearningStimuli/._48.png  \n",
            "  inflating: my_data/CategoryLearningStimuli/217.png  \n",
            "  inflating: my_data/__MACOSX/CategoryLearningStimuli/._217.png  \n",
            "  inflating: my_data/CategoryLearningStimuli/203.png  \n",
            "  inflating: my_data/__MACOSX/CategoryLearningStimuli/._203.png  \n",
            "  inflating: my_data/CategoryLearningStimuli/202.png  \n",
            "  inflating: my_data/__MACOSX/CategoryLearningStimuli/._202.png  \n",
            "  inflating: my_data/CategoryLearningStimuli/216.png  \n",
            "  inflating: my_data/__MACOSX/CategoryLearningStimuli/._216.png  \n",
            "  inflating: my_data/CategoryLearningStimuli/49.png  \n",
            "  inflating: my_data/__MACOSX/CategoryLearningStimuli/._49.png  \n",
            "  inflating: my_data/CategoryLearningStimuli/75.png  \n",
            "  inflating: my_data/__MACOSX/CategoryLearningStimuli/._75.png  \n",
            "  inflating: my_data/CategoryLearningStimuli/61.png  \n",
            "  inflating: my_data/__MACOSX/CategoryLearningStimuli/._61.png  \n",
            "  inflating: my_data/CategoryLearningStimuli/174.png  \n",
            "  inflating: my_data/__MACOSX/CategoryLearningStimuli/._174.png  \n",
            "  inflating: my_data/CategoryLearningStimuli/160.png  \n",
            "  inflating: my_data/__MACOSX/CategoryLearningStimuli/._160.png  \n",
            "  inflating: my_data/CategoryLearningStimuli/148.png  \n",
            "  inflating: my_data/__MACOSX/CategoryLearningStimuli/._148.png  \n",
            "  inflating: my_data/CategoryLearningStimuli/164.png  \n",
            "  inflating: my_data/__MACOSX/CategoryLearningStimuli/._164.png  \n",
            "  inflating: my_data/CategoryLearningStimuli/170.png  \n",
            "  inflating: my_data/__MACOSX/CategoryLearningStimuli/._170.png  \n",
            "  inflating: my_data/CategoryLearningStimuli/158.png  \n",
            "  inflating: my_data/__MACOSX/CategoryLearningStimuli/._158.png  \n",
            "  inflating: my_data/CategoryLearningStimuli/59.png  \n",
            "  inflating: my_data/__MACOSX/CategoryLearningStimuli/._59.png  \n",
            "  inflating: my_data/CategoryLearningStimuli/65.png  \n",
            "  inflating: my_data/__MACOSX/CategoryLearningStimuli/._65.png  \n",
            "  inflating: my_data/CategoryLearningStimuli/71.png  \n",
            "  inflating: my_data/__MACOSX/CategoryLearningStimuli/._71.png  \n",
            "  inflating: my_data/CategoryLearningStimuli/212.png  \n",
            "  inflating: my_data/__MACOSX/CategoryLearningStimuli/._212.png  \n",
            "  inflating: my_data/CategoryLearningStimuli/.DS_Store  \n",
            "  inflating: my_data/__MACOSX/CategoryLearningStimuli/._.DS_Store  \n",
            "  inflating: my_data/CategoryLearningStimuli/206.png  \n",
            "  inflating: my_data/__MACOSX/CategoryLearningStimuli/._206.png  \n",
            "  inflating: my_data/CategoryLearningStimuli/207.png  \n",
            "  inflating: my_data/__MACOSX/CategoryLearningStimuli/._207.png  \n",
            "  inflating: my_data/CategoryLearningStimuli/213.png  \n",
            "  inflating: my_data/__MACOSX/CategoryLearningStimuli/._213.png  \n",
            "  inflating: my_data/CategoryLearningStimuli/70.png  \n",
            "  inflating: my_data/__MACOSX/CategoryLearningStimuli/._70.png  \n",
            "  inflating: my_data/CategoryLearningStimuli/64.png  \n",
            "  inflating: my_data/__MACOSX/CategoryLearningStimuli/._64.png  \n",
            "  inflating: my_data/CategoryLearningStimuli/58.png  \n",
            "  inflating: my_data/__MACOSX/CategoryLearningStimuli/._58.png  \n",
            "  inflating: my_data/CategoryLearningStimuli/159.png  \n",
            "  inflating: my_data/__MACOSX/CategoryLearningStimuli/._159.png  \n",
            "  inflating: my_data/CategoryLearningStimuli/171.png  \n",
            "  inflating: my_data/__MACOSX/CategoryLearningStimuli/._171.png  \n",
            "  inflating: my_data/CategoryLearningStimuli/165.png  \n",
            "  inflating: my_data/__MACOSX/CategoryLearningStimuli/._165.png  \n",
            "  inflating: my_data/CategoryLearningStimuli/359.png  \n",
            "  inflating: my_data/__MACOSX/CategoryLearningStimuli/._359.png  \n",
            "  inflating: my_data/CategoryLearningStimuli/173.png  \n",
            "  inflating: my_data/__MACOSX/CategoryLearningStimuli/._173.png  \n",
            "  inflating: my_data/CategoryLearningStimuli/167.png  \n",
            "  inflating: my_data/__MACOSX/CategoryLearningStimuli/._167.png  \n",
            "  inflating: my_data/CategoryLearningStimuli/99.png  \n",
            "  inflating: my_data/__MACOSX/CategoryLearningStimuli/._99.png  \n",
            "  inflating: my_data/CategoryLearningStimuli/8.png  \n",
            "  inflating: my_data/__MACOSX/CategoryLearningStimuli/._8.png  \n",
            "  inflating: my_data/CategoryLearningStimuli/72.png  \n",
            "  inflating: my_data/__MACOSX/CategoryLearningStimuli/._72.png  \n",
            "  inflating: my_data/CategoryLearningStimuli/198.png  \n",
            "  inflating: my_data/__MACOSX/CategoryLearningStimuli/._198.png  \n",
            "  inflating: my_data/CategoryLearningStimuli/66.png  \n",
            "  inflating: my_data/__MACOSX/CategoryLearningStimuli/._66.png  \n",
            "  inflating: my_data/CategoryLearningStimuli/205.png  \n",
            "  inflating: my_data/__MACOSX/CategoryLearningStimuli/._205.png  \n",
            "  inflating: my_data/CategoryLearningStimuli/211.png  \n",
            "  inflating: my_data/__MACOSX/CategoryLearningStimuli/._211.png  \n",
            "  inflating: my_data/CategoryLearningStimuli/239.png  \n",
            "  inflating: my_data/__MACOSX/CategoryLearningStimuli/._239.png  \n",
            "  inflating: my_data/CategoryLearningStimuli/238.png  \n",
            "  inflating: my_data/__MACOSX/CategoryLearningStimuli/._238.png  \n",
            "  inflating: my_data/CategoryLearningStimuli/210.png  \n",
            "  inflating: my_data/__MACOSX/CategoryLearningStimuli/._210.png  \n",
            "  inflating: my_data/CategoryLearningStimuli/204.png  \n",
            "  inflating: my_data/__MACOSX/CategoryLearningStimuli/._204.png  \n",
            "  inflating: my_data/CategoryLearningStimuli/199.png  \n",
            "  inflating: my_data/__MACOSX/CategoryLearningStimuli/._199.png  \n",
            "  inflating: my_data/CategoryLearningStimuli/67.png  \n",
            "  inflating: my_data/__MACOSX/CategoryLearningStimuli/._67.png  \n",
            "  inflating: my_data/CategoryLearningStimuli/73.png  \n",
            "  inflating: my_data/__MACOSX/CategoryLearningStimuli/._73.png  \n",
            "  inflating: my_data/CategoryLearningStimuli/9.png  \n",
            "  inflating: my_data/__MACOSX/CategoryLearningStimuli/._9.png  \n",
            "  inflating: my_data/CategoryLearningStimuli/166.png  \n",
            "  inflating: my_data/__MACOSX/CategoryLearningStimuli/._166.png  \n",
            "  inflating: my_data/CategoryLearningStimuli/98.png  \n",
            "  inflating: my_data/__MACOSX/CategoryLearningStimuli/._98.png  \n",
            "  inflating: my_data/CategoryLearningStimuli/172.png  \n",
            "  inflating: my_data/__MACOSX/CategoryLearningStimuli/._172.png  \n",
            "  inflating: my_data/CategoryLearningStimuli/358.png  \n",
            "  inflating: my_data/__MACOSX/CategoryLearningStimuli/._358.png  \n",
            "  inflating: my_data/CategoryLearningStimuli/317.png  \n",
            "  inflating: my_data/__MACOSX/CategoryLearningStimuli/._317.png  \n",
            "  inflating: my_data/CategoryLearningStimuli/303.png  \n",
            "  inflating: my_data/__MACOSX/CategoryLearningStimuli/._303.png  \n",
            "  inflating: my_data/CategoryLearningStimuli/129.png  \n",
            "  inflating: my_data/__MACOSX/CategoryLearningStimuli/._129.png  \n",
            "  inflating: my_data/CategoryLearningStimuli/115.png  \n",
            "  inflating: my_data/__MACOSX/CategoryLearningStimuli/._115.png  \n",
            "  inflating: my_data/CategoryLearningStimuli/101.png  \n",
            "  inflating: my_data/__MACOSX/CategoryLearningStimuli/._101.png  \n",
            "  inflating: my_data/CategoryLearningStimuli/14.png  \n",
            "  inflating: my_data/__MACOSX/CategoryLearningStimuli/._14.png  \n",
            "  inflating: my_data/CategoryLearningStimuli/28.png  \n",
            "  inflating: my_data/__MACOSX/CategoryLearningStimuli/._28.png  \n",
            "  inflating: my_data/CategoryLearningStimuli/263.png  \n",
            "  inflating: my_data/__MACOSX/CategoryLearningStimuli/._263.png  \n",
            "  inflating: my_data/CategoryLearningStimuli/277.png  \n",
            "  inflating: my_data/__MACOSX/CategoryLearningStimuli/._277.png  \n",
            "  inflating: my_data/CategoryLearningStimuli/288.png  \n",
            "  inflating: my_data/__MACOSX/CategoryLearningStimuli/._288.png  \n",
            "  inflating: my_data/CategoryLearningStimuli/289.png  \n",
            "  inflating: my_data/__MACOSX/CategoryLearningStimuli/._289.png  \n",
            "  inflating: my_data/CategoryLearningStimuli/276.png  \n",
            "  inflating: my_data/__MACOSX/CategoryLearningStimuli/._276.png  \n",
            "  inflating: my_data/CategoryLearningStimuli/262.png  \n",
            "  inflating: my_data/__MACOSX/CategoryLearningStimuli/._262.png  \n",
            "  inflating: my_data/CategoryLearningStimuli/29.png  \n",
            "  inflating: my_data/__MACOSX/CategoryLearningStimuli/._29.png  \n",
            "  inflating: my_data/CategoryLearningStimuli/15.png  \n",
            "  inflating: my_data/__MACOSX/CategoryLearningStimuli/._15.png  \n",
            "  inflating: my_data/CategoryLearningStimuli/100.png  \n",
            "  inflating: my_data/__MACOSX/CategoryLearningStimuli/._100.png  \n",
            "  inflating: my_data/CategoryLearningStimuli/114.png  \n",
            "  inflating: my_data/__MACOSX/CategoryLearningStimuli/._114.png  \n",
            "  inflating: my_data/CategoryLearningStimuli/128.png  \n",
            "  inflating: my_data/__MACOSX/CategoryLearningStimuli/._128.png  \n",
            "  inflating: my_data/CategoryLearningStimuli/302.png  \n",
            "  inflating: my_data/__MACOSX/CategoryLearningStimuli/._302.png  \n",
            "  inflating: my_data/CategoryLearningStimuli/316.png  \n",
            "  inflating: my_data/__MACOSX/CategoryLearningStimuli/._316.png  \n",
            "  inflating: my_data/CategoryLearningStimuli/328.png  \n",
            "  inflating: my_data/__MACOSX/CategoryLearningStimuli/._328.png  \n",
            "  inflating: my_data/CategoryLearningStimuli/300.png  \n",
            "  inflating: my_data/__MACOSX/CategoryLearningStimuli/._300.png  \n",
            "  inflating: my_data/CategoryLearningStimuli/314.png  \n",
            "  inflating: my_data/__MACOSX/CategoryLearningStimuli/._314.png  \n",
            "  inflating: my_data/CategoryLearningStimuli/102.png  \n",
            "  inflating: my_data/__MACOSX/CategoryLearningStimuli/._102.png  \n",
            "  inflating: my_data/CategoryLearningStimuli/116.png  \n",
            "  inflating: my_data/__MACOSX/CategoryLearningStimuli/._116.png  \n",
            "  inflating: my_data/CategoryLearningStimuli/17.png  \n",
            "  inflating: my_data/__MACOSX/CategoryLearningStimuli/._17.png  \n",
            "  inflating: my_data/CategoryLearningStimuli/248.png  \n",
            "  inflating: my_data/__MACOSX/CategoryLearningStimuli/._248.png  \n",
            "  inflating: my_data/CategoryLearningStimuli/274.png  \n",
            "  inflating: my_data/__MACOSX/CategoryLearningStimuli/._274.png  \n",
            "  inflating: my_data/CategoryLearningStimuli/260.png  \n",
            "  inflating: my_data/__MACOSX/CategoryLearningStimuli/._260.png  \n",
            "  inflating: my_data/CategoryLearningStimuli/261.png  \n",
            "  inflating: my_data/__MACOSX/CategoryLearningStimuli/._261.png  \n",
            "  inflating: my_data/CategoryLearningStimuli/275.png  \n",
            "  inflating: my_data/__MACOSX/CategoryLearningStimuli/._275.png  \n",
            "  inflating: my_data/CategoryLearningStimuli/249.png  \n",
            "  inflating: my_data/__MACOSX/CategoryLearningStimuli/._249.png  \n",
            "  inflating: my_data/CategoryLearningStimuli/16.png  \n",
            "  inflating: my_data/__MACOSX/CategoryLearningStimuli/._16.png  \n",
            "  inflating: my_data/CategoryLearningStimuli/117.png  \n",
            "  inflating: my_data/__MACOSX/CategoryLearningStimuli/._117.png  \n",
            "  inflating: my_data/CategoryLearningStimuli/103.png  \n",
            "  inflating: my_data/__MACOSX/CategoryLearningStimuli/._103.png  \n",
            "  inflating: my_data/CategoryLearningStimuli/315.png  \n",
            "  inflating: my_data/__MACOSX/CategoryLearningStimuli/._315.png  \n",
            "  inflating: my_data/CategoryLearningStimuli/301.png  \n",
            "  inflating: my_data/__MACOSX/CategoryLearningStimuli/._301.png  \n",
            "  inflating: my_data/CategoryLearningStimuli/329.png  \n",
            "  inflating: my_data/__MACOSX/CategoryLearningStimuli/._329.png  \n",
            "  inflating: my_data/CategoryLearningStimuli/305.png  \n",
            "  inflating: my_data/__MACOSX/CategoryLearningStimuli/._305.png  \n",
            "  inflating: my_data/CategoryLearningStimuli/311.png  \n",
            "  inflating: my_data/__MACOSX/CategoryLearningStimuli/._311.png  \n",
            "  inflating: my_data/CategoryLearningStimuli/339.png  \n",
            "  inflating: my_data/__MACOSX/CategoryLearningStimuli/._339.png  \n",
            "  inflating: my_data/CategoryLearningStimuli/107.png  \n",
            "  inflating: my_data/__MACOSX/CategoryLearningStimuli/._107.png  \n",
            "  inflating: my_data/CategoryLearningStimuli/113.png  \n",
            "  inflating: my_data/__MACOSX/CategoryLearningStimuli/._113.png  \n",
            "  inflating: my_data/CategoryLearningStimuli/12.png  \n",
            "  inflating: my_data/__MACOSX/CategoryLearningStimuli/._12.png  \n",
            "  inflating: my_data/CategoryLearningStimuli/271.png  \n",
            "  inflating: my_data/__MACOSX/CategoryLearningStimuli/._271.png  \n",
            "  inflating: my_data/CategoryLearningStimuli/265.png  \n",
            "  inflating: my_data/__MACOSX/CategoryLearningStimuli/._265.png  \n",
            "  inflating: my_data/CategoryLearningStimuli/259.png  \n",
            "  inflating: my_data/__MACOSX/CategoryLearningStimuli/._259.png  \n",
            "  inflating: my_data/CategoryLearningStimuli/258.png  \n",
            "  inflating: my_data/__MACOSX/CategoryLearningStimuli/._258.png  \n",
            "  inflating: my_data/CategoryLearningStimuli/264.png  \n",
            "  inflating: my_data/__MACOSX/CategoryLearningStimuli/._264.png  \n",
            "  inflating: my_data/CategoryLearningStimuli/270.png  \n",
            "  inflating: my_data/__MACOSX/CategoryLearningStimuli/._270.png  \n",
            "  inflating: my_data/CategoryLearningStimuli/13.png  \n",
            "  inflating: my_data/__MACOSX/CategoryLearningStimuli/._13.png  \n",
            "  inflating: my_data/CategoryLearningStimuli/112.png  \n",
            "  inflating: my_data/__MACOSX/CategoryLearningStimuli/._112.png  \n",
            "  inflating: my_data/CategoryLearningStimuli/106.png  \n",
            "  inflating: my_data/__MACOSX/CategoryLearningStimuli/._106.png  \n",
            "  inflating: my_data/CategoryLearningStimuli/338.png  \n",
            "  inflating: my_data/__MACOSX/CategoryLearningStimuli/._338.png  \n",
            "  inflating: my_data/CategoryLearningStimuli/310.png  \n",
            "  inflating: my_data/__MACOSX/CategoryLearningStimuli/._310.png  \n",
            "  inflating: my_data/CategoryLearningStimuli/304.png  \n",
            "  inflating: my_data/__MACOSX/CategoryLearningStimuli/._304.png  \n",
            "  inflating: my_data/CategoryLearningStimuli/312.png  \n",
            "  inflating: my_data/__MACOSX/CategoryLearningStimuli/._312.png  \n",
            "  inflating: my_data/CategoryLearningStimuli/306.png  \n",
            "  inflating: my_data/__MACOSX/CategoryLearningStimuli/._306.png  \n",
            "  inflating: my_data/CategoryLearningStimuli/110.png  \n",
            "  inflating: my_data/__MACOSX/CategoryLearningStimuli/._110.png  \n",
            "  inflating: my_data/CategoryLearningStimuli/104.png  \n",
            "  inflating: my_data/__MACOSX/CategoryLearningStimuli/._104.png  \n",
            "  inflating: my_data/CategoryLearningStimuli/138.png  \n",
            "  inflating: my_data/__MACOSX/CategoryLearningStimuli/._138.png  \n",
            "  inflating: my_data/CategoryLearningStimuli/39.png  \n",
            "  inflating: my_data/__MACOSX/CategoryLearningStimuli/._39.png  \n",
            "  inflating: my_data/CategoryLearningStimuli/11.png  \n",
            "  inflating: my_data/__MACOSX/CategoryLearningStimuli/._11.png  \n",
            "  inflating: my_data/CategoryLearningStimuli/266.png  \n",
            "  inflating: my_data/__MACOSX/CategoryLearningStimuli/._266.png  \n",
            "  inflating: my_data/CategoryLearningStimuli/272.png  \n",
            "  inflating: my_data/__MACOSX/CategoryLearningStimuli/._272.png  \n",
            "  inflating: my_data/CategoryLearningStimuli/299.png  \n",
            "  inflating: my_data/__MACOSX/CategoryLearningStimuli/._299.png  \n",
            "  inflating: my_data/CategoryLearningStimuli/298.png  \n",
            "  inflating: my_data/__MACOSX/CategoryLearningStimuli/._298.png  \n",
            "  inflating: my_data/CategoryLearningStimuli/273.png  \n",
            "  inflating: my_data/__MACOSX/CategoryLearningStimuli/._273.png  \n",
            "  inflating: my_data/CategoryLearningStimuli/267.png  \n",
            "  inflating: my_data/__MACOSX/CategoryLearningStimuli/._267.png  \n",
            "  inflating: my_data/CategoryLearningStimuli/10.png  \n",
            "  inflating: my_data/__MACOSX/CategoryLearningStimuli/._10.png  \n",
            "  inflating: my_data/CategoryLearningStimuli/38.png  \n",
            "  inflating: my_data/__MACOSX/CategoryLearningStimuli/._38.png  \n",
            "  inflating: my_data/CategoryLearningStimuli/139.png  \n",
            "  inflating: my_data/__MACOSX/CategoryLearningStimuli/._139.png  \n",
            "  inflating: my_data/CategoryLearningStimuli/105.png  \n",
            "  inflating: my_data/__MACOSX/CategoryLearningStimuli/._105.png  \n",
            "  inflating: my_data/CategoryLearningStimuli/111.png  \n",
            "  inflating: my_data/__MACOSX/CategoryLearningStimuli/._111.png  \n",
            "  inflating: my_data/CategoryLearningStimuli/307.png  \n",
            "  inflating: my_data/__MACOSX/CategoryLearningStimuli/._307.png  \n",
            "  inflating: my_data/CategoryLearningStimuli/313.png  \n",
            "  inflating: my_data/__MACOSX/CategoryLearningStimuli/._313.png  \n",
            "  inflating: my_data/CategoryLearningStimuli/336.png  \n",
            "  inflating: my_data/__MACOSX/CategoryLearningStimuli/._336.png  \n",
            "  inflating: my_data/CategoryLearningStimuli/322.png  \n",
            "  inflating: my_data/__MACOSX/CategoryLearningStimuli/._322.png  \n",
            "  inflating: my_data/CategoryLearningStimuli/108.png  \n",
            "  inflating: my_data/__MACOSX/CategoryLearningStimuli/._108.png  \n",
            "  inflating: my_data/CategoryLearningStimuli/134.png  \n",
            "  inflating: my_data/__MACOSX/CategoryLearningStimuli/._134.png  \n",
            "  inflating: my_data/CategoryLearningStimuli/120.png  \n",
            "  inflating: my_data/__MACOSX/CategoryLearningStimuli/._120.png  \n",
            "  inflating: my_data/CategoryLearningStimuli/35.png  \n",
            "  inflating: my_data/__MACOSX/CategoryLearningStimuli/._35.png  \n",
            "  inflating: my_data/CategoryLearningStimuli/21.png  \n",
            "  inflating: my_data/__MACOSX/CategoryLearningStimuli/._21.png  \n",
            "  inflating: my_data/CategoryLearningStimuli/242.png  \n",
            "  inflating: my_data/__MACOSX/CategoryLearningStimuli/._242.png  \n",
            "  inflating: my_data/CategoryLearningStimuli/256.png  \n",
            "  inflating: my_data/__MACOSX/CategoryLearningStimuli/._256.png  \n",
            "  inflating: my_data/CategoryLearningStimuli/281.png  \n",
            "  inflating: my_data/__MACOSX/CategoryLearningStimuli/._281.png  \n",
            "  inflating: my_data/CategoryLearningStimuli/295.png  \n",
            "  inflating: my_data/__MACOSX/CategoryLearningStimuli/._295.png  \n",
            "  inflating: my_data/CategoryLearningStimuli/294.png  \n",
            "  inflating: my_data/__MACOSX/CategoryLearningStimuli/._294.png  \n",
            "  inflating: my_data/CategoryLearningStimuli/280.png  \n",
            "  inflating: my_data/__MACOSX/CategoryLearningStimuli/._280.png  \n",
            "  inflating: my_data/CategoryLearningStimuli/257.png  \n",
            "  inflating: my_data/__MACOSX/CategoryLearningStimuli/._257.png  \n",
            "  inflating: my_data/CategoryLearningStimuli/243.png  \n",
            "  inflating: my_data/__MACOSX/CategoryLearningStimuli/._243.png  \n",
            "  inflating: my_data/CategoryLearningStimuli/20.png  \n",
            "  inflating: my_data/__MACOSX/CategoryLearningStimuli/._20.png  \n",
            "  inflating: my_data/CategoryLearningStimuli/34.png  \n",
            "  inflating: my_data/__MACOSX/CategoryLearningStimuli/._34.png  \n",
            "  inflating: my_data/CategoryLearningStimuli/121.png  \n",
            "  inflating: my_data/__MACOSX/CategoryLearningStimuli/._121.png  \n",
            "  inflating: my_data/CategoryLearningStimuli/135.png  \n",
            "  inflating: my_data/__MACOSX/CategoryLearningStimuli/._135.png  \n",
            "  inflating: my_data/CategoryLearningStimuli/109.png  \n",
            "  inflating: my_data/__MACOSX/CategoryLearningStimuli/._109.png  \n",
            "  inflating: my_data/CategoryLearningStimuli/323.png  \n",
            "  inflating: my_data/__MACOSX/CategoryLearningStimuli/._323.png  \n",
            "  inflating: my_data/CategoryLearningStimuli/337.png  \n",
            "  inflating: my_data/__MACOSX/CategoryLearningStimuli/._337.png  \n",
            "  inflating: my_data/CategoryLearningStimuli/309.png  \n",
            "  inflating: my_data/__MACOSX/CategoryLearningStimuli/._309.png  \n",
            "  inflating: my_data/CategoryLearningStimuli/321.png  \n",
            "  inflating: my_data/__MACOSX/CategoryLearningStimuli/._321.png  \n",
            "  inflating: my_data/CategoryLearningStimuli/335.png  \n",
            "  inflating: my_data/__MACOSX/CategoryLearningStimuli/._335.png  \n",
            "  inflating: my_data/CategoryLearningStimuli/123.png  \n",
            "  inflating: my_data/__MACOSX/CategoryLearningStimuli/._123.png  \n",
            "  inflating: my_data/CategoryLearningStimuli/137.png  \n",
            "  inflating: my_data/__MACOSX/CategoryLearningStimuli/._137.png  \n",
            "  inflating: my_data/CategoryLearningStimuli/22.png  \n",
            "  inflating: my_data/__MACOSX/CategoryLearningStimuli/._22.png  \n",
            "  inflating: my_data/CategoryLearningStimuli/36.png  \n",
            "  inflating: my_data/__MACOSX/CategoryLearningStimuli/._36.png  \n",
            "  inflating: my_data/CategoryLearningStimuli/269.png  \n",
            "  inflating: my_data/__MACOSX/CategoryLearningStimuli/._269.png  \n",
            "  inflating: my_data/CategoryLearningStimuli/255.png  \n",
            "  inflating: my_data/__MACOSX/CategoryLearningStimuli/._255.png  \n",
            "  inflating: my_data/CategoryLearningStimuli/241.png  \n",
            "  inflating: my_data/__MACOSX/CategoryLearningStimuli/._241.png  \n",
            "  inflating: my_data/CategoryLearningStimuli/296.png  \n",
            "  inflating: my_data/__MACOSX/CategoryLearningStimuli/._296.png  \n",
            "  inflating: my_data/CategoryLearningStimuli/282.png  \n",
            "  inflating: my_data/__MACOSX/CategoryLearningStimuli/._282.png  \n",
            "  inflating: my_data/CategoryLearningStimuli/283.png  \n",
            "  inflating: my_data/__MACOSX/CategoryLearningStimuli/._283.png  \n",
            "  inflating: my_data/CategoryLearningStimuli/297.png  \n",
            "  inflating: my_data/__MACOSX/CategoryLearningStimuli/._297.png  \n",
            "  inflating: my_data/CategoryLearningStimuli/240.png  \n",
            "  inflating: my_data/__MACOSX/CategoryLearningStimuli/._240.png  \n",
            "  inflating: my_data/CategoryLearningStimuli/254.png  \n",
            "  inflating: my_data/__MACOSX/CategoryLearningStimuli/._254.png  \n",
            "  inflating: my_data/CategoryLearningStimuli/268.png  \n",
            "  inflating: my_data/__MACOSX/CategoryLearningStimuli/._268.png  \n",
            "  inflating: my_data/CategoryLearningStimuli/37.png  \n",
            "  inflating: my_data/__MACOSX/CategoryLearningStimuli/._37.png  \n",
            "  inflating: my_data/CategoryLearningStimuli/23.png  \n",
            "  inflating: my_data/__MACOSX/CategoryLearningStimuli/._23.png  \n",
            "  inflating: my_data/CategoryLearningStimuli/136.png  \n",
            "  inflating: my_data/__MACOSX/CategoryLearningStimuli/._136.png  \n",
            "  inflating: my_data/CategoryLearningStimuli/122.png  \n",
            "  inflating: my_data/__MACOSX/CategoryLearningStimuli/._122.png  \n",
            "  inflating: my_data/CategoryLearningStimuli/334.png  \n",
            "  inflating: my_data/__MACOSX/CategoryLearningStimuli/._334.png  \n",
            "  inflating: my_data/CategoryLearningStimuli/320.png  \n",
            "  inflating: my_data/__MACOSX/CategoryLearningStimuli/._320.png  \n",
            "  inflating: my_data/CategoryLearningStimuli/308.png  \n",
            "  inflating: my_data/__MACOSX/CategoryLearningStimuli/._308.png  \n",
            "  inflating: my_data/CategoryLearningStimuli/324.png  \n",
            "  inflating: my_data/__MACOSX/CategoryLearningStimuli/._324.png  \n",
            "  inflating: my_data/CategoryLearningStimuli/330.png  \n",
            "  inflating: my_data/__MACOSX/CategoryLearningStimuli/._330.png  \n",
            "  inflating: my_data/CategoryLearningStimuli/318.png  \n",
            "  inflating: my_data/__MACOSX/CategoryLearningStimuli/._318.png  \n",
            "  inflating: my_data/CategoryLearningStimuli/126.png  \n",
            "  inflating: my_data/__MACOSX/CategoryLearningStimuli/._126.png  \n",
            "  inflating: my_data/CategoryLearningStimuli/132.png  \n",
            "  inflating: my_data/__MACOSX/CategoryLearningStimuli/._132.png  \n",
            "  inflating: my_data/CategoryLearningStimuli/27.png  \n",
            "  inflating: my_data/__MACOSX/CategoryLearningStimuli/._27.png  \n",
            "  inflating: my_data/CategoryLearningStimuli/33.png  \n",
            "  inflating: my_data/__MACOSX/CategoryLearningStimuli/._33.png  \n",
            "  inflating: my_data/CategoryLearningStimuli/250.png  \n",
            "  inflating: my_data/__MACOSX/CategoryLearningStimuli/._250.png  \n",
            "  inflating: my_data/CategoryLearningStimuli/244.png  \n",
            "  inflating: my_data/__MACOSX/CategoryLearningStimuli/._244.png  \n",
            "  inflating: my_data/CategoryLearningStimuli/278.png  \n",
            "  inflating: my_data/__MACOSX/CategoryLearningStimuli/._278.png  \n",
            "  inflating: my_data/CategoryLearningStimuli/293.png  \n",
            "  inflating: my_data/__MACOSX/CategoryLearningStimuli/._293.png  \n",
            "  inflating: my_data/CategoryLearningStimuli/287.png  \n",
            "  inflating: my_data/__MACOSX/CategoryLearningStimuli/._287.png  \n",
            "  inflating: my_data/CategoryLearningStimuli/286.png  \n",
            "  inflating: my_data/__MACOSX/CategoryLearningStimuli/._286.png  \n",
            "  inflating: my_data/CategoryLearningStimuli/292.png  \n",
            "  inflating: my_data/__MACOSX/CategoryLearningStimuli/._292.png  \n",
            "  inflating: my_data/CategoryLearningStimuli/279.png  \n",
            "  inflating: my_data/__MACOSX/CategoryLearningStimuli/._279.png  \n",
            "  inflating: my_data/CategoryLearningStimuli/245.png  \n",
            "  inflating: my_data/__MACOSX/CategoryLearningStimuli/._245.png  \n",
            "  inflating: my_data/CategoryLearningStimuli/251.png  \n",
            "  inflating: my_data/__MACOSX/CategoryLearningStimuli/._251.png  \n",
            "  inflating: my_data/CategoryLearningStimuli/32.png  \n",
            "  inflating: my_data/__MACOSX/CategoryLearningStimuli/._32.png  \n",
            "  inflating: my_data/CategoryLearningStimuli/26.png  \n",
            "  inflating: my_data/__MACOSX/CategoryLearningStimuli/._26.png  \n",
            "  inflating: my_data/CategoryLearningStimuli/133.png  \n",
            "  inflating: my_data/__MACOSX/CategoryLearningStimuli/._133.png  \n",
            "  inflating: my_data/CategoryLearningStimuli/127.png  \n",
            "  inflating: my_data/__MACOSX/CategoryLearningStimuli/._127.png  \n",
            "  inflating: my_data/CategoryLearningStimuli/319.png  \n",
            "  inflating: my_data/__MACOSX/CategoryLearningStimuli/._319.png  \n",
            "  inflating: my_data/CategoryLearningStimuli/331.png  \n",
            "  inflating: my_data/__MACOSX/CategoryLearningStimuli/._331.png  \n",
            "  inflating: my_data/CategoryLearningStimuli/325.png  \n",
            "  inflating: my_data/__MACOSX/CategoryLearningStimuli/._325.png  \n",
            "  inflating: my_data/CategoryLearningStimuli/333.png  \n",
            "  inflating: my_data/__MACOSX/CategoryLearningStimuli/._333.png  \n",
            "  inflating: my_data/CategoryLearningStimuli/327.png  \n",
            "  inflating: my_data/__MACOSX/CategoryLearningStimuli/._327.png  \n",
            "  inflating: my_data/CategoryLearningStimuli/131.png  \n",
            "  inflating: my_data/__MACOSX/CategoryLearningStimuli/._131.png  \n",
            "  inflating: my_data/CategoryLearningStimuli/125.png  \n",
            "  inflating: my_data/__MACOSX/CategoryLearningStimuli/._125.png  \n",
            "  inflating: my_data/CategoryLearningStimuli/119.png  \n",
            "  inflating: my_data/__MACOSX/CategoryLearningStimuli/._119.png  \n",
            "  inflating: my_data/CategoryLearningStimuli/18.png  \n",
            "  inflating: my_data/__MACOSX/CategoryLearningStimuli/._18.png  \n",
            "  inflating: my_data/CategoryLearningStimuli/30.png  \n",
            "  inflating: my_data/__MACOSX/CategoryLearningStimuli/._30.png  \n",
            "  inflating: my_data/CategoryLearningStimuli/24.png  \n",
            "  inflating: my_data/__MACOSX/CategoryLearningStimuli/._24.png  \n",
            "  inflating: my_data/CategoryLearningStimuli/247.png  \n",
            "  inflating: my_data/__MACOSX/CategoryLearningStimuli/._247.png  \n",
            "  inflating: my_data/CategoryLearningStimuli/253.png  \n",
            "  inflating: my_data/__MACOSX/CategoryLearningStimuli/._253.png  \n",
            "  inflating: my_data/CategoryLearningStimuli/284.png  \n",
            "  inflating: my_data/__MACOSX/CategoryLearningStimuli/._284.png  \n",
            "  inflating: my_data/CategoryLearningStimuli/290.png  \n",
            "  inflating: my_data/__MACOSX/CategoryLearningStimuli/._290.png  \n",
            "  inflating: my_data/CategoryLearningStimuli/291.png  \n",
            "  inflating: my_data/__MACOSX/CategoryLearningStimuli/._291.png  \n",
            "  inflating: my_data/CategoryLearningStimuli/285.png  \n",
            "  inflating: my_data/__MACOSX/CategoryLearningStimuli/._285.png  \n",
            "  inflating: my_data/CategoryLearningStimuli/252.png  \n",
            "  inflating: my_data/__MACOSX/CategoryLearningStimuli/._252.png  \n",
            "  inflating: my_data/CategoryLearningStimuli/246.png  \n",
            "  inflating: my_data/__MACOSX/CategoryLearningStimuli/._246.png  \n",
            "  inflating: my_data/CategoryLearningStimuli/25.png  \n",
            "  inflating: my_data/__MACOSX/CategoryLearningStimuli/._25.png  \n",
            "  inflating: my_data/CategoryLearningStimuli/31.png  \n",
            "  inflating: my_data/__MACOSX/CategoryLearningStimuli/._31.png  \n",
            "  inflating: my_data/CategoryLearningStimuli/19.png  \n",
            "  inflating: my_data/__MACOSX/CategoryLearningStimuli/._19.png  \n",
            "  inflating: my_data/CategoryLearningStimuli/118.png  \n",
            "  inflating: my_data/__MACOSX/CategoryLearningStimuli/._118.png  \n",
            "  inflating: my_data/CategoryLearningStimuli/124.png  \n",
            "  inflating: my_data/__MACOSX/CategoryLearningStimuli/._124.png  \n",
            "  inflating: my_data/CategoryLearningStimuli/130.png  \n",
            "  inflating: my_data/__MACOSX/CategoryLearningStimuli/._130.png  \n",
            "  inflating: my_data/CategoryLearningStimuli/326.png  \n",
            "  inflating: my_data/__MACOSX/CategoryLearningStimuli/._326.png  \n",
            "  inflating: my_data/CategoryLearningStimuli/332.png  \n",
            "  inflating: my_data/__MACOSX/CategoryLearningStimuli/._332.png  \n",
            "  inflating: my_data/CategoryLearningStimuli/355.png  \n",
            "  inflating: my_data/__MACOSX/CategoryLearningStimuli/._355.png  \n",
            "  inflating: my_data/CategoryLearningStimuli/341.png  \n",
            "  inflating: my_data/__MACOSX/CategoryLearningStimuli/._341.png  \n",
            "  inflating: my_data/CategoryLearningStimuli/95.png  \n",
            "  inflating: my_data/__MACOSX/CategoryLearningStimuli/._95.png  \n",
            "  inflating: my_data/CategoryLearningStimuli/81.png  \n",
            "  inflating: my_data/__MACOSX/CategoryLearningStimuli/._81.png  \n",
            "  inflating: my_data/CategoryLearningStimuli/157.png  \n",
            "  inflating: my_data/__MACOSX/CategoryLearningStimuli/._157.png  \n",
            "  inflating: my_data/CategoryLearningStimuli/143.png  \n",
            "  inflating: my_data/__MACOSX/CategoryLearningStimuli/._143.png  \n",
            "  inflating: my_data/CategoryLearningStimuli/4.png  \n",
            "  inflating: my_data/__MACOSX/CategoryLearningStimuli/._4.png  \n",
            "  inflating: my_data/CategoryLearningStimuli/56.png  \n",
            "  inflating: my_data/__MACOSX/CategoryLearningStimuli/._56.png  \n",
            "  inflating: my_data/CategoryLearningStimuli/42.png  \n",
            "  inflating: my_data/__MACOSX/CategoryLearningStimuli/._42.png  \n",
            "  inflating: my_data/CategoryLearningStimuli/194.png  \n",
            "  inflating: my_data/__MACOSX/CategoryLearningStimuli/._194.png  \n",
            "  inflating: my_data/CategoryLearningStimuli/180.png  \n",
            "  inflating: my_data/__MACOSX/CategoryLearningStimuli/._180.png  \n",
            "  inflating: my_data/CategoryLearningStimuli/209.png  \n",
            "  inflating: my_data/__MACOSX/CategoryLearningStimuli/._209.png  \n",
            "  inflating: my_data/CategoryLearningStimuli/221.png  \n",
            "  inflating: my_data/__MACOSX/CategoryLearningStimuli/._221.png  \n",
            "  inflating: my_data/CategoryLearningStimuli/235.png  \n",
            "  inflating: my_data/__MACOSX/CategoryLearningStimuli/._235.png  \n",
            "  inflating: my_data/CategoryLearningStimuli/234.png  \n",
            "  inflating: my_data/__MACOSX/CategoryLearningStimuli/._234.png  \n",
            "  inflating: my_data/CategoryLearningStimuli/220.png  \n",
            "  inflating: my_data/__MACOSX/CategoryLearningStimuli/._220.png  \n",
            "  inflating: my_data/CategoryLearningStimuli/208.png  \n",
            "  inflating: my_data/__MACOSX/CategoryLearningStimuli/._208.png  \n",
            "  inflating: my_data/CategoryLearningStimuli/181.png  \n",
            "  inflating: my_data/__MACOSX/CategoryLearningStimuli/._181.png  \n",
            "  inflating: my_data/CategoryLearningStimuli/195.png  \n",
            "  inflating: my_data/__MACOSX/CategoryLearningStimuli/._195.png  \n",
            "  inflating: my_data/CategoryLearningStimuli/43.png  \n",
            "  inflating: my_data/__MACOSX/CategoryLearningStimuli/._43.png  \n",
            "  inflating: my_data/CategoryLearningStimuli/5.png  \n",
            "  inflating: my_data/__MACOSX/CategoryLearningStimuli/._5.png  \n",
            "  inflating: my_data/CategoryLearningStimuli/57.png  \n",
            "  inflating: my_data/__MACOSX/CategoryLearningStimuli/._57.png  \n",
            "  inflating: my_data/CategoryLearningStimuli/142.png  \n",
            "  inflating: my_data/__MACOSX/CategoryLearningStimuli/._142.png  \n",
            "  inflating: my_data/CategoryLearningStimuli/156.png  \n",
            "  inflating: my_data/__MACOSX/CategoryLearningStimuli/._156.png  \n",
            "  inflating: my_data/CategoryLearningStimuli/80.png  \n",
            "  inflating: my_data/__MACOSX/CategoryLearningStimuli/._80.png  \n",
            "  inflating: my_data/CategoryLearningStimuli/94.png  \n",
            "  inflating: my_data/__MACOSX/CategoryLearningStimuli/._94.png  \n",
            "  inflating: my_data/CategoryLearningStimuli/340.png  \n",
            "  inflating: my_data/__MACOSX/CategoryLearningStimuli/._340.png  \n",
            "  inflating: my_data/CategoryLearningStimuli/354.png  \n",
            "  inflating: my_data/__MACOSX/CategoryLearningStimuli/._354.png  \n",
            "  inflating: my_data/CategoryLearningStimuli/342.png  \n",
            "  inflating: my_data/__MACOSX/CategoryLearningStimuli/._342.png  \n",
            "  inflating: my_data/CategoryLearningStimuli/356.png  \n",
            "  inflating: my_data/__MACOSX/CategoryLearningStimuli/._356.png  \n",
            "  inflating: my_data/CategoryLearningStimuli/82.png  \n",
            "  inflating: my_data/__MACOSX/CategoryLearningStimuli/._82.png  \n",
            "  inflating: my_data/CategoryLearningStimuli/96.png  \n",
            "  inflating: my_data/__MACOSX/CategoryLearningStimuli/._96.png  \n",
            "  inflating: my_data/CategoryLearningStimuli/168.png  \n",
            "  inflating: my_data/__MACOSX/CategoryLearningStimuli/._168.png  \n",
            "  inflating: my_data/CategoryLearningStimuli/140.png  \n",
            "  inflating: my_data/__MACOSX/CategoryLearningStimuli/._140.png  \n",
            "  inflating: my_data/CategoryLearningStimuli/154.png  \n",
            "  inflating: my_data/__MACOSX/CategoryLearningStimuli/._154.png  \n",
            "  inflating: my_data/CategoryLearningStimuli/41.png  \n",
            "  inflating: my_data/__MACOSX/CategoryLearningStimuli/._41.png  \n",
            "  inflating: my_data/CategoryLearningStimuli/55.png  \n",
            "  inflating: my_data/__MACOSX/CategoryLearningStimuli/._55.png  \n",
            "  inflating: my_data/CategoryLearningStimuli/7.png  \n",
            "  inflating: my_data/__MACOSX/CategoryLearningStimuli/._7.png  \n",
            "  inflating: my_data/CategoryLearningStimuli/183.png  \n",
            "  inflating: my_data/__MACOSX/CategoryLearningStimuli/._183.png  \n",
            "  inflating: my_data/CategoryLearningStimuli/69.png  \n",
            "  inflating: my_data/__MACOSX/CategoryLearningStimuli/._69.png  \n",
            "  inflating: my_data/CategoryLearningStimuli/197.png  \n",
            "  inflating: my_data/__MACOSX/CategoryLearningStimuli/._197.png  \n",
            "  inflating: my_data/CategoryLearningStimuli/236.png  \n",
            "  inflating: my_data/__MACOSX/CategoryLearningStimuli/._236.png  \n",
            "  inflating: my_data/CategoryLearningStimuli/222.png  \n",
            "  inflating: my_data/__MACOSX/CategoryLearningStimuli/._222.png  \n",
            "  inflating: my_data/CategoryLearningStimuli/223.png  \n",
            "  inflating: my_data/__MACOSX/CategoryLearningStimuli/._223.png  \n",
            "  inflating: my_data/CategoryLearningStimuli/237.png  \n",
            "  inflating: my_data/__MACOSX/CategoryLearningStimuli/._237.png  \n",
            "  inflating: my_data/CategoryLearningStimuli/68.png  \n",
            "  inflating: my_data/__MACOSX/CategoryLearningStimuli/._68.png  \n",
            "  inflating: my_data/CategoryLearningStimuli/196.png  \n",
            "  inflating: my_data/__MACOSX/CategoryLearningStimuli/._196.png  \n",
            "  inflating: my_data/CategoryLearningStimuli/182.png  \n",
            "  inflating: my_data/__MACOSX/CategoryLearningStimuli/._182.png  \n",
            "  inflating: my_data/CategoryLearningStimuli/54.png  \n",
            "  inflating: my_data/__MACOSX/CategoryLearningStimuli/._54.png  \n",
            "  inflating: my_data/CategoryLearningStimuli/6.png  \n",
            "  inflating: my_data/__MACOSX/CategoryLearningStimuli/._6.png  \n",
            "  inflating: my_data/CategoryLearningStimuli/40.png  \n",
            "  inflating: my_data/__MACOSX/CategoryLearningStimuli/._40.png  \n",
            "  inflating: my_data/CategoryLearningStimuli/155.png  \n",
            "  inflating: my_data/__MACOSX/CategoryLearningStimuli/._155.png  \n",
            "  inflating: my_data/CategoryLearningStimuli/141.png  \n",
            "  inflating: my_data/__MACOSX/CategoryLearningStimuli/._141.png  \n",
            "  inflating: my_data/CategoryLearningStimuli/97.png  \n",
            "  inflating: my_data/__MACOSX/CategoryLearningStimuli/._97.png  \n",
            "  inflating: my_data/CategoryLearningStimuli/169.png  \n",
            "  inflating: my_data/__MACOSX/CategoryLearningStimuli/._169.png  \n",
            "  inflating: my_data/CategoryLearningStimuli/83.png  \n",
            "  inflating: my_data/__MACOSX/CategoryLearningStimuli/._83.png  \n",
            "  inflating: my_data/CategoryLearningStimuli/357.png  \n",
            "  inflating: my_data/__MACOSX/CategoryLearningStimuli/._357.png  \n",
            "  inflating: my_data/CategoryLearningStimuli/343.png  \n",
            "  inflating: my_data/__MACOSX/CategoryLearningStimuli/._343.png  \n",
            "  inflating: my_data/CategoryLearningStimuli/347.png  \n",
            "  inflating: my_data/__MACOSX/CategoryLearningStimuli/._347.png  \n",
            "  inflating: my_data/CategoryLearningStimuli/353.png  \n",
            "  inflating: my_data/__MACOSX/CategoryLearningStimuli/._353.png  \n",
            "  inflating: my_data/CategoryLearningStimuli/145.png  \n",
            "  inflating: my_data/__MACOSX/CategoryLearningStimuli/._145.png  \n",
            "  inflating: my_data/CategoryLearningStimuli/151.png  \n",
            "  inflating: my_data/__MACOSX/CategoryLearningStimuli/._151.png  \n",
            "  inflating: my_data/CategoryLearningStimuli/87.png  \n",
            "  inflating: my_data/__MACOSX/CategoryLearningStimuli/._87.png  \n",
            "  inflating: my_data/CategoryLearningStimuli/179.png  \n",
            "  inflating: my_data/__MACOSX/CategoryLearningStimuli/._179.png  \n",
            "  inflating: my_data/CategoryLearningStimuli/93.png  \n",
            "  inflating: my_data/__MACOSX/CategoryLearningStimuli/._93.png  \n",
            "  inflating: my_data/CategoryLearningStimuli/78.png  \n",
            "  inflating: my_data/__MACOSX/CategoryLearningStimuli/._78.png  \n",
            "  inflating: my_data/CategoryLearningStimuli/186.png  \n",
            "  inflating: my_data/__MACOSX/CategoryLearningStimuli/._186.png  \n",
            "  inflating: my_data/CategoryLearningStimuli/192.png  \n",
            "  inflating: my_data/__MACOSX/CategoryLearningStimuli/._192.png  \n",
            "  inflating: my_data/CategoryLearningStimuli/44.png  \n",
            "  inflating: my_data/__MACOSX/CategoryLearningStimuli/._44.png  \n",
            "  inflating: my_data/CategoryLearningStimuli/2.png  \n",
            "  inflating: my_data/__MACOSX/CategoryLearningStimuli/._2.png  \n",
            "  inflating: my_data/CategoryLearningStimuli/50.png  \n",
            "  inflating: my_data/__MACOSX/CategoryLearningStimuli/._50.png  \n",
            "  inflating: my_data/CategoryLearningStimuli/233.png  \n",
            "  inflating: my_data/__MACOSX/CategoryLearningStimuli/._233.png  \n",
            "  inflating: my_data/CategoryLearningStimuli/227.png  \n",
            "  inflating: my_data/__MACOSX/CategoryLearningStimuli/._227.png  \n",
            "  inflating: my_data/CategoryLearningStimuli/226.png  \n",
            "  inflating: my_data/__MACOSX/CategoryLearningStimuli/._226.png  \n",
            "  inflating: my_data/CategoryLearningStimuli/232.png  \n",
            "  inflating: my_data/__MACOSX/CategoryLearningStimuli/._232.png  \n",
            "  inflating: my_data/CategoryLearningStimuli/3.png  \n",
            "  inflating: my_data/__MACOSX/CategoryLearningStimuli/._3.png  \n",
            "  inflating: my_data/CategoryLearningStimuli/51.png  \n",
            "  inflating: my_data/__MACOSX/CategoryLearningStimuli/._51.png  \n",
            "  inflating: my_data/CategoryLearningStimuli/45.png  \n",
            "  inflating: my_data/__MACOSX/CategoryLearningStimuli/._45.png  \n",
            "  inflating: my_data/CategoryLearningStimuli/193.png  \n",
            "  inflating: my_data/__MACOSX/CategoryLearningStimuli/._193.png  \n",
            "  inflating: my_data/CategoryLearningStimuli/79.png  \n",
            "  inflating: my_data/__MACOSX/CategoryLearningStimuli/._79.png  \n",
            "  inflating: my_data/CategoryLearningStimuli/187.png  \n",
            "  inflating: my_data/__MACOSX/CategoryLearningStimuli/._187.png  \n",
            "  inflating: my_data/CategoryLearningStimuli/92.png  \n",
            "  inflating: my_data/__MACOSX/CategoryLearningStimuli/._92.png  \n",
            "  inflating: my_data/CategoryLearningStimuli/86.png  \n",
            "  inflating: my_data/__MACOSX/CategoryLearningStimuli/._86.png  \n",
            "  inflating: my_data/CategoryLearningStimuli/178.png  \n",
            "  inflating: my_data/__MACOSX/CategoryLearningStimuli/._178.png  \n",
            "  inflating: my_data/CategoryLearningStimuli/150.png  \n",
            "  inflating: my_data/__MACOSX/CategoryLearningStimuli/._150.png  \n",
            "  inflating: my_data/CategoryLearningStimuli/144.png  \n",
            "  inflating: my_data/__MACOSX/CategoryLearningStimuli/._144.png  \n",
            "  inflating: my_data/CategoryLearningStimuli/352.png  \n",
            "  inflating: my_data/__MACOSX/CategoryLearningStimuli/._352.png  \n",
            "  inflating: my_data/CategoryLearningStimuli/346.png  \n",
            "  inflating: my_data/__MACOSX/CategoryLearningStimuli/._346.png  \n",
            "  inflating: my_data/CategoryLearningStimuli/350.png  \n",
            "  inflating: my_data/__MACOSX/CategoryLearningStimuli/._350.png  \n",
            "  inflating: my_data/CategoryLearningStimuli/344.png  \n",
            "  inflating: my_data/__MACOSX/CategoryLearningStimuli/._344.png  \n",
            "  inflating: my_data/CategoryLearningStimuli/152.png  \n",
            "  inflating: my_data/__MACOSX/CategoryLearningStimuli/._152.png  \n",
            "  inflating: my_data/CategoryLearningStimuli/146.png  \n",
            "  inflating: my_data/__MACOSX/CategoryLearningStimuli/._146.png  \n",
            "  inflating: my_data/CategoryLearningStimuli/90.png  \n",
            "  inflating: my_data/__MACOSX/CategoryLearningStimuli/._90.png  \n",
            "  inflating: my_data/CategoryLearningStimuli/84.png  \n",
            "  inflating: my_data/__MACOSX/CategoryLearningStimuli/._84.png  \n",
            "  inflating: my_data/CategoryLearningStimuli/191.png  \n",
            "  inflating: my_data/__MACOSX/CategoryLearningStimuli/._191.png  \n",
            "  inflating: my_data/CategoryLearningStimuli/185.png  \n",
            "  inflating: my_data/__MACOSX/CategoryLearningStimuli/._185.png  \n",
            "  inflating: my_data/CategoryLearningStimuli/53.png  \n",
            "  inflating: my_data/__MACOSX/CategoryLearningStimuli/._53.png  \n",
            "  inflating: my_data/CategoryLearningStimuli/1.png  \n",
            "  inflating: my_data/__MACOSX/CategoryLearningStimuli/._1.png  \n",
            "  inflating: my_data/CategoryLearningStimuli/47.png  \n",
            "  inflating: my_data/__MACOSX/CategoryLearningStimuli/._47.png  \n",
            "  inflating: my_data/CategoryLearningStimuli/224.png  \n",
            "  inflating: my_data/__MACOSX/CategoryLearningStimuli/._224.png  \n",
            "  inflating: my_data/CategoryLearningStimuli/230.png  \n",
            "  inflating: my_data/__MACOSX/CategoryLearningStimuli/._230.png  \n",
            "  inflating: my_data/CategoryLearningStimuli/218.png  \n",
            "  inflating: my_data/__MACOSX/CategoryLearningStimuli/._218.png  \n",
            "  inflating: my_data/CategoryLearningStimuli/219.png  \n",
            "  inflating: my_data/__MACOSX/CategoryLearningStimuli/._219.png  \n",
            "  inflating: my_data/CategoryLearningStimuli/231.png  \n",
            "  inflating: my_data/__MACOSX/CategoryLearningStimuli/._231.png  \n",
            "  inflating: my_data/CategoryLearningStimuli/225.png  \n",
            "  inflating: my_data/__MACOSX/CategoryLearningStimuli/._225.png  \n",
            "  inflating: my_data/CategoryLearningStimuli/46.png  \n",
            "  inflating: my_data/__MACOSX/CategoryLearningStimuli/._46.png  \n",
            "  inflating: my_data/CategoryLearningStimuli/52.png  \n",
            "  inflating: my_data/__MACOSX/CategoryLearningStimuli/._52.png  \n",
            "  inflating: my_data/CategoryLearningStimuli/0.png  \n",
            "  inflating: my_data/__MACOSX/CategoryLearningStimuli/._0.png  \n",
            "  inflating: my_data/CategoryLearningStimuli/184.png  \n",
            "  inflating: my_data/__MACOSX/CategoryLearningStimuli/._184.png  \n",
            "  inflating: my_data/CategoryLearningStimuli/190.png  \n",
            "  inflating: my_data/__MACOSX/CategoryLearningStimuli/._190.png  \n",
            "  inflating: my_data/CategoryLearningStimuli/85.png  \n",
            "  inflating: my_data/__MACOSX/CategoryLearningStimuli/._85.png  \n",
            "  inflating: my_data/CategoryLearningStimuli/91.png  \n",
            "  inflating: my_data/__MACOSX/CategoryLearningStimuli/._91.png  \n",
            "  inflating: my_data/CategoryLearningStimuli/147.png  \n",
            "  inflating: my_data/__MACOSX/CategoryLearningStimuli/._147.png  \n",
            "  inflating: my_data/CategoryLearningStimuli/153.png  \n",
            "  inflating: my_data/__MACOSX/CategoryLearningStimuli/._153.png  \n",
            "  inflating: my_data/CategoryLearningStimuli/345.png  \n",
            "  inflating: my_data/__MACOSX/CategoryLearningStimuli/._345.png  \n",
            "  inflating: my_data/CategoryLearningStimuli/351.png  \n",
            "  inflating: my_data/__MACOSX/CategoryLearningStimuli/._351.png  \n"
          ]
        }
      ],
      "source": [
        "# unzip folder (previously uploaded in collab)\n",
        "!unzip '/content/drive/MyDrive/Thesis/Neural_network/Human category learning task/documents/CategoryLearningStimuli.zip' -d my_data"
      ]
    },
    {
      "cell_type": "code",
      "source": [
        "# root directory to data\n",
        "root = \"my_data/CategoryLearningStimuli/\"\n",
        "dic_pretraining = '/content/drive/MyDrive/Thesis/Neural_network/Pre-training on Animals shapes/'\n",
        "dic_training = '/content/drive/MyDrive/Thesis/Neural_network/Human category learning task/documents/'"
      ],
      "metadata": {
        "id": "7Qn6g-xVMKZK"
      },
      "execution_count": 7,
      "outputs": []
    },
    {
      "cell_type": "code",
      "source": [
        "# get category labels\n",
        "image_ID = os.listdir(root)\n",
        "\n",
        "#remove \".DS_Store\"\n",
        "image_ID.remove(\".DS_Store\")\n",
        "#image_ID.remove(\".ipynb_checkpoints\")"
      ],
      "metadata": {
        "id": "ClQaWXOnMph3"
      },
      "execution_count": 8,
      "outputs": []
    },
    {
      "cell_type": "markdown",
      "source": [
        "2) Defining parameters"
      ],
      "metadata": {
        "id": "kJKf0t5IY1Gi"
      }
    },
    {
      "cell_type": "code",
      "source": [
        "# conditions\n",
        "condition1 = {\n",
        "    'A':[-30, 30],  #low var\n",
        "    'D':[-80, 80]   #high var\n",
        "    }\n",
        "\n",
        "condition2 = {\n",
        "    'A':[-80, 80], #high var\n",
        "    'D':[-30, 30]  #low var\n",
        "    }"
      ],
      "metadata": {
        "id": "PpTOxpl7Pk-Y"
      },
      "execution_count": 9,
      "outputs": []
    },
    {
      "cell_type": "code",
      "source": [
        "# reference shapes angles --> categories\n",
        "reference_shapeA = 0\n",
        "reference_shapeB = 310\n",
        "reference_shapeC = 260\n",
        "reference_shapeD = 210"
      ],
      "metadata": {
        "id": "bRKgsVBrPsny"
      },
      "execution_count": 10,
      "outputs": []
    },
    {
      "cell_type": "markdown",
      "source": [
        "3) Get angles and directory"
      ],
      "metadata": {
        "id": "BZcgeTwN_sJF"
      }
    },
    {
      "cell_type": "code",
      "source": [
        "# get angles\n",
        "angles = []\n",
        "for image in image_ID:\n",
        "  get_angle = image.replace('.png', '')\n",
        "  transform_to_int = int(get_angle)\n",
        "  angles.append(transform_to_int)"
      ],
      "metadata": {
        "id": "0USpqrVHNtVR"
      },
      "execution_count": 11,
      "outputs": []
    },
    {
      "cell_type": "code",
      "source": [
        "# get image directories\n",
        "img_dir = []\n",
        "\n",
        "for image in image_ID:\n",
        "  folder_path = root + image\n",
        "  img_dir.append(folder_path)"
      ],
      "metadata": {
        "id": "siyVH-nOZFqd",
        "collapsed": true
      },
      "execution_count": 12,
      "outputs": []
    },
    {
      "cell_type": "markdown",
      "source": [
        "4) Create general dataset"
      ],
      "metadata": {
        "id": "eNh2-TZG_wZE"
      }
    },
    {
      "cell_type": "code",
      "source": [
        "data =  {'angle' : angles,\n",
        "         'image' : image_ID,\n",
        "         'img_dir' : img_dir}\n",
        "# df\n",
        "df_data = pd.DataFrame(data)\n",
        "df_data = df_data.sort_values('angle')"
      ],
      "metadata": {
        "id": "nGpw5M4scHaP"
      },
      "execution_count": 13,
      "outputs": []
    },
    {
      "cell_type": "code",
      "source": [
        "# Create dictionary data\n",
        "def CreateDictionary (dataframe):\n",
        "  data_dicts = []\n",
        "\n",
        "  for i in range(len(dataframe)):\n",
        "    angle = dataframe.iloc[i, 0]\n",
        "    image = dataframe.iloc[i, 1]\n",
        "    img_dir = dataframe.iloc[i, 2]\n",
        "\n",
        "    individual_dic =  {'angle' : angle,\n",
        "                       'image' : image,\n",
        "                       'img_dir' : img_dir}\n",
        "\n",
        "    data_dicts.append(individual_dic)\n",
        "  return data_dicts"
      ],
      "metadata": {
        "id": "ofsNVD7bTzY6"
      },
      "execution_count": 14,
      "outputs": []
    },
    {
      "cell_type": "markdown",
      "source": [
        "6) Create datasets (4 for each condition)"
      ],
      "metadata": {
        "id": "72OFjL4f_7e4"
      }
    },
    {
      "cell_type": "code",
      "source": [
        "data_dict = CreateDictionary(df_data)\n",
        "data_dict[1]"
      ],
      "metadata": {
        "colab": {
          "base_uri": "https://localhost:8080/"
        },
        "id": "DQISNq2qT6Qg",
        "outputId": "37b7f0c0-1569-49d6-c320-753414a8cfee"
      },
      "execution_count": 15,
      "outputs": [
        {
          "output_type": "execute_result",
          "data": {
            "text/plain": [
              "{'angle': 1,\n",
              " 'image': '1.png',\n",
              " 'img_dir': 'my_data/CategoryLearningStimuli/1.png'}"
            ]
          },
          "metadata": {},
          "execution_count": 15
        }
      ]
    },
    {
      "cell_type": "markdown",
      "source": [
        "7) Create and select random positions for images"
      ],
      "metadata": {
        "id": "iKeaQuFovLre"
      }
    },
    {
      "cell_type": "code",
      "source": [
        "# read positions.txt\n",
        "#read\n",
        "PATH = '/content/drive/MyDrive/Thesis/Neural_network/Human category learning task/documents/positions.txt'\n",
        "positions = np.loadtxt(PATH)\n",
        "positions = positions.tolist()\n",
        "positions = [[int(float(j)) for j in i] for i in positions]\n",
        "positions[:5]"
      ],
      "metadata": {
        "id": "yMP3PGP_3f_I",
        "colab": {
          "base_uri": "https://localhost:8080/"
        },
        "collapsed": true,
        "outputId": "f73bd71f-560d-41b3-a383-daf582614458"
      },
      "execution_count": 16,
      "outputs": [
        {
          "output_type": "execute_result",
          "data": {
            "text/plain": [
              "[[23, 25, 21, 19],\n",
              " [26, 26, 18, 18],\n",
              " [31, 7, 13, 37],\n",
              " [27, 5, 17, 39],\n",
              " [31, 10, 13, 34]]"
            ]
          },
          "metadata": {},
          "execution_count": 16
        }
      ]
    },
    {
      "cell_type": "markdown",
      "source": [
        "8) Define class for CNN"
      ],
      "metadata": {
        "id": "FhOEMQaDABIw"
      }
    },
    {
      "cell_type": "code",
      "source": [
        "# function to give 'random' color jitter\n",
        "import torch\n",
        "from torchvision import transforms\n",
        "from torchvision.transforms import functional as F\n",
        "\n",
        "def compute_parameters(brightness, contrast, saturation, hue): #tuples\n",
        "  # pool size of static random values\n",
        "  N_values = 1000\n",
        "\n",
        "  # Create list of random values\n",
        "  rng = np.random.default_rng(seed=42)\n",
        "  brightness = list(rng.uniform(low=brightness[0], high=brightness[1], size=(N_values,)))\n",
        "  contrast = list(rng.uniform(low=contrast[0], high=contrast[1], size=(N_values,)))\n",
        "  saturation = list(rng.uniform(low=saturation[0], high=saturation[1], size=(N_values,)))\n",
        "  hue = hue\n",
        "\n",
        "  # Define specific jitter values\n",
        "  brightness_factor = np.random.choice(brightness)  # Change this to your specific value\n",
        "  contrast_factor = np.random.choice(contrast)    # Change this to your specific value\n",
        "  saturation_factor = 0.8  # Change this to your specific value\n",
        "  hue_factor = 0.1         # Change this to your specific value\n",
        "\n",
        "  return brightness_factor, contrast_factor, saturation_factor, hue_factor\n",
        "\n",
        "\n",
        "def apply_ColorJitter(tensor, brightness_factor, contrast_factor, saturation_factor, hue_factor):\n",
        "\n",
        "  # Convert tensor to PIL Image\n",
        "  pil_image = transforms.ToPILImage()(tensor)\n",
        "\n",
        "  # Apply the transformations using functional API on PIL image\n",
        "  jittered_image = F.adjust_brightness(pil_image, brightness_factor)\n",
        "  jittered_image = F.adjust_contrast(jittered_image, contrast_factor)\n",
        "  jittered_image = F.adjust_saturation(jittered_image, saturation_factor)\n",
        "  jittered_image = F.adjust_hue(jittered_image, hue_factor)\n",
        "\n",
        "  # Convert PIL Image back to tensor\n",
        "  jittered_tensor = transforms.ToTensor()(jittered_image)\n",
        "\n",
        "  return jittered_tensor"
      ],
      "metadata": {
        "id": "KkAtxOPKT4On"
      },
      "execution_count": 17,
      "outputs": []
    },
    {
      "cell_type": "code",
      "source": [
        "class ShapeImageDataset (Dataset):\n",
        "  # return two images, with 50% chance in same or different category and ground truth\n",
        "\n",
        "  # __init__\n",
        "  def __init__(self, length, reference_shape, test_shape, data_dict, positions, transform=None):\n",
        "    self.length = length\n",
        "    self.reference_shape = reference_shape\n",
        "    self.test_shape = test_shape\n",
        "    self.data = data_dict\n",
        "    self.transform = transform\n",
        "    self.positions = positions\n",
        "    self.left_right = [0,1]\n",
        "\n",
        "  # __len__\n",
        "  def __len__(self):\n",
        "    return self.length\n",
        "\n",
        "  # function to read images\n",
        "  def read_image_from_directory(self, img_dir):\n",
        "    return read_image(img_dir, ImageReadMode.RGB)\n",
        "\n",
        "  # __getitem__\n",
        "  def __getitem__(self, idx):\n",
        "\n",
        "    # img1 should be reference shape\n",
        "    ref_shape_image = self.data[self.reference_shape]\n",
        "    ref_shape_angle = ref_shape_image['angle']\n",
        "    ref_shape_dir = ref_shape_image['img_dir']\n",
        "\n",
        "    # img2 should be test shape: from all angles\n",
        "    if self.test_shape > 360:\n",
        "      test_shape_angle_360 = self.test_shape - 360\n",
        "    else:\n",
        "      test_shape_angle_360 = self.test_shape\n",
        "\n",
        "    test_shape_image = self.data[round(test_shape_angle_360)]\n",
        "    test_shape_angle = test_shape_image['angle']\n",
        "    test_shape_dir = test_shape_image['img_dir']\n",
        "\n",
        "    # read images\n",
        "    img1 = self.read_image_from_directory(ref_shape_dir)\n",
        "    img2 = self.read_image_from_directory(test_shape_dir)\n",
        "\n",
        "    # # gt\n",
        "    # # if same degree (e.g. 0 and 0)\n",
        "    # if ref_shape_angle == test_shape_angle:\n",
        "    #   gt = 1\n",
        "    # # if 0 and 360\n",
        "    # elif ref_shape_angle == (test_shape_angle-360):\n",
        "    #   gt = 1\n",
        "    # else:\n",
        "    #   gt = 0\n",
        "\n",
        "    gt = 1\n",
        "\n",
        "    # apply transformations per image pair\n",
        "    # resize to 180x180\n",
        "    resize = v2.Resize([180,180])\n",
        "    img1 = resize(img1)\n",
        "    img2 = resize(img2)\n",
        "    # apply padding\n",
        "    img1_selected_position = choice(self.positions)\n",
        "    img2_selected_position = choice(self.positions)\n",
        "    padding_img1 = Pad(padding = img1_selected_position, fill=128)\n",
        "    padding_img2 = Pad(padding = img2_selected_position, fill=128)\n",
        "    img1 = padding_img1(img1)\n",
        "    img2 = padding_img2(img2)\n",
        "\n",
        "    #apply ColorJitter\n",
        "    [brightness_factor, contrast_factor, saturation_factor, hue_factor] = compute_parameters(\n",
        "        brightness=(0.5,0.8), contrast=(0.1,1), saturation=(-0.5,0.5), hue=0)\n",
        "    img1 = apply_ColorJitter(img1, brightness_factor, contrast_factor, saturation_factor, hue_factor)\n",
        "    img2 = apply_ColorJitter(img2, brightness_factor, contrast_factor, saturation_factor, hue_factor)\n",
        "\n",
        "    # apply more transformations\n",
        "    if self.transform:\n",
        "      img1 = self.transform(img1)\n",
        "      img2 = self.transform(img2)\n",
        "\n",
        "    # left and right positions change randomly\n",
        "    # return tensors for image 1 and image 2 and a ground truth\n",
        "    if choice(self.left_right) == 1:\n",
        "      img_left = img1\n",
        "      img_right = img2\n",
        "    else:\n",
        "      img_left = img2\n",
        "      img_right = img1\n",
        "\n",
        "    #return to_grayscale_rgb(img_left), to_grayscale_rgb(img_right), gt\n",
        "    return img_left, img_right, gt"
      ],
      "metadata": {
        "id": "0T2SwMpmUnFd"
      },
      "execution_count": 122,
      "outputs": []
    },
    {
      "cell_type": "markdown",
      "source": [
        "9) Create datasets of images"
      ],
      "metadata": {
        "id": "M8Ma85FibAHp"
      }
    },
    {
      "cell_type": "code",
      "source": [
        "# tranformations to images for NN\n",
        "preprocess = v2.Compose(\n",
        "    [   v2.ToDtype(torch.float32, scale=True),\n",
        "        v2.Normalize(mean=[0.485, 0.456, 0.406], std=[0.229, 0.224, 0.225]),\n",
        "    ]\n",
        ")"
      ],
      "metadata": {
        "id": "__RpP8WTbBq1"
      },
      "execution_count": 19,
      "outputs": []
    },
    {
      "cell_type": "code",
      "source": [
        "#create dataset for RSB\n",
        "#parameters: length, reference_shape, test_shape, data_dict, positions, transform=None)\n",
        "len_dataset = 360*3 # multiple of 360 up until (360*3)\n",
        "test_shape = 390\n",
        "dataset_RSB = ShapeImageDataset(len_dataset, reference_shapeA, test_shape, data_dict, positions, preprocess)"
      ],
      "metadata": {
        "id": "uguuCmIhb8wO"
      },
      "execution_count": 108,
      "outputs": []
    },
    {
      "cell_type": "markdown",
      "source": [
        "**Plotting Dataset**"
      ],
      "metadata": {
        "id": "Txap5WFUded-"
      }
    },
    {
      "cell_type": "code",
      "source": [
        "# Denormalize tensor\n",
        "denormalize = transforms.Normalize(\n",
        "    mean=[-0.485 / 0.229, -0.456 / 0.224, -0.406 / 0.225],\n",
        "    std=[1/0.229, 1/0.224, 1/0.225]\n",
        ")"
      ],
      "metadata": {
        "id": "H8x2PUkxUWg2"
      },
      "execution_count": 22,
      "outputs": []
    },
    {
      "cell_type": "code",
      "source": [
        "from torchvision.transforms import functional as F\n",
        "\n",
        "def tensor_to_pil(image_tensor):\n",
        "    return F.to_pil_image(image_tensor)"
      ],
      "metadata": {
        "id": "YJmvs08AUYK4"
      },
      "execution_count": 23,
      "outputs": []
    },
    {
      "cell_type": "code",
      "source": [
        "# Example usage to display 5 pairs of images\n",
        "fig, axs = plt.subplots(4, 2, figsize=(5, 10))\n",
        "\n",
        "for i in range(4):\n",
        "    idx = np.random.randint(0, len(dataset_RSB) - 1)\n",
        "    img1, img2, gt = dataset_RSB[idx]  # Get image pair and ground truth\n",
        "    img1 = denormalize(img1)\n",
        "    img2 = denormalize(img2)\n",
        "    img1_pil = tensor_to_pil(img1)\n",
        "    img2_pil = tensor_to_pil(img2)\n",
        "\n",
        "    axs[i, 0].imshow(img1_pil)\n",
        "    axs[i, 0].set_title('Image 1')\n",
        "    axs[i, 0].axis('off')\n",
        "\n",
        "    axs[i, 1].imshow(img2_pil)\n",
        "    axs[i, 1].set_title(f'Image 2 - GT: {gt}')\n",
        "    axs[i, 1].axis('off')\n",
        "\n",
        "plt.tight_layout()\n",
        "#plt.savefig(dic_training + 'image_pairs_training_RSC.pdf')\n",
        "plt.show()"
      ],
      "metadata": {
        "colab": {
          "base_uri": "https://localhost:8080/",
          "height": 1000
        },
        "id": "RtuoxF0PdvoC",
        "outputId": "d3d3fd8b-011f-4448-c276-e0b1e60ce9fc",
        "collapsed": true
      },
      "execution_count": 109,
      "outputs": [
        {
          "output_type": "display_data",
          "data": {
            "text/plain": [
              "<Figure size 500x1000 with 8 Axes>"
            ],
            "image/png": "[encoded data removed]"
          },
          "metadata": {}
        }
      ]
    },
    {
      "cell_type": "markdown",
      "source": [
        "**Neural network**"
      ],
      "metadata": {
        "id": "gYvDAVCDnlNX"
      }
    },
    {
      "cell_type": "markdown",
      "source": [
        "Get pre-trained weights"
      ],
      "metadata": {
        "id": "v2mXucf_vJj2"
      }
    },
    {
      "cell_type": "code",
      "source": [
        "layer = 'block3'"
      ],
      "metadata": {
        "id": "cFaNnNtDUeci"
      },
      "execution_count": 25,
      "outputs": []
    },
    {
      "cell_type": "code",
      "source": [
        "#load pretrained weights\n",
        "transfer_learning_model_RSA = 'weights_224_TrainingRSA_pretrainedModel.pt'\n",
        "transfer_learning_model_RSD = 'weights_224_TrainingRSD.pt'\n",
        "\n",
        "PATH_RSA = dic_training + transfer_learning_model_RSA\n",
        "PATH_RSD = dic_training + transfer_learning_model_RSD\n",
        "\n",
        "pretrained_weights_RSA = torch.load(PATH_RSA)\n",
        "pretrained_weights_RSD = torch.load(PATH_RSD)"
      ],
      "metadata": {
        "id": "GfjEK2_HuzzM"
      },
      "execution_count": 27,
      "outputs": []
    },
    {
      "cell_type": "code",
      "source": [
        "#network\n",
        "architecture = 'resnet50'        # network's architecture\n",
        "weights = 'resnet50'             # the pretrained weights\n",
        "img_size = 224                   # network's input size\n",
        "layer = layer                    # the readout layer\n",
        "pooling = None\n",
        "readout_kwargs = {               # parameters for extracting features from the pretrained network\n",
        "    'architecture': architecture,\n",
        "    'weights': weights,\n",
        "    'layers': layer,\n",
        "    'img_size': img_size,\n",
        "    'pooling': pooling\n",
        "}\n",
        "\n",
        "pretrained_model_RSA = osculari.models.paradigm_2afc_merge_concatenate(**readout_kwargs)\n",
        "pretrained_model_RSD = osculari.models.paradigm_2afc_merge_concatenate(**readout_kwargs)"
      ],
      "metadata": {
        "id": "VFOsxkOYnuFI",
        "collapsed": true,
        "colab": {
          "base_uri": "https://localhost:8080/"
        },
        "outputId": "122ac91f-2372-4116-f53c-88465e9f4723"
      },
      "execution_count": 28,
      "outputs": [
        {
          "output_type": "stream",
          "name": "stderr",
          "text": [
            "Downloading: \"https://download.pytorch.org/models/resnet50-11ad3fa6.pth\" to /root/.cache/torch/hub/checkpoints/resnet50-11ad3fa6.pth\n",
            "100%|██████████| 97.8M/97.8M [00:00<00:00, 122MB/s]\n"
          ]
        }
      ]
    },
    {
      "cell_type": "code",
      "source": [
        "pretrained_model_RSA.load_state_dict(pretrained_weights_RSA)\n",
        "pretrained_model_RSD.load_state_dict(pretrained_weights_RSD)"
      ],
      "metadata": {
        "colab": {
          "base_uri": "https://localhost:8080/"
        },
        "id": "YPsnwqWhvE5H",
        "outputId": "73a1d672-04bd-4baf-e590-5ef0b4a8039c"
      },
      "execution_count": 30,
      "outputs": [
        {
          "output_type": "execute_result",
          "data": {
            "text/plain": [
              "<All keys matched successfully>"
            ]
          },
          "metadata": {},
          "execution_count": 30
        }
      ]
    },
    {
      "cell_type": "code",
      "source": [
        "pretrained_model_RSA.eval()"
      ],
      "metadata": {
        "colab": {
          "base_uri": "https://localhost:8080/"
        },
        "collapsed": true,
        "id": "qujOmaIxVyZW",
        "outputId": "58389c27-55c8-4117-d478-1b151926bb78"
      },
      "execution_count": 31,
      "outputs": [
        {
          "output_type": "execute_result",
          "data": {
            "text/plain": [
              "Classifier2AFC(\n",
              "  (backbone): Sequential(\n",
              "    (0): Conv2d(3, 64, kernel_size=(7, 7), stride=(2, 2), padding=(3, 3), bias=False)\n",
              "    (1): BatchNorm2d(64, eps=1e-05, momentum=0.1, affine=True, track_running_stats=True)\n",
              "    (2): ReLU(inplace=True)\n",
              "    (3): MaxPool2d(kernel_size=3, stride=2, padding=1, dilation=1, ceil_mode=False)\n",
              "    (4): Sequential(\n",
              "      (0): Bottleneck(\n",
              "        (conv1): Conv2d(64, 64, kernel_size=(1, 1), stride=(1, 1), bias=False)\n",
              "        (bn1): BatchNorm2d(64, eps=1e-05, momentum=0.1, affine=True, track_running_stats=True)\n",
              "        (conv2): Conv2d(64, 64, kernel_size=(3, 3), stride=(1, 1), padding=(1, 1), bias=False)\n",
              "        (bn2): BatchNorm2d(64, eps=1e-05, momentum=0.1, affine=True, track_running_stats=True)\n",
              "        (conv3): Conv2d(64, 256, kernel_size=(1, 1), stride=(1, 1), bias=False)\n",
              "        (bn3): BatchNorm2d(256, eps=1e-05, momentum=0.1, affine=True, track_running_stats=True)\n",
              "        (relu): ReLU(inplace=True)\n",
              "        (downsample): Sequential(\n",
              "          (0): Conv2d(64, 256, kernel_size=(1, 1), stride=(1, 1), bias=False)\n",
              "          (1): BatchNorm2d(256, eps=1e-05, momentum=0.1, affine=True, track_running_stats=True)\n",
              "        )\n",
              "      )\n",
              "      (1): Bottleneck(\n",
              "        (conv1): Conv2d(256, 64, kernel_size=(1, 1), stride=(1, 1), bias=False)\n",
              "        (bn1): BatchNorm2d(64, eps=1e-05, momentum=0.1, affine=True, track_running_stats=True)\n",
              "        (conv2): Conv2d(64, 64, kernel_size=(3, 3), stride=(1, 1), padding=(1, 1), bias=False)\n",
              "        (bn2): BatchNorm2d(64, eps=1e-05, momentum=0.1, affine=True, track_running_stats=True)\n",
              "        (conv3): Conv2d(64, 256, kernel_size=(1, 1), stride=(1, 1), bias=False)\n",
              "        (bn3): BatchNorm2d(256, eps=1e-05, momentum=0.1, affine=True, track_running_stats=True)\n",
              "        (relu): ReLU(inplace=True)\n",
              "      )\n",
              "      (2): Bottleneck(\n",
              "        (conv1): Conv2d(256, 64, kernel_size=(1, 1), stride=(1, 1), bias=False)\n",
              "        (bn1): BatchNorm2d(64, eps=1e-05, momentum=0.1, affine=True, track_running_stats=True)\n",
              "        (conv2): Conv2d(64, 64, kernel_size=(3, 3), stride=(1, 1), padding=(1, 1), bias=False)\n",
              "        (bn2): BatchNorm2d(64, eps=1e-05, momentum=0.1, affine=True, track_running_stats=True)\n",
              "        (conv3): Conv2d(64, 256, kernel_size=(1, 1), stride=(1, 1), bias=False)\n",
              "        (bn3): BatchNorm2d(256, eps=1e-05, momentum=0.1, affine=True, track_running_stats=True)\n",
              "        (relu): ReLU(inplace=True)\n",
              "      )\n",
              "    )\n",
              "    (5): Sequential(\n",
              "      (0): Bottleneck(\n",
              "        (conv1): Conv2d(256, 128, kernel_size=(1, 1), stride=(1, 1), bias=False)\n",
              "        (bn1): BatchNorm2d(128, eps=1e-05, momentum=0.1, affine=True, track_running_stats=True)\n",
              "        (conv2): Conv2d(128, 128, kernel_size=(3, 3), stride=(2, 2), padding=(1, 1), bias=False)\n",
              "        (bn2): BatchNorm2d(128, eps=1e-05, momentum=0.1, affine=True, track_running_stats=True)\n",
              "        (conv3): Conv2d(128, 512, kernel_size=(1, 1), stride=(1, 1), bias=False)\n",
              "        (bn3): BatchNorm2d(512, eps=1e-05, momentum=0.1, affine=True, track_running_stats=True)\n",
              "        (relu): ReLU(inplace=True)\n",
              "        (downsample): Sequential(\n",
              "          (0): Conv2d(256, 512, kernel_size=(1, 1), stride=(2, 2), bias=False)\n",
              "          (1): BatchNorm2d(512, eps=1e-05, momentum=0.1, affine=True, track_running_stats=True)\n",
              "        )\n",
              "      )\n",
              "      (1): Bottleneck(\n",
              "        (conv1): Conv2d(512, 128, kernel_size=(1, 1), stride=(1, 1), bias=False)\n",
              "        (bn1): BatchNorm2d(128, eps=1e-05, momentum=0.1, affine=True, track_running_stats=True)\n",
              "        (conv2): Conv2d(128, 128, kernel_size=(3, 3), stride=(1, 1), padding=(1, 1), bias=False)\n",
              "        (bn2): BatchNorm2d(128, eps=1e-05, momentum=0.1, affine=True, track_running_stats=True)\n",
              "        (conv3): Conv2d(128, 512, kernel_size=(1, 1), stride=(1, 1), bias=False)\n",
              "        (bn3): BatchNorm2d(512, eps=1e-05, momentum=0.1, affine=True, track_running_stats=True)\n",
              "        (relu): ReLU(inplace=True)\n",
              "      )\n",
              "      (2): Bottleneck(\n",
              "        (conv1): Conv2d(512, 128, kernel_size=(1, 1), stride=(1, 1), bias=False)\n",
              "        (bn1): BatchNorm2d(128, eps=1e-05, momentum=0.1, affine=True, track_running_stats=True)\n",
              "        (conv2): Conv2d(128, 128, kernel_size=(3, 3), stride=(1, 1), padding=(1, 1), bias=False)\n",
              "        (bn2): BatchNorm2d(128, eps=1e-05, momentum=0.1, affine=True, track_running_stats=True)\n",
              "        (conv3): Conv2d(128, 512, kernel_size=(1, 1), stride=(1, 1), bias=False)\n",
              "        (bn3): BatchNorm2d(512, eps=1e-05, momentum=0.1, affine=True, track_running_stats=True)\n",
              "        (relu): ReLU(inplace=True)\n",
              "      )\n",
              "      (3): Bottleneck(\n",
              "        (conv1): Conv2d(512, 128, kernel_size=(1, 1), stride=(1, 1), bias=False)\n",
              "        (bn1): BatchNorm2d(128, eps=1e-05, momentum=0.1, affine=True, track_running_stats=True)\n",
              "        (conv2): Conv2d(128, 128, kernel_size=(3, 3), stride=(1, 1), padding=(1, 1), bias=False)\n",
              "        (bn2): BatchNorm2d(128, eps=1e-05, momentum=0.1, affine=True, track_running_stats=True)\n",
              "        (conv3): Conv2d(128, 512, kernel_size=(1, 1), stride=(1, 1), bias=False)\n",
              "        (bn3): BatchNorm2d(512, eps=1e-05, momentum=0.1, affine=True, track_running_stats=True)\n",
              "        (relu): ReLU(inplace=True)\n",
              "      )\n",
              "    )\n",
              "    (6): Sequential(\n",
              "      (0): Bottleneck(\n",
              "        (conv1): Conv2d(512, 256, kernel_size=(1, 1), stride=(1, 1), bias=False)\n",
              "        (bn1): BatchNorm2d(256, eps=1e-05, momentum=0.1, affine=True, track_running_stats=True)\n",
              "        (conv2): Conv2d(256, 256, kernel_size=(3, 3), stride=(2, 2), padding=(1, 1), bias=False)\n",
              "        (bn2): BatchNorm2d(256, eps=1e-05, momentum=0.1, affine=True, track_running_stats=True)\n",
              "        (conv3): Conv2d(256, 1024, kernel_size=(1, 1), stride=(1, 1), bias=False)\n",
              "        (bn3): BatchNorm2d(1024, eps=1e-05, momentum=0.1, affine=True, track_running_stats=True)\n",
              "        (relu): ReLU(inplace=True)\n",
              "        (downsample): Sequential(\n",
              "          (0): Conv2d(512, 1024, kernel_size=(1, 1), stride=(2, 2), bias=False)\n",
              "          (1): BatchNorm2d(1024, eps=1e-05, momentum=0.1, affine=True, track_running_stats=True)\n",
              "        )\n",
              "      )\n",
              "      (1): Bottleneck(\n",
              "        (conv1): Conv2d(1024, 256, kernel_size=(1, 1), stride=(1, 1), bias=False)\n",
              "        (bn1): BatchNorm2d(256, eps=1e-05, momentum=0.1, affine=True, track_running_stats=True)\n",
              "        (conv2): Conv2d(256, 256, kernel_size=(3, 3), stride=(1, 1), padding=(1, 1), bias=False)\n",
              "        (bn2): BatchNorm2d(256, eps=1e-05, momentum=0.1, affine=True, track_running_stats=True)\n",
              "        (conv3): Conv2d(256, 1024, kernel_size=(1, 1), stride=(1, 1), bias=False)\n",
              "        (bn3): BatchNorm2d(1024, eps=1e-05, momentum=0.1, affine=True, track_running_stats=True)\n",
              "        (relu): ReLU(inplace=True)\n",
              "      )\n",
              "      (2): Bottleneck(\n",
              "        (conv1): Conv2d(1024, 256, kernel_size=(1, 1), stride=(1, 1), bias=False)\n",
              "        (bn1): BatchNorm2d(256, eps=1e-05, momentum=0.1, affine=True, track_running_stats=True)\n",
              "        (conv2): Conv2d(256, 256, kernel_size=(3, 3), stride=(1, 1), padding=(1, 1), bias=False)\n",
              "        (bn2): BatchNorm2d(256, eps=1e-05, momentum=0.1, affine=True, track_running_stats=True)\n",
              "        (conv3): Conv2d(256, 1024, kernel_size=(1, 1), stride=(1, 1), bias=False)\n",
              "        (bn3): BatchNorm2d(1024, eps=1e-05, momentum=0.1, affine=True, track_running_stats=True)\n",
              "        (relu): ReLU(inplace=True)\n",
              "      )\n",
              "      (3): Bottleneck(\n",
              "        (conv1): Conv2d(1024, 256, kernel_size=(1, 1), stride=(1, 1), bias=False)\n",
              "        (bn1): BatchNorm2d(256, eps=1e-05, momentum=0.1, affine=True, track_running_stats=True)\n",
              "        (conv2): Conv2d(256, 256, kernel_size=(3, 3), stride=(1, 1), padding=(1, 1), bias=False)\n",
              "        (bn2): BatchNorm2d(256, eps=1e-05, momentum=0.1, affine=True, track_running_stats=True)\n",
              "        (conv3): Conv2d(256, 1024, kernel_size=(1, 1), stride=(1, 1), bias=False)\n",
              "        (bn3): BatchNorm2d(1024, eps=1e-05, momentum=0.1, affine=True, track_running_stats=True)\n",
              "        (relu): ReLU(inplace=True)\n",
              "      )\n",
              "      (4): Bottleneck(\n",
              "        (conv1): Conv2d(1024, 256, kernel_size=(1, 1), stride=(1, 1), bias=False)\n",
              "        (bn1): BatchNorm2d(256, eps=1e-05, momentum=0.1, affine=True, track_running_stats=True)\n",
              "        (conv2): Conv2d(256, 256, kernel_size=(3, 3), stride=(1, 1), padding=(1, 1), bias=False)\n",
              "        (bn2): BatchNorm2d(256, eps=1e-05, momentum=0.1, affine=True, track_running_stats=True)\n",
              "        (conv3): Conv2d(256, 1024, kernel_size=(1, 1), stride=(1, 1), bias=False)\n",
              "        (bn3): BatchNorm2d(1024, eps=1e-05, momentum=0.1, affine=True, track_running_stats=True)\n",
              "        (relu): ReLU(inplace=True)\n",
              "      )\n",
              "      (5): Bottleneck(\n",
              "        (conv1): Conv2d(1024, 256, kernel_size=(1, 1), stride=(1, 1), bias=False)\n",
              "        (bn1): BatchNorm2d(256, eps=1e-05, momentum=0.1, affine=True, track_running_stats=True)\n",
              "        (conv2): Conv2d(256, 256, kernel_size=(3, 3), stride=(1, 1), padding=(1, 1), bias=False)\n",
              "        (bn2): BatchNorm2d(256, eps=1e-05, momentum=0.1, affine=True, track_running_stats=True)\n",
              "        (conv3): Conv2d(256, 1024, kernel_size=(1, 1), stride=(1, 1), bias=False)\n",
              "        (bn3): BatchNorm2d(1024, eps=1e-05, momentum=0.1, affine=True, track_running_stats=True)\n",
              "        (relu): ReLU(inplace=True)\n",
              "      )\n",
              "    )\n",
              "  )\n",
              "  (fc): Linear(in_features=401408, out_features=2, bias=True)\n",
              ")"
            ]
          },
          "metadata": {},
          "execution_count": 31
        }
      ]
    },
    {
      "cell_type": "markdown",
      "source": [
        "Staircase"
      ],
      "metadata": {
        "id": "XTXicMC4uyeB"
      }
    },
    {
      "cell_type": "code",
      "source": [
        "len_dataset = 1080\n",
        "reference_shape = reference_shapeB\n",
        "model = pretrained_model_RSA\n",
        "#test_shapes = list(range(0, 360))\n",
        "# test_shapes = [0,10,20,30,40,50,60,70,80,90,100,\n",
        "#                110,120,130,140,150,160,170,180,190,200,\n",
        "#                210,220,230,240,250,260,270,280,290,300,\n",
        "#                310,320,330,340,350]\n",
        "#test_shapes = [260,300,330,340,350,0,10,20,30,50,90]\n",
        "test_shapes = [220,240,260,270,280,290,300,310,320,330,340,350,360, 380, 400]\n",
        "data = data_dict"
      ],
      "metadata": {
        "id": "8kxN7Lz6V4_e"
      },
      "execution_count": 151,
      "outputs": []
    },
    {
      "cell_type": "code",
      "source": [
        "# dataset function\n",
        "#parameters: length, reference_shape, test_shape, data_dict, positions, transform=None)\n",
        "def dataset_fun (len_dataset, reference_shape, test_shape, data_dict, positions, preprocess):\n",
        "    dataset = ShapeImageDataset(len_dataset, reference_shape, test_shape, data_dict, positions, preprocess)\n",
        "    dataset_loader = DataLoader(dataset, 64)\n",
        "    return dataset_loader\n",
        "\n",
        "db_fun = lambda test_shape: dataset_fun(len_dataset, reference_shape, test_shape, data, positions, preprocess)"
      ],
      "metadata": {
        "id": "vGZulmGcpND_"
      },
      "execution_count": 152,
      "outputs": []
    },
    {
      "cell_type": "code",
      "source": [
        "# test function\n",
        "# model, dataset, device\n",
        "accuracies = []\n",
        "for test_shape in test_shapes:\n",
        "  test_epoch_fun = osculari.paradigms.forced_choice.test_dataset(model,\n",
        "                                                                db_fun(test_shape),\n",
        "                                                                device=\"cuda\")\n",
        "  accuracy = test_epoch_fun['accuracy'][-1]\n",
        "  accuracies.append(accuracy)"
      ],
      "metadata": {
        "id": "jBLraEh4V7-f"
      },
      "execution_count": 153,
      "outputs": []
    },
    {
      "cell_type": "code",
      "source": [
        "def create_dataset(angles, accuracies):\n",
        "  data = {'angle': angles,\n",
        "        'accuracy': accuracies}\n",
        "  data_df = pd.DataFrame(data)\n",
        "  return data_df"
      ],
      "metadata": {
        "id": "6WTPC1NdoxK-"
      },
      "execution_count": 146,
      "outputs": []
    },
    {
      "cell_type": "code",
      "source": [
        "def plot_curve(x, y, title_plot, x_label = 'angle', y_label = 'P(yes)'):\n",
        "  xpoints = np.array(x)\n",
        "  ypoints = np.array(y)\n",
        "\n",
        "  plt.plot(xpoints, ypoints)\n",
        "  plt.title(title_plot)\n",
        "\n",
        "  plt.xlabel(x_label)\n",
        "  plt.ylabel(y_label)\n",
        "\n",
        "  plt.show()"
      ],
      "metadata": {
        "id": "wMUE_VJ9l5cC"
      },
      "execution_count": 117,
      "outputs": []
    },
    {
      "cell_type": "code",
      "source": [
        "RSA_testing = create_dataset(test_shapes, accuracies)\n",
        "RSA_testing['angle180'] = [(260-360),(300-360),(330-360),(340-360),(350-360),0,10,20,30,50,90]\n",
        "plot_curve(RSA_testing['angle180'], RSA_testing['accuracy'], \"RSA: succes of training\")"
      ],
      "metadata": {
        "colab": {
          "base_uri": "https://localhost:8080/",
          "height": 472
        },
        "id": "XgstCTDOpEJJ",
        "outputId": "10e6bccc-b00b-464d-c49a-091627528f1b"
      },
      "execution_count": 147,
      "outputs": [
        {
          "output_type": "display_data",
          "data": {
            "text/plain": [
              "<Figure size 640x480 with 1 Axes>"
            ],
            "image/png": "[encoded data removed]"
          },
          "metadata": {}
        }
      ]
    },
    {
      "cell_type": "code",
      "source": [
        "RSB_testing = create_dataset(test_shapes, accuracies)\n",
        "#RSB_testing['angle180'] = [(260-360),(300-360),(330-360),(340-360),(350-360),0,10,20,30,50,90]\n",
        "plot_curve(RSB_testing['angle'], RSB_testing['accuracy'], \"RSB: interpolation\")"
      ],
      "metadata": {
        "colab": {
          "base_uri": "https://localhost:8080/",
          "height": 472
        },
        "id": "B0_dNh_Brf3d",
        "outputId": "ba7f8965-c85c-42eb-90e6-b2ff226bf8d0"
      },
      "execution_count": 157,
      "outputs": [
        {
          "output_type": "display_data",
          "data": {
            "text/plain": [
              "<Figure size 640x480 with 1 Axes>"
            ],
            "image/png": "[encoded data removed]"
          },
          "metadata": {}
        }
      ]
    }
  ]
}