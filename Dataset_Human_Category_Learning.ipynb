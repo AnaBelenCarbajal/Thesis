{
  "nbformat": 4,
  "nbformat_minor": 0,
  "metadata": {
    "colab": {
      "provenance": [],
      "authorship_tag": "ABX9TyNFSFK9wR47+KObKO9OYEz6",
      "include_colab_link": true
    },
    "kernelspec": {
      "name": "python3",
      "display_name": "Python 3"
    },
    "language_info": {
      "name": "python"
    }
  },
  "cells": [
    {
      "cell_type": "markdown",
      "metadata": {
        "id": "view-in-github",
        "colab_type": "text"
      },
      "source": [
        "<a href=\"https://colab.research.google.com/github/AnaBelenCarbajal/Thesis/blob/main/Dataset_Human_Category_Learning.ipynb\" target=\"_parent\"><img src=\"https://colab.research.google.com/assets/colab-badge.svg\" alt=\"Open In Colab\"/></a>"
      ]
    },
    {
      "cell_type": "markdown",
      "source": [
        "**Dataset novel shapes**"
      ],
      "metadata": {
        "id": "jOvSRnBv_J8o"
      }
    },
    {
      "cell_type": "markdown",
      "source": [
        "1) Installing packages"
      ],
      "metadata": {
        "id": "F4pGeBM5_QOW"
      }
    },
    {
      "cell_type": "code",
      "source": [
        "#packages\n",
        "import os\n",
        "import pandas as pd\n",
        "import torch\n",
        "import numpy as np\n",
        "from matplotlib import pyplot as plt\n",
        "\n",
        "from random import choice, randint, seed\n",
        "import torchvision.transforms.functional as transform\n",
        "from torch.utils.data import Dataset\n",
        "from torchvision.io import read_image, ImageReadMode\n",
        "from torchvision.transforms import v2\n",
        "from torchvision.transforms import Pad\n",
        "from torch.utils.data import DataLoader\n",
        "\n",
        "from PIL import Image"
      ],
      "metadata": {
        "id": "nUzPiwVbMK49"
      },
      "execution_count": null,
      "outputs": []
    },
    {
      "cell_type": "code",
      "execution_count": null,
      "metadata": {
        "id": "q-RyspuOLGlX"
      },
      "outputs": [],
      "source": [
        "# unzip folder (previously uploaded in collab)\n",
        "!unzip CategoryLearningStimuli.zip -d my_data"
      ]
    },
    {
      "cell_type": "code",
      "source": [
        "# root directory to data\n",
        "root = \"my_data/Stimuli_Set1/\""
      ],
      "metadata": {
        "id": "7Qn6g-xVMKZK"
      },
      "execution_count": null,
      "outputs": []
    },
    {
      "cell_type": "code",
      "source": [
        "# get category labels\n",
        "image_ID = os.listdir(root)\n",
        "\n",
        "#remove \".DS_Store\"\n",
        "image_ID.remove(\".DS_Store\")\n",
        "image_ID.remove(\".ipynb_checkpoints\")"
      ],
      "metadata": {
        "id": "ClQaWXOnMph3"
      },
      "execution_count": null,
      "outputs": []
    },
    {
      "cell_type": "markdown",
      "source": [
        "2) Defining parameters"
      ],
      "metadata": {
        "id": "kJKf0t5IY1Gi"
      }
    },
    {
      "cell_type": "code",
      "source": [
        "# conditions\n",
        "condition1 = {\n",
        "    'A':[-30, 30],  #low var\n",
        "    'D':[-80, 80]   #high var\n",
        "    }\n",
        "\n",
        "condition2 = {\n",
        "    'A':[-80, 80], #high var\n",
        "    'D':[-30, 30]  #low var\n",
        "    }"
      ],
      "metadata": {
        "id": "PpTOxpl7Pk-Y"
      },
      "execution_count": null,
      "outputs": []
    },
    {
      "cell_type": "code",
      "source": [
        "# reference shapes angles --> categories\n",
        "reference_shapeA = 0\n",
        "reference_shapeB = 310\n",
        "reference_shapeC = 260\n",
        "reference_shapeD = 210\n",
        "\n",
        "reference_shapes_list = [reference_shapeA, reference_shapeB, reference_shapeC, reference_shapeD]"
      ],
      "metadata": {
        "id": "bRKgsVBrPsny"
      },
      "execution_count": null,
      "outputs": []
    },
    {
      "cell_type": "markdown",
      "source": [
        "3) Get angles and directory"
      ],
      "metadata": {
        "id": "BZcgeTwN_sJF"
      }
    },
    {
      "cell_type": "code",
      "source": [
        "# get angles\n",
        "angles = []\n",
        "for image in image_ID:\n",
        "  get_angle = image.replace('.jpg', '')\n",
        "  transform_to_int = int(get_angle)\n",
        "  angles.append(transform_to_int)"
      ],
      "metadata": {
        "id": "0USpqrVHNtVR"
      },
      "execution_count": null,
      "outputs": []
    },
    {
      "cell_type": "code",
      "source": [
        "# get image directories\n",
        "img_dir = []\n",
        "\n",
        "for image in image_ID:\n",
        "  folder_path = root + image\n",
        "  img_dir.append(folder_path)\n",
        "\n",
        "img_dir[:10]"
      ],
      "metadata": {
        "id": "siyVH-nOZFqd"
      },
      "execution_count": null,
      "outputs": []
    },
    {
      "cell_type": "markdown",
      "source": [
        "4) Create general dataset"
      ],
      "metadata": {
        "id": "eNh2-TZG_wZE"
      }
    },
    {
      "cell_type": "code",
      "source": [
        "data =  {'angle' : angles,\n",
        "         'image' : image_ID,\n",
        "         'img_dir' : img_dir}"
      ],
      "metadata": {
        "id": "nGpw5M4scHaP"
      },
      "execution_count": null,
      "outputs": []
    },
    {
      "cell_type": "code",
      "source": [
        "df_data = pd.DataFrame(data)\n",
        "df_data = df_data.sort_values('angle')\n",
        "df_data.head()"
      ],
      "metadata": {
        "id": "l2L6rOjQcXqy"
      },
      "execution_count": null,
      "outputs": []
    },
    {
      "cell_type": "markdown",
      "source": [
        "5) Define functions to create dataset for cond1 and cond2 with corresponding labels of whether the shapes belong to the same condition as Reference shapes A, B, C and D"
      ],
      "metadata": {
        "id": "xZuywBPy_3f3"
      }
    },
    {
      "cell_type": "code",
      "source": [
        "# functions to create datasets\n",
        "\n",
        "# create datasets for reference shape A and D\n",
        "def CreateLabelsAD (reference_shape, condition, dataset, stringCat):\n",
        "  angles = dataset['angle'].tolist()\n",
        "  labels = []\n",
        "\n",
        "  for angle in angles:\n",
        "\n",
        "    left_threshold = reference_shape + condition[stringCat][0]\n",
        "    right_threshold = reference_shape + condition[stringCat][1]\n",
        "\n",
        "    if stringCat == \"A\":\n",
        "      left_threshold = left_threshold + 360\n",
        "      if angle >= left_threshold or angle <= right_threshold:\n",
        "        label_composition = \"sameCat\"\n",
        "        label = label_composition\n",
        "      else:\n",
        "        label_composition = \"diffCat\"\n",
        "        label = label_composition\n",
        "    else:\n",
        "      if angle >= left_threshold and angle <= right_threshold:\n",
        "        label_composition = \"sameCat\"\n",
        "        label = label_composition\n",
        "      else:\n",
        "        label_composition = \"diffCat\"\n",
        "        label = label_composition\n",
        "\n",
        "    labels.append(label)\n",
        "  return labels\n",
        "\n",
        "# create datasets for reference shape B and C\n",
        "\n",
        "def CreateLabelsBC (reference_shape, condition, dataset, stringCat):\n",
        "  angles = dataset['angle'].tolist()\n",
        "  labels = []\n",
        "\n",
        "  if stringCat == \"B\":\n",
        "    Cat_boundary = \"A\"\n",
        "  elif stringCat == \"C\":\n",
        "    Cat_boundary = \"D\"\n",
        "  else:\n",
        "    print('use function CreateLabelsAD')\n",
        "\n",
        "  for angle in angles:\n",
        "    left_threshold = reference_shape + condition[Cat_boundary][0]\n",
        "    right_threshold = reference_shape + condition[Cat_boundary][1]\n",
        "\n",
        "    if right_threshold > 360:\n",
        "      right_threshold = right_threshold - 360\n",
        "      if angle >= left_threshold or angle <= right_threshold:\n",
        "        label_composition = \"sameCat\"\n",
        "        label = label_composition\n",
        "      else:\n",
        "        label_composition = \"diffCat\"\n",
        "        label = label_composition\n",
        "    else:\n",
        "      if angle >= left_threshold and angle <= right_threshold:\n",
        "        label_composition = \"sameCat\"\n",
        "        label = label_composition\n",
        "      else:\n",
        "        label_composition = \"diffCat\"\n",
        "        label = label_composition\n",
        "\n",
        "    labels.append(label)\n",
        "  return labels\n",
        "\n",
        "  # Create dictionary data\n",
        "def CreateDictionary (dataframe):\n",
        "  data_dicts = []\n",
        "\n",
        "  for i in range(len(dataframe)):\n",
        "    angle = dataframe.iloc[i, 0]\n",
        "    image = dataframe.iloc[i, 1]\n",
        "    img_dir = dataframe.iloc[i, 2]\n",
        "    label_RefA = dataframe.iloc[i, 3]\n",
        "    label_RefB = dataframe.iloc[i, 4]\n",
        "    label_RefC = dataframe.iloc[i, 5]\n",
        "    label_RefD = dataframe.iloc[i, 6]\n",
        "\n",
        "    individual_dic =  {'angle' : angle,\n",
        "                       'image' : image,\n",
        "                       'img_dir' : img_dir,\n",
        "                       'label_RefA' : label_RefA,\n",
        "                       'label_RefB' : label_RefB,\n",
        "                       'label_RefC' : label_RefC,\n",
        "                       'label_RefD' : label_RefD}\n",
        "\n",
        "    data_dicts.append(individual_dic)\n",
        "  return data_dicts"
      ],
      "metadata": {
        "id": "-gazhYgtbH08"
      },
      "execution_count": null,
      "outputs": []
    },
    {
      "cell_type": "markdown",
      "source": [
        "6) Create datasets (4 for each condition)"
      ],
      "metadata": {
        "id": "72OFjL4f_7e4"
      }
    },
    {
      "cell_type": "code",
      "source": [
        "# COND1 : getting labels for each reference shape\n",
        "\n",
        "#refA\n",
        "labels_RefA_Cond1 = CreateLabelsAD(reference_shapeA, condition1, df_data, \"A\")\n",
        "#refB\n",
        "labels_RefB_Cond1 = CreateLabelsBC(reference_shapeB, condition1, df_data, \"B\")\n",
        "#refC\n",
        "labels_RefC_Cond1 = CreateLabelsBC(reference_shapeC, condition1, df_data, \"C\")\n",
        "#refD\n",
        "labels_RefD_Cond1 = CreateLabelsAD(reference_shapeD, condition1, df_data, \"D\")\n",
        "\n",
        "# add to dataframe\n",
        "df_data_cond1 = df_data\n",
        "df_data_cond1[\"label_RefA\"] = labels_RefA_Cond1\n",
        "df_data_cond1[\"label_RefB\"] = labels_RefB_Cond1\n",
        "df_data_cond1[\"label_RefC\"] = labels_RefC_Cond1\n",
        "df_data_cond1[\"label_RefD\"] = labels_RefD_Cond1\n",
        "\n",
        "data_Cond1 = CreateDictionary(df_data_cond1)\n",
        "data_Cond1[0]"
      ],
      "metadata": {
        "id": "EyCPA0CyHheP"
      },
      "execution_count": null,
      "outputs": []
    },
    {
      "cell_type": "code",
      "source": [
        "# COND2 : getting labels for each reference shape\n",
        "\n",
        "#refA\n",
        "labels_RefA_Cond2 = CreateLabelsAD(reference_shapeA, condition2, df_data, \"A\")\n",
        "#refB\n",
        "labels_RefB_Cond2 = CreateLabelsBC(reference_shapeB, condition2, df_data, \"B\")\n",
        "#refC\n",
        "labels_RefC_Cond2 = CreateLabelsBC(reference_shapeC, condition2, df_data, \"C\")\n",
        "#refD\n",
        "labels_RefD_Cond2 = CreateLabelsAD(reference_shapeD, condition2, df_data, \"D\")\n",
        "\n",
        "# add to dataframe\n",
        "df_data_cond2 = df_data\n",
        "df_data_cond2[\"label_RefA\"] = labels_RefA_Cond2\n",
        "df_data_cond2[\"label_RefB\"] = labels_RefB_Cond2\n",
        "df_data_cond2[\"label_RefC\"] = labels_RefC_Cond2\n",
        "df_data_cond2[\"label_RefD\"] = labels_RefD_Cond2\n",
        "\n",
        "data_Cond2 = CreateDictionary(df_data_cond2)\n",
        "data_Cond2[0]"
      ],
      "metadata": {
        "id": "WIm1-Ql5KSaK"
      },
      "execution_count": null,
      "outputs": []
    },
    {
      "cell_type": "markdown",
      "source": [
        "7) Create and select random positions for images"
      ],
      "metadata": {
        "id": "iKeaQuFovLre"
      }
    },
    {
      "cell_type": "code",
      "source": [
        "N_positions = 1000"
      ],
      "metadata": {
        "id": "_cvLmh0ivkvm"
      },
      "execution_count": null,
      "outputs": []
    },
    {
      "cell_type": "code",
      "source": [
        "# set seed to 42\n",
        "rng = np.random.default_rng(seed=42)\n",
        "\n",
        "# make combinations for left, top, right and bottom\n",
        "combinations = []\n",
        "for left_and_right in range(-22,23):\n",
        "    for up_and_down in range(-22,23):\n",
        "        combinations.append((left_and_right, up_and_down))\n",
        "\n",
        "# select 1440 random combinations\n",
        "selected = rng.choice(len(combinations), N_positions, replace=False)\n",
        "selected_combinations = [combinations[i] for i in selected]\n",
        "\n",
        "# margins\n",
        "left = 22\n",
        "right = 22\n",
        "top = 22\n",
        "bottom = 22\n",
        "\n",
        "# make combinations for left, top, right and bottom\n",
        "i = 0\n",
        "new_combinations = []\n",
        "for position in selected_combinations:\n",
        "  left_new = left - position[0]\n",
        "  right_new = right + position[0]\n",
        "  top_new = top + position[1]\n",
        "  bottom_new = bottom - position[1]\n",
        "  new_combinations.append([left_new, top_new, right_new, bottom_new])\n",
        "\n",
        "positions = new_combinations"
      ],
      "metadata": {
        "id": "W9lIR6WTvLKq"
      },
      "execution_count": null,
      "outputs": []
    },
    {
      "cell_type": "code",
      "source": [
        "#left, top, right and bottom\n",
        "positions[1:10]"
      ],
      "metadata": {
        "id": "yMP3PGP_3f_I"
      },
      "execution_count": null,
      "outputs": []
    },
    {
      "cell_type": "markdown",
      "source": [
        "8) Define class for CNN"
      ],
      "metadata": {
        "id": "FhOEMQaDABIw"
      }
    },
    {
      "cell_type": "code",
      "source": [
        "class ShapeImageDataset (Dataset):\n",
        "  # return two images, with 50% chance in same or different category and ground truth\n",
        "\n",
        "  # __init__\n",
        "  def __init__(self, reference_shapes_list, data_dict, positions, transform=None):\n",
        "    self.reference_shapes_list = reference_shapes_list\n",
        "    self.img_labels = data_dict\n",
        "    self.transform = transform\n",
        "    self.positions = positions\n",
        "    self.same_category = [1, 0]\n",
        "\n",
        "  # __len__\n",
        "  def __len__(self):\n",
        "    return len(self.img_labels) * len(reference_shapes_list)\n",
        "\n",
        "  ### funtions for __getitem__ ###\n",
        "\n",
        "#get label of reference shape (the right column in dataset)\n",
        "\n",
        "  # we select an image from the other category\n",
        "  def select_random_image(self, label_Ref, label):\n",
        "    result = []\n",
        "    for item in self.img_labels:\n",
        "      if item[label_Ref] == label:\n",
        "        result.append(item)\n",
        "    return choice(result)\n",
        "\n",
        "  # function to read images\n",
        "  def read_image_from_directory(self, img_dir):\n",
        "    return read_image(img_dir, ImageReadMode.RGB)\n",
        "\n",
        "  # __getitem__\n",
        "  def __getitem__(self, idx):\n",
        "\n",
        "    len_dataset = len(self.img_labels)\n",
        "    if idx <= len_dataset:\n",
        "      idx_img = idx\n",
        "      current_reference_shape = self.reference_shapes_list[0]\n",
        "      category_label = \"label_RefA\"\n",
        "    elif idx > len_dataset and idx <= len_dataset*2:\n",
        "      idx_img = int(idx/2)\n",
        "      current_reference_shape = self.reference_shapes_list[1]\n",
        "      category_label = \"label_RefB\"\n",
        "    elif idx > (len_dataset*2) and idx <= len_dataset*3:\n",
        "      idx_img = int(idx/3)\n",
        "      current_reference_shape = self.reference_shapes_list[2]\n",
        "      category_label = \"label_RefC\"\n",
        "    else:\n",
        "      idx_img = int(idx/4)\n",
        "      current_reference_shape = self.reference_shapes_list[3]\n",
        "      category_label = \"label_RefD\"\n",
        "\n",
        "    # img1 should be reference shape\n",
        "    current_image = self.img_labels[current_reference_shape]\n",
        "\n",
        "    current_image_label = current_image[category_label]\n",
        "    current_image_dir = current_image['img_dir']\n",
        "\n",
        "    # img2 should be either from same category or not\n",
        "    other_image = self.img_labels[idx_img]\n",
        "    other_image_label = other_image[category_label]\n",
        "\n",
        "    same = choice(self.same_category)\n",
        "    if same == 1:\n",
        "      if other_image_label == current_image_label:\n",
        "        pass\n",
        "      else:\n",
        "        new_image = self.select_random_image(category_label, \"sameCat\")\n",
        "        other_image = new_image\n",
        "    else:  # if same == 0\n",
        "      if other_image_label == current_image_label:\n",
        "        new_image = self.select_random_image(category_label, \"diffCat\")\n",
        "        other_image = new_image\n",
        "      else:\n",
        "        pass\n",
        "\n",
        "    other_image_label = other_image[category_label]\n",
        "    other_image_dir = other_image['img_dir']\n",
        "\n",
        "    # read images\n",
        "    img1 = self.read_image_from_directory(current_image_dir)\n",
        "    img2 = self.read_image_from_directory(other_image_dir)\n",
        "\n",
        "    # apply transformations\n",
        "    if self.transform:\n",
        "      img1 = self.transform(img1)\n",
        "      img2 = self.transform(img2)\n",
        "\n",
        "    # apply transformation of position to image\n",
        "    img1_selected_position = choice(self.positions)\n",
        "    img2_selected_position = choice(self.positions)\n",
        "\n",
        "    padding_img1 = Pad(padding = img1_selected_position)\n",
        "    padding_img2 = Pad(padding = img2_selected_position)\n",
        "\n",
        "    img1 = padding_img1(img1)\n",
        "    img2 = padding_img2(img2)\n",
        "\n",
        "    return current_image_label, other_image_label, img1, img2, same"
      ],
      "metadata": {
        "id": "ABa-eDL3BeXa"
      },
      "execution_count": null,
      "outputs": []
    },
    {
      "cell_type": "markdown",
      "source": [
        "9) Create datasets of images"
      ],
      "metadata": {
        "id": "M8Ma85FibAHp"
      }
    },
    {
      "cell_type": "code",
      "source": [
        "# tranformations to images for NN\n",
        "preprocess = v2.Compose(\n",
        "    [\n",
        "        v2.Resize([180,180]),\n",
        "        v2.ToDtype(torch.float32, scale=True),\n",
        "        v2.Normalize(mean=[0.485, 0.456, 0.406], std=[0.229, 0.224, 0.225]),\n",
        "    ]\n",
        ")"
      ],
      "metadata": {
        "id": "__RpP8WTbBq1"
      },
      "execution_count": null,
      "outputs": []
    },
    {
      "cell_type": "code",
      "source": [
        "#create dataset for condition1\n",
        "dataset_cond1 = ShapeImageDataset(reference_shapes_list, data_Cond1, positions, preprocess)"
      ],
      "metadata": {
        "id": "TWI3S8JzO43n"
      },
      "execution_count": null,
      "outputs": []
    },
    {
      "cell_type": "code",
      "source": [
        "#create dataset for condition2\n",
        "dataset_cond2 = ShapeImageDataset(reference_shapes_list, data_Cond2, positions, preprocess)"
      ],
      "metadata": {
        "id": "vsiyF0rMJjB2"
      },
      "execution_count": null,
      "outputs": []
    },
    {
      "cell_type": "markdown",
      "source": [
        "**Plotting Dataset**"
      ],
      "metadata": {
        "id": "Txap5WFUded-"
      }
    },
    {
      "cell_type": "code",
      "source": [
        "no_randoms = [0, 424, 803, 1370]"
      ],
      "metadata": {
        "id": "9rXXugNOsXwT"
      },
      "execution_count": null,
      "outputs": []
    },
    {
      "cell_type": "code",
      "source": [
        "fig, ax = plt.subplots(4, 2)\n",
        "fig.suptitle(\"Stimuli\")\n",
        "\n",
        "for idx, number in enumerate(no_randoms):\n",
        "  pairs = dataset_cond1[number]\n",
        "  label1 = pairs[0]\n",
        "  img1 = pairs[2]\n",
        "  label2 = pairs[1]\n",
        "  img2 = pairs[3]\n",
        "  gt = pairs[4]\n",
        "\n",
        "  ax[idx][0].set_title(label1)\n",
        "  ax[idx][0].imshow(transform.to_pil_image(img1))\n",
        "\n",
        "  title = label2 + \" gt= \" + str(gt)\n",
        "  ax[idx][1].set_title(title)\n",
        "  ax[idx][1].imshow(transform.to_pil_image(img2))"
      ],
      "metadata": {
        "colab": {
          "base_uri": "https://localhost:8080/",
          "height": 478
        },
        "id": "RtuoxF0PdvoC",
        "outputId": "3f34b144-33f3-44e7-f56e-4a8502bc9c20"
      },
      "execution_count": null,
      "outputs": [
        {
          "output_type": "display_data",
          "data": {
            "text/plain": [
              "<Figure size 640x480 with 8 Axes>"
            ],
            "image/png": "[encoded data removed]"
          },
          "metadata": {}
        }
      ]
    }
  ]
}