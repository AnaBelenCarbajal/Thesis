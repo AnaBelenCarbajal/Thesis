{
  "nbformat": 4,
  "nbformat_minor": 0,
  "metadata": {
    "colab": {
      "provenance": [],
      "mount_file_id": "1e8enHxdJcnsNyq9FAaU9mrDMW5AdqtoO",
      "authorship_tag": "ABX9TyNYW6R9kpDufP+bsXqpW4ym",
      "include_colab_link": true
    },
    "kernelspec": {
      "name": "python3",
      "display_name": "Python 3"
    },
    "language_info": {
      "name": "python"
    }
  },
  "cells": [
    {
      "cell_type": "markdown",
      "metadata": {
        "id": "view-in-github",
        "colab_type": "text"
      },
      "source": [
        "<a href=\"https://colab.research.google.com/github/AnaBelenCarbajal/Thesis/blob/main/shapesTest.ipynb\" target=\"_parent\"><img src=\"https://colab.research.google.com/assets/colab-badge.svg\" alt=\"Open In Colab\"/></a>"
      ]
    },
    {
      "cell_type": "code",
      "execution_count": null,
      "metadata": {
        "id": "kEWqZj3j044T"
      },
      "outputs": [],
      "source": [
        "!pip install osculari"
      ]
    },
    {
      "cell_type": "code",
      "source": [
        "# importing required packages\n",
        "import osculari\n",
        "\n",
        "import numpy as np\n",
        "from matplotlib import pyplot as plt\n",
        "import torch\n",
        "import os"
      ],
      "metadata": {
        "id": "lozl8h1c1iUT"
      },
      "execution_count": 64,
      "outputs": []
    },
    {
      "cell_type": "code",
      "source": [
        "!unzip images180.zip -d my_data"
      ],
      "metadata": {
        "id": "PQY0c-E8-rB6"
      },
      "execution_count": null,
      "outputs": []
    },
    {
      "cell_type": "code",
      "source": [
        "from torchvision.datasets import ImageFolder"
      ],
      "metadata": {
        "id": "NK_8PmJvFgyw"
      },
      "execution_count": 53,
      "outputs": []
    },
    {
      "cell_type": "code",
      "source": [
        "labels = os.listdir(\"my_data/images180/images180\")"
      ],
      "metadata": {
        "id": "qyKBpKSYOyo5"
      },
      "execution_count": 66,
      "outputs": []
    },
    {
      "cell_type": "code",
      "source": [
        "labels[7]"
      ],
      "metadata": {
        "colab": {
          "base_uri": "https://localhost:8080/",
          "height": 35
        },
        "id": "SQ3agluPPB4H",
        "outputId": "1a91337c-1348-4e2f-fed6-d1fa265b1bc2"
      },
      "execution_count": 67,
      "outputs": [
        {
          "output_type": "execute_result",
          "data": {
            "text/plain": [
              "'elephant'"
            ],
            "application/vnd.google.colaboratory.intrinsic+json": {
              "type": "string"
            }
          },
          "metadata": {},
          "execution_count": 67
        }
      ]
    },
    {
      "cell_type": "code",
      "source": [
        "!ls my_data/images180/images180"
      ],
      "metadata": {
        "colab": {
          "base_uri": "https://localhost:8080/"
        },
        "id": "8xgntqevLzog",
        "outputId": "c2bebb45-8132-492c-d1a0-7f6010c73724"
      },
      "execution_count": 48,
      "outputs": [
        {
          "output_type": "stream",
          "name": "stdout",
          "text": [
            "bird\t   cat\tcrocodile  dog\t     duck      fish\t   hen\t  leopard  rabbit  spider\n",
            "butterfly  cow\tdeer\t   dolphine  elephant  flyingbird  horse  monkey   rat\t   tortoise\n"
          ]
        }
      ]
    },
    {
      "cell_type": "code",
      "source": [
        "a = ImageFolder(\"my_data/images180/images180\")"
      ],
      "metadata": {
        "id": "WS-73c7XMDM6"
      },
      "execution_count": 55,
      "outputs": []
    },
    {
      "cell_type": "code",
      "source": [
        "a[0]"
      ],
      "metadata": {
        "colab": {
          "base_uri": "https://localhost:8080/"
        },
        "id": "pqr2e85uNomt",
        "outputId": "4226aba2-da7d-44cb-d911-b3ce40089310"
      },
      "execution_count": 63,
      "outputs": [
        {
          "output_type": "execute_result",
          "data": {
            "text/plain": [
              "(<PIL.Image.Image image mode=RGB size=180x180>, 0)"
            ]
          },
          "metadata": {},
          "execution_count": 63
        }
      ]
    }
  ]
}