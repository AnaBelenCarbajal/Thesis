{
  "nbformat": 4,
  "nbformat_minor": 0,
  "metadata": {
    "colab": {
      "provenance": [],
      "mount_file_id": "1e8enHxdJcnsNyq9FAaU9mrDMW5AdqtoO",
      "authorship_tag": "ABX9TyMYoxtxM7Z6qEKrlI9G/aSM",
      "include_colab_link": true
    },
    "kernelspec": {
      "name": "python3",
      "display_name": "Python 3"
    },
    "language_info": {
      "name": "python"
    }
  },
  "cells": [
    {
      "cell_type": "markdown",
      "metadata": {
        "id": "view-in-github",
        "colab_type": "text"
      },
      "source": [
        "<a href=\"https://colab.research.google.com/github/AnaBelenCarbajal/Thesis/blob/main/shapesTest.ipynb\" target=\"_parent\"><img src=\"https://colab.research.google.com/assets/colab-badge.svg\" alt=\"Open In Colab\"/></a>"
      ]
    },
    {
      "cell_type": "code",
      "execution_count": null,
      "metadata": {
        "id": "kEWqZj3j044T"
      },
      "outputs": [],
      "source": [
        "!pip install osculari"
      ]
    },
    {
      "cell_type": "code",
      "source": [
        "# importing required packages\n",
        "import osculari\n",
        "\n",
        "import numpy as np\n",
        "from matplotlib import pyplot as plt\n",
        "import torch\n",
        "import os\n",
        "from random import choice, randint, uniform\n",
        "\n",
        "from torchvision.datasets import ImageFolder\n",
        "from torchvision.io import read_image\n",
        "from torch.utils.data import Dataset"
      ],
      "metadata": {
        "id": "lozl8h1c1iUT"
      },
      "execution_count": 141,
      "outputs": []
    },
    {
      "cell_type": "code",
      "source": [
        "# unzip folder (previously uploaded in collab)\n",
        "!unzip images180.zip -d my_data"
      ],
      "metadata": {
        "id": "PQY0c-E8-rB6"
      },
      "execution_count": null,
      "outputs": []
    },
    {
      "cell_type": "code",
      "source": [
        "# root directory to data\n",
        "images180 = \"my_data/images180/images180/\""
      ],
      "metadata": {
        "id": "cm_SQlbYYtdd"
      },
      "execution_count": 92,
      "outputs": []
    },
    {
      "cell_type": "code",
      "source": [
        "# get category labels\n",
        "labels = os.listdir(images180)"
      ],
      "metadata": {
        "id": "qyKBpKSYOyo5"
      },
      "execution_count": 161,
      "outputs": []
    },
    {
      "cell_type": "code",
      "source": [
        "# get list of dictionaries with respective label and image number for all images\n",
        "data = []\n",
        "\n",
        "for label in labels:\n",
        "  if label == \".DS_Store\":\n",
        "    continue\n",
        "  folder_path = images180 + label\n",
        "  shapes = os.listdir(folder_path)\n",
        "  for shape in shapes:\n",
        "    category_dict = {'label': label, 'image': shape}\n",
        "    data.append(category_dict)\n",
        "\n",
        "data[:10]"
      ],
      "metadata": {
        "id": "0cOyZxAzdG8R"
      },
      "execution_count": null,
      "outputs": []
    },
    {
      "cell_type": "code",
      "source": [
        "# function to get image directory\n",
        "def image_direct(root, category_dict_item):\n",
        "  return root + category_dict_item['label'] + \"/\" + category_dict_item['image']\n",
        "\n",
        "# get image directories\n",
        "img_dir = []\n",
        "for image in data:\n",
        "  direct = image_direct(images180, image)\n",
        "  img_dir.append(direct)\n",
        "\n",
        "img_dir[:10]"
      ],
      "metadata": {
        "colab": {
          "base_uri": "https://localhost:8080/"
        },
        "id": "dUq8dQztrX9I",
        "outputId": "95a6df15-7e7d-42d3-a60e-4f9b2581c986"
      },
      "execution_count": 162,
      "outputs": [
        {
          "output_type": "execute_result",
          "data": {
            "text/plain": [
              "['my_data/images180/images180/leopard/41.png',\n",
              " 'my_data/images180/images180/leopard/22.png',\n",
              " 'my_data/images180/images180/leopard/89.png',\n",
              " 'my_data/images180/images180/leopard/46.png',\n",
              " 'my_data/images180/images180/leopard/31.png',\n",
              " 'my_data/images180/images180/leopard/69.png',\n",
              " 'my_data/images180/images180/leopard/98.png',\n",
              " 'my_data/images180/images180/leopard/1.png',\n",
              " 'my_data/images180/images180/leopard/39.png',\n",
              " 'my_data/images180/images180/leopard/24.png']"
            ]
          },
          "metadata": {},
          "execution_count": 162
        }
      ]
    },
    {
      "cell_type": "code",
      "source": [
        "class ShapeImageDataset (Dataset):\n",
        "  # return two images and ground truth\n",
        "  def __init__(self, data, img_dir, labels, transform=None):\n",
        "    self.img_labels = data\n",
        "    self.image_dir = img_dir\n",
        "    self.labels = labels\n",
        "    self.transform = transform\n",
        "\n",
        "  def __len__(self):\n",
        "    return len(self.img_labels)\n",
        "\n",
        "  def __getitem__(self, idx):\n",
        "\n",
        "    #stimulus1\n",
        "    pick_category1 = choice(self.labels)\n",
        "    pick_image_numb1 = randint(1, 100)\n",
        "    image_numb_png1 = str(pick_image_numb1) + 'png'\n",
        "    directory_ending1 = pick_category1 + \"/\" + image_numb_png1\n",
        "\n",
        "    for dir1 in self.image_dir:\n",
        "      if directory_ending1 in dir1:\n",
        "        stimuli1 = read_image(dir1)\n",
        "\n",
        "    #stimulus2\n",
        "    random_numb = uniform(0,1)\n",
        "    pick_image_numb2 = randint(1, 100)\n",
        "\n",
        "    # half of the times fom same category as stimulus1 (gt = \"same\")\n",
        "    if random_numb >= 0.5:\n",
        "      pick_category2 = pick_category1\n",
        "      image_numb_png2 = str(pick_image_numb1) + 'png'\n",
        "      directory_ending2 = pick_category2 + \"/\" + image_numb_png2\n",
        "\n",
        "      for dir2 in self.image_dir:\n",
        "        if directory_ending2 in dir2:\n",
        "          stimuli2 = read_image(dir2)\n",
        "\n",
        "    # half of the times form another category as stimulus1 (gt = \"different\")\n",
        "    else:\n",
        "       other_categories = self.labels.remove(pick_category1)\n",
        "       pick_category2 = choice(other_categories)\n",
        "       image_numb_png2 = str(pick_image_numb1) + 'png'\n",
        "       directory_ending2 = pick_category2 + \"/\" + image_numb_png2\n",
        "\n",
        "       for dir2 in self.image_dir:\n",
        "         if directory_ending2 in dir2:\n",
        "           stimuli2 = read_image(dir2)\n",
        "\n",
        "    # ground truth\n",
        "    if pick_category1 == pick_category2:\n",
        "      gt = \"same\"\n",
        "    else:\n",
        "      gt = 'different'\n",
        "\n",
        "    if self.transform:\n",
        "      stimuli1 = self.transformation(stimuli1)\n",
        "      stimuli2 = self.transformation(stimuli2)\n",
        "\n",
        "    return stimuli1, stimuli2, gt"
      ],
      "metadata": {
        "id": "EVoYf6w5vHqS"
      },
      "execution_count": 158,
      "outputs": []
    },
    {
      "cell_type": "code",
      "source": [
        "from torch.utils.data import DataLoader"
      ],
      "metadata": {
        "id": "pqr2e85uNomt"
      },
      "execution_count": 74,
      "outputs": []
    },
    {
      "cell_type": "code",
      "source": [
        "b = DataLoader(a, 64)"
      ],
      "metadata": {
        "id": "8E8925fPQaME"
      },
      "execution_count": 75,
      "outputs": []
    }
  ]
}