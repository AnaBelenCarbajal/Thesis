{
  "nbformat": 4,
  "nbformat_minor": 0,
  "metadata": {
    "colab": {
      "provenance": [],
      "mount_file_id": "1e8enHxdJcnsNyq9FAaU9mrDMW5AdqtoO",
      "authorship_tag": "ABX9TyMYUcjsV0N9nHGAyADMZezF",
      "include_colab_link": true
    },
    "kernelspec": {
      "name": "python3",
      "display_name": "Python 3"
    },
    "language_info": {
      "name": "python"
    }
  },
  "cells": [
    {
      "cell_type": "markdown",
      "metadata": {
        "id": "view-in-github",
        "colab_type": "text"
      },
      "source": [
        "<a href=\"https://colab.research.google.com/github/AnaBelenCarbajal/Thesis/blob/main/shapesTest.ipynb\" target=\"_parent\"><img src=\"https://colab.research.google.com/assets/colab-badge.svg\" alt=\"Open In Colab\"/></a>"
      ]
    },
    {
      "cell_type": "markdown",
      "source": [
        "**Dataset animal shapes**\n",
        "\n",
        "1) installing packages"
      ],
      "metadata": {
        "id": "E8_y7fYXhTOi"
      }
    },
    {
      "cell_type": "code",
      "execution_count": null,
      "metadata": {
        "id": "kEWqZj3j044T"
      },
      "outputs": [],
      "source": [
        "!pip install osculari"
      ]
    },
    {
      "cell_type": "code",
      "source": [
        "# importing required packages\n",
        "import osculari\n",
        "\n",
        "import numpy as np\n",
        "from matplotlib import pyplot as plt\n",
        "import torch\n",
        "import os\n",
        "from random import choice, randint\n",
        "\n",
        "from torchvision.datasets import ImageFolder\n",
        "from torchvision.io import read_image, ImageReadMode\n",
        "from torch.utils.data import Dataset\n",
        "import torchvision.transforms.functional as transform"
      ],
      "metadata": {
        "id": "lozl8h1c1iUT"
      },
      "execution_count": null,
      "outputs": []
    },
    {
      "cell_type": "markdown",
      "source": [
        "2) I uploaded images180.zip to this collab, it needs to be unzipped"
      ],
      "metadata": {
        "id": "KIyqkRo9htBn"
      }
    },
    {
      "cell_type": "code",
      "source": [
        "# unzip folder (previously uploaded in collab)\n",
        "!unzip images180.zip -d my_data"
      ],
      "metadata": {
        "id": "PQY0c-E8-rB6"
      },
      "execution_count": null,
      "outputs": []
    },
    {
      "cell_type": "markdown",
      "source": [
        "3) Root: directory to the filder containing the aniam categories"
      ],
      "metadata": {
        "id": "EyrYL1sNhunj"
      }
    },
    {
      "cell_type": "code",
      "source": [
        "# root directory to data\n",
        "root = \"my_data/images180/images180/\""
      ],
      "metadata": {
        "id": "cm_SQlbYYtdd"
      },
      "execution_count": null,
      "outputs": []
    },
    {
      "cell_type": "markdown",
      "source": [
        "4) Labels: categories"
      ],
      "metadata": {
        "id": "IeyeyW7tju4v"
      }
    },
    {
      "cell_type": "code",
      "source": [
        "# get category labels\n",
        "labels = os.listdir(root)"
      ],
      "metadata": {
        "id": "qyKBpKSYOyo5"
      },
      "execution_count": null,
      "outputs": []
    },
    {
      "cell_type": "markdown",
      "source": [
        "5) Retrieve label and image information in dictionary for every image -> list of dictionaries"
      ],
      "metadata": {
        "id": "Ei-amryuj3Kz"
      }
    },
    {
      "cell_type": "code",
      "source": [
        "# get list of dictionaries with respective label and image number for all images\n",
        "data = []\n",
        "\n",
        "for label in labels:\n",
        "  if label == \".DS_Store\":\n",
        "    continue\n",
        "  folder_path = root + label\n",
        "  shapes = os.listdir(folder_path)\n",
        "  for shape in shapes:\n",
        "    category_dict = {'label': label, 'image': shape}\n",
        "    data.append(category_dict)\n",
        "\n",
        "data[:10]"
      ],
      "metadata": {
        "id": "0cOyZxAzdG8R",
        "colab": {
          "base_uri": "https://localhost:8080/"
        },
        "outputId": "f682a22c-248e-4e97-85bd-5bd186f080ca"
      },
      "execution_count": null,
      "outputs": [
        {
          "output_type": "execute_result",
          "data": {
            "text/plain": [
              "[{'label': 'monkey', 'image': '33.png'},\n",
              " {'label': 'monkey', 'image': '23.png'},\n",
              " {'label': 'monkey', 'image': '90.png'},\n",
              " {'label': 'monkey', 'image': '87.png'},\n",
              " {'label': 'monkey', 'image': '56.png'},\n",
              " {'label': 'monkey', 'image': '38.png'},\n",
              " {'label': 'monkey', 'image': '15.png'},\n",
              " {'label': 'monkey', 'image': '69.png'},\n",
              " {'label': 'monkey', 'image': '20.png'},\n",
              " {'label': 'monkey', 'image': '80.png'}]"
            ]
          },
          "metadata": {},
          "execution_count": 146
        }
      ]
    },
    {
      "cell_type": "markdown",
      "source": [
        "6) Retireve image directory"
      ],
      "metadata": {
        "id": "5jTJ6g4XkB7o"
      }
    },
    {
      "cell_type": "code",
      "source": [
        "# function to get image directory\n",
        "def image_direct(root, category_dict_item):\n",
        "  return root + category_dict_item['label'] + \"/\" + category_dict_item['image']\n",
        "\n",
        "# get image directories\n",
        "img_dir = []\n",
        "for image in data:\n",
        "  direct = image_direct(root, image)\n",
        "  img_dir.append(direct)\n",
        "\n",
        "img_dir[:10]"
      ],
      "metadata": {
        "id": "dUq8dQztrX9I",
        "colab": {
          "base_uri": "https://localhost:8080/"
        },
        "outputId": "3e1b997f-20d2-412e-eb97-3f7ee8a12ab2"
      },
      "execution_count": null,
      "outputs": [
        {
          "output_type": "execute_result",
          "data": {
            "text/plain": [
              "['my_data/images180/images180/monkey/33.png',\n",
              " 'my_data/images180/images180/monkey/23.png',\n",
              " 'my_data/images180/images180/monkey/90.png',\n",
              " 'my_data/images180/images180/monkey/87.png',\n",
              " 'my_data/images180/images180/monkey/56.png',\n",
              " 'my_data/images180/images180/monkey/38.png',\n",
              " 'my_data/images180/images180/monkey/15.png',\n",
              " 'my_data/images180/images180/monkey/69.png',\n",
              " 'my_data/images180/images180/monkey/20.png',\n",
              " 'my_data/images180/images180/monkey/80.png']"
            ]
          },
          "metadata": {},
          "execution_count": 147
        }
      ]
    },
    {
      "cell_type": "markdown",
      "source": [
        "7) Retrieve image size"
      ],
      "metadata": {
        "id": "vk9oxGuAkINr"
      }
    },
    {
      "cell_type": "code",
      "source": [
        "# get image size\n",
        "img_size = []\n",
        "for img in img_dir:\n",
        "  filepath = img\n",
        "  open_img = Image.open(filepath)\n",
        "\n",
        "  width, height = open_img.size\n",
        "\n",
        "  img_size.append([width,height])"
      ],
      "metadata": {
        "id": "gwdghe5MVRAr"
      },
      "execution_count": null,
      "outputs": []
    },
    {
      "cell_type": "markdown",
      "source": [
        "8) Append image directory and size to dictionary"
      ],
      "metadata": {
        "id": "g8koiruLkLzK"
      }
    },
    {
      "cell_type": "code",
      "source": [
        "# add img_dir and img_size to data\n",
        "for img in data:\n",
        "  for dir in img_dir:\n",
        "    img['img_dir'] = dir\n",
        "  for size in img_size:\n",
        "    img['img_size'] = size\n",
        "\n",
        "data[:10]"
      ],
      "metadata": {
        "id": "YXyTYbeiX11O"
      },
      "execution_count": null,
      "outputs": []
    },
    {
      "cell_type": "markdown",
      "source": [
        "9) Class ShapeImagesDataset\n",
        "\n",
        "Requires:\n",
        "- data (list of dictionnaries)\n",
        "- img_dir (list of image directiories)\n",
        "- labels (list of labels)\n",
        "\n",
        "Output:\n",
        "This class returns 2 images, 50% of the times wihtin the same category and 50% from other category\n",
        "- current_image['label'] = category image 1\n",
        "- other_image['label'] = category image 2\n",
        "- img1 = tensor img1\n",
        "- img2 - tensor img2\n",
        "- same = grounf truth (same category or different)\n"
      ],
      "metadata": {
        "id": "DfjlfZBJkTGU"
      }
    },
    {
      "cell_type": "code",
      "source": [
        "class ShapeImageDataset (Dataset):\n",
        "  # return two images, with 50% chance in same or different category and ground truth\n",
        "\n",
        "  # __init__\n",
        "  def __init__(self, data, img_dir, labels, transform=None):\n",
        "    self.img_labels = data\n",
        "    self.img_dir = img_dir\n",
        "    self.labels = labels\n",
        "    self.transform = transform\n",
        "    self.same_category = [True, False]\n",
        "\n",
        "  # __len__\n",
        "  def __len__(self):\n",
        "    return len(self.img_labels)\n",
        "\n",
        "  ### funtions for __getitem__ ###\n",
        "\n",
        "  # we start by picking another category as the current image\n",
        "  def pick_other_category(self, label):\n",
        "    chosen = choice(self.labels)\n",
        "    if chosen == label:\n",
        "      self.pick_other_category(label)\n",
        "    return chosen\n",
        "\n",
        "  # we select an image from the other category\n",
        "  def select_random_image(self, label):\n",
        "    result = []\n",
        "    for item in self.img_labels:\n",
        "      if item[\"label\"] == label:\n",
        "        result.append(item)\n",
        "    return choice(result)\n",
        "\n",
        "  # function to read both images\n",
        "  def read_image_from_directory(self, category_dict_item):\n",
        "    return read_image(image_direct(root, category_dict_item), ImageReadMode.RGB)\n",
        "\n",
        "  # __getitem__\n",
        "  def __getitem__(self, idx):\n",
        "\n",
        "    current_image = self.img_labels[idx]\n",
        "    same = choice(self.same_category)\n",
        "    current_label = current_image[\"label\"]\n",
        "    if same == True:\n",
        "      category = current_label\n",
        "    else:\n",
        "      category = self.pick_other_category(current_label)\n",
        "\n",
        "    other_image = self.select_random_image(category)\n",
        "    img1 = self.read_image_from_directory(current_image)\n",
        "    img2 = self.read_image_from_directory(other_image)\n",
        "\n",
        "    #print(\"Stimulus1: \", current_image['label'])\n",
        "    #print(\"stimulus2: \", other_image['label'])\n",
        "    #print(\"Same category?\", str(same))\n",
        "\n",
        "    return current_image['label'], other_image['label'], img1, img2, same"
      ],
      "metadata": {
        "id": "RiTXph8IFs_y",
        "colab": {
          "base_uri": "https://localhost:8080/",
          "height": 207
        },
        "outputId": "8f0d855d-b6ba-4251-9724-759334b0a35e"
      },
      "execution_count": 1,
      "outputs": [
        {
          "output_type": "error",
          "ename": "NameError",
          "evalue": "name 'Dataset' is not defined",
          "traceback": [
            "\u001b[0;31m---------------------------------------------------------------------------\u001b[0m",
            "\u001b[0;31mNameError\u001b[0m                                 Traceback (most recent call last)",
            "\u001b[0;32m<ipython-input-1-4e588ed27c04>\u001b[0m in \u001b[0;36m<cell line: 1>\u001b[0;34m()\u001b[0m\n\u001b[0;32m----> 1\u001b[0;31m \u001b[0;32mclass\u001b[0m \u001b[0mShapeImageDataset\u001b[0m \u001b[0;34m(\u001b[0m\u001b[0mDataset\u001b[0m\u001b[0;34m)\u001b[0m\u001b[0;34m:\u001b[0m\u001b[0;34m\u001b[0m\u001b[0;34m\u001b[0m\u001b[0m\n\u001b[0m\u001b[1;32m      2\u001b[0m   \u001b[0;31m# return two images, with 50% chance in same or different category and ground truth\u001b[0m\u001b[0;34m\u001b[0m\u001b[0;34m\u001b[0m\u001b[0m\n\u001b[1;32m      3\u001b[0m \u001b[0;34m\u001b[0m\u001b[0m\n\u001b[1;32m      4\u001b[0m   \u001b[0;31m# __init__\u001b[0m\u001b[0;34m\u001b[0m\u001b[0;34m\u001b[0m\u001b[0m\n\u001b[1;32m      5\u001b[0m   \u001b[0;32mdef\u001b[0m \u001b[0m__init__\u001b[0m\u001b[0;34m(\u001b[0m\u001b[0mself\u001b[0m\u001b[0;34m,\u001b[0m \u001b[0mdata\u001b[0m\u001b[0;34m,\u001b[0m \u001b[0mimg_dir\u001b[0m\u001b[0;34m,\u001b[0m \u001b[0mlabels\u001b[0m\u001b[0;34m,\u001b[0m \u001b[0mtransform\u001b[0m\u001b[0;34m=\u001b[0m\u001b[0;32mNone\u001b[0m\u001b[0;34m)\u001b[0m\u001b[0;34m:\u001b[0m\u001b[0;34m\u001b[0m\u001b[0;34m\u001b[0m\u001b[0m\n",
            "\u001b[0;31mNameError\u001b[0m: name 'Dataset' is not defined"
          ]
        }
      ]
    },
    {
      "cell_type": "markdown",
      "source": [
        "10) Creating dataset (len=2000)"
      ],
      "metadata": {
        "id": "PpaOpAoywTT8"
      }
    },
    {
      "cell_type": "code",
      "source": [
        "dataset = ShapeImageDataset(data, img_dir, labels)\n",
        "len(dataset)"
      ],
      "metadata": {
        "id": "xWgZlNIPlb8U"
      },
      "execution_count": null,
      "outputs": []
    },
    {
      "cell_type": "markdown",
      "source": [
        "11) Plotting dataset"
      ],
      "metadata": {
        "id": "37zTF5_Fwmtt"
      }
    },
    {
      "cell_type": "code",
      "source": [
        "# create random numbers from 0 to 1999 to create pairs of shapes\n",
        "randoms = np.random.randint(0, 1999, 5)\n",
        "randoms"
      ],
      "metadata": {
        "colab": {
          "base_uri": "https://localhost:8080/"
        },
        "id": "r4ZdxJYFqkcb",
        "outputId": "cb408ffc-cc72-4095-cff0-9567fd5e0f75"
      },
      "execution_count": null,
      "outputs": [
        {
          "output_type": "execute_result",
          "data": {
            "text/plain": [
              "array([1477,   11, 1638, 1024,  266])"
            ]
          },
          "metadata": {},
          "execution_count": 152
        }
      ]
    },
    {
      "cell_type": "code",
      "source": [
        "fig, ax = plt.subplots(5, 2)\n",
        "fig.suptitle(\"Stimuli\")\n",
        "\n",
        "for idx, random in enumerate(randoms):\n",
        "  pairs = dataset[random]\n",
        "  label1 = pairs[0]\n",
        "  img1 = pairs[2]\n",
        "  label2 = pairs[1]\n",
        "  img2 = pairs[3]\n",
        "  gt = pairs[4]\n",
        "\n",
        "  ax[idx][0].set_title(label1)\n",
        "  ax[idx][0].imshow(transform.to_pil_image(img1))\n",
        "\n",
        "  title = label2 + \" gt= \" + str(gt)\n",
        "  ax[idx][1].set_title(title)\n",
        "  ax[idx][1].imshow(transform.to_pil_image(img2))"
      ],
      "metadata": {
        "colab": {
          "base_uri": "https://localhost:8080/",
          "height": 478
        },
        "id": "V33adTPKq32w",
        "outputId": "1d97d6c5-ac08-486b-af9d-0af710afd302"
      },
      "execution_count": null,
      "outputs": [
        {
          "output_type": "display_data",
          "data": {
            "text/plain": [
              "<Figure size 640x480 with 10 Axes>"
            ],
            "image/png": "[encoded data removed]"
          },
          "metadata": {}
        }
      ]
    }
  ]
}