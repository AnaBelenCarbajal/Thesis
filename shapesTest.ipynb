{
  "nbformat": 4,
  "nbformat_minor": 0,
  "metadata": {
    "colab": {
      "provenance": [],
      "mount_file_id": "1e8enHxdJcnsNyq9FAaU9mrDMW5AdqtoO",
      "authorship_tag": "ABX9TyMOtLzusaiCqMmx8h8U05N8",
      "include_colab_link": true
    },
    "kernelspec": {
      "name": "python3",
      "display_name": "Python 3"
    },
    "language_info": {
      "name": "python"
    }
  },
  "cells": [
    {
      "cell_type": "markdown",
      "metadata": {
        "id": "view-in-github",
        "colab_type": "text"
      },
      "source": [
        "<a href=\"https://colab.research.google.com/github/AnaBelenCarbajal/Thesis/blob/main/shapesTest.ipynb\" target=\"_parent\"><img src=\"https://colab.research.google.com/assets/colab-badge.svg\" alt=\"Open In Colab\"/></a>"
      ]
    },
    {
      "cell_type": "code",
      "execution_count": 192,
      "metadata": {
        "id": "kEWqZj3j044T",
        "colab": {
          "base_uri": "https://localhost:8080/"
        },
        "outputId": "660c7931-a8f8-45dc-9295-45e870bfb366"
      },
      "outputs": [
        {
          "output_type": "stream",
          "name": "stdout",
          "text": [
            "Requirement already satisfied: osculari in /usr/local/lib/python3.10/dist-packages (0.0.4)\n",
            "Requirement already satisfied: numpy in /usr/local/lib/python3.10/dist-packages (from osculari) (1.25.2)\n",
            "Requirement already satisfied: torch in /usr/local/lib/python3.10/dist-packages (from osculari) (2.2.1+cu121)\n",
            "Requirement already satisfied: torchvision in /usr/local/lib/python3.10/dist-packages (from osculari) (0.17.1+cu121)\n",
            "Requirement already satisfied: clip-openai in /usr/local/lib/python3.10/dist-packages (from osculari) (1.0.post20230121)\n",
            "Requirement already satisfied: visualpriors in /usr/local/lib/python3.10/dist-packages (from osculari) (0.3.5)\n",
            "Requirement already satisfied: opencv-python in /usr/local/lib/python3.10/dist-packages (from osculari) (4.8.0.76)\n",
            "Requirement already satisfied: ftfy in /usr/local/lib/python3.10/dist-packages (from clip-openai->osculari) (6.2.0)\n",
            "Requirement already satisfied: regex in /usr/local/lib/python3.10/dist-packages (from clip-openai->osculari) (2023.12.25)\n",
            "Requirement already satisfied: tqdm in /usr/local/lib/python3.10/dist-packages (from clip-openai->osculari) (4.66.2)\n",
            "Requirement already satisfied: filelock in /usr/local/lib/python3.10/dist-packages (from torch->osculari) (3.13.3)\n",
            "Requirement already satisfied: typing-extensions>=4.8.0 in /usr/local/lib/python3.10/dist-packages (from torch->osculari) (4.10.0)\n",
            "Requirement already satisfied: sympy in /usr/local/lib/python3.10/dist-packages (from torch->osculari) (1.12)\n",
            "Requirement already satisfied: networkx in /usr/local/lib/python3.10/dist-packages (from torch->osculari) (3.2.1)\n",
            "Requirement already satisfied: jinja2 in /usr/local/lib/python3.10/dist-packages (from torch->osculari) (3.1.3)\n",
            "Requirement already satisfied: fsspec in /usr/local/lib/python3.10/dist-packages (from torch->osculari) (2023.6.0)\n",
            "Requirement already satisfied: nvidia-cuda-nvrtc-cu12==12.1.105 in /usr/local/lib/python3.10/dist-packages (from torch->osculari) (12.1.105)\n",
            "Requirement already satisfied: nvidia-cuda-runtime-cu12==12.1.105 in /usr/local/lib/python3.10/dist-packages (from torch->osculari) (12.1.105)\n",
            "Requirement already satisfied: nvidia-cuda-cupti-cu12==12.1.105 in /usr/local/lib/python3.10/dist-packages (from torch->osculari) (12.1.105)\n",
            "Requirement already satisfied: nvidia-cudnn-cu12==8.9.2.26 in /usr/local/lib/python3.10/dist-packages (from torch->osculari) (8.9.2.26)\n",
            "Requirement already satisfied: nvidia-cublas-cu12==12.1.3.1 in /usr/local/lib/python3.10/dist-packages (from torch->osculari) (12.1.3.1)\n",
            "Requirement already satisfied: nvidia-cufft-cu12==11.0.2.54 in /usr/local/lib/python3.10/dist-packages (from torch->osculari) (11.0.2.54)\n",
            "Requirement already satisfied: nvidia-curand-cu12==10.3.2.106 in /usr/local/lib/python3.10/dist-packages (from torch->osculari) (10.3.2.106)\n",
            "Requirement already satisfied: nvidia-cusolver-cu12==11.4.5.107 in /usr/local/lib/python3.10/dist-packages (from torch->osculari) (11.4.5.107)\n",
            "Requirement already satisfied: nvidia-cusparse-cu12==12.1.0.106 in /usr/local/lib/python3.10/dist-packages (from torch->osculari) (12.1.0.106)\n",
            "Requirement already satisfied: nvidia-nccl-cu12==2.19.3 in /usr/local/lib/python3.10/dist-packages (from torch->osculari) (2.19.3)\n",
            "Requirement already satisfied: nvidia-nvtx-cu12==12.1.105 in /usr/local/lib/python3.10/dist-packages (from torch->osculari) (12.1.105)\n",
            "Requirement already satisfied: triton==2.2.0 in /usr/local/lib/python3.10/dist-packages (from torch->osculari) (2.2.0)\n",
            "Requirement already satisfied: nvidia-nvjitlink-cu12 in /usr/local/lib/python3.10/dist-packages (from nvidia-cusolver-cu12==11.4.5.107->torch->osculari) (12.4.99)\n",
            "Requirement already satisfied: pillow!=8.3.*,>=5.3.0 in /usr/local/lib/python3.10/dist-packages (from torchvision->osculari) (9.4.0)\n",
            "Requirement already satisfied: wcwidth<0.3.0,>=0.2.12 in /usr/local/lib/python3.10/dist-packages (from ftfy->clip-openai->osculari) (0.2.13)\n",
            "Requirement already satisfied: MarkupSafe>=2.0 in /usr/local/lib/python3.10/dist-packages (from jinja2->torch->osculari) (2.1.5)\n",
            "Requirement already satisfied: mpmath>=0.19 in /usr/local/lib/python3.10/dist-packages (from sympy->torch->osculari) (1.3.0)\n"
          ]
        }
      ],
      "source": [
        "!pip install osculari"
      ]
    },
    {
      "cell_type": "code",
      "source": [
        "# importing required packages\n",
        "import osculari\n",
        "\n",
        "import numpy as np\n",
        "from matplotlib import pyplot as plt\n",
        "import torch\n",
        "import os\n",
        "from random import choice, randint, uniform\n",
        "\n",
        "from torchvision.datasets import ImageFolder\n",
        "from torchvision.io import read_image\n",
        "from torch.utils.data import Dataset"
      ],
      "metadata": {
        "id": "lozl8h1c1iUT"
      },
      "execution_count": 193,
      "outputs": []
    },
    {
      "cell_type": "code",
      "source": [
        "# unzip folder (previously uploaded in collab)\n",
        "!unzip images180.zip -d my_data"
      ],
      "metadata": {
        "id": "PQY0c-E8-rB6",
        "colab": {
          "base_uri": "https://localhost:8080/"
        },
        "outputId": "8c949989-0801-4950-c7df-2a859f3dd55c"
      },
      "execution_count": 194,
      "outputs": [
        {
          "output_type": "stream",
          "name": "stdout",
          "text": [
            "Archive:  images180.zip\n",
            "replace my_data/__MACOSX/._images180? [y]es, [n]o, [A]ll, [N]one, [r]ename: "
          ]
        }
      ]
    },
    {
      "cell_type": "code",
      "source": [
        "# root directory to data\n",
        "images180 = \"my_data/images180/images180/\""
      ],
      "metadata": {
        "id": "cm_SQlbYYtdd"
      },
      "execution_count": 195,
      "outputs": []
    },
    {
      "cell_type": "code",
      "source": [
        "# get category labels\n",
        "labels = os.listdir(images180)"
      ],
      "metadata": {
        "id": "qyKBpKSYOyo5"
      },
      "execution_count": 197,
      "outputs": []
    },
    {
      "cell_type": "code",
      "source": [
        "# get list of dictionaries with respective label and image number for all images\n",
        "data = []\n",
        "\n",
        "for label in labels:\n",
        "  if label == \".DS_Store\":\n",
        "    continue\n",
        "  folder_path = images180 + label\n",
        "  shapes = os.listdir(folder_path)\n",
        "  for shape in shapes:\n",
        "    category_dict = {'label': label, 'image': shape}\n",
        "    data.append(category_dict)\n",
        "\n",
        "data[:10]"
      ],
      "metadata": {
        "colab": {
          "base_uri": "https://localhost:8080/"
        },
        "id": "0cOyZxAzdG8R",
        "outputId": "c650b17f-62bd-4f1c-cc4b-6bb5c1e34952"
      },
      "execution_count": 198,
      "outputs": [
        {
          "output_type": "execute_result",
          "data": {
            "text/plain": [
              "[{'label': 'leopard', 'image': '41.png'},\n",
              " {'label': 'leopard', 'image': '22.png'},\n",
              " {'label': 'leopard', 'image': '89.png'},\n",
              " {'label': 'leopard', 'image': '46.png'},\n",
              " {'label': 'leopard', 'image': '31.png'},\n",
              " {'label': 'leopard', 'image': '69.png'},\n",
              " {'label': 'leopard', 'image': '98.png'},\n",
              " {'label': 'leopard', 'image': '1.png'},\n",
              " {'label': 'leopard', 'image': '39.png'},\n",
              " {'label': 'leopard', 'image': '24.png'}]"
            ]
          },
          "metadata": {},
          "execution_count": 198
        }
      ]
    },
    {
      "cell_type": "code",
      "source": [
        "# function to get image directory\n",
        "def image_direct(root, category_dict_item):\n",
        "  return root + category_dict_item['label'] + \"/\" + category_dict_item['image']\n",
        "\n",
        "# get image directories\n",
        "img_dir = []\n",
        "for image in data:\n",
        "  direct = image_direct(images180, image)\n",
        "  img_dir.append(direct)\n",
        "\n",
        "img_dir[:10]"
      ],
      "metadata": {
        "colab": {
          "base_uri": "https://localhost:8080/"
        },
        "id": "dUq8dQztrX9I",
        "outputId": "fe959145-1587-40d8-ee95-cc9ea11312da"
      },
      "execution_count": 199,
      "outputs": [
        {
          "output_type": "execute_result",
          "data": {
            "text/plain": [
              "['my_data/images180/images180/leopard/41.png',\n",
              " 'my_data/images180/images180/leopard/22.png',\n",
              " 'my_data/images180/images180/leopard/89.png',\n",
              " 'my_data/images180/images180/leopard/46.png',\n",
              " 'my_data/images180/images180/leopard/31.png',\n",
              " 'my_data/images180/images180/leopard/69.png',\n",
              " 'my_data/images180/images180/leopard/98.png',\n",
              " 'my_data/images180/images180/leopard/1.png',\n",
              " 'my_data/images180/images180/leopard/39.png',\n",
              " 'my_data/images180/images180/leopard/24.png']"
            ]
          },
          "metadata": {},
          "execution_count": 199
        }
      ]
    },
    {
      "cell_type": "code",
      "source": [
        "class ShapeImageDataset (Dataset):\n",
        "  # return two images and ground truth\n",
        "  def __init__(self, data, img_dir, labels, transform=None):\n",
        "    self.img_labels = data\n",
        "    self.img_dir = img_dir\n",
        "    self.labels = labels\n",
        "    self.transform = transform\n",
        "    self.same_category = [True, False]\n",
        "\n",
        "  def __len__(self):\n",
        "    return len(self.img_labels)\n",
        "\n",
        "  def pick_other_category(self, label):\n",
        "    chosen = choice(self.labels)\n",
        "    if chosen == label:\n",
        "      self.pick_other_category(label)\n",
        "    return chosen\n",
        "\n",
        "  def select_random_image(self, label):\n",
        "    result = []\n",
        "    for item in self.img_labels:\n",
        "      if item[\"label\"] == label:\n",
        "        result.append(item)\n",
        "    return choice(result)\n",
        "\n",
        "\n",
        "  def read_image_from_directory(self, category_item):\n",
        "    return read_image(image_direct(images180, category_item))\n",
        "\n",
        "  def __getitem__(self, idx):\n",
        "\n",
        "    current_image = self.img_labels[idx]\n",
        "    same = choice(self.same_category)\n",
        "    current_label = current_image[\"label\"]\n",
        "    if same == True:\n",
        "      category = current_label\n",
        "    else:\n",
        "      category = self.pick_other_category(current_label)\n",
        "\n",
        "    other_image = self.select_random_image(category)\n",
        "    print(other_image)\n",
        "    img1 = self.read_image_from_directory(current_image)\n",
        "    img2 = self.read_image_from_directory(other_image)\n",
        "    return img1, img2, same"
      ],
      "metadata": {
        "id": "RiTXph8IFs_y"
      },
      "execution_count": 201,
      "outputs": []
    },
    {
      "cell_type": "code",
      "source": [
        "data"
      ],
      "metadata": {
        "id": "p-SX8SodG7x6"
      },
      "execution_count": null,
      "outputs": []
    },
    {
      "cell_type": "code",
      "source": [
        "ShapeImageDataset(data, img_dir, labels)"
      ],
      "metadata": {
        "colab": {
          "base_uri": "https://localhost:8080/"
        },
        "id": "vAYfIg0bFyBL",
        "outputId": "0f76ee41-7e2f-41f9-bf68-c145a29bc3f4"
      },
      "execution_count": 204,
      "outputs": [
        {
          "output_type": "stream",
          "name": "stdout",
          "text": [
            "{'label': 'leopard', 'image': '11.png'}\n"
          ]
        },
        {
          "output_type": "execute_result",
          "data": {
            "text/plain": [
              "(tensor([[[128, 128, 128,  ..., 128, 128, 128],\n",
              "          [128, 128, 128,  ..., 128, 128, 128],\n",
              "          [128, 128, 128,  ..., 128, 128, 128],\n",
              "          ...,\n",
              "          [128, 128, 128,  ..., 128, 128, 128],\n",
              "          [128, 128, 128,  ..., 128, 128, 128],\n",
              "          [128, 128, 128,  ..., 128, 128, 128]],\n",
              " \n",
              "         [[128, 128, 128,  ..., 128, 128, 128],\n",
              "          [128, 128, 128,  ..., 128, 128, 128],\n",
              "          [128, 128, 128,  ..., 128, 128, 128],\n",
              "          ...,\n",
              "          [128, 128, 128,  ..., 128, 128, 128],\n",
              "          [128, 128, 128,  ..., 128, 128, 128],\n",
              "          [128, 128, 128,  ..., 128, 128, 128]],\n",
              " \n",
              "         [[128, 128, 128,  ..., 128, 128, 128],\n",
              "          [128, 128, 128,  ..., 128, 128, 128],\n",
              "          [128, 128, 128,  ..., 128, 128, 128],\n",
              "          ...,\n",
              "          [128, 128, 128,  ..., 128, 128, 128],\n",
              "          [128, 128, 128,  ..., 128, 128, 128],\n",
              "          [128, 128, 128,  ..., 128, 128, 128]]], dtype=torch.uint8),\n",
              " tensor([[[128, 128, 128,  ..., 128, 128, 128],\n",
              "          [128, 128, 128,  ..., 128, 128, 128],\n",
              "          [128, 128, 128,  ..., 128, 128, 128],\n",
              "          ...,\n",
              "          [128, 128, 128,  ..., 128, 128, 128],\n",
              "          [128, 128, 128,  ..., 128, 128, 128],\n",
              "          [128, 128, 128,  ..., 128, 128, 128]],\n",
              " \n",
              "         [[128, 128, 128,  ..., 128, 128, 128],\n",
              "          [128, 128, 128,  ..., 128, 128, 128],\n",
              "          [128, 128, 128,  ..., 128, 128, 128],\n",
              "          ...,\n",
              "          [128, 128, 128,  ..., 128, 128, 128],\n",
              "          [128, 128, 128,  ..., 128, 128, 128],\n",
              "          [128, 128, 128,  ..., 128, 128, 128]],\n",
              " \n",
              "         [[128, 128, 128,  ..., 128, 128, 128],\n",
              "          [128, 128, 128,  ..., 128, 128, 128],\n",
              "          [128, 128, 128,  ..., 128, 128, 128],\n",
              "          ...,\n",
              "          [128, 128, 128,  ..., 128, 128, 128],\n",
              "          [128, 128, 128,  ..., 128, 128, 128],\n",
              "          [128, 128, 128,  ..., 128, 128, 128]]], dtype=torch.uint8),\n",
              " True)"
            ]
          },
          "metadata": {},
          "execution_count": 204
        }
      ]
    },
    {
      "cell_type": "code",
      "source": [
        "from torch.utils.data import DataLoader"
      ],
      "metadata": {
        "id": "pqr2e85uNomt"
      },
      "execution_count": 74,
      "outputs": []
    },
    {
      "cell_type": "code",
      "source": [
        "b = DataLoader(a, 64)"
      ],
      "metadata": {
        "id": "8E8925fPQaME"
      },
      "execution_count": 75,
      "outputs": []
    }
  ]
}